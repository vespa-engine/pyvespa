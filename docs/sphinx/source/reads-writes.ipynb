{
    "cells": [
        {
            "cell_type": "markdown",
            "id": "floating-subsection",
            "metadata": {},
            "source": [
                "<picture>\n",
                "  <source media=\"(prefers-color-scheme: dark)\" srcset=\"https://assets.vespa.ai/logos/Vespa-logo-green-RGB.svg\">\n",
                "  <source media=\"(prefers-color-scheme: light)\" srcset=\"https://assets.vespa.ai/logos/Vespa-logo-dark-RGB.svg\">\n",
                "  <img alt=\"#Vespa\" width=\"200\" src=\"https://assets.vespa.ai/logos/Vespa-logo-dark-RGB.svg\" style=\"margin-bottom: 25px;\">\n",
                "</picture>\n",
                "\n",
                "# Read and write operations\n",
                "\n",
                "This notebook documents ways to feed, get, update and delete data:\n",
                "\n",
                "- Using context manager with `with` for efficiently managing resources\n",
                "- Feeding streams of data using `feed_iter` which can feed from streams, Iterables, Lists and files by the use of generators\n"
            ]
        },
        {
            "cell_type": "markdown",
            "id": "bc991f44",
            "metadata": {},
            "source": [
                "<div class=\"alert alert-info\">\n",
                "    Refer to <a href=\"https://vespa-engine.github.io/pyvespa/troubleshooting.html\">troubleshooting</a>\n",
                "    for any problem when running this guide.\n",
                "</div>\n"
            ]
        },
        {
            "cell_type": "markdown",
            "id": "c549a74f",
            "metadata": {},
            "source": [
                "## Deploy a sample application\n",
                "\n",
                "[Install pyvespa](https://pyvespa.readthedocs.io/) and start Docker, validate minimum 4G available:\n"
            ]
        },
        {
            "cell_type": "code",
            "execution_count": 1,
            "id": "166bc50c",
            "metadata": {},
            "outputs": [],
            "source": [
                "!docker info | grep \"Total Memory\""
            ]
        },
        {
            "cell_type": "markdown",
            "id": "4538e7b2",
            "metadata": {},
            "source": [
                "Define a simple application package with five fields\n"
            ]
        },
        {
            "cell_type": "code",
            "execution_count": 1,
            "id": "congressional-friendly",
            "metadata": {},
            "outputs": [],
            "source": [
                "from vespa.application import ApplicationPackage\n",
                "from vespa.package import Schema, Document, Field, FieldSet, HNSW, RankProfile\n",
                "\n",
                "app_package = ApplicationPackage(\n",
                "    name=\"vector\",\n",
                "    schema=[\n",
                "        Schema(\n",
                "            name=\"doc\",\n",
                "            document=Document(\n",
                "                fields=[\n",
                "                    Field(name=\"id\", type=\"string\", indexing=[\"attribute\", \"summary\"]),\n",
                "                    Field(\n",
                "                        name=\"title\",\n",
                "                        type=\"string\",\n",
                "                        indexing=[\"index\", \"summary\"],\n",
                "                        index=\"enable-bm25\",\n",
                "                    ),\n",
                "                    Field(\n",
                "                        name=\"body\",\n",
                "                        type=\"string\",\n",
                "                        indexing=[\"index\", \"summary\"],\n",
                "                        index=\"enable-bm25\",\n",
                "                    ),\n",
                "                    Field(\n",
                "                        name=\"popularity\",\n",
                "                        type=\"float\",\n",
                "                        indexing=[\"attribute\", \"summary\"],\n",
                "                    ),\n",
                "                    Field(\n",
                "                        name=\"embedding\",\n",
                "                        type=\"tensor<bfloat16>(x[1536])\",\n",
                "                        indexing=[\"attribute\", \"summary\", \"index\"],\n",
                "                        ann=HNSW(\n",
                "                            distance_metric=\"innerproduct\",\n",
                "                            max_links_per_node=16,\n",
                "                            neighbors_to_explore_at_insert=128,\n",
                "                        ),\n",
                "                    ),\n",
                "                ]\n",
                "            ),\n",
                "            fieldsets=[FieldSet(name=\"default\", fields=[\"title\", \"body\"])],\n",
                "            rank_profiles=[\n",
                "                RankProfile(\n",
                "                    name=\"default\",\n",
                "                    inputs=[(\"query(q)\", \"tensor<float>(x[1536])\")],\n",
                "                    first_phase=\"closeness(field, embedding)\",\n",
                "                )\n",
                "            ],\n",
                "        )\n",
                "    ],\n",
                ")"
            ]
        },
        {
            "cell_type": "code",
            "execution_count": 2,
            "id": "2eff8bc7",
            "metadata": {},
            "outputs": [
                {
                    "name": "stdout",
                    "output_type": "stream",
                    "text": [
                        "Waiting for configuration server, 0/60 seconds...\n",
                        "Waiting for configuration server, 5/60 seconds...\n",
                        "Using plain http against endpoint http://localhost:8080/ApplicationStatus\n",
                        "Waiting for application status, 0/300 seconds...\n",
                        "Using plain http against endpoint http://localhost:8080/ApplicationStatus\n",
                        "Waiting for application status, 5/300 seconds...\n",
                        "Using plain http against endpoint http://localhost:8080/ApplicationStatus\n",
                        "Waiting for application status, 10/300 seconds...\n",
                        "Using plain http against endpoint http://localhost:8080/ApplicationStatus\n",
                        "Waiting for application status, 15/300 seconds...\n",
                        "Using plain http against endpoint http://localhost:8080/ApplicationStatus\n",
                        "Waiting for application status, 20/300 seconds...\n",
                        "Using plain http against endpoint http://localhost:8080/ApplicationStatus\n",
                        "Application is up!\n",
                        "Finished deployment.\n"
                    ]
                }
            ],
            "source": [
                "from vespa.deployment import VespaDocker\n",
                "\n",
                "vespa_docker = VespaDocker()\n",
                "app = vespa_docker.deploy(application_package=app_package)"
            ]
        },
        {
            "cell_type": "markdown",
            "id": "furnished-wound",
            "metadata": {},
            "source": [
                "## Feed data by streaming over Iterable type\n",
                "\n",
                "This example notebook uses the [dbpedia-entities-openai-1M](https://huggingface.co/datasets/KShivendu/dbpedia-entities-openai-1M)\n",
                "dataset (1M OpenAI Embeddings (1536 dimensions) from June 2023).\n",
                "\n",
                "The `streaming=True` option allow paging the data on-demand from HF S3.\n",
                "This is extremely useful for large datasets, where the data does not fit in memory\n",
                "and downloading the entire dataset is not needed.\n",
                "Read more about [datasets stream](https://huggingface.co/docs/datasets/stream).\n"
            ]
        },
        {
            "cell_type": "code",
            "execution_count": null,
            "id": "breeding-steal",
            "metadata": {},
            "outputs": [],
            "source": [
                "from datasets import load_dataset\n",
                "\n",
                "dataset = load_dataset(\n",
                "    \"KShivendu/dbpedia-entities-openai-1M\", split=\"train\", streaming=True\n",
                ").take(1000)"
            ]
        },
        {
            "cell_type": "markdown",
            "id": "9afda75a",
            "metadata": {},
            "source": [
                "### Converting to dataset field names to Vespa schema field names\n",
                "\n",
                "We need to convert the dataset field names to the configured Vespa schema field names, we do this with a simple lambda function.\n",
                "\n",
                "The map function does not page the data, the map step is performed lazily if we start iterating over the dataset.\n",
                "This allows chaining of map operations where the lambda is yielding the next document.\n"
            ]
        },
        {
            "cell_type": "code",
            "execution_count": 4,
            "id": "b04503d7",
            "metadata": {},
            "outputs": [],
            "source": [
                "pyvespa_feed_format = dataset.map(\n",
                "    lambda x: {\"id\": x[\"_id\"], \"fields\": {\"id\": x[\"_id\"], \"embedding\": x[\"openai\"]}}\n",
                ")"
            ]
        },
        {
            "cell_type": "markdown",
            "id": "hybrid-dominant",
            "metadata": {},
            "source": [
                "Feed using [feed_iterable](https://vespa-engine.github.io/pyvespa/api/vespa/application.html#vespa.application.Vespa.feed_iterable) which\n",
                "accepts an `Iterable`. `feed_iterable` accepts a callback callable routine that is called for every single data operation so we can\n",
                "check the result. If the result `is_successful()` the operation is persisted and applied in Vespa.\n"
            ]
        },
        {
            "cell_type": "code",
            "execution_count": 5,
            "id": "meaning-jamaica",
            "metadata": {},
            "outputs": [],
            "source": [
                "from vespa.io import VespaResponse\n",
                "\n",
                "\n",
                "def callback(response: VespaResponse, id: str):\n",
                "    if not response.is_successful():\n",
                "        print(\n",
                "            f\"Failed to feed document {id} with status code {response.status_code}: Reason {response.get_json()}\"\n",
                "        )"
            ]
        },
        {
            "cell_type": "code",
            "execution_count": 6,
            "id": "98533b40",
            "metadata": {},
            "outputs": [],
            "source": [
                "app.feed_iterable(\n",
                "    iter=pyvespa_feed_format,\n",
                "    schema=\"doc\",\n",
                "    namespace=\"benchmark\",\n",
                "    callback=callback,\n",
                "    max_queue_size=4000,\n",
                "    max_workers=16,\n",
                "    max_connections=16,\n",
                ")"
            ]
        },
        {
            "cell_type": "markdown",
            "id": "f90c6b7a",
            "metadata": {},
            "source": [
                "### Feeding with generators\n",
                "\n",
                "The above handled streaming data from a remote repo, we can also use generators or just List. In this example, we generate synthetic data\n",
                "using a generator function.\n"
            ]
        },
        {
            "cell_type": "code",
            "execution_count": 7,
            "id": "03420d2a",
            "metadata": {},
            "outputs": [],
            "source": [
                "def my_generator() -> dict:\n",
                "    for i in range(1000):\n",
                "        yield {\n",
                "            \"id\": str(i),\n",
                "            \"fields\": {\n",
                "                \"id\": str(i),\n",
                "                \"title\": \"title\",\n",
                "                \"body\": \"this is body\",\n",
                "                \"popularity\": 1.0,\n",
                "            },\n",
                "        }"
            ]
        },
        {
            "cell_type": "code",
            "execution_count": 8,
            "id": "d6acf364",
            "metadata": {},
            "outputs": [],
            "source": [
                "app.feed_iterable(\n",
                "    iter=my_generator(),\n",
                "    schema=\"doc\",\n",
                "    namespace=\"benchmark\",\n",
                "    callback=callback,\n",
                "    max_queue_size=4000,\n",
                "    max_workers=12,\n",
                "    max_connections=12,\n",
                ")"
            ]
        },
        {
            "cell_type": "markdown",
            "id": "3fc12a46",
            "metadata": {},
            "source": [
                "### Visiting\n",
                "\n",
                "Visiting is a feature to efficiently get or process a set of documents, identified by a document selection expression. Visit yields multiple slices (run concurrently) each yielding responses (depending on number of documents in each slice). This allows for custom handling of each response.\n",
                "\n",
                "Visiting can be useful for exporting data, for example for ML training or for migrating a vespa application.\n"
            ]
        },
        {
            "cell_type": "code",
            "execution_count": 9,
            "id": "7a604ba2",
            "metadata": {},
            "outputs": [
                {
                    "name": "stdout",
                    "output_type": "stream",
                    "text": [
                        "300\n",
                        "196\n",
                        "303\n",
                        "185\n",
                        "309\n",
                        "191\n",
                        "303\n",
                        "213\n"
                    ]
                }
            ],
            "source": [
                "all_docs = []\n",
                "for slice in app.visit(\n",
                "    content_cluster_name=\"vector_content\",\n",
                "    schema=\"doc\",\n",
                "    namespace=\"benchmark\",\n",
                "    selection=\"true\",  # Document selection - see https://docs.vespa.ai/en/reference/document-select-language.html\n",
                "    slices=4,\n",
                "    wanted_document_count=300,\n",
                "):\n",
                "    for response in slice:\n",
                "        print(response.number_documents_retrieved)\n",
                "        all_docs.extend(response.documents)"
            ]
        },
        {
            "cell_type": "code",
            "execution_count": 10,
            "id": "ee25a2ab",
            "metadata": {},
            "outputs": [
                {
                    "data": {
                        "text/plain": [
                            "2000"
                        ]
                    },
                    "execution_count": 10,
                    "metadata": {},
                    "output_type": "execute_result"
                }
            ],
            "source": [
                "len(all_docs)"
            ]
        },
        {
            "cell_type": "code",
            "execution_count": 11,
            "id": "2a38a926",
            "metadata": {},
            "outputs": [
                {
                    "name": "stdout",
                    "output_type": "stream",
                    "text": [
                        "190\n",
                        "189\n",
                        "226\n",
                        "205\n",
                        "184\n",
                        "214\n",
                        "202\n",
                        "181\n",
                        "217\n",
                        "192\n"
                    ]
                }
            ],
            "source": [
                "for slice in app.visit(\n",
                "    content_cluster_name=\"vector_content\", wanted_document_count=1000\n",
                "):\n",
                "    for response in slice:\n",
                "        print(response.number_documents_retrieved)"
            ]
        },
        {
            "cell_type": "markdown",
            "id": "c1a74ca6",
            "metadata": {},
            "source": [
                "### Updates\n",
                "\n",
                "Using a similar generator we can update the fake data we added. This performs\n",
                "[partial updates](https://docs.vespa.ai/en/partial-updates.html), assigning the `popularity` field to have the value `2.0`.\n"
            ]
        },
        {
            "cell_type": "code",
            "execution_count": 12,
            "id": "b93b342c",
            "metadata": {},
            "outputs": [],
            "source": [
                "def my_update_generator() -> dict:\n",
                "    for i in range(1000):\n",
                "        yield {\"id\": str(i), \"fields\": {\"popularity\": 2.0}}"
            ]
        },
        {
            "cell_type": "code",
            "execution_count": 13,
            "id": "bde61e5e",
            "metadata": {},
            "outputs": [],
            "source": [
                "app.feed_iterable(\n",
                "    iter=my_update_generator(),\n",
                "    schema=\"doc\",\n",
                "    namespace=\"benchmark\",\n",
                "    callback=callback,\n",
                "    operation_type=\"update\",\n",
                "    max_queue_size=4000,\n",
                "    max_workers=12,\n",
                "    max_connections=12,\n",
                ")"
            ]
        },
        {
            "cell_type": "markdown",
            "id": "454f18f4",
            "metadata": {},
            "source": [
                "## Other update operations\n",
                "\n",
                "We can also perform other update operations, see [Vespa docs on reads and writes](https://docs.vespa.ai/en/reads-and-writes.html).\n",
                "To achieve this we need to set the `auto_assign` parameter to `False` in the `feed_iterable` method (which will pass this to `update_data_point`-method).\n"
            ]
        },
        {
            "cell_type": "code",
            "execution_count": 14,
            "id": "a114c8aa",
            "metadata": {},
            "outputs": [],
            "source": [
                "def my_increment_generator() -> dict:\n",
                "    for i in range(1000):\n",
                "        yield {\"id\": str(i), \"fields\": {\"popularity\": {\"increment\": 1.0}}}"
            ]
        },
        {
            "cell_type": "code",
            "execution_count": 15,
            "id": "69b6ec8f",
            "metadata": {},
            "outputs": [],
            "source": [
                "app.feed_iterable(\n",
                "    iter=my_increment_generator(),\n",
                "    schema=\"doc\",\n",
                "    namespace=\"benchmark\",\n",
                "    callback=callback,\n",
                "    operation_type=\"update\",\n",
                "    max_queue_size=4000,\n",
                "    max_workers=12,\n",
                "    max_connections=12,\n",
                "    auto_assign=False,\n",
                ")"
            ]
        },
        {
            "cell_type": "markdown",
            "id": "1c8d630e",
            "metadata": {},
            "source": [
                "We can now query the data, notice how we use a context manager `with` to close connection after query\n",
                "This avoids resource leakage and allows for reuse of connections. In this case, we only do a single\n",
                "query and there is no need for having more than one connection. Setting more connections will just\n",
                "increase connection level overhead.\n"
            ]
        },
        {
            "cell_type": "code",
            "execution_count": 16,
            "id": "2f7046c9",
            "metadata": {},
            "outputs": [
                {
                    "name": "stdout",
                    "output_type": "stream",
                    "text": [
                        "1000\n"
                    ]
                }
            ],
            "source": [
                "from vespa.io import VespaQueryResponse\n",
                "\n",
                "with app.syncio(connections=1):\n",
                "    response: VespaQueryResponse = app.query(\n",
                "        yql=\"select id from doc where popularity > 2.5\", hits=0\n",
                "    )\n",
                "    print(response.number_documents_retrieved)"
            ]
        },
        {
            "cell_type": "markdown",
            "id": "e862389c",
            "metadata": {},
            "source": [
                "### Deleting\n",
                "\n",
                "Delete all the synthetic data with a custom generator. Now we don't need the `fields` key.\n"
            ]
        },
        {
            "cell_type": "code",
            "execution_count": 16,
            "id": "9eb07d12",
            "metadata": {},
            "outputs": [],
            "source": [
                "def my_delete_generator() -> dict:\n",
                "    for i in range(1000):\n",
                "        yield {\"id\": str(i)}\n",
                "\n",
                "\n",
                "app.feed_iterable(\n",
                "    iter=my_delete_generator(),\n",
                "    schema=\"doc\",\n",
                "    namespace=\"benchmark\",\n",
                "    callback=callback,\n",
                "    operation_type=\"delete\",\n",
                "    max_queue_size=5000,\n",
                "    max_workers=48,\n",
                "    max_connections=48,\n",
                ")"
            ]
        },
        {
            "cell_type": "markdown",
            "id": "0ba676a1",
            "metadata": {},
            "source": [
                "## Feeding operations from a file\n",
                "\n",
                "This demonstrates how we can use `feed_iter` to feed from a large file without reading the entire file, this also\n",
                "uses a generator.\n",
                "\n",
                "First we dump some operations to the file and peak at the first line:\n"
            ]
        },
        {
            "cell_type": "code",
            "execution_count": 17,
            "id": "ac79662f",
            "metadata": {},
            "outputs": [],
            "source": [
                "# Dump some operation to a jsonl file, we store it in the format expected by pyvespa\n",
                "# This to demonstrate feeding from a file in the next section.\n",
                "import json\n",
                "\n",
                "with open(\"documents.jsonl\", \"w\") as f:\n",
                "    for doc in dataset:\n",
                "        d = {\"id\": doc[\"_id\"], \"fields\": {\"id\": doc[\"_id\"], \"embedding\": doc[\"openai\"]}}\n",
                "        f.write(json.dumps(d) + \"\\n\")"
            ]
        },
        {
            "cell_type": "markdown",
            "id": "5bfabfbc",
            "metadata": {},
            "source": [
                "Define the file generator that will yield one line at a time\n"
            ]
        },
        {
            "cell_type": "code",
            "execution_count": 18,
            "id": "2422af0d",
            "metadata": {},
            "outputs": [],
            "source": [
                "import json\n",
                "\n",
                "\n",
                "def from_file_generator() -> dict:\n",
                "    with open(\"documents.jsonl\") as f:\n",
                "        for line in f:\n",
                "            yield json.loads(line)"
            ]
        },
        {
            "cell_type": "code",
            "execution_count": 19,
            "id": "9ab731c3",
            "metadata": {},
            "outputs": [],
            "source": [
                "app.feed_iterable(\n",
                "    iter=from_file_generator(),\n",
                "    schema=\"doc\",\n",
                "    namespace=\"benchmark\",\n",
                "    callback=callback,\n",
                "    operation_type=\"feed\",\n",
                "    max_queue_size=4000,\n",
                "    max_workers=32,\n",
                "    max_connections=32,\n",
                ")"
            ]
        },
        {
            "cell_type": "markdown",
            "id": "983e22de",
            "metadata": {},
            "source": [
                "### Get and Feed individual data points\n",
                "\n",
                "Feed a single data point to Vespa\n"
            ]
        },
        {
            "cell_type": "code",
            "execution_count": 20,
            "id": "a7b598b5",
            "metadata": {},
            "outputs": [
                {
                    "name": "stdout",
                    "output_type": "stream",
                    "text": [
                        "True\n",
                        "{'pathId': '/document/v1/benchmark/doc/docid/1', 'id': 'id:benchmark:doc::1'}\n"
                    ]
                }
            ],
            "source": [
                "with app.syncio(connections=1):\n",
                "    response: VespaResponse = app.feed_data_point(\n",
                "        schema=\"doc\",\n",
                "        namespace=\"benchmark\",\n",
                "        data_id=\"1\",\n",
                "        fields={\n",
                "            \"id\": \"1\",\n",
                "            \"title\": \"title\",\n",
                "            \"body\": \"this is body\",\n",
                "            \"popularity\": 1.0,\n",
                "        },\n",
                "    )\n",
                "    print(response.is_successful())\n",
                "    print(response.get_json())"
            ]
        },
        {
            "cell_type": "markdown",
            "id": "44f4deae",
            "metadata": {},
            "source": [
                "Get the same document, try also to change data_id to a document that does not exist which will raise a 404 http error.\n"
            ]
        },
        {
            "cell_type": "code",
            "execution_count": 21,
            "id": "6730cfb6",
            "metadata": {},
            "outputs": [
                {
                    "name": "stdout",
                    "output_type": "stream",
                    "text": [
                        "True\n",
                        "{'pathId': '/document/v1/benchmark/doc/docid/1', 'id': 'id:benchmark:doc::1', 'fields': {'body': 'this is body', 'title': 'title', 'popularity': 1.0, 'id': '1'}}\n"
                    ]
                }
            ],
            "source": [
                "with app.syncio(connections=1):\n",
                "    response: VespaResponse = app.get_data(\n",
                "        schema=\"doc\",\n",
                "        namespace=\"benchmark\",\n",
                "        data_id=\"1\",\n",
                "    )\n",
                "    print(response.is_successful())\n",
                "    print(response.get_json())"
            ]
        },
        {
            "cell_type": "markdown",
            "id": "e0841a4c",
            "metadata": {},
            "source": [
                "### Upsert\n",
                "\n",
                "The following sends an update operation, if the document exist, the popularity field will be updated to take the value 3.0, and if the document\n",
                "does not exist, it's created and where the popularity value is 3.0.\n"
            ]
        },
        {
            "cell_type": "code",
            "execution_count": 22,
            "id": "58e52e4a",
            "metadata": {},
            "outputs": [
                {
                    "name": "stdout",
                    "output_type": "stream",
                    "text": [
                        "True\n",
                        "{'pathId': '/document/v1/benchmark/doc/docid/does-not-exist', 'id': 'id:benchmark:doc::does-not-exist'}\n"
                    ]
                }
            ],
            "source": [
                "with app.syncio(connections=1):\n",
                "    response: VespaResponse = app.update_data(\n",
                "        schema=\"doc\",\n",
                "        namespace=\"benchmark\",\n",
                "        data_id=\"does-not-exist\",\n",
                "        fields={\"popularity\": 3.0},\n",
                "        create=True,\n",
                "    )\n",
                "    print(response.is_successful())\n",
                "    print(response.get_json())"
            ]
        },
        {
            "cell_type": "code",
            "execution_count": 23,
            "id": "5736fd06",
            "metadata": {},
            "outputs": [
                {
                    "name": "stdout",
                    "output_type": "stream",
                    "text": [
                        "True\n",
                        "{'pathId': '/document/v1/benchmark/doc/docid/does-not-exist', 'id': 'id:benchmark:doc::does-not-exist', 'fields': {'popularity': 3.0}}\n"
                    ]
                }
            ],
            "source": [
                "with app.syncio(connections=1):\n",
                "    response: VespaResponse = app.get_data(\n",
                "        schema=\"doc\",\n",
                "        namespace=\"benchmark\",\n",
                "        data_id=\"does-not-exist\",\n",
                "    )\n",
                "    print(response.is_successful())\n",
                "    print(response.get_json())"
            ]
        },
        {
            "cell_type": "markdown",
            "id": "edaff1d1",
            "metadata": {},
            "source": [
                "## Cleanup\n"
            ]
        },
        {
            "cell_type": "code",
            "execution_count": 24,
            "id": "checked-coral",
            "metadata": {},
            "outputs": [],
            "source": [
                "vespa_docker.container.stop()\n",
                "vespa_docker.container.remove()"
            ]
        },
        {
            "cell_type": "markdown",
            "id": "40fc7079",
            "metadata": {},
            "source": [
                "## Next steps\n",
                "\n",
                "Read more on writing to Vespa in [reads-and-writes](https://docs.vespa.ai/en/reads-and-writes.html).\n"
            ]
        }
    ],
    "metadata": {
        "kernelspec": {
            "display_name": "Python 3.11.4 64-bit",
            "language": "python",
            "name": "python3"
        },
        "language_info": {
            "codemirror_mode": {
                "name": "ipython",
                "version": 3
            },
            "file_extension": ".py",
            "mimetype": "text/x-python",
            "name": "python",
            "nbconvert_exporter": "python",
            "pygments_lexer": "ipython3",
            "version": "3.11.8"
        },
        "vscode": {
            "interpreter": {
                "hash": "b0fa6594d8f4cbf19f97940f81e996739fb7646882a419484c72d19e05852a7e"
            }
        }
    },
    "nbformat": 4,
    "nbformat_minor": 5
}
