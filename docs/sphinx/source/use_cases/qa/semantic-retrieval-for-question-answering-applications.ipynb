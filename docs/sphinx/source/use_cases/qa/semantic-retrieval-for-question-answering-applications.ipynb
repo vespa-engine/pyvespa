{
 "cells": [
  {
   "cell_type": "markdown",
   "id": "better-indication",
   "metadata": {},
   "source": [
    "# Question answering\n",
    "\n",
    "> Retrieve paragraph and sentence level information with sparse and dense ranking features"
   ]
  },
  {
   "cell_type": "markdown",
   "id": "fossil-grocery",
   "metadata": {},
   "source": [
    "We will walk through the steps necessary to create a question answering (QA) application that can retrieve sentence or paragraph level answers based on a combination of semantic and/or term-based search. We start by discussing the dataset used and the question and sentence embeddings generated for semantic search. We then include the steps necessary to create and deploy a Vespa application to serve the answers. We make all the required data available to feed the application and show how to query for sentence and paragraph level answers based on a combination of semantic and term-based search.\n",
    "\n",
    "This tutorial is based on [earlier work](https://docs.vespa.ai/en/semantic-qa-retrieval.html) by the Vespa team to reproduce the results of the paper [ReQA: An Evaluation for End-to-End Answer Retrieval Models](https://arxiv.org/abs/1907.04780) by Ahmad Et al. using the Stanford Question Answering Dataset (SQuAD) v1.1 dataset."
   ]
  },
  {
   "cell_type": "markdown",
   "id": "finnish-accreditation",
   "metadata": {},
   "source": [
    "## About the data"
   ]
  },
  {
   "cell_type": "markdown",
   "id": "talented-intersection",
   "metadata": {},
   "source": [
    "We are going to use the Stanford Question Answering Dataset (SQuAD) v1.1 dataset. The data contains paragraphs (denoted here as context), and each paragraph has questions that have answers in the associated paragraph. We have parsed the dataset and organized the data that we will use in this tutorial to make it easier to follow along."
   ]
  },
  {
   "cell_type": "markdown",
   "id": "deadly-premium",
   "metadata": {},
   "source": [
    "### Paragraph"
   ]
  },
  {
   "cell_type": "code",
   "execution_count": 1,
   "id": "flexible-software",
   "metadata": {},
   "outputs": [],
   "source": [
    "import requests, json\n",
    "\n",
    "context_data = json.loads(\n",
    "    requests.get(\"https://data.vespa.oath.cloud/blog/qa/sample_context_data.json\").text\n",
    ")"
   ]
  },
  {
   "cell_type": "markdown",
   "id": "cosmetic-treasurer",
   "metadata": {},
   "source": [
    "Each `context` data point contains a `context_id` that uniquely identifies a paragraph, a `text` field holding the paragraph string, and a `questions` field holding a list of question ids that can be answered from the paragraph text. We also include a `dataset` field to identify the data source if we want to index more than one dataset in our application."
   ]
  },
  {
   "cell_type": "code",
   "execution_count": 2,
   "id": "juvenile-salvation",
   "metadata": {},
   "outputs": [
    {
     "data": {
      "text/plain": [
       "{'text': 'Architecturally, the school has a Catholic character. Atop the Main Building\\'s gold dome is a golden statue of the Virgin Mary. Immediately in front of the Main Building and facing it, is a copper statue of Christ with arms upraised with the legend \"Venite Ad Me Omnes\". Next to the Main Building is the Basilica of the Sacred Heart. Immediately behind the basilica is the Grotto, a Marian place of prayer and reflection. It is a replica of the grotto at Lourdes, France where the Virgin Mary reputedly appeared to Saint Bernadette Soubirous in 1858. At the end of the main drive (and in a direct line that connects through 3 statues and the Gold Dome), is a simple, modern stone statue of Mary.',\n",
       " 'dataset': 'squad',\n",
       " 'questions': [0, 1, 2, 3, 4],\n",
       " 'context_id': 0}"
      ]
     },
     "execution_count": 2,
     "metadata": {},
     "output_type": "execute_result"
    }
   ],
   "source": [
    "context_data[0]"
   ]
  },
  {
   "cell_type": "markdown",
   "id": "amber-butterfly",
   "metadata": {},
   "source": [
    "### Questions"
   ]
  },
  {
   "cell_type": "markdown",
   "id": "governmental-xerox",
   "metadata": {},
   "source": [
    "According to the data point above, `context_id = 0` can be used to answer the questions with `id = [0, 1, 2, 3, 4]`. We can load the file containing the questions and display those first five questions."
   ]
  },
  {
   "cell_type": "code",
   "execution_count": 3,
   "id": "tracked-perth",
   "metadata": {},
   "outputs": [],
   "source": [
    "from pandas import read_csv\n",
    "\n",
    "questions = read_csv(\n",
    "    filepath_or_buffer=\"https://data.vespa.oath.cloud/blog/qa/sample_questions.csv\", sep=\"\\t\", \n",
    ")"
   ]
  },
  {
   "cell_type": "code",
   "execution_count": 4,
   "id": "expressed-knife",
   "metadata": {},
   "outputs": [
    {
     "data": {
      "text/html": [
       "<div>\n",
       "<style scoped>\n",
       "    .dataframe tbody tr th:only-of-type {\n",
       "        vertical-align: middle;\n",
       "    }\n",
       "\n",
       "    .dataframe tbody tr th {\n",
       "        vertical-align: top;\n",
       "    }\n",
       "\n",
       "    .dataframe thead th {\n",
       "        text-align: right;\n",
       "    }\n",
       "</style>\n",
       "<table border=\"1\" class=\"dataframe\">\n",
       "  <thead>\n",
       "    <tr style=\"text-align: right;\">\n",
       "      <th></th>\n",
       "      <th>question_id</th>\n",
       "      <th>question</th>\n",
       "    </tr>\n",
       "  </thead>\n",
       "  <tbody>\n",
       "    <tr>\n",
       "      <th>0</th>\n",
       "      <td>0</td>\n",
       "      <td>To whom did the Virgin Mary allegedly appear i...</td>\n",
       "    </tr>\n",
       "    <tr>\n",
       "      <th>1</th>\n",
       "      <td>1</td>\n",
       "      <td>What is in front of the Notre Dame Main Building?</td>\n",
       "    </tr>\n",
       "    <tr>\n",
       "      <th>2</th>\n",
       "      <td>2</td>\n",
       "      <td>The Basilica of the Sacred heart at Notre Dame...</td>\n",
       "    </tr>\n",
       "    <tr>\n",
       "      <th>3</th>\n",
       "      <td>3</td>\n",
       "      <td>What is the Grotto at Notre Dame?</td>\n",
       "    </tr>\n",
       "    <tr>\n",
       "      <th>4</th>\n",
       "      <td>4</td>\n",
       "      <td>What sits on top of the Main Building at Notre...</td>\n",
       "    </tr>\n",
       "  </tbody>\n",
       "</table>\n",
       "</div>"
      ],
      "text/plain": [
       "   question_id                                           question\n",
       "0            0  To whom did the Virgin Mary allegedly appear i...\n",
       "1            1  What is in front of the Notre Dame Main Building?\n",
       "2            2  The Basilica of the Sacred heart at Notre Dame...\n",
       "3            3                  What is the Grotto at Notre Dame?\n",
       "4            4  What sits on top of the Main Building at Notre..."
      ]
     },
     "execution_count": 4,
     "metadata": {},
     "output_type": "execute_result"
    }
   ],
   "source": [
    "questions[[\"question_id\", \"question\"]].head()"
   ]
  },
  {
   "cell_type": "markdown",
   "id": "phantom-huntington",
   "metadata": {},
   "source": [
    "### Paragraph sentences"
   ]
  },
  {
   "cell_type": "markdown",
   "id": "loved-disclosure",
   "metadata": {},
   "source": [
    "To build a more accurate application, we can break the paragraphs down into sentences. For example, the first sentence below comes from the paragraph with `context_id = 0` and can answer the question with `question_id = 4`."
   ]
  },
  {
   "cell_type": "code",
   "execution_count": 5,
   "id": "sealed-latino",
   "metadata": {},
   "outputs": [],
   "source": [
    "sentence_data = json.loads(\n",
    "    requests.get(\"https://data.vespa.oath.cloud/blog/qa/sample_sentence_data.json\").text\n",
    ")"
   ]
  },
  {
   "cell_type": "code",
   "execution_count": 6,
   "id": "secret-universal",
   "metadata": {},
   "outputs": [
    {
     "data": {
      "text/plain": [
       "{'text': \"Atop the Main Building's gold dome is a golden statue of the Virgin Mary.\",\n",
       " 'dataset': 'squad',\n",
       " 'questions': [4],\n",
       " 'context_id': 0}"
      ]
     },
     "execution_count": 6,
     "metadata": {},
     "output_type": "execute_result"
    }
   ],
   "source": [
    "{k:sentence_data[0][k] for k in [\"text\", \"dataset\", \"questions\", \"context_id\"]}"
   ]
  },
  {
   "cell_type": "markdown",
   "id": "accredited-thread",
   "metadata": {},
   "source": [
    "### Embeddings"
   ]
  },
  {
   "cell_type": "markdown",
   "id": "angry-library",
   "metadata": {},
   "source": [
    "We want to combine semantic (dense) and term-based (sparse) signals to answer the questions sent to our application. We have generated embeddings for both the questions and the sentences to implement the semantic search, each having size equal to 512."
   ]
  },
  {
   "cell_type": "code",
   "execution_count": 7,
   "id": "bibliographic-mambo",
   "metadata": {},
   "outputs": [
    {
     "data": {
      "text/html": [
       "<div>\n",
       "<style scoped>\n",
       "    .dataframe tbody tr th:only-of-type {\n",
       "        vertical-align: middle;\n",
       "    }\n",
       "\n",
       "    .dataframe tbody tr th {\n",
       "        vertical-align: top;\n",
       "    }\n",
       "\n",
       "    .dataframe thead th {\n",
       "        text-align: right;\n",
       "    }\n",
       "</style>\n",
       "<table border=\"1\" class=\"dataframe\">\n",
       "  <thead>\n",
       "    <tr style=\"text-align: right;\">\n",
       "      <th></th>\n",
       "      <th>question_id</th>\n",
       "      <th>embedding</th>\n",
       "    </tr>\n",
       "  </thead>\n",
       "  <tbody>\n",
       "    <tr>\n",
       "      <th>0</th>\n",
       "      <td>0</td>\n",
       "      <td>[-0.025649750605225563, -0.01708591915667057, ...</td>\n",
       "    </tr>\n",
       "  </tbody>\n",
       "</table>\n",
       "</div>"
      ],
      "text/plain": [
       "   question_id                                          embedding\n",
       "0            0  [-0.025649750605225563, -0.01708591915667057, ..."
      ]
     },
     "execution_count": 7,
     "metadata": {},
     "output_type": "execute_result"
    }
   ],
   "source": [
    "questions[[\"question_id\", \"embedding\"]].head(1)"
   ]
  },
  {
   "cell_type": "code",
   "execution_count": 8,
   "id": "appointed-marble",
   "metadata": {},
   "outputs": [
    {
     "data": {
      "text/plain": [
       "[-0.005731593817472458,\n",
       " 0.007575507741421461,\n",
       " -0.06413306295871735,\n",
       " -0.007967847399413586,\n",
       " -0.06464996933937073]"
      ]
     },
     "execution_count": 8,
     "metadata": {},
     "output_type": "execute_result"
    }
   ],
   "source": [
    "sentence_data[0][\"sentence_embedding\"][\"values\"][0:5] # display the first five elements"
   ]
  },
  {
   "cell_type": "markdown",
   "id": "sexual-plate",
   "metadata": {},
   "source": [
    "Here is [the script](https://github.com/vespa-engine/sample-apps/blob/master/semantic-qa-retrieval/bin/convert-to-vespa-squad.py) containing the code that we used to generate the sentence and questions embeddings. We used [Google's Universal Sentence Encoder](https://tfhub.dev/google/universal-sentence-encoder) at the time but feel free to replace it with embeddings generated by your preferred model."
   ]
  },
  {
   "cell_type": "markdown",
   "id": "accomplished-gilbert",
   "metadata": {},
   "source": [
    "## Create and deploy the application"
   ]
  },
  {
   "cell_type": "markdown",
   "id": "first-archive",
   "metadata": {},
   "source": [
    "We can now build a sentence-level Question answering application based on the data described above."
   ]
  },
  {
   "cell_type": "markdown",
   "id": "equivalent-hands",
   "metadata": {},
   "source": [
    "### Schema to hold context information"
   ]
  },
  {
   "cell_type": "markdown",
   "id": "developed-boutique",
   "metadata": {},
   "source": [
    "The `context` schema will have a document containing the four relevant fields described in the data section. We create an index for the `text` field and use `enable-bm25` to pre-compute data required to speed up the use of BM25 for ranking. The `summary` indexing indicates that all the fields will be included in the requested context documents. The `attribute` indexing store the fields in memory as an attribute for sorting, querying, and grouping."
   ]
  },
  {
   "cell_type": "code",
   "execution_count": 9,
   "id": "closing-integer",
   "metadata": {},
   "outputs": [],
   "source": [
    "from vespa.package import Document, Field\n",
    "\n",
    "context_document = Document(\n",
    "    fields=[\n",
    "        Field(name=\"questions\", type=\"array<int>\", indexing=[\"summary\", \"attribute\"]),\n",
    "        Field(name=\"dataset\", type=\"string\", indexing=[\"summary\", \"attribute\"]),\n",
    "        Field(name=\"context_id\", type=\"int\", indexing=[\"summary\", \"attribute\"]),        \n",
    "        Field(name=\"text\", type=\"string\", indexing=[\"summary\", \"index\"], index=\"enable-bm25\"),                \n",
    "    ]\n",
    ")"
   ]
  },
  {
   "cell_type": "markdown",
   "id": "juvenile-found",
   "metadata": {},
   "source": [
    "The default fieldset means query tokens will be matched against the `text` field by default. We defined two rank-profiles (`bm25` and `nativeRank`) to illustrate that we can define and experiment with as many rank-profiles as we want. You can create different ones using [the ranking expressions and features](https://docs.vespa.ai/en/ranking-expressions-features.html) available."
   ]
  },
  {
   "cell_type": "code",
   "execution_count": 10,
   "id": "included-departure",
   "metadata": {},
   "outputs": [],
   "source": [
    "from vespa.package import Schema, FieldSet, RankProfile\n",
    "\n",
    "context_schema = Schema(\n",
    "    name=\"context\",\n",
    "    document=context_document, \n",
    "    fieldsets=[FieldSet(name=\"default\", fields=[\"text\"])], \n",
    "    rank_profiles=[\n",
    "        RankProfile(name=\"bm25\", inherits=\"default\", first_phase=\"bm25(text)\"), \n",
    "        RankProfile(name=\"nativeRank\", inherits=\"default\", first_phase=\"nativeRank(text)\")]\n",
    ")"
   ]
  },
  {
   "cell_type": "markdown",
   "id": "sonic-compound",
   "metadata": {},
   "source": [
    "### Schema to hold sentence information"
   ]
  },
  {
   "cell_type": "markdown",
   "id": "vital-decline",
   "metadata": {},
   "source": [
    "The document of the `sentence` schema will inherit the fields defined in the `context` document to avoid unnecessary duplication of the same field types. Besides, we add the `sentence_embedding` field defined to hold a one-dimensional tensor of floats of size 512. We will store the field as an attribute in memory and build an ANN `index` using the `HNSW` (hierarchical navigable small world) algorithm. Read [this blog post](https://blog.vespa.ai/approximate-nearest-neighbor-search-in-vespa-part-1/) to know more about Vespa’s journey to implement ANN search and the [documentation](https://docs.vespa.ai/en/approximate-nn-hnsw.html) for more information about the HNSW parameters."
   ]
  },
  {
   "cell_type": "code",
   "execution_count": 11,
   "id": "pacific-military",
   "metadata": {},
   "outputs": [],
   "source": [
    "from vespa.package import HNSW\n",
    "\n",
    "sentence_document = Document(\n",
    "    inherits=\"context\", \n",
    "    fields=[\n",
    "        Field(\n",
    "            name=\"sentence_embedding\", \n",
    "            type=\"tensor<float>(x[512])\", \n",
    "            indexing=[\"attribute\", \"index\"], \n",
    "            ann=HNSW(\n",
    "                distance_metric=\"euclidean\", \n",
    "                max_links_per_node=16, \n",
    "                neighbors_to_explore_at_insert=500\n",
    "            )\n",
    "        )\n",
    "    ]\n",
    ")"
   ]
  },
  {
   "cell_type": "markdown",
   "id": "compressed-compiler",
   "metadata": {},
   "source": [
    "For the `sentence` schema, we define three rank profiles. The `semantic-similarity` uses the Vespa `closeness` ranking feature, which is defined as `1/(1 + distance)` so that sentences with embeddings closer to the question embedding will be ranked higher than sentences that are far apart. The `bm25` is an example of a term-based rank profile, and `bm25-semantic-similarity` combines both term-based and semantic-based signals as an example of a hybrid approach."
   ]
  },
  {
   "cell_type": "code",
   "execution_count": 12,
   "id": "prescription-scholar",
   "metadata": {},
   "outputs": [],
   "source": [
    "sentence_schema = Schema(\n",
    "    name=\"sentence\", \n",
    "    document=sentence_document, \n",
    "    fieldsets=[FieldSet(name=\"default\", fields=[\"text\"])], \n",
    "    rank_profiles=[\n",
    "        RankProfile(\n",
    "            name=\"semantic-similarity\", \n",
    "            inherits=\"default\", \n",
    "            first_phase=\"closeness(sentence_embedding)\"\n",
    "        ),\n",
    "        RankProfile(\n",
    "            name=\"bm25\", \n",
    "            inherits=\"default\", \n",
    "            first_phase=\"bm25(text)\"\n",
    "        ),\n",
    "        RankProfile(\n",
    "            name=\"bm25-semantic-similarity\", \n",
    "            inherits=\"default\", \n",
    "            first_phase=\"bm25(text) + closeness(sentence_embedding)\"\n",
    "        )\n",
    "    ]\n",
    ")"
   ]
  },
  {
   "cell_type": "markdown",
   "id": "genetic-montana",
   "metadata": {},
   "source": [
    "### Build the application package"
   ]
  },
  {
   "cell_type": "markdown",
   "id": "bronze-hampton",
   "metadata": {},
   "source": [
    "We can now define our `qa` application by creating an application package with both the `context_schema` and the `sentence_schema` that we defined above. In addition, we need to inform Vespa that we plan to send a query ranking feature named `query_embedding` with the same type that we used to define the `sentence_embedding` field."
   ]
  },
  {
   "cell_type": "code",
   "execution_count": 13,
   "id": "narrow-gospel",
   "metadata": {},
   "outputs": [],
   "source": [
    "from vespa.package import ApplicationPackage, QueryProfile, QueryProfileType, QueryTypeField\n",
    "\n",
    "app_package = ApplicationPackage(\n",
    "    name=\"qa\", \n",
    "    schema=[context_schema, sentence_schema], \n",
    "    query_profile=QueryProfile(),\n",
    "    query_profile_type=QueryProfileType(\n",
    "        fields=[\n",
    "            QueryTypeField(\n",
    "                name=\"ranking.features.query(query_embedding)\", \n",
    "                type=\"tensor<float>(x[512])\"\n",
    "            )\n",
    "        ]\n",
    "    )\n",
    ")"
   ]
  },
  {
   "cell_type": "markdown",
   "id": "empirical-scenario",
   "metadata": {},
   "source": [
    "### Deploy the application"
   ]
  },
  {
   "cell_type": "markdown",
   "id": "western-international",
   "metadata": {},
   "source": [
    "We can deploy the `app_package` in a Docker container (or to [Vespa Cloud](https://cloud.vespa.ai/)):"
   ]
  },
  {
   "cell_type": "code",
   "execution_count": 14,
   "id": "romantic-interstate",
   "metadata": {},
   "outputs": [
    {
     "name": "stdout",
     "output_type": "stream",
     "text": [
      "Waiting for configuration server.\n",
      "Waiting for configuration server.\n",
      "Waiting for configuration server.\n",
      "Waiting for configuration server.\n",
      "Waiting for configuration server.\n",
      "Waiting for configuration server.\n",
      "Waiting for application status.\n",
      "Waiting for application status.\n",
      "Finished deployment.\n"
     ]
    }
   ],
   "source": [
    "import os\n",
    "from vespa.deployment import VespaDocker\n",
    "\n",
    "disk_folder = os.path.join(os.getenv(\"WORK_DIR\"), \"sample_application\")\n",
    "vespa_docker = VespaDocker(\n",
    "    port=8081, \n",
    "    disk_folder=disk_folder # requires absolute path\n",
    ")\n",
    "app = vespa_docker.deploy(application_package=app_package)"
   ]
  },
  {
   "cell_type": "markdown",
   "id": "continent-tuner",
   "metadata": {},
   "source": [
    "## Feed the data"
   ]
  },
  {
   "cell_type": "markdown",
   "id": "dying-jonathan",
   "metadata": {},
   "source": [
    "Once deployed, we can use the `Vespa` instance `app` to interact with the application. We can start by feeding context and sentence data."
   ]
  },
  {
   "cell_type": "code",
   "execution_count": 15,
   "id": "assured-cheat",
   "metadata": {},
   "outputs": [],
   "source": [
    "for idx, sentence in enumerate(sentence_data):\n",
    "    app.feed_data_point(schema=\"sentence\", data_id=idx, fields=sentence)"
   ]
  },
  {
   "cell_type": "code",
   "execution_count": 16,
   "id": "automatic-ordinary",
   "metadata": {},
   "outputs": [],
   "source": [
    "for context in context_data:\n",
    "    app.feed_data_point(schema=\"context\", data_id=context[\"context_id\"], fields=context)"
   ]
  },
  {
   "cell_type": "markdown",
   "id": "prescription-joshua",
   "metadata": {},
   "source": [
    "## Sentence level retrieval"
   ]
  },
  {
   "cell_type": "markdown",
   "id": "pleasant-speaker",
   "metadata": {},
   "source": [
    "The query below sends the first question embedding (`questions.loc[0, \"embedding\"]`) through the `ranking.features.query(query_embedding)` parameter and use the `nearestNeighbor` search operator to retrieve the closest 100 sentences in embedding space using Euclidean distance as configured in the `HNSW` settings. The sentences returned will be ranked by the `semantic-similarity` rank profile defined in the `sentence` schema."
   ]
  },
  {
   "cell_type": "code",
   "execution_count": 17,
   "id": "framed-grove",
   "metadata": {},
   "outputs": [],
   "source": [
    "result = app.query(body={\n",
    "  'yql': 'select * from sources sentence where ([{\"targetNumHits\":100}]nearestNeighbor(sentence_embedding,query_embedding));',\n",
    "  'hits': 100,\n",
    "  'ranking.features.query(query_embedding)': questions.loc[0, \"embedding\"],\n",
    "  'ranking.profile': 'semantic-similarity' \n",
    "})"
   ]
  },
  {
   "cell_type": "code",
   "execution_count": 18,
   "id": "aquatic-rubber",
   "metadata": {},
   "outputs": [
    {
     "data": {
      "text/plain": [
       "{'id': 'index:qa_content/0/c81e728d4f44cd2f50bb5240',\n",
       " 'relevance': 0.5540203635649571,\n",
       " 'source': 'qa_content'}"
      ]
     },
     "execution_count": 18,
     "metadata": {},
     "output_type": "execute_result"
    }
   ],
   "source": [
    "result.hits[0]"
   ]
  },
  {
   "cell_type": "markdown",
   "id": "stainless-calcium",
   "metadata": {},
   "source": [
    "## Sentence level hybrid retrieval"
   ]
  },
  {
   "cell_type": "markdown",
   "id": "genetic-brown",
   "metadata": {},
   "source": [
    "In addition to sending the query embedding, we can send the question string (`questions.loc[0, \"question\"]`) via the `query` parameter and use the `or` operator to retrieve documents that satisfy either the semantic operator `nearestNeighbor` or the term-based operator `userQuery`. Choosing `type` equal `any` means that the term-based operator will retrieve all the documents that match at least one query token. The retrieved documents will be ranked by the hybrid rank-profile `bm25-semantic-similarity`."
   ]
  },
  {
   "cell_type": "code",
   "execution_count": 19,
   "id": "suspended-hurricane",
   "metadata": {},
   "outputs": [],
   "source": [
    "result = app.query(body={\n",
    "  'yql': 'select * from sources sentence  where ([{\"targetNumHits\":100}]nearestNeighbor(sentence_embedding,query_embedding)) or userQuery();',\n",
    "  'query': questions.loc[0, \"question\"],\n",
    "  'type': 'any',\n",
    "  'hits': 100,\n",
    "  'ranking.features.query(query_embedding)': questions.loc[0, \"embedding\"],\n",
    "  'ranking.profile': 'bm25-semantic-similarity' \n",
    "})"
   ]
  },
  {
   "cell_type": "code",
   "execution_count": 20,
   "id": "tamil-effectiveness",
   "metadata": {},
   "outputs": [
    {
     "data": {
      "text/plain": [
       "{'id': 'id:sentence:sentence::2',\n",
       " 'relevance': 42.83611275663719,\n",
       " 'source': 'qa_content',\n",
       " 'fields': {'sddocname': 'sentence',\n",
       "  'documentid': 'id:sentence:sentence::2',\n",
       "  'questions': [0],\n",
       "  'dataset': 'squad',\n",
       "  'context_id': 0,\n",
       "  'text': 'It is a replica of the grotto at Lourdes, France where the Virgin Mary reputedly appeared to Saint Bernadette Soubirous in 1858.'}}"
      ]
     },
     "execution_count": 20,
     "metadata": {},
     "output_type": "execute_result"
    }
   ],
   "source": [
    "result.hits[0]"
   ]
  },
  {
   "cell_type": "markdown",
   "id": "pregnant-equity",
   "metadata": {},
   "source": [
    "## Paragraph level retrieval"
   ]
  },
  {
   "cell_type": "markdown",
   "id": "tired-breed",
   "metadata": {},
   "source": [
    "For paragraph-level retrieval, we use Vespa's [grouping](https://docs.vespa.ai/en/grouping.html) feature to retrieve paragraphs instead of sentences. In the sample query below, we group by `context_id` and use the paragraph’s max sentence score to represent the paragraph level score. We limit the number of paragraphs returned by 3, and each paragraph contains at most two sentences. We return all the summary features for each sentence. All those configurations can be changed to fit different use cases."
   ]
  },
  {
   "cell_type": "code",
   "execution_count": 21,
   "id": "blond-residence",
   "metadata": {},
   "outputs": [],
   "source": [
    "result = app.query(body={\n",
    "  'yql': ('select * from sources sentence where ([{\"targetNumHits\":10000}]nearestNeighbor(sentence_embedding,query_embedding)) |' \n",
    "          'all(group(context_id) max(3) order(-max(relevance())) each( max(2) each(output(summary())) as(sentences)) as(paragraphs));'),\n",
    "  'hits': 0,\n",
    "  'ranking.features.query(query_embedding)': questions.loc[0, \"embedding\"],\n",
    "  'ranking.profile': 'bm25-semantic-similarity' \n",
    "})"
   ]
  },
  {
   "cell_type": "code",
   "execution_count": 22,
   "id": "involved-sensitivity",
   "metadata": {},
   "outputs": [],
   "source": [
    "paragraphs = result.json[\"root\"][\"children\"][0][\"children\"][0]"
   ]
  },
  {
   "cell_type": "code",
   "execution_count": 23,
   "id": "statutory-berkeley",
   "metadata": {},
   "outputs": [
    {
     "data": {
      "text/plain": [
       "{'id': 'group:long:0',\n",
       " 'relevance': 1.0,\n",
       " 'value': '0',\n",
       " 'children': [{'id': 'hitlist:sentences',\n",
       "   'relevance': 1.0,\n",
       "   'label': 'sentences',\n",
       "   'continuation': {'next': 'BKAAAAABGBEBC'},\n",
       "   'children': [{'id': 'id:sentence:sentence::2',\n",
       "     'relevance': 0.5540203635649571,\n",
       "     'source': 'qa_content',\n",
       "     'fields': {'sddocname': 'sentence',\n",
       "      'documentid': 'id:sentence:sentence::2',\n",
       "      'questions': [0],\n",
       "      'dataset': 'squad',\n",
       "      'context_id': 0,\n",
       "      'text': 'It is a replica of the grotto at Lourdes, France where the Virgin Mary reputedly appeared to Saint Bernadette Soubirous in 1858.'}},\n",
       "    {'id': 'id:sentence:sentence::0',\n",
       "     'relevance': 0.4668025534074384,\n",
       "     'source': 'qa_content',\n",
       "     'fields': {'sddocname': 'sentence',\n",
       "      'documentid': 'id:sentence:sentence::0',\n",
       "      'questions': [4],\n",
       "      'dataset': 'squad',\n",
       "      'context_id': 0,\n",
       "      'text': \"Atop the Main Building's gold dome is a golden statue of the Virgin Mary.\"}}]}]}"
      ]
     },
     "execution_count": 23,
     "metadata": {},
     "output_type": "execute_result"
    }
   ],
   "source": [
    "paragraphs[\"children\"][0] # top-ranked paragraph"
   ]
  },
  {
   "cell_type": "code",
   "execution_count": 24,
   "id": "lined-nicaragua",
   "metadata": {},
   "outputs": [
    {
     "data": {
      "text/plain": [
       "{'id': 'group:long:28',\n",
       " 'relevance': 0.6666666666666666,\n",
       " 'value': '28',\n",
       " 'children': [{'id': 'hitlist:sentences',\n",
       "   'relevance': 1.0,\n",
       "   'label': 'sentences',\n",
       "   'continuation': {'next': 'BKAAABCABGBEBC'},\n",
       "   'children': [{'id': 'id:sentence:sentence::188',\n",
       "     'relevance': 0.5209270028414069,\n",
       "     'source': 'qa_content',\n",
       "     'fields': {'sddocname': 'sentence',\n",
       "      'documentid': 'id:sentence:sentence::188',\n",
       "      'questions': [142],\n",
       "      'dataset': 'squad',\n",
       "      'context_id': 28,\n",
       "      'text': 'The Grotto of Our Lady of Lourdes, which was built in 1896, is a replica of the original in Lourdes, France.'}},\n",
       "    {'id': 'id:sentence:sentence::184',\n",
       "     'relevance': 0.4590959251360276,\n",
       "     'source': 'qa_content',\n",
       "     'fields': {'sddocname': 'sentence',\n",
       "      'documentid': 'id:sentence:sentence::184',\n",
       "      'questions': [140],\n",
       "      'dataset': 'squad',\n",
       "      'context_id': 28,\n",
       "      'text': 'It is built in French Revival style and it is decorated by stained glass windows imported directly from France.'}}]}]}"
      ]
     },
     "execution_count": 24,
     "metadata": {},
     "output_type": "execute_result"
    }
   ],
   "source": [
    "paragraphs[\"children\"][1] # second-ranked paragraph"
   ]
  },
  {
   "cell_type": "markdown",
   "id": "distributed-browser",
   "metadata": {},
   "source": [
    "### Clean up environment"
   ]
  },
  {
   "cell_type": "code",
   "execution_count": 27,
   "id": "preceding-gilbert",
   "metadata": {},
   "outputs": [],
   "source": [
    "from shutil import rmtree\n",
    "\n",
    "rmtree(disk_folder, ignore_errors=True)\n",
    "vespa_docker.container.stop()\n",
    "vespa_docker.container.remove()"
   ]
  }
 ],
 "metadata": {
  "kernelspec": {
   "display_name": "Python 3 (ipykernel)",
   "language": "python",
   "name": "python3"
  },
  "language_info": {
   "codemirror_mode": {
    "name": "ipython",
    "version": 3
   },
   "file_extension": ".py",
   "mimetype": "text/x-python",
   "name": "python",
   "nbconvert_exporter": "python",
   "pygments_lexer": "ipython3",
   "version": "3.9.9"
  }
 },
 "nbformat": 4,
 "nbformat_minor": 5
}
