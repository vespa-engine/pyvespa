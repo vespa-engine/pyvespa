{
 "cells": [
  {
   "cell_type": "markdown",
   "id": "given-adoption",
   "metadata": {},
   "source": [
    "# Text search\n",
    "\n",
    "![Vespa logo](https://vespa.ai/assets/vespa-logo-color.png)\n",
    "\n",
    "This self-contained tutorial will create a basic text search application based on the MS MARCO dataset,\n",
    "similar to Vespa's [text search tutorials](https://docs.vespa.ai/en/tutorials/text-search.html).\n",
    "\n",
    "[Install pyvespa](https://pyvespa.readthedocs.io/) and start Docker, validate minimum 4G available:"
   ]
  },
  {
   "cell_type": "code",
   "execution_count": 15,
   "id": "03f3d0f2",
   "metadata": {},
   "outputs": [
    {
     "name": "stdout",
     "output_type": "stream",
     "text": [
      " Total Memory: 11.7GiB\r\n"
     ]
    }
   ],
   "source": [
    "!docker info | grep \"Total Memory\""
   ]
  },
  {
   "cell_type": "markdown",
   "id": "db637322",
   "metadata": {},
   "source": [
    "## Create an application package\n",
    "\n",
    "Create an [application package](https://pyvespa.readthedocs.io/en/latest/reference-api.html#vespa.package.ApplicationPackage) - do not use a `-` in the name:"
   ]
  },
  {
   "cell_type": "code",
   "execution_count": 16,
   "id": "bd5c2629",
   "metadata": {},
   "outputs": [],
   "source": [
    "from vespa.package import ApplicationPackage\n",
    "\n",
    "app_package = ApplicationPackage(name=\"textsearch\")"
   ]
  },
  {
   "cell_type": "markdown",
   "id": "caa46d5a",
   "metadata": {},
   "source": [
    "## Add fields to the schema\n",
    "\n",
    "Add [fields](https://pyvespa.readthedocs.io/en/latest/reference-api.html#vespa.package.Field)\n",
    "to the application's [schema](https://pyvespa.readthedocs.io/en/latest/reference-api.html#vespa.package.Schema):"
   ]
  },
  {
   "cell_type": "code",
   "execution_count": 17,
   "id": "f2d0bea7",
   "metadata": {},
   "outputs": [],
   "source": [
    "from vespa.package import Field\n",
    "\n",
    "app_package.schema.add_fields(\n",
    "    Field(name = \"id\",    type = \"string\", indexing = [\"attribute\", \"summary\"]),\n",
    "    Field(name = \"title\", type = \"string\", indexing = [\"index\", \"summary\"], index = \"enable-bm25\"),\n",
    "    Field(name = \"body\",  type = \"string\", indexing = [\"index\", \"summary\"], index = \"enable-bm25\")\n",
    ")"
   ]
  },
  {
   "cell_type": "markdown",
   "id": "0a4199cb",
   "metadata": {},
   "source": [
    "* `id` holds the document ids, while `title` and `body` are the text fields of the documents.\n",
    "\n",
    "* Setting `\"index\"` in `indexing` means that a searchable index for `title` and `body` is created.\n",
    "  Read more about [indexing options](https://docs.vespa.ai/en/reference/schema-reference.html#indexing). \n",
    "\n",
    "* Setting `index = \"enable-bm25\"` will pre-compute quantities to make it fast to compute the BM25 score."
   ]
  },
  {
   "cell_type": "markdown",
   "id": "e1757dea",
   "metadata": {},
   "source": [
    "## Search multiple fields when querying\n",
    "\n",
    "A [FieldSet](https://pyvespa.readthedocs.io/en/latest/reference-api.html#vespa.package.FieldSet)\n",
    "groups fields together for searching -\n",
    "it configures queries to look for matches both in the titles and bodies of the documents:"
   ]
  },
  {
   "cell_type": "code",
   "execution_count": 18,
   "id": "d0ecbb27",
   "metadata": {},
   "outputs": [],
   "source": [
    "from vespa.package import FieldSet\n",
    "\n",
    "app_package.schema.add_field_set(\n",
    "    FieldSet(name = \"default\", fields = [\"title\", \"body\"])\n",
    ")"
   ]
  },
  {
   "cell_type": "markdown",
   "id": "6573388c",
   "metadata": {},
   "source": [
    "## Define how to rank the documents matched\n",
    "\n",
    "Specify how to rank the matched documents by defining a\n",
    "[RankProfile](https://pyvespa.readthedocs.io/en/latest/reference-api.html#vespa.package.RankProfile).\n",
    "Here, the `bm25` rank profile combines BM25 scores from `title` and `body`:"
   ]
  },
  {
   "cell_type": "code",
   "execution_count": 19,
   "id": "9bb438f4",
   "metadata": {},
   "outputs": [],
   "source": [
    "from vespa.package import RankProfile\n",
    "\n",
    "app_package.schema.add_rank_profile(\n",
    "    RankProfile(name = \"default\", first_phase = \"bm25(title) + bm25(body)\")\n",
    ")\n",
    "app_package.schema.add_rank_profile(\n",
    "    RankProfile(name = \"bm25\", first_phase = \"bm25(title) + bm25(body)\")\n",
    ")\n",
    "app_package.schema.add_rank_profile(\n",
    "    RankProfile(name = \"native_rank\", first_phase = \"nativeRank(title, body)\")\n",
    ")"
   ]
  },
  {
   "cell_type": "markdown",
   "id": "careful-savage",
   "metadata": {},
   "source": [
    "## Deploy\n",
    "\n",
    "The text search app with fields, a fieldset to group fields together, and a rank profile to rank matched documents is now defined and ready to deploy.\n",
    "Deploy `app_package` on the local machine using Docker,\n",
    "without leaving the notebook, by creating an instance of\n",
    "[VespaDocker](https://pyvespa.readthedocs.io/en/latest/reference-api.html#vespa.deployment.VespaDocker):"
   ]
  },
  {
   "cell_type": "code",
   "execution_count": 20,
   "id": "canadian-blood",
   "metadata": {},
   "outputs": [
    {
     "name": "stdout",
     "output_type": "stream",
     "text": [
      "Waiting for configuration server.\n",
      "Waiting for configuration server.\n",
      "Waiting for application status.\n",
      "Waiting for application status.\n",
      "Finished deployment.\n"
     ]
    }
   ],
   "source": [
    "import os\n",
    "from vespa.deployment import VespaDocker\n",
    "\n",
    "disk_folder = os.path.join(os.getenv(\"WORK_DIR\"), \"sample_application\")\n",
    "vespa_docker = VespaDocker(port=8089, disk_folder=disk_folder)\n",
    "app = vespa_docker.deploy(application_package=app_package)"
   ]
  },
  {
   "cell_type": "markdown",
   "id": "aaae2f91",
   "metadata": {},
   "source": [
    "`app` now holds a [Vespa](https://pyvespa.readthedocs.io/en/latest/reference-api.html#vespa.application.Vespa) instance,\n",
    "to be used to interact with the application.\n",
    "`pyvespa` provides an API to define Vespa application packages from python.\n",
    "`vespa_docker.deploy` exports Vespa configuration files to `disk_folder` -\n",
    "going through these is a good way to learning about Vespa configuration."
   ]
  },
  {
   "cell_type": "markdown",
   "id": "sealed-mustang",
   "metadata": {},
   "source": [
    "## Feed\n",
    "\n",
    "Download approx 10K documents:"
   ]
  },
  {
   "cell_type": "code",
   "execution_count": 21,
   "id": "executed-reservoir",
   "metadata": {},
   "outputs": [
    {
     "data": {
      "text/html": [
       "<div>\n",
       "<style scoped>\n",
       "    .dataframe tbody tr th:only-of-type {\n",
       "        vertical-align: middle;\n",
       "    }\n",
       "\n",
       "    .dataframe tbody tr th {\n",
       "        vertical-align: top;\n",
       "    }\n",
       "\n",
       "    .dataframe thead th {\n",
       "        text-align: right;\n",
       "    }\n",
       "</style>\n",
       "<table border=\"1\" class=\"dataframe\">\n",
       "  <thead>\n",
       "    <tr style=\"text-align: right;\">\n",
       "      <th></th>\n",
       "      <th>id</th>\n",
       "      <th>title</th>\n",
       "      <th>body</th>\n",
       "    </tr>\n",
       "  </thead>\n",
       "  <tbody>\n",
       "    <tr>\n",
       "      <th>0</th>\n",
       "      <td>D1712962</td>\n",
       "      <td>Can you eat crab or imitation krab when you ha...</td>\n",
       "      <td>Answers com   Wiki Answers   Categories Health...</td>\n",
       "    </tr>\n",
       "    <tr>\n",
       "      <th>1</th>\n",
       "      <td>D1817294</td>\n",
       "      <td>How long is a tax refund check good</td>\n",
       "      <td>Answers com   Wiki Answers   Categories Busine...</td>\n",
       "    </tr>\n",
       "    <tr>\n",
       "      <th>2</th>\n",
       "      <td>D1761039</td>\n",
       "      <td>The Suffolk Resolves  1774</td>\n",
       "      <td>The Suffolk Resolves  1774 Across New England ...</td>\n",
       "    </tr>\n",
       "    <tr>\n",
       "      <th>3</th>\n",
       "      <td>D2899268</td>\n",
       "      <td>The eagle has flown</td>\n",
       "      <td>Download citation Share Download full text PDF...</td>\n",
       "    </tr>\n",
       "    <tr>\n",
       "      <th>4</th>\n",
       "      <td>D3278481</td>\n",
       "      <td>22b  Cotton and African American Life</td>\n",
       "      <td>22b  Cotton and African American Life Two thi...</td>\n",
       "    </tr>\n",
       "  </tbody>\n",
       "</table>\n",
       "</div>"
      ],
      "text/plain": [
       "         id                                              title  \\\n",
       "0  D1712962  Can you eat crab or imitation krab when you ha...   \n",
       "1  D1817294               How long is a tax refund check good    \n",
       "2  D1761039                        The Suffolk Resolves  1774    \n",
       "3  D2899268                                The eagle has flown   \n",
       "4  D3278481              22b  Cotton and African American Life   \n",
       "\n",
       "                                                body  \n",
       "0  Answers com   Wiki Answers   Categories Health...  \n",
       "1  Answers com   Wiki Answers   Categories Busine...  \n",
       "2  The Suffolk Resolves  1774 Across New England ...  \n",
       "3  Download citation Share Download full text PDF...  \n",
       "4   22b  Cotton and African American Life Two thi...  "
      ]
     },
     "execution_count": 21,
     "metadata": {},
     "output_type": "execute_result"
    }
   ],
   "source": [
    "from pandas import read_csv\n",
    "\n",
    "docs = read_csv(\n",
    "    filepath_or_buffer=\"https://data.vespa.oath.cloud/blog/msmarco/sample_docs.csv\"\n",
    ")\n",
    "docs.head()"
   ]
  },
  {
   "cell_type": "markdown",
   "id": "4f0ca33f",
   "metadata": {},
   "source": [
    "Feed the DataFrame to the application:"
   ]
  },
  {
   "cell_type": "code",
   "execution_count": 22,
   "id": "bottom-memorabilia",
   "metadata": {},
   "outputs": [],
   "source": [
    "feed_res = app.feed_df(docs)"
   ]
  },
  {
   "cell_type": "markdown",
   "id": "separated-insertion",
   "metadata": {},
   "source": [
    "## Query\n",
    "\n",
    "Query the text search app using the [Vespa Query language](https://docs.vespa.ai/en/query-language.html)\n",
    "by sending the parameters to the body argument of\n",
    "[app.query](https://pyvespa.readthedocs.io/en/latest/reference-api.html#vespa.application.Vespa.query):"
   ]
  },
  {
   "cell_type": "code",
   "execution_count": 23,
   "id": "82b5f6fe",
   "metadata": {},
   "outputs": [],
   "source": [
    "query = {\n",
    "    'yql': 'select * from sources * where userQuery();',\n",
    "    'query': 'what keeps planes in the air',\n",
    "    'ranking': 'bm25',\n",
    "    'type': 'all',\n",
    "    'hits': 10\n",
    "}"
   ]
  },
  {
   "cell_type": "code",
   "execution_count": 24,
   "id": "c930ef28",
   "metadata": {},
   "outputs": [
    {
     "data": {
      "text/plain": [
       "{'id': 'id:textsearch:textsearch::D1871659',\n",
       " 'relevance': 25.629646778721725,\n",
       " 'source': 'textsearch_content',\n",
       " 'fields': {'sddocname': 'textsearch',\n",
       "  'documentid': 'id:textsearch:textsearch::D1871659',\n",
       "  'id': 'D1871659',\n",
       "  'title': 'What keeps airplanes in the air ',\n",
       "  'body': 'Answers com   Wiki Answers   Categories Cars   Vehicles Airplanes and Aircraft What keeps airplanes in the air  Flag What keeps airplanes in the air  Answer by Karin L  Confidence votes 95 0KThere s more to raising cattle than throwing them out to pasture  Know your soil and plants to earn profit above ground and wealth below  It is the combined forces of lift  thrust and weight that keeps an airplane in the air  Lift happens to be the largest force in this equation  and is dependent on the speed of the wing  or how fast an airplane is going   vertical velocity of air and air density  Well the elevator the rudder will help and something else I forgot what it was but don t judge me for that               And that s how you be a bow done   Like a boss  Boss    15 people found this useful Was this answer useful  Yes Somewhat No How do airplane windows keep out the cold  Airplane windows   The only way that heat can escape the warm cabin is to travel through something or radiate outward  Since the windows are so small  the radiation through  Karin L  There s more to raising cattle than throwing them out to pasture  Know your soil and plants to earn profit above ground and wealth below  Does speed keep an airplane in the air  Yes  to a degree  speed is part of the equation  Speed   thrust  and combine that with lift and weight  though weight has to be smaller than lift and thrust combined     then y  Bala Surya 152 866 Contributions Adventurous  Fun   Dreaming High How does bernoulli s principle keep airplanes in the air  Bernoulli s principle is that there is a region of high pressure under the wing  So air rushes under the plane  So it creates lift which in turn keeps the airplane in the air   How airplane can fly in the air  The airplane fly on the air by 4 main forces   drag   lift   thrust and weight   all these forces affect of the performances of the airplane to fly     the high power of the e  David Bäckman 388 346 Contributions Knowledge is a thing you can both share and keep Is the force that keeps an airplane in the air called lift or levitation  Lift Sadia rulez 1 Contribution How does air help an airplane fly  Air Helps An Aeroplane Fly Because Of The Up Thurst  Up Thrust Is A Sort Of A Gravity That Pulls You Up Like A Float Floats In Water The Upthrust Pulls It Up But The Gravity Pull  Djlax97 3 Contributions How do you keep your ears from popping on an airplane  All you have to do is chew gum and swallow a lot Doing this has something to do with the place of your throat And yes it does work What does it mean when the air in airplanes are pressurized  The air in an aircraft needs to be pressurised so that the people within the cabin don t pass out from oxygen starvation at higher altitudes  The atmosphere can be described a  Richard Loberger 26 278 Contributions Airplane can stop in the air  It would depend on what you mean by stop in the air  An airplane can have 0 MPH ground speed while in the air only IF the wind is going faster then the stall speed of the g  How does an airplane stay stable in the air to keep a plane stable in the air it has different control surfaces or panels to allow the pilot to adjust the position of the plane in the air  Some modern fighter jets such  How do you recharge an airplane Air Conditioner  An airplane airconditioner is completely different than the one in your house or car  It doesn t rely on a refrigerant  Rather it takes hot high pressure air from the hot comp  What keeps an airplane up in the sky  Bernoulli s Principle the statement that an increase in the speed of a fluid produces a decrease in pressure and a decrease in the speed produces an increase in pressure Win  Karin L  There s more to raising cattle than throwing them out to pasture  Know your soil and plants to earn profit above ground and wealth below  Answered In Physics What keeps the airplane from rolling unexpectedly  On the tarmac  there are triangular blocks that are placed in front and behind each wheel of the airplane  called wheel chocks  In the air  a steady hand on the control sti  David Bäckman 388 346 Contributions Knowledge is a thing you can both share and keep Answered In Airplanes and Aircraft What is a machine that keeps an airplane on course  An auto pilot Charlie N  122 923 Contributions I have spent many years renovating buildings and leading a commercial handyman crew  Answered In Airbus Machine that keeps an airplane on course  Autopilot keeps an aircraft on course  In modern times autopilot is assisted by GPS and radar  Answered In Airplanes and Aircraft What keeps an airplane moving forward  An engine producing THRUST keeps an airplane moving forward  Types of engines used by airplanes include reciprocating engines  turbo prop engines  turbojet  and turbofan engin  Levyharaivan 396 Contributions Answered In Airplanes and Aircraft What keeps a airplane from rolling unexpectedly  Brakes  just like any other vehicle'}}"
      ]
     },
     "execution_count": 24,
     "metadata": {},
     "output_type": "execute_result"
    }
   ],
   "source": [
    "res = app.query(body=query)\n",
    "res.hits[0]"
   ]
  },
  {
   "cell_type": "markdown",
   "id": "bae9a660",
   "metadata": {},
   "source": [
    "## Query with QueryModel\n",
    "\n",
    "Using the Vespa Query Language as above gives full query power and flexibility from Vespa.\n",
    "In contrast, the QueryModel abstraction focuses on specific use cases\n",
    "and can be more useful for ML experiments.\n",
    "Here, match using the `AND`operator and rank using the `bm25` ranking profile:"
   ]
  },
  {
   "cell_type": "code",
   "execution_count": 25,
   "id": "d2ddde50",
   "metadata": {},
   "outputs": [],
   "source": [
    "from vespa.query import QueryModel, AND, RankProfile as Ranking\n",
    "\n",
    "bm25_query_model = QueryModel(\n",
    "    name=\"and_bm25\",\n",
    "    match_phase = AND(),\n",
    "    rank_profile = Ranking(name=\"bm25\")\n",
    ")"
   ]
  },
  {
   "cell_type": "code",
   "execution_count": 26,
   "id": "pretty-boost",
   "metadata": {},
   "outputs": [],
   "source": [
    "response = app.query(query=\"what keeps planes in the air\", query_model=bm25_query_model)"
   ]
  },
  {
   "cell_type": "code",
   "execution_count": 27,
   "id": "chubby-caribbean",
   "metadata": {},
   "outputs": [
    {
     "name": "stdout",
     "output_type": "stream",
     "text": [
      "{'id': 'D1871659', 'title': 'What keeps airplanes in the air ', 'relevance': 25.629646778721725}\n",
      "{'id': 'D684487', 'title': 'MP02  Motion Diagrams', 'relevance': 10.530621046528196}\n",
      "{'id': 'D254873', 'title': ' ', 'relevance': 9.360245799821822}\n",
      "{'id': 'D1765332', 'title': 'Fast   Furious 6', 'relevance': 8.074330525519944}\n",
      "{'id': 'D1631044', 'title': 'First Cell', 'relevance': 7.633614797739622}\n",
      "{'id': 'D3434656', 'title': 'A Global Guide to Pet Relocation Costs', 'relevance': 6.924114436169097}\n",
      "{'id': 'D3157544', 'title': 'Thomas Cook to axe 2 600 jobs', 'relevance': 6.620220097056055}\n",
      "{'id': 'D209851', 'title': 'The USS Scorpion Buried at Sea', 'relevance': 6.406117915168797}\n",
      "{'id': 'D958861', 'title': 'George Harrison  close to death ', 'relevance': 6.00868191627094}\n",
      "{'id': 'D1529248', 'title': 'The airport shopping challenge  Left buying Christmas presents til  the last minute like I did  You CAN do it all in two hours   and I m living proof', 'relevance': 5.991353085441339}\n"
     ]
    }
   ],
   "source": [
    "for hit in response.hits:\n",
    "    print({\n",
    "        \"id\": hit[\"fields\"][\"id\"], \n",
    "        \"title\": hit[\"fields\"][\"title\"], \n",
    "        \"relevance\": hit[\"relevance\"]\n",
    "    })"
   ]
  },
  {
   "cell_type": "markdown",
   "id": "28591491",
   "metadata": {},
   "source": [
    "## Cleanup"
   ]
  },
  {
   "cell_type": "code",
   "execution_count": 28,
   "id": "e5064bd2",
   "metadata": {},
   "outputs": [],
   "source": [
    "from shutil import rmtree\n",
    "\n",
    "vespa_docker.container.stop()\n",
    "vespa_docker.container.remove()\n",
    "rmtree(disk_folder, ignore_errors=True)"
   ]
  }
 ],
 "metadata": {
  "kernelspec": {
   "display_name": "Python 3 (ipykernel)",
   "language": "python",
   "name": "python3"
  },
  "language_info": {
   "codemirror_mode": {
    "name": "ipython",
    "version": 3
   },
   "file_extension": ".py",
   "mimetype": "text/x-python",
   "name": "python",
   "nbconvert_exporter": "python",
   "pygments_lexer": "ipython3",
   "version": "3.9.9"
  }
 },
 "nbformat": 4,
 "nbformat_minor": 5
}
