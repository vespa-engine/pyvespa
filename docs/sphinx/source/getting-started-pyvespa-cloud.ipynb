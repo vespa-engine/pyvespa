{
 "cells": [
  {
   "cell_type": "markdown",
   "id": "given-adoption",
   "metadata": {
    "pycharm": {
     "name": "#%% md\n"
    }
   },
   "source": [
    "![Vespa Cloud logo](https://cloud.vespa.ai/assets/logos/vespa-cloud-logo-full-black.png)\n",
    "\n",
    "# Hybrid Search - Quickstart on Vespa Cloud\n",
    "\n",
    "This is the same guide as [getting-started-pyvespa](https://pyvespa.readthedocs.io/en/latest/getting-started-pyvespa.html), deploying to Vespa Cloud."
   ]
  },
  {
   "cell_type": "markdown",
   "id": "4f8c1448",
   "metadata": {},
   "source": [
    "<div class=\"alert alert-info\">\n",
    "    Refer to <a href=\"https://pyvespa.readthedocs.io/en/latest/troubleshooting.html\">troubleshooting</a>\n",
    "    for any problem when running this guide.\n",
    "</div>"
   ]
  },
  {
   "cell_type": "markdown",
   "id": "148d275b",
   "metadata": {},
   "source": [
    "Pre-requisite: Create a tenant at [cloud.vespa.ai](https://cloud.vespa.ai/), save the tenant name.\n",
    "\n",
    "[![Open In Colab](https://colab.research.google.com/assets/colab-badge.svg)](https://colab.research.google.com/github/vespa-engine/pyvespa/blob/master/docs/sphinx/source/getting-started-pyvespa-cloud.ipynb)"
   ]
  },
  {
   "cell_type": "markdown",
   "id": "366b0d83",
   "metadata": {},
   "source": [
    "## Install\n",
    "\n",
    "Install [pyvespa](https://pyvespa.readthedocs.io/) >= 0.38\n",
    "and the [Vespa CLI](https://docs.vespa.ai/en/vespa-cli.html).\n",
    "The Vespa CLI is used for data and control plane key management ([Vespa Cloud Security Guide](https://cloud.vespa.ai/en/security/guide))."
   ]
  },
  {
   "cell_type": "code",
   "execution_count": 1,
   "id": "136750de",
   "metadata": {},
   "outputs": [],
   "source": [
    "!pip3 install pyvespa"
   ]
  },
  {
   "cell_type": "markdown",
   "id": "e40f15be",
   "metadata": {},
   "source": [
    "Install the Vespa CLI using homebrew:"
   ]
  },
  {
   "cell_type": "code",
   "execution_count": 1,
   "id": "7a3e88d8",
   "metadata": {},
   "outputs": [],
   "source": [
    "!brew install vespa-cli"
   ]
  },
  {
   "cell_type": "markdown",
   "id": "fbed21b0",
   "metadata": {},
   "source": [
    "Alternatively, if running in Colab, download the Vespa CLI from GitHub:"
   ]
  },
  {
   "cell_type": "code",
   "execution_count": 1,
   "id": "b4f3e5d5",
   "metadata": {},
   "outputs": [],
   "source": [
    "import os\n",
    "import requests\n",
    "res = requests.get(url=\"https://api.github.com/repos/vespa-engine/vespa/releases/latest\").json()\n",
    "os.environ[\"VERSION\"] = res[\"tag_name\"].replace(\"v\", \"\")\n",
    "!curl -fsSL https://github.com/vespa-engine/vespa/releases/download/v${VERSION}/vespa-cli_${VERSION}_linux_amd64.tar.gz | tar -zxf -\n",
    "!ln -sf /content/vespa-cli_${VERSION}_linux_amd64/bin/vespa /bin/vespa"
   ]
  },
  {
   "cell_type": "markdown",
   "id": "02f706ff",
   "metadata": {},
   "source": [
    "## Configure data-plane security\n",
    "\n",
    "Create Vespa Cloud data-plane mTLS cert/key-pair. This mutual certificate pair is used to talk to your Vespa cloud endpoints. \n",
    "See [Vespa Cloud Security Guide](https://cloud.vespa.ai/en/security/guide).\n",
    "\n",
    "\n",
    "We save the paths to the credentials, for later dataplane access without using pyvespa APIs - see example at the end of this notebook."
   ]
  },
  {
   "cell_type": "code",
   "execution_count": 1,
   "id": "9ca4da83",
   "metadata": {},
   "outputs": [],
   "source": [
    "import os\n",
    "\n",
    "os.environ[\"TENANT_NAME\"] = \"vespa-team\" #Replace with your tenant name\n",
    "application = \"hybridsearch\"\n",
    "vespa_cli_command = f'vespa config set application {os.environ[\"TENANT_NAME\"]}.{application}'\n",
    "\n",
    "!vespa config set target cloud\n",
    "!{vespa_cli_command}\n",
    "!vespa auth cert -N "
   ]
  },
  {
   "cell_type": "code",
   "execution_count": 1,
   "id": "64da11f2",
   "metadata": {},
   "outputs": [],
   "source": [
    "from os.path import exists\n",
    "from pathlib import Path\n",
    "\n",
    "cert_path = Path.home() / \".vespa\" / f\"{os.environ['TENANT_NAME']}.{application}.default/data-plane-public-cert.pem\"\n",
    "key_path = Path.home() / \".vespa\" / f\"{os.environ['TENANT_NAME']}.{application}.default/data-plane-private-key.pem\"\n",
    "\n",
    "if not exists(cert_path) or not exists(key_path):\n",
    "    print(\"ERROR: set the correct paths to security credentials. Correct paths above and rerun until you do not see this error\")"
   ]
  },
  {
   "cell_type": "markdown",
   "id": "d4f064e2",
   "metadata": {},
   "source": [
    "Note that the subsequent deploy-call below will add `data-plane-public-cert.pem` to the application before deploying it to Vespa Cloud, so that\n",
    "you have access to both the private key and the public certificate, while Vespa Cloud only knows the public certificate. \n",
    "\n",
    "## Configure control-plane security \n",
    "\n",
    "Authenticate to generate a tenant level control-plane API key for deploying the applications to Vespa Cloud, and save the path to it. \n",
    "<div style=\"background-color: #ffcc00; padding: 10px; border: 1px solid #ff9900; font-weight: bold;\">\n",
    "    <strong>Warning:</strong>The generated tenant api key must be added in the Vespa Console before attempting to deploy the application.\n",
    "</div>\n",
    "\n",
    "The following step will print the following message: \n",
    "\n",
    "```\n",
    "To use this key in Vespa Cloud click 'Add custom key' at\n",
    "https://console.vespa-cloud.com/tenant/TENANT_NAME/account/keys\n",
    "and paste the entire public key including the BEGIN and END lines.\n",
    "```"
   ]
  },
  {
   "cell_type": "code",
   "execution_count": 1,
   "id": "1346ad93",
   "metadata": {},
   "outputs": [],
   "source": [
    "!vespa auth api-key\n",
    "\n",
    "from pathlib import Path\n",
    "api_key_path = Path.home() / \".vespa\" / f\"{os.environ['TENANT_NAME']}.api-key.pem\""
   ]
  },
  {
   "cell_type": "markdown",
   "id": "99e82a48",
   "metadata": {},
   "source": [
    "Follow the instrauctions from the output above and add the control-plane key in the console at `https://console.vespa-cloud.com/tenant/TENANT_NAME/account/keys`\n",
    "(replace TENANT_NAME with your tenant name)."
   ]
  },
  {
   "cell_type": "markdown",
   "id": "db637322",
   "metadata": {},
   "source": [
    "## Create an application package\n",
    "\n",
    "The [application package](https://pyvespa.readthedocs.io/en/latest/reference-api.html#vespa.package.ApplicationPackage)\n",
    "has all the Vespa configuration files -\n",
    "create one from scratch:"
   ]
  },
  {
   "cell_type": "code",
   "execution_count": 1,
   "id": "bd5c2629",
   "metadata": {},
   "outputs": [],
   "source": [
    "from vespa.package import ApplicationPackage, Field, Schema, Document, RankProfile, HNSW, RankProfile, Component, Parameter, FieldSet, GlobalPhaseRanking, Function\n",
    "\n",
    "package = ApplicationPackage(\n",
    "        name=application,\n",
    "        schema=[Schema(\n",
    "            name=\"doc\",\n",
    "            document=Document(\n",
    "                fields=[\n",
    "                    Field(name=\"id\", type=\"string\", indexing=[\"summary\"]),\n",
    "                    Field(name=\"title\", type=\"string\", indexing=[\"index\", \"summary\"], index=\"enable-bm25\"),\n",
    "                    Field(name=\"body\", type=\"string\", indexing=[\"index\", \"summary\"], index=\"enable-bm25\", bolding=True),\n",
    "                    Field(name=\"embedding\", type=\"tensor<float>(x[384])\",\n",
    "                        indexing=[\"input title . \\\" \\\" . input body\", \"embed\", \"index\", \"attribute\"],\n",
    "                        ann=HNSW(distance_metric=\"angular\"),\n",
    "                        is_document_field=False\n",
    "                    )\n",
    "                ]\n",
    "            ),\n",
    "            fieldsets=[\n",
    "                FieldSet(name = \"default\", fields = [\"title\", \"body\"])\n",
    "            ],\n",
    "            rank_profiles=[\n",
    "                RankProfile(\n",
    "                    name=\"bm25\", \n",
    "                    inputs=[(\"query(q)\", \"tensor<float>(x[384])\")],\n",
    "                    functions=[Function(\n",
    "                        name=\"bm25sum\", expression=\"bm25(title) + bm25(body)\"\n",
    "                    )],\n",
    "                    first_phase=\"bm25sum\"\n",
    "                ),\n",
    "                RankProfile(\n",
    "                    name=\"semantic\", \n",
    "                    inputs=[(\"query(q)\", \"tensor<float>(x[384])\")],\n",
    "                    first_phase=\"closeness(field, embedding)\"\n",
    "                ),\n",
    "                RankProfile(\n",
    "                    name=\"fusion\", \n",
    "                    inherits=\"bm25\",\n",
    "                    inputs=[(\"query(q)\", \"tensor<float>(x[384])\")],\n",
    "                    first_phase=\"closeness(field, embedding)\",\n",
    "                    global_phase=GlobalPhaseRanking(\n",
    "                        expression=\"reciprocal_rank_fusion(bm25sum, closeness(field, embedding))\",\n",
    "                        rerank_count=1000\n",
    "                    )\n",
    "                )\n",
    "            ]\n",
    "        )\n",
    "        ],\n",
    "        components=[Component(id=\"e5\", type=\"hugging-face-embedder\",\n",
    "            parameters=[\n",
    "                Parameter(\"transformer-model\", {\"url\": \"https://github.com/vespa-engine/sample-apps/raw/master/simple-semantic-search/model/e5-small-v2-int8.onnx\"}),\n",
    "                Parameter(\"tokenizer-model\", {\"url\": \"https://raw.githubusercontent.com/vespa-engine/sample-apps/master/simple-semantic-search/model/tokenizer.json\"})\n",
    "            ]\n",
    "        )]\n",
    "    ) "
   ]
  },
  {
   "cell_type": "markdown",
   "id": "2c5e2943",
   "metadata": {},
   "source": [
    "Note that the name cannot have `-` or `_`."
   ]
  },
  {
   "cell_type": "markdown",
   "id": "careful-savage",
   "metadata": {},
   "source": [
    "## Deploy to Vespa Cloud\n",
    "\n",
    "The app is now defined and ready to deploy to Vespa Cloud. \n",
    "\n",
    "Deploy `package` to Vespa Cloud, by creating an instance of\n",
    "[VespaCloud](https://pyvespa.readthedocs.io/en/latest/reference-api.html#vespa.deployment.VespaCloud):"
   ]
  },
  {
   "cell_type": "code",
   "execution_count": 1,
   "id": "canadian-blood",
   "metadata": {},
   "outputs": [],
   "source": [
    "from vespa.deployment import VespaCloud\n",
    "\n",
    "def read_secret():\n",
    "    \"\"\"Read the API key from the environment variable. This is \n",
    "    only used for CI/CD purposes.\"\"\"\n",
    "    t = os.getenv(\"VESPA_TEAM_API_KEY\")\n",
    "    if t:\n",
    "        return t.replace(r\"\\n\", \"\\n\")\n",
    "    else:\n",
    "        return t\n",
    "\n",
    "vespa_cloud = VespaCloud(\n",
    "    tenant=os.environ[\"TENANT_NAME\"],\n",
    "    application=application,\n",
    "    key_content=read_secret() if read_secret() else None,\n",
    "    key_location=api_key_path,\n",
    "    application_package=package)"
   ]
  },
  {
   "cell_type": "markdown",
   "id": "197c0a27",
   "metadata": {},
   "source": [
    "The following will upload the application package to Vespa Cloud Dev Zone (`aws-us-east-1c`), read more about [Vespa Zones](https://cloud.vespa.ai/en/reference/zones.html). PyVespa\n",
    "currently only supports deploying to the Vespa Cloud Dev Zone, which is considered as a sandbox environment where resources are down-scaled and\n",
    "idle deployments are expired automatically. \n",
    "\n",
    ">Note: Deployments to dev and perf expire after 7 days of inactivity, i.e., 7 days after running deploy. This applies to all plans, not only the Free Trial. Use the Vespa Console to extend the expiry period, or redeploy the application to add 7 more days."
   ]
  },
  {
   "cell_type": "code",
   "execution_count": 1,
   "id": "337d9b05",
   "metadata": {},
   "outputs": [],
   "source": [
    "app = vespa_cloud.deploy()"
   ]
  },
  {
   "cell_type": "markdown",
   "id": "aaae2f91",
   "metadata": {},
   "source": [
    "If the deployment failed, it is possible you forgot to add the key in the Vespa Cloud Console in the `vespa auth api-key` step above.\n",
    "\n",
    "If you can authenticate, you should see lines like the following\n",
    "\n",
    "```\n",
    " Deployment started in run 1 of dev-aws-us-east-1c for mytenant.hybridsearch. \n",
    "```\n",
    "\n",
    "The deployment takes a few minutes the first time while Vespa Cloud sets up the resources for your Vespa application\n",
    "\n",
    "`app` now holds a reference to a [Vespa](https://pyvespa.readthedocs.io/en/latest/reference-api.html#vespa.application.Vespa) instance. We can access the\n",
    "mTLS protected endpoint name using the control-plane (vespa_cloud) instance. This endpoint we can query and feed to (data plane access) using the\n",
    "mTLS certificate generated in previous steps. "
   ]
  },
  {
   "cell_type": "code",
   "execution_count": 1,
   "id": "afa0d69d",
   "metadata": {},
   "outputs": [],
   "source": [
    "endpoint = vespa_cloud.get_mtls_endpoint()\n",
    "endpoint"
   ]
  },
  {
   "cell_type": "markdown",
   "id": "sealed-mustang",
   "metadata": {},
   "source": [
    "### Feeding documents to Vespa\n",
    "\n",
    "In this example we use the [HF Datasets](https://huggingface.co/docs/datasets/index) library to stream the\n",
    "[BeIR/nfcorpus](https://huggingface.co/datasets/BeIR/nfcorpus) dataset and index in our newly deployed Vespa instance. Read\n",
    "more about the [NFCorpus](https://www.cl.uni-heidelberg.de/statnlpgroup/nfcorpus/):\n",
    "\n",
    ">NFCorpus is a full-text English retrieval data set for Medical Information Retrieval. \n",
    "\n",
    "The following uses the [stream](https://huggingface.co/docs/datasets/stream) option of datasets to stream the data without\n",
    "downloading all the contents locally. The `map` functionality allows us to convert the\n",
    "dataset fields into the expected feed format for `pyvespa` which expects a dict with the keys `id` and `fields`:\n",
    "\n",
    "` { \"id\": \"vespa-document-id\", \"fields\": {\"vespa_field\": \"vespa-field-value\"}} `"
   ]
  },
  {
   "cell_type": "code",
   "execution_count": 1,
   "id": "executed-reservoir",
   "metadata": {},
   "outputs": [],
   "source": [
    "from datasets import load_dataset\n",
    "\n",
    "dataset = load_dataset(\"BeIR/nfcorpus\", \"corpus\", split=\"corpus\", streaming=True)\n",
    "vespa_feed = dataset.map(lambda x: {\"id\": x[\"_id\"], \"fields\": { \"title\": x[\"title\"], \"body\": x[\"text\"], \"id\": x[\"_id\"]}})"
   ]
  },
  {
   "cell_type": "markdown",
   "id": "4f0ca33f",
   "metadata": {},
   "source": [
    "Now we can feed to Vespa using `feed_iterable` which accepts any `Iterable` and an optional callback function where we can\n",
    "check the outcome of each operation. The application is configured to use [embedding](https://docs.vespa.ai/en/embedding.html)\n",
    "functionality, that produce a vector embedding using a concatenation of the title and the body input fields. This step is resource intensive. \n",
    "\n",
    "Read more about embedding inference in Vespa in the [Accelerating Transformer-based Embedding Retrieval with Vespa](https://blog.vespa.ai/accelerating-transformer-based-embedding-retrieval-with-vespa/)\n",
    "blog post.\n",
    "\n",
    "Default node resources in Vespa Cloud have 2 v-cpu for the Dev Zone."
   ]
  },
  {
   "cell_type": "code",
   "execution_count": 1,
   "id": "bottom-memorabilia",
   "metadata": {},
   "outputs": [],
   "source": [
    "from vespa.io import VespaResponse, VespaQueryResponse\n",
    "\n",
    "def callback(response:VespaResponse, id:str):\n",
    "    if not response.is_successful():\n",
    "        print(f\"Error when feeding document {id}: {response.get_json()}\")\n",
    "\n",
    "app.feed_iterable(vespa_feed, schema=\"doc\", namespace=\"tutorial\", callback=callback)"
   ]
  },
  {
   "cell_type": "markdown",
   "id": "separated-insertion",
   "metadata": {},
   "source": [
    "## Querying Vespa\n",
    "\n",
    "Using the [Vespa Query language](https://docs.vespa.ai/en/query-language.html) we can query the indexed data. \n",
    "\n",
    "- Using a context manager `with app.syncio() as session` to handle connection pooling ([best practices](https://cloud.vespa.ai/en/http-best-practices))\n",
    "- The query method accepts any valid Vespa [query api parameter](https://docs.vespa.ai/en/reference/query-api-reference.html) in `**kwargs`\n",
    "- Vespa api parameter names that contains `.` must be sent as `dict` parameters in the `body` method argument\n",
    "\n",
    "The following searches for `How Fruits and Vegetables Can Treat Asthma?` using different retrieval and [ranking](https://docs.vespa.ai/en/ranking.html) strategies.\n",
    "\n",
    "Query the text search app using the [Vespa Query language](https://docs.vespa.ai/en/query-language.html)\n",
    "by sending the parameters to the body argument of\n",
    "[Vespa.query](https://pyvespa.readthedocs.io/en/latest/reference-api.html#vespa.application.Vespa.query). \n",
    "\n",
    "First we define a simple routine that will return a dataframe of the results for prettier display in the notebook. "
   ]
  },
  {
   "cell_type": "code",
   "execution_count": 1,
   "id": "82b5f6fe",
   "metadata": {},
   "outputs": [],
   "source": [
    "import pandas as pd\n",
    "def display_hits_as_df(response:VespaQueryResponse, fields) -> pd.DataFrame:\n",
    "    records = []\n",
    "    for hit in response.hits:\n",
    "        record = {}\n",
    "        for field in fields:\n",
    "            record[field] = hit['fields'][field]\n",
    "        records.append(record)\n",
    "    return pd.DataFrame(records)    "
   ]
  },
  {
   "cell_type": "markdown",
   "id": "7daa47df",
   "metadata": {},
   "source": [
    "### Plain Keyword search \n",
    "The following uses plain keyword search functionality with [bm25](https://docs.vespa.ai/en/reference/bm25.html) ranking, the `bm25` rank-profile was configured in the \n",
    "application package to use a linear combination of the bm25 score of the query terms against the title and the body field. \n"
   ]
  },
  {
   "cell_type": "code",
   "execution_count": 1,
   "id": "bc32d29b",
   "metadata": {},
   "outputs": [],
   "source": [
    "with app.syncio(connections=1) as session:\n",
    "  query = \"How Fruits and Vegetables Can Treat Asthma?\"\n",
    "  response:VespaQueryResponse = session.query(\n",
    "    yql=\"select * from sources * where userQuery() limit 5\", \n",
    "    query=query, \n",
    "    ranking=\"bm25\"\n",
    "  )\n",
    "  assert(response.is_successful())\n",
    "  print(display_hits_as_df(response, [\"id\", \"title\"]))"
   ]
  },
  {
   "cell_type": "markdown",
   "id": "9aef8aa8",
   "metadata": {},
   "source": [
    "### Plain Semantic Search \n",
    "The following uses dense vector representations of the query and the document and matching is performed and accelerated by Vespa's support for\n",
    "[approximate nearest neighbor search](https://docs.vespa.ai/en/approximate-nn-hnsw.html). \n",
    "The vector embedding representation of the text is obtained using Vespa's [embedder functionality](https://docs.vespa.ai/en/embedding.html#embedding-a-query-text).\n"
   ]
  },
  {
   "cell_type": "code",
   "execution_count": 1,
   "id": "b32d70ae",
   "metadata": {},
   "outputs": [],
   "source": [
    "with app.syncio(connections=1) as session:\n",
    "  query = \"How Fruits and Vegetables Can Treat Asthma?\"\n",
    "  response:VespaQueryResponse = session.query(\n",
    "    yql=\"select * from sources * where ({targetHits:5}nearestNeighbor(embedding,q)) limit 5\", \n",
    "    query=query, \n",
    "    ranking=\"semantic\", \n",
    "    body = {\n",
    "      \"input.query(q)\": f\"embed({query})\"\n",
    "    }\n",
    "  )\n",
    "  assert(response.is_successful())\n",
    "  print(display_hits_as_df(response, [\"id\", \"title\"]))"
   ]
  },
  {
   "cell_type": "markdown",
   "id": "762e40eb",
   "metadata": {},
   "source": [
    "### Hybrid Search\n",
    "\n",
    "This is one approach to combine the two retrieval strategies and where we use Vespa's support for \n",
    "[cross-hits feature normalization and reciprocal rank fusion](https://docs.vespa.ai/en/phased-ranking.html#cross-hit-normalization-including-reciprocal-rank-fusion). This\n",
    "functionality is exposed in the context of `global` re-ranking, after the distributed query retrieval execution which might span 1000s of nodes. \n",
    "\n",
    "#### Hybrid search with the OR query operator\n",
    "\n",
    "This combines the two methods using logical disjunction (OR). Note that the first-phase expression in our `fusion` expression is only using the semantic score, this \n",
    "because usually semantic search provides better recall than sparse keyword search alone. "
   ]
  },
  {
   "cell_type": "code",
   "execution_count": 1,
   "id": "11faeacf",
   "metadata": {},
   "outputs": [],
   "source": [
    "with app.syncio(connections=1) as session:\n",
    "  query = \"How Fruits and Vegetables Can Treat Asthma?\"\n",
    "  response:VespaQueryResponse = session.query(\n",
    "    yql=\"select * from sources * where userQuery() or ({targetHits:1000}nearestNeighbor(embedding,q)) limit 5\", \n",
    "    query=query, \n",
    "    ranking=\"fusion\", \n",
    "    body = {\n",
    "      \"input.query(q)\": f\"embed({query})\"\n",
    "    }\n",
    "  )\n",
    "  assert(response.is_successful())\n",
    "  print(display_hits_as_df(response, [\"id\", \"title\"]))"
   ]
  },
  {
   "cell_type": "markdown",
   "id": "8d811509",
   "metadata": {},
   "source": [
    "#### Hybrid search with the RANK query operator\n",
    "\n",
    "This combines the two methods using the [rank](https://docs.vespa.ai/en/reference/query-language-reference.html#rank) query operator. In this case\n",
    "we express that we want to retrieve the top-1000 documents using vector search, and then have sparse features like BM25 calculated as well (second operand \n",
    "of the rank operator). Finally the hits are re-ranked using the reciprocal rank fusion\n"
   ]
  },
  {
   "cell_type": "code",
   "execution_count": 1,
   "id": "13fe1ef0",
   "metadata": {},
   "outputs": [],
   "source": [
    "with app.syncio(connections=1) as session:\n",
    "  query = \"How Fruits and Vegetables Can Treat Asthma?\"\n",
    "  response:VespaQueryResponse = session.query(\n",
    "    yql=\"select * from sources * where rank({targetHits:1000}nearestNeighbor(embedding,q), userQuery()) limit 5\", \n",
    "    query=query, \n",
    "    ranking=\"fusion\", \n",
    "    body = {\n",
    "      \"input.query(q)\": f\"embed({query})\"\n",
    "    }\n",
    "  )\n",
    "  assert(response.is_successful())\n",
    "  print(display_hits_as_df(response, [\"id\", \"title\"]))"
   ]
  },
  {
   "cell_type": "markdown",
   "id": "b544ef07",
   "metadata": {},
   "source": [
    "#### Hybrid search with filters\n",
    "\n",
    "In this example we add another query term to the yql, restricting the nearest neighbor search to only consider documents that have vegetable in the title."
   ]
  },
  {
   "cell_type": "code",
   "execution_count": 1,
   "id": "36c96921",
   "metadata": {},
   "outputs": [],
   "source": [
    "with app.syncio(connections=1) as session:\n",
    "  query = \"How Fruits and Vegetables Can Treat Asthma?\"\n",
    "  response:VespaQueryResponse = session.query(\n",
    "    yql=\"select * from sources * where title contains \\\"vegetable\\\" and rank({targetHits:1000}nearestNeighbor(embedding,q), userQuery()) limit 5\", \n",
    "    query=query, \n",
    "    ranking=\"fusion\", \n",
    "    body = {\n",
    "      \"input.query(q)\": f\"embed({query})\"\n",
    "    }\n",
    "  )\n",
    "  assert(response.is_successful())\n",
    "  print(display_hits_as_df(response, [\"id\", \"title\"]))"
   ]
  },
  {
   "cell_type": "markdown",
   "id": "d1872b31",
   "metadata": {},
   "source": [
    "## Next steps\n",
    "\n",
    "This is just an intro into the capabilities of Vespa and pyvespa.\n",
    "Browse the site to learn more about schemas, feeding and queries - \n",
    "find more complex applications in\n",
    "[examples](https://pyvespa.readthedocs.io/en/latest/examples.html)."
   ]
  },
  {
   "cell_type": "markdown",
   "id": "89400281",
   "metadata": {},
   "source": [
    "## Example: Document operations using cert/key pair\n",
    "\n",
    "Above, we deployed to Vespa Cloud, and as part of that, generated a data-plane mTLS cert/key pair.\n",
    "\n",
    "This pair can be used to access the dataplane for reads/writes to documents and running queries from many different clients. The following\n",
    "demonstrates that using the `requests` library."
   ]
  },
  {
   "cell_type": "markdown",
   "id": "562ac505",
   "metadata": {},
   "source": [
    "Set up a dataplane connection using the cert/key pair:"
   ]
  },
  {
   "cell_type": "code",
   "execution_count": 1,
   "id": "ff72148c",
   "metadata": {},
   "outputs": [],
   "source": [
    "import requests\n",
    "\n",
    "session = requests.Session()\n",
    "session.cert = (cert_path, key_path)"
   ]
  },
  {
   "cell_type": "markdown",
   "id": "7b69ff0d",
   "metadata": {},
   "source": [
    "Get a document from the endpoint returned when we deployed to Vespa Cloud above. PyVespa wraps the Vespa [document api](https://docs.vespa.ai/en/document-v1-api-guide.html)\n",
    "internally and in these examples we use the document api directly, but with the mTLS key/cert pair we used when deploying the app."
   ]
  },
  {
   "cell_type": "code",
   "execution_count": 1,
   "id": "79f7d12c",
   "metadata": {},
   "outputs": [],
   "source": [
    "\n",
    "url = \"{0}/document/v1/{1}/{2}/docid/{3}\".format(endpoint, \"tutorial\", \"doc\", \"MED-10\")\n",
    "doc = session.get(url).json()\n",
    "doc"
   ]
  },
  {
   "cell_type": "markdown",
   "id": "82888987",
   "metadata": {},
   "source": [
    "Update the title and post the new version:"
   ]
  },
  {
   "cell_type": "code",
   "execution_count": 1,
   "id": "21c7c399",
   "metadata": {},
   "outputs": [],
   "source": [
    "doc[\"fields\"][\"title\"] = \"Can you eat lobster?\"\n",
    "response = session.post(url, json=doc).json()\n",
    "response"
   ]
  },
  {
   "cell_type": "markdown",
   "id": "68ae7225",
   "metadata": {},
   "source": [
    "Get the doc again to see the new title:"
   ]
  },
  {
   "cell_type": "code",
   "execution_count": 1,
   "id": "2e3d560b",
   "metadata": {},
   "outputs": [],
   "source": [
    "doc = session.get(url).json()\n",
    "doc"
   ]
  },
  {
   "cell_type": "markdown",
   "id": "e2480213",
   "metadata": {},
   "source": [
    "## Example: Reconnect pyvespa using cert/key pair\n",
    "\n",
    "Above, we stored the dataplane credentials for later use. Deployment of an application usually happens when the schema changes, whereas accessing the dataplane is for document updates and user queries.\n",
    "\n",
    "One only needs to know the endpoint and the cert/key pair to enable a connection to a Vespa Cloud application:"
   ]
  },
  {
   "cell_type": "code",
   "execution_count": 1,
   "id": "c87da6cf",
   "metadata": {},
   "outputs": [],
   "source": [
    "# cert_path = \"/Users/me/.vespa/mytenant.hybridsearch.default/data-plane-public-cert.pem\"\n",
    "# key_path  = \"/Users/me/.vespa/mytenant.hybridsearch.default/data-plane-private-key.pem\"\n",
    "\n",
    "from vespa.application import Vespa\n",
    "\n",
    "the_app = Vespa(endpoint, cert=cert_path, key=key_path)\n",
    "\n",
    "res = the_app.query(yql='select documentid, id, title from sources * where userQuery()', query=\"Can you eat lobster?\", ranking=\"bm25\")\n",
    "res.hits[0]"
   ]
  },
  {
   "cell_type": "markdown",
   "id": "183bff2b",
   "metadata": {},
   "source": [
    "A common problem is a cert mismatch - the cert/key pair used when deployed is different than the pair used when making requests against Vespa. This\n",
    "will cause 40x errors. \n",
    "\n",
    "Make sure it is the same pair / re-create with `vespa auth cert -f` AND redeploy. \n",
    "\n",
    "If you re-generate a mTLS certificate pair, and use that when connecting to Vespa cloud endpoint, it will fail until you have updaded the deployment with the new public certificate.\n",
    "\n",
    "\n",
    "### Delete application\n",
    "The following will delete the application and data from the dev environment. "
   ]
  },
  {
   "cell_type": "code",
   "execution_count": 1,
   "id": "66354a53",
   "metadata": {},
   "outputs": [],
   "source": [
    "vespa_cloud.delete()"
   ]
  }
 ],
 "metadata": {
  "kernelspec": {
   "display_name": "Python 3 (ipykernel)",
   "language": "python",
   "name": "python3"
  },
  "language_info": {
   "codemirror_mode": {
    "name": "ipython",
    "version": 3
   },
   "file_extension": ".py",
   "mimetype": "text/x-python",
   "name": "python",
   "nbconvert_exporter": "python",
   "pygments_lexer": "ipython3",
   "version": "3.11.4"
  },
  "nbsphinx": {
   "allow_errors": true
  },
  "vscode": {
   "interpreter": {
    "hash": "b0fa6594d8f4cbf19f97940f81e996739fb7646882a419484c72d19e05852a7e"
   }
  }
 },
 "nbformat": 4,
 "nbformat_minor": 5
}
