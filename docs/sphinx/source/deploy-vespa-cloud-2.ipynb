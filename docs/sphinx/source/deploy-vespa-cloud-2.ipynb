{
 "cells": [
  {
   "cell_type": "markdown",
   "id": "df78d131-fd59-49b7-a9e2-56a73456be7d",
   "metadata": {},
   "source": [
    "# Deploy to Vespa Cloud\n",
    "\n",
    "![Vespa Cloud logo](https://cloud.vespa.ai/assets/logos/vespa-cloud-logo-full-black.png)\n",
    "\n",
    "This notebook deploys a Vespa.ai sample application to Vespa Cloud using pyvespa.\n",
    "The [Vespa CLI](https://docs.vespa.ai/en/vespa-cli.html) is used for managing security credentials.\n",
    "\n",
    "See pyvespa, and jupyter notebooks [requirements](https://pyvespa.readthedocs.io/en/latest/index.html#requirements)\n",
    "to run this notebook.\n",
    "\n",
    "Refer to the [sample apps](https://github.com/vespa-engine/sample-apps) site for more applications.\n",
    "\n",
    "[![Open In Colab](https://colab.research.google.com/assets/colab-badge.svg)](https://colab.research.google.com/github/vespa-engine/pyvespa/blob/master/docs/sphinx/source/deploy-vespa-cloud.ipynb)"
   ]
  },
  {
   "cell_type": "markdown",
   "id": "2a5a527f-67dd-4728-8e3e-1b6a25b10bc6",
   "metadata": {},
   "source": [
    "## Install pyvespa and the Vespa CLI"
   ]
  },
  {
   "cell_type": "code",
   "execution_count": null,
   "id": "2309f627-8116-4047-8d6c-75d681e54861",
   "metadata": {},
   "outputs": [],
   "source": [
    "!pip install pyvespa"
   ]
  },
  {
   "cell_type": "markdown",
   "id": "735c7d18-e1b9-4f55-bd2b-290481957a5b",
   "metadata": {},
   "source": [
    "If homebrew is installed, install the Vespa CLI:"
   ]
  },
  {
   "cell_type": "code",
   "execution_count": null,
   "id": "00abb80f-b748-460c-b552-4d84c2583e20",
   "metadata": {},
   "outputs": [],
   "source": [
    "!brew install vespa-cli"
   ]
  },
  {
   "cell_type": "markdown",
   "id": "5715d35c-e040-4774-ae80-08106fed8607",
   "metadata": {},
   "source": [
    "Alternatively, when running in Colab, install the Vespa CLI:"
   ]
  },
  {
   "cell_type": "code",
   "execution_count": null,
   "id": "6b001d74-8a06-4105-bbd5-a40a08831f62",
   "metadata": {},
   "outputs": [],
   "source": [
    "import os\n",
    "import requests\n",
    "res = requests.get(url=\"https://api.github.com/repos/vespa-engine/vespa/releases/latest\").json()\n",
    "os.environ[\"VERSION\"] = res[\"tag_name\"].replace(\"v\", \"\")\n",
    "!curl -fsSL https://github.com/vespa-engine/vespa/releases/download/v${VERSION}/vespa-cli_${VERSION}_linux_amd64.tar.gz | tar -zxf -\n",
    "!ln -sf /content/vespa-cli_${VERSION}_linux_amd64/bin/vespa /usr/local/bin/vespa"
   ]
  },
  {
   "cell_type": "markdown",
   "id": "322f3279-3aa5-40e9-a1cb-3f1ef9e6c0e2",
   "metadata": {},
   "source": [
    "## Create a Vespa Cloud tenant"
   ]
  },
  {
   "cell_type": "markdown",
   "id": "25d16cb4-540c-4720-8a8d-9dc450d5b48c",
   "metadata": {},
   "source": [
    "Sign up and create a tenant: Run steps 1 and 2 in [getting started](https://cloud.vespa.ai/en/getting-started), then replace the tenant name below:"
   ]
  },
  {
   "cell_type": "code",
   "execution_count": null,
   "id": "aa6ba2a1-4f5f-4417-9c5e-840c84f0b4bd",
   "metadata": {},
   "outputs": [],
   "source": [
    "os.environ[\"TENANT_NAME\"] = \"tenant_name_here\""
   ]
  },
  {
   "cell_type": "markdown",
   "id": "cba238a0-b4c6-44bd-8196-adb51a01ca33",
   "metadata": {},
   "source": [
    "## Set up security credentials"
   ]
  },
  {
   "cell_type": "code",
   "execution_count": null,
   "id": "33cec8e2-b970-4135-8d9b-4eeb2ab1e698",
   "metadata": {},
   "outputs": [],
   "source": [
    "!vespa config set target cloud\n",
    "!vespa config set application ${TENANT_NAME}.myapp.default\n",
    "!vespa auth cert -N\n",
    "!vespa auth api-key"
   ]
  },
  {
   "cell_type": "code",
   "execution_count": null,
   "id": "04bb6399-060b-4d79-8935-43a6a3c8536a",
   "metadata": {},
   "outputs": [],
   "source": [
    "api_key_path = \"path_here\""
   ]
  },
  {
   "cell_type": "markdown",
   "id": "aaac8ae7-c236-4c93-b18a-a2d106ac7bbb",
   "metadata": {},
   "source": [
    "## Create an application package"
   ]
  },
  {
   "cell_type": "markdown",
   "id": "bacac03e-8963-46d9-a899-9fadd3eecfd2",
   "metadata": {},
   "source": [
    "An [application package](https://pyvespa.readthedocs.io/en/latest/use_cases/text_search/text-search-quick-start.html)\n",
    "is the application's configuration, like schema.\n",
    "Here, using a basic question answering app from the app gallery."
   ]
  },
  {
   "cell_type": "code",
   "execution_count": null,
   "id": "9810ffb7-e9cb-48ad-859d-feb71ee4e7ab",
   "metadata": {},
   "outputs": [],
   "source": [
    "from vespa.gallery import QuestionAnswering\n",
    "\n",
    "app = QuestionAnswering()"
   ]
  },
  {
   "cell_type": "markdown",
   "id": "7c8dcb36-1e9f-4219-9208-b47af45bd196",
   "metadata": {},
   "source": [
    "## Create a VespaCloud instance\n"
   ]
  },
  {
   "cell_type": "markdown",
   "id": "a8b2a9ad-a45d-4e58-90a7-9b9571417153",
   "metadata": {},
   "source": [
    "Refer to the [VespaCloud reference](reference-api.rst#vespacloud)."
   ]
  },
  {
   "cell_type": "code",
   "execution_count": null,
   "id": "b9ce6a57-c742-4be6-83cd-5bb98755fbf4",
   "metadata": {},
   "outputs": [],
   "source": [
    "from vespa.deployment import VespaCloud\n",
    "\n",
    "vespa_cloud = VespaCloud(\n",
    "    tenant=os.getenv(\"TENANT_NAME\"),\n",
    "    application=\"myapp\",\n",
    "    key_location=api_key_path,\n",
    "    application_package=app)"
   ]
  },
  {
   "cell_type": "markdown",
   "id": "92b0115a-2927-4aa7-a199-785fd936d24f",
   "metadata": {},
   "source": [
    "## Deploy to Vespa Cloud"
   ]
  },
  {
   "cell_type": "markdown",
   "id": "90f807fb-18f5-48e9-9563-d99e3d9e94b8",
   "metadata": {},
   "source": [
    "Refer to [tenants, applications and instances](https://cloud.vespa.ai/en/tenant-apps-instances) for details - here creating an instance named `default`:"
   ]
  },
  {
   "cell_type": "code",
   "execution_count": null,
   "id": "3d29cd78-01f3-4d8e-9f62-190471ea0a2a",
   "metadata": {},
   "outputs": [],
   "source": [
    "app = vespa_cloud.deploy(instance=\"default\")"
   ]
  },
  {
   "cell_type": "markdown",
   "id": "9075386a-82dd-4362-9bb7-42875d83c8e2",
   "metadata": {},
   "source": [
    "That is it, you can now interact with your deployed application through the `app` instance."
   ]
  }
 ],
 "metadata": {
  "kernelspec": {
   "display_name": "Python 3",
   "language": "python",
   "name": "python3"
  },
  "language_info": {
   "codemirror_mode": {
    "name": "ipython",
    "version": 3
   },
   "file_extension": ".py",
   "mimetype": "text/x-python",
   "name": "python",
   "nbconvert_exporter": "python",
   "pygments_lexer": "ipython3",
   "version": "3.9.13"
  }
 },
 "nbformat": 4,
 "nbformat_minor": 5
}
