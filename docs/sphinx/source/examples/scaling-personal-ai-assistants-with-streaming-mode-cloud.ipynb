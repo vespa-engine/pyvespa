{
 "cells": [
  {
   "cell_type": "markdown",
   "id": "b3ae8a2b",
   "metadata": {},
   "source": [
    "<picture>\n",
    "  <source media=\"(prefers-color-scheme: dark)\" srcset=\"https://vespa.ai/assets/vespa-ai-logo-heather.svg\">\n",
    "  <source media=\"(prefers-color-scheme: light)\" srcset=\"https://vespa.ai/assets/vespa-ai-logo-rock.svg\">\n",
    "  <img alt=\"#Vespa\" width=\"200\" src=\"https://vespa.ai/assets/vespa-ai-logo-rock.svg\" style=\"margin-bottom: 25px;\">\n",
    "</picture>\n",
    "\n",
    "# Building cost-efficient retrieval-augmented personal AI assistants\n",
    "\n",
    "This notebook demonstrates how to use [Vespa streaming mode](https://docs.vespa.ai/en/streaming-search.html) for cost-efficient retrieval for applications that\n",
    "store and retrieve personal data. You can read more about Vespa vector streaming search in these two blog posts:\n",
    "\n",
    "- [Announcing vector streaming search: AI assistants at scale without breaking the bank](https://blog.vespa.ai/announcing-vector-streaming-search/)\n",
    "- [Yahoo Mail turns to Vespa to do RAG at scale](https://blog.vespa.ai/yahoo-mail-turns-to-vespa-to-do-rag-at-scale/)\n",
    "\n",
    "## A summary of Vespa streaming mode\n",
    "\n",
    "Vespa’s streaming search solution lets you make the user id a part of the document ID so that Vespa can use it to co-locate the data of each user on a small set of nodes and the same chunk of disk.\n",
    "This allows you to do searches over a user’s data with low latency without keeping any user’s data in memory or paying the cost of managing indexes.\n",
    "\n",
    "- There is no accuracy drop for vector search as it uses exact vector search\n",
    "- Several orders of magnitude higher throughput (No expensive index builds to support approximate search)\n",
    "- Documents (including vector data) are disk-based.\n",
    "- Ultra-low memory requirements (fixed per document)\n",
    "\n",
    "This notebook connects a custom [LlamaIndex](https://docs.llamaindex.ai/)\n",
    "[Retriever](https://docs.llamaindex.ai/) with a [Vespa](https://vespa.ai/) app\n",
    "using streaming mode to retrieve personal data. The focus is on how to use the streaming mode feature.\n",
    "\n",
    "First, install dependencies:\n"
   ]
  },
  {
   "cell_type": "code",
   "execution_count": null,
   "id": "4ffa3cbe",
   "metadata": {},
   "outputs": [],
   "source": [
    "!pip3 install -U pyvespa llama-index"
   ]
  },
  {
   "cell_type": "markdown",
   "id": "be72e92e",
   "metadata": {},
   "source": [
    "## Synthetic Mail & Calendar Data\n",
    "\n",
    "There are few public email datasets because people care about their privacy, so this notebook uses synthetic data to examine how to use Vespa streaming mode. We create two generator functions that returns Python `dict`s with synthetic mail and calendar data.\n",
    "\n",
    "Notice that the dict has three keys:\n",
    "\n",
    "- `id`\n",
    "- `groupname`\n",
    "- `fields`\n",
    "\n",
    "This is the expected feed format for [PyVespa](https://pyvespa.readthedocs.io/en/latest/reads-writes.html) feed operations and\n",
    "where PyVespa will use these to build a Vespa [document v1 API](https://docs.vespa.ai/en/document-v1-api-guide.html) request(s). The `groupname` key is only to be\n",
    "used when using streaming mode.\n"
   ]
  },
  {
   "cell_type": "code",
   "execution_count": 2,
   "id": "76a69972",
   "metadata": {},
   "outputs": [],
   "source": [
    "from typing import List\n",
    "\n",
    "\n",
    "def synthetic_mail_data_generator() -> List[dict]:\n",
    "    synthetic_mails = [\n",
    "        {\n",
    "            \"id\": 1,\n",
    "            \"groupname\": \"bergum@vespa.ai\",\n",
    "            \"fields\": {\n",
    "                \"subject\": \"LlamaIndex news, 2023-11-14\",\n",
    "                \"to\": \"bergum@vespa.ai\",\n",
    "                \"body\": \"\"\"Hello Llama Friends 🦙 LlamaIndex is 1 year old this week! 🎉 To celebrate, we're taking a stroll down memory \n",
    "                    lane on our blog with twelve milestones from our first year. Be sure to check it out.\"\"\",\n",
    "                \"from\": \"news@llamaindex.ai\",\n",
    "                \"display_date\": \"2023-11-15T09:00:00Z\",\n",
    "            },\n",
    "        },\n",
    "        {\n",
    "            \"id\": 2,\n",
    "            \"groupname\": \"bergum@vespa.ai\",\n",
    "            \"fields\": {\n",
    "                \"subject\": \"Dentist Appointment Reminder\",\n",
    "                \"to\": \"bergum@vespa.ai\",\n",
    "                \"body\": \"Dear Jo Kristian ,\\nThis is a reminder for your upcoming dentist appointment on 2023-12-04 at 09:30. Please arrive 15 minutes early.\\nBest regards,\\nDr. Dentist\",\n",
    "                \"from\": \"dentist@dentist.no\",\n",
    "                \"display_date\": \"2023-11-15T15:30:00Z\",\n",
    "            },\n",
    "        },\n",
    "        {\n",
    "            \"id\": 1,\n",
    "            \"groupname\": \"giraffe@wildlife.ai\",\n",
    "            \"fields\": {\n",
    "                \"subject\": \"Wildlife Update: Giraffe Edition\",\n",
    "                \"to\": \"giraffe@wildlife.ai\",\n",
    "                \"body\": \"Dear Wildlife Enthusiasts 🦒, We're thrilled to share the latest insights into giraffe behavior in the wild. Join us on an adventure as we explore their natural habitat and learn more about these majestic creatures.\",\n",
    "                \"from\": \"updates@wildlife.ai\",\n",
    "                \"display_date\": \"2023-11-12T14:30:00Z\",\n",
    "            },\n",
    "        },\n",
    "        {\n",
    "            \"id\": 1,\n",
    "            \"groupname\": \"penguin@antarctica.ai\",\n",
    "            \"fields\": {\n",
    "                \"subject\": \"Antarctica Expedition: Penguin Chronicles\",\n",
    "                \"to\": \"penguin@antarctica.ai\",\n",
    "                \"body\": \"Greetings Explorers 🐧, Our team is embarking on an exciting expedition to Antarctica to study penguin colonies. Stay tuned for live updates and behind-the-scenes footage as we dive into the world of these fascinating birds.\",\n",
    "                \"from\": \"expedition@antarctica.ai\",\n",
    "                \"display_date\": \"2023-11-11T11:45:00Z\",\n",
    "            },\n",
    "        },\n",
    "        {\n",
    "            \"id\": 1,\n",
    "            \"groupname\": \"space@exploration.ai\",\n",
    "            \"fields\": {\n",
    "                \"subject\": \"Space Exploration News: November Edition\",\n",
    "                \"to\": \"space@exploration.ai\",\n",
    "                \"body\": \"Hello Space Enthusiasts 🚀, Join us as we highlight the latest discoveries and breakthroughs in space exploration. From distant galaxies to new technologies, there's a lot to explore!\",\n",
    "                \"from\": \"news@exploration.ai\",\n",
    "                \"display_date\": \"2023-11-01T16:20:00Z\",\n",
    "            },\n",
    "        },\n",
    "        {\n",
    "            \"id\": 1,\n",
    "            \"groupname\": \"ocean@discovery.ai\",\n",
    "            \"fields\": {\n",
    "                \"subject\": \"Ocean Discovery: Hidden Treasures Unveiled\",\n",
    "                \"to\": \"ocean@discovery.ai\",\n",
    "                \"body\": \"Dear Ocean Explorers 🌊, Dive deep into the secrets of the ocean with our latest discoveries. From undiscovered species to underwater landscapes, our team is uncovering the wonders of the deep blue.\",\n",
    "                \"from\": \"discovery@ocean.ai\",\n",
    "                \"display_date\": \"2023-10-01T10:15:00Z\",\n",
    "            },\n",
    "        },\n",
    "    ]\n",
    "    for mail in synthetic_mails:\n",
    "        yield mail"
   ]
  },
  {
   "cell_type": "code",
   "execution_count": 3,
   "id": "e79e093b",
   "metadata": {},
   "outputs": [],
   "source": [
    "from typing import List\n",
    "\n",
    "\n",
    "def synthetic_calendar_data_generator() -> List[dict]:\n",
    "    calendar_data = [\n",
    "        {\n",
    "            \"id\": 1,\n",
    "            \"groupname\": \"bergum@vespa.ai\",\n",
    "            \"fields\": {\n",
    "                \"subject\": \"Dentist Appointment\",\n",
    "                \"to\": \"bergum@vespa.ai\",\n",
    "                \"body\": \"Dentist appointment at 2023-12-04 at 09:30 - 1 hour duration\",\n",
    "                \"from\": \"dentist@dentist.no\",\n",
    "                \"display_date\": \"2023-11-15T15:30:00Z\",\n",
    "                \"duration\": 60,\n",
    "            },\n",
    "        },\n",
    "        {\n",
    "            \"id\": 2,\n",
    "            \"groupname\": \"bergum@vespa.ai\",\n",
    "            \"fields\": {\n",
    "                \"subject\": \"Public Cloud Platform Events\",\n",
    "                \"to\": \"bergum@vespa.ai\",\n",
    "                \"body\": \"The cloud team continues to push new features and improvements to the platform. Join us for a live demo of the latest updates\",\n",
    "                \"from\": \"public-cloud-platform-events\",\n",
    "                \"display_date\": \"2023-11-21T09:30:00Z\",\n",
    "                \"duration\": 60,\n",
    "            },\n",
    "        },\n",
    "    ]\n",
    "    for event in calendar_data:\n",
    "        yield event"
   ]
  },
  {
   "cell_type": "markdown",
   "id": "da356d25",
   "metadata": {},
   "source": [
    "## Definining a Vespa application\n",
    "\n",
    "[PyVespa](https://pyvespa.readthedocs.io/en/latest/) help us build the [Vespa application package](https://docs.vespa.ai/en/application-packages.html).\n",
    "A Vespa application package consists of configuration files.\n",
    "\n",
    "First, we define a [Vespa schema](https://docs.vespa.ai/en/schemas.html). [PyVespa](https://pyvespa.readthedocs.io/en/latest/)\n",
    "offers a programmatic API for creating the schema. In the end, it is serialized to a file (`<schema>.sd`) before it can be deployed to Vespa.\n",
    "\n",
    "Vespa is statically typed, so we need to define the fields and their type in the schema before we can start feeding documents.  \n",
    "Note that we set `mode` to `streaming` which enables [Vespa streaming mode for this schema](https://docs.vespa.ai/en/streaming-search.html).\n",
    "Other valid modes are `indexed` and `store-only`.\n"
   ]
  },
  {
   "cell_type": "code",
   "execution_count": 4,
   "id": "0dca2378",
   "metadata": {},
   "outputs": [],
   "source": [
    "from vespa.package import Schema, Document, Field, FieldSet, HNSW\n",
    "\n",
    "mail_schema = Schema(\n",
    "    name=\"mail\",\n",
    "    mode=\"streaming\",\n",
    "    document=Document(\n",
    "        fields=[\n",
    "            Field(name=\"id\", type=\"string\", indexing=[\"summary\", \"index\"]),\n",
    "            Field(name=\"subject\", type=\"string\", indexing=[\"summary\", \"index\"]),\n",
    "            Field(name=\"to\", type=\"string\", indexing=[\"summary\", \"index\"]),\n",
    "            Field(name=\"from\", type=\"string\", indexing=[\"summary\", \"index\"]),\n",
    "            Field(name=\"body\", type=\"string\", indexing=[\"summary\", \"index\"]),\n",
    "            Field(name=\"display_date\", type=\"string\", indexing=[\"summary\"]),\n",
    "            Field(\n",
    "                name=\"timestamp\",\n",
    "                type=\"long\",\n",
    "                indexing=[\n",
    "                    \"input display_date\",\n",
    "                    \"to_epoch_second\",\n",
    "                    \"summary\",\n",
    "                    \"attribute\",\n",
    "                ],\n",
    "                is_document_field=False,\n",
    "            ),\n",
    "            Field(\n",
    "                name=\"embedding\",\n",
    "                type=\"tensor<bfloat16>(x[384])\",\n",
    "                indexing=[\n",
    "                    '\"passage: \" . input subject .\" \". input body',\n",
    "                    \"embed e5\",\n",
    "                    \"attribute\",\n",
    "                    \"index\",\n",
    "                ],\n",
    "                ann=HNSW(distance_metric=\"angular\"),\n",
    "                is_document_field=False,\n",
    "            ),\n",
    "        ],\n",
    "    ),\n",
    "    fieldsets=[FieldSet(name=\"default\", fields=[\"subject\", \"body\", \"to\", \"from\"])],\n",
    ")"
   ]
  },
  {
   "cell_type": "markdown",
   "id": "2834fe25",
   "metadata": {},
   "source": [
    "In the `mail` schema, we have six document fields; these are provided by us when we feed documents of type `mail` to this app.\n",
    "The [fieldset](https://docs.vespa.ai/en/schemas.html#fieldset) defines\n",
    "which fields are matched against when we do not mention explicit field names when querying. We can add as many fieldsets as we like without duplicating content.\n",
    "\n",
    "In addition to the fields within the `document`, there are two synthetic fields in the schema, `timestamp` and `embedding`, using Vespa [indexing expressions](https://docs.vespa.ai/en/reference/indexing-language-reference.html)\n",
    "taking inputs from the document and performing conversions.\n",
    "\n",
    "- the `timestamp` field takes the input `display_date` and uses the [to_epoch_second converter](https://docs.vespa.ai/en/reference/indexing-language-reference.html#converter) to convert the\n",
    "  display date into an epoch timestamp. This is useful because we can calculate the document's age and use the `freshness(timestamp)` rank feature during ranking phases.\n",
    "- the `embedding` tensor field takes the subject and body as input and feeds that into an [embed](https://docs.vespa.ai/en/embedding.html#embedding-a-document-field) function\n",
    "  that uses an embedding model to map the string input into an embedding vector representation using 384 dimensions with `bfloat16` precision. Vectors\n",
    "  in Vespa are represented as [Tensors](https://docs.vespa.ai/en/tensor-user-guide.html).\n"
   ]
  },
  {
   "cell_type": "code",
   "execution_count": 5,
   "id": "9da7f7b0",
   "metadata": {},
   "outputs": [],
   "source": [
    "from vespa.package import Schema, Document, Field, FieldSet, HNSW\n",
    "\n",
    "calendar_schema = Schema(\n",
    "    name=\"calendar\",\n",
    "    inherits=\"mail\",\n",
    "    mode=\"streaming\",\n",
    "    document=Document(\n",
    "        inherits=\"mail\",\n",
    "        fields=[\n",
    "            Field(name=\"duration\", type=\"int\", indexing=[\"summary\", \"index\"]),\n",
    "            Field(name=\"guests\", type=\"array<string>\", indexing=[\"summary\", \"index\"]),\n",
    "            Field(name=\"location\", type=\"string\", indexing=[\"summary\", \"index\"]),\n",
    "            Field(name=\"url\", type=\"string\", indexing=[\"summary\", \"index\"]),\n",
    "            Field(name=\"address\", type=\"string\", indexing=[\"summary\", \"index\"]),\n",
    "        ],\n",
    "    ),\n",
    ")"
   ]
  },
  {
   "cell_type": "markdown",
   "id": "4e2539f8",
   "metadata": {},
   "source": [
    "The observant reader might have noticed the `e5` argument to the `embed` expression in the above `embedding` field.\n",
    "The `e5` argument references a component of the type [hugging-face-embedder](https://docs.vespa.ai/en/embedding.html#huggingface-embedder). We configure\n",
    "the application package and its name with the `mail` schema and the `e5` embedder component.\n"
   ]
  },
  {
   "cell_type": "code",
   "execution_count": 6,
   "id": "66c5da1d",
   "metadata": {},
   "outputs": [],
   "source": [
    "from vespa.package import ApplicationPackage, Component, Parameter\n",
    "\n",
    "vespa_app_name = \"assistant\"\n",
    "vespa_application_package = ApplicationPackage(\n",
    "    name=vespa_app_name,\n",
    "    schema=[mail_schema, calendar_schema],\n",
    "    components=[\n",
    "        Component(\n",
    "            id=\"e5\",\n",
    "            type=\"hugging-face-embedder\",\n",
    "            parameters=[\n",
    "                Parameter(\n",
    "                    \"transformer-model\",\n",
    "                    {\n",
    "                        \"url\": \"https://github.com/vespa-engine/sample-apps/raw/master/simple-semantic-search/model/e5-small-v2-int8.onnx\"\n",
    "                    },\n",
    "                ),\n",
    "                Parameter(\n",
    "                    \"tokenizer-model\",\n",
    "                    {\n",
    "                        \"url\": \"https://raw.githubusercontent.com/vespa-engine/sample-apps/master/simple-semantic-search/model/tokenizer.json\"\n",
    "                    },\n",
    "                ),\n",
    "            ],\n",
    "        )\n",
    "    ],\n",
    ")"
   ]
  },
  {
   "cell_type": "markdown",
   "id": "7fe3d7bd",
   "metadata": {},
   "source": [
    "In the last step, we configure [ranking](https://docs.vespa.ai/en/ranking.html) by adding `rank-profile`'s to the mail schema.\n",
    "\n",
    "Vespa supports [phased ranking](https://docs.vespa.ai/en/phased-ranking.html) and has a rich set of built-in [rank-features](https://docs.vespa.ai/en/reference/rank-features.html).\n",
    "\n",
    "Users can also define custom functions with [ranking expressions](https://docs.vespa.ai/en/reference/ranking-expressions.html).\n"
   ]
  },
  {
   "cell_type": "code",
   "execution_count": 7,
   "id": "a8ce5624",
   "metadata": {},
   "outputs": [],
   "source": [
    "from vespa.package import RankProfile, Function, GlobalPhaseRanking, FirstPhaseRanking\n",
    "\n",
    "keywords_and_freshness = RankProfile(\n",
    "    name=\"default\",\n",
    "    functions=[\n",
    "        Function(\n",
    "            name=\"my_function\",\n",
    "            expression=\"nativeRank(subject) + nativeRank(body) + freshness(timestamp)\",\n",
    "        )\n",
    "    ],\n",
    "    first_phase=FirstPhaseRanking(expression=\"my_function\", rank_score_drop_limit=0.02),\n",
    "    match_features=[\n",
    "        \"nativeRank(subject)\",\n",
    "        \"nativeRank(body)\",\n",
    "        \"my_function\",\n",
    "        \"freshness(timestamp)\",\n",
    "    ],\n",
    ")\n",
    "\n",
    "semantic = RankProfile(\n",
    "    name=\"semantic\",\n",
    "    functions=[\n",
    "        Function(name=\"cosine\", expression=\"max(0,cos(distance(field, embedding)))\")\n",
    "    ],\n",
    "    inputs=[(\"query(q)\", \"tensor<float>(x[384])\"), (\"query(threshold)\", \"\", \"0.75\")],\n",
    "    first_phase=FirstPhaseRanking(\n",
    "        expression=\"if(cosine > query(threshold), cosine, -1)\",\n",
    "        rank_score_drop_limit=0.1,\n",
    "    ),\n",
    "    match_features=[\n",
    "        \"cosine\",\n",
    "        \"freshness(timestamp)\",\n",
    "        \"distance(field, embedding)\",\n",
    "        \"query(threshold)\",\n",
    "    ],\n",
    ")\n",
    "\n",
    "fusion = RankProfile(\n",
    "    name=\"fusion\",\n",
    "    inherits=\"semantic\",\n",
    "    functions=[\n",
    "        Function(\n",
    "            name=\"keywords_and_freshness\",\n",
    "            expression=\" nativeRank(subject) + nativeRank(body) + freshness(timestamp)\",\n",
    "        ),\n",
    "        Function(name=\"semantic\", expression=\"cos(distance(field,embedding))\"),\n",
    "    ],\n",
    "    inputs=[(\"query(q)\", \"tensor<float>(x[384])\"), (\"query(threshold)\", \"\", \"0.75\")],\n",
    "    first_phase=FirstPhaseRanking(\n",
    "        expression=\"if(cosine > query(threshold), cosine, -1)\",\n",
    "        rank_score_drop_limit=0.1,\n",
    "    ),\n",
    "    match_features=[\n",
    "        \"nativeRank(subject)\",\n",
    "        \"keywords_and_freshness\",\n",
    "        \"freshness(timestamp)\",\n",
    "        \"cosine\",\n",
    "        \"query(threshold)\",\n",
    "    ],\n",
    "    global_phase=GlobalPhaseRanking(\n",
    "        rerank_count=1000,\n",
    "        expression=\"reciprocal_rank_fusion(semantic, keywords_and_freshness)\",\n",
    "    ),\n",
    ")"
   ]
  },
  {
   "cell_type": "markdown",
   "id": "ce78268c",
   "metadata": {},
   "source": [
    "The `default` rank profile defines a custom function `my_function` that computes a linear combination of three different features:\n",
    "\n",
    "- `nativeRank(subject)` Is a text matching feature [](https://docs.vespa.ai/en/reference/nativerank.html), scoped to the `subject` field.\n",
    "- `nativeRank(body)` Same, but scoped to the `body` field.\n",
    "- `freshness(timestamp)` This is a built-in [rank-feature](https://docs.vespa.ai/en/reference/rank-features.html#freshness) that returns a number that is close to 1 if the timestamp is recent compared to the current query time.\n"
   ]
  },
  {
   "cell_type": "code",
   "execution_count": 8,
   "id": "408d2691",
   "metadata": {},
   "outputs": [],
   "source": [
    "mail_schema.add_rank_profile(keywords_and_freshness)\n",
    "mail_schema.add_rank_profile(semantic)\n",
    "mail_schema.add_rank_profile(fusion)\n",
    "calendar_schema.add_rank_profile(keywords_and_freshness)\n",
    "calendar_schema.add_rank_profile(semantic)\n",
    "calendar_schema.add_rank_profile(fusion)"
   ]
  },
  {
   "cell_type": "markdown",
   "id": "79833205",
   "metadata": {},
   "source": [
    "Finally, we have our basic Vespa schema and application package.\n",
    "\n",
    "We can serialize the representation to application package files.\n",
    "This is handy when we want to start working with production deployments and when we want to manage the\n",
    "application with version control.\n"
   ]
  },
  {
   "cell_type": "code",
   "execution_count": 9,
   "id": "ed430761",
   "metadata": {},
   "outputs": [
    {
     "name": "stdout",
     "output_type": "stream",
     "text": [
      "my-assistant-vespa-app/services.xml\n",
      "my-assistant-vespa-app/schemas/mail.sd\n",
      "my-assistant-vespa-app/schemas/calendar.sd\n",
      "my-assistant-vespa-app/search/query-profiles/default.xml\n",
      "my-assistant-vespa-app/search/query-profiles/types/root.xml\n"
     ]
    }
   ],
   "source": [
    "import os\n",
    "\n",
    "application_directory = \"my-assistant-vespa-app\"\n",
    "vespa_application_package.to_files(application_directory)\n",
    "\n",
    "\n",
    "def print_files_in_directory(directory):\n",
    "    for root, _, files in os.walk(directory):\n",
    "        for file in files:\n",
    "            print(os.path.join(root, file))\n",
    "\n",
    "\n",
    "print_files_in_directory(application_directory)"
   ]
  },
  {
   "cell_type": "markdown",
   "id": "846545f9",
   "metadata": {},
   "source": [
    "## Deploy the application to Vespa Cloud\n",
    "\n",
    "With the configured application, we can deploy it to [Vespa Cloud](https://cloud.vespa.ai/en/).\n",
    "It is also possible to deploy the app using docker; see the [Hybrid Search - Quickstart](https://pyvespa.readthedocs.io/en/latest/getting-started-pyvespa.html) guide for\n",
    "an example of deploying it to a local docker container.\n"
   ]
  },
  {
   "cell_type": "markdown",
   "id": "16179d9b",
   "metadata": {},
   "source": [
    "Install the Vespa CLI using [homebrew](https://brew.sh/) - or download a binary from GitHub as demonstrated below.\n"
   ]
  },
  {
   "cell_type": "code",
   "execution_count": null,
   "id": "343981ce",
   "metadata": {},
   "outputs": [],
   "source": [
    "!brew install vespa-cli"
   ]
  },
  {
   "cell_type": "markdown",
   "id": "863d0700",
   "metadata": {},
   "source": [
    "Alternatively, if running in Colab, download the Vespa CLI:\n"
   ]
  },
  {
   "cell_type": "code",
   "execution_count": null,
   "id": "d5670bb6",
   "metadata": {},
   "outputs": [],
   "source": [
    "import requests\n",
    "\n",
    "res = requests.get(\n",
    "    url=\"https://api.github.com/repos/vespa-engine/vespa/releases/latest\"\n",
    ").json()\n",
    "os.environ[\"VERSION\"] = res[\"tag_name\"].replace(\"v\", \"\")\n",
    "!curl -fsSL https://github.com/vespa-engine/vespa/releases/download/v${VERSION}/vespa-cli_${VERSION}_linux_amd64.tar.gz | tar -zxf -\n",
    "!ln -sf /content/vespa-cli_${VERSION}_linux_amd64/bin/vespa /bin/vespa"
   ]
  },
  {
   "cell_type": "markdown",
   "id": "0ff00727",
   "metadata": {},
   "source": [
    "To deploy the application to Vespa Cloud we need to create a tenant in the Vespa Cloud:\n",
    "\n",
    "Create a tenant at [console.vespa-cloud.com](https://console.vespa-cloud.com/) (unless you already have one).\n",
    "This step requires a Google or GitHub account, and will start your [free trial](https://cloud.vespa.ai/en/free-trial).\n",
    "Make note of the tenant name, it is used in the next steps.\n"
   ]
  },
  {
   "cell_type": "markdown",
   "id": "df9f9a1c",
   "metadata": {},
   "source": [
    "### Configure Vespa Cloud date-plane security\n",
    "\n",
    "Create Vespa Cloud data-plane mTLS cert/key-pair. The mutual certificate pair is used to talk to your Vespa cloud endpoints. See [Vespa Cloud Security Guide](https://cloud.vespa.ai/en/security/guide) for details.\n",
    "\n",
    "We save the paths to the credentials, for later data-plane access without using pyvespa APIs.\n"
   ]
  },
  {
   "cell_type": "code",
   "execution_count": null,
   "id": "b6a766d6",
   "metadata": {},
   "outputs": [],
   "source": [
    "import os\n",
    "\n",
    "os.environ[\"TENANT_NAME\"] = \"vespa-team\"  # Replace with your tenant name\n",
    "\n",
    "vespa_cli_command = (\n",
    "    f'vespa config set application {os.environ[\"TENANT_NAME\"]}.{vespa_app_name}'\n",
    ")\n",
    "\n",
    "!vespa config set target cloud\n",
    "!{vespa_cli_command}\n",
    "!vespa auth cert -N"
   ]
  },
  {
   "cell_type": "markdown",
   "id": "b228381b",
   "metadata": {},
   "source": [
    "Validate that we have the expected data-plane credential files:\n"
   ]
  },
  {
   "cell_type": "code",
   "execution_count": 13,
   "id": "1f0b97c8",
   "metadata": {},
   "outputs": [],
   "source": [
    "from os.path import exists\n",
    "from pathlib import Path\n",
    "\n",
    "cert_path = (\n",
    "    Path.home()\n",
    "    / \".vespa\"\n",
    "    / f\"{os.environ['TENANT_NAME']}.{vespa_app_name}.default/data-plane-public-cert.pem\"\n",
    ")\n",
    "key_path = (\n",
    "    Path.home()\n",
    "    / \".vespa\"\n",
    "    / f\"{os.environ['TENANT_NAME']}.{vespa_app_name}.default/data-plane-private-key.pem\"\n",
    ")\n",
    "\n",
    "if not exists(cert_path) or not exists(key_path):\n",
    "    print(\n",
    "        \"ERROR: set the correct paths to security credentials. Correct paths above and rerun until you do not see this error\"\n",
    "    )"
   ]
  },
  {
   "cell_type": "markdown",
   "id": "85ce80e0",
   "metadata": {},
   "source": [
    "Note that the subsequent Vespa Cloud deploy call below will add `data-plane-public-cert.pem` to the application before deploying it to Vespa Cloud, so that\n",
    "you have access to both the private key and the public certificate. At the same time, Vespa Cloud only knows the public certificate.\n",
    "\n",
    "### Configure control-plane security\n",
    "\n",
    "Authenticate to generate a tenant level control plane API key for deploying the applications to Vespa Cloud, and save the path to it.\n",
    "\n",
    "The generated tenant api key must be added in the Vespa Console before attemting to deploy the application.\n",
    "\n",
    "```\n",
    "To use this key in Vespa Cloud click 'Add custom key' at\n",
    "https://console.vespa-cloud.com/tenant/TENANT_NAME/account/keys\n",
    "and paste the entire public key including the BEGIN and END lines.\n",
    "```\n"
   ]
  },
  {
   "cell_type": "code",
   "execution_count": null,
   "id": "5bf8731c",
   "metadata": {},
   "outputs": [],
   "source": [
    "!vespa auth api-key"
   ]
  },
  {
   "cell_type": "code",
   "execution_count": null,
   "id": "84665dcc",
   "metadata": {},
   "outputs": [],
   "source": [
    "from pathlib import Path\n",
    "\n",
    "api_key_path = Path.home() / \".vespa\" / f\"{os.environ['TENANT_NAME']}.api-key.pem\""
   ]
  },
  {
   "cell_type": "markdown",
   "id": "21db1010",
   "metadata": {},
   "source": [
    "### Deploy to Vespa Cloud\n",
    "\n",
    "Now that we have data-plane and control-plane credentials ready, we can deploy our application to Vespa Cloud! `PyVespa` supports deploying to the\n",
    "[development zone](https://cloud.vespa.ai/en/reference/environments#dev-and-perf).\n",
    "\n",
    "> Note: Deployments to dev and perf expire after 7 days of inactivity, i.e., 7 days after running deploy. This applies to all plans, not only the Free Trial. Use the Vespa Console to extend the expiry period, or redeploy the application to add 7 more days.\n"
   ]
  },
  {
   "cell_type": "code",
   "execution_count": 15,
   "id": "b5fddf9f",
   "metadata": {},
   "outputs": [],
   "source": [
    "from vespa.deployment import VespaCloud\n",
    "\n",
    "\n",
    "def read_secret():\n",
    "    \"\"\"Read the API key from the environment variable. This is\n",
    "    only used for CI/CD purposes.\"\"\"\n",
    "    t = os.getenv(\"VESPA_TEAM_API_KEY\")\n",
    "    if t:\n",
    "        return t.replace(r\"\\n\", \"\\n\")\n",
    "    else:\n",
    "        return t\n",
    "\n",
    "\n",
    "vespa_cloud = VespaCloud(\n",
    "    tenant=os.environ[\"TENANT_NAME\"],\n",
    "    application=vespa_app_name,\n",
    "    key_content=read_secret() if read_secret() else None,\n",
    "    key_location=api_key_path,\n",
    "    application_package=vespa_application_package,\n",
    ")"
   ]
  },
  {
   "cell_type": "markdown",
   "id": "fa9baa5a",
   "metadata": {},
   "source": [
    "Now deploy the app to Vespa Cloud dev zone. The first deployment typically takes 2 minutes until the endpoint is up.\n"
   ]
  },
  {
   "cell_type": "code",
   "execution_count": null,
   "id": "fe954dc4",
   "metadata": {},
   "outputs": [],
   "source": [
    "from vespa.application import Vespa\n",
    "\n",
    "app: Vespa = vespa_cloud.deploy(disk_folder=application_directory)"
   ]
  },
  {
   "cell_type": "markdown",
   "id": "02430fe9",
   "metadata": {},
   "source": [
    "### Feeding data to Vespa\n",
    "\n",
    "With the app up and running in Vespa Cloud, we can start feeding and querying our data.\n",
    "\n",
    "We use the [feed_iterable](https://pyvespa.readthedocs.io/en/latest/reference-api.html#vespa.application.Vespa.feed_iterable) API of pyvespa\n",
    "with a custom `callback` that prints the URL and an error if the operation fails.\n",
    "\n",
    "We pass the `synthetic_*generator()` and call `feed_iterable` with the specific `schema` and `namespace`.\n",
    "\n",
    "Read more about [Vespa document IDs](https://docs.vespa.ai/en/documents.html#id-scheme).\n"
   ]
  },
  {
   "cell_type": "code",
   "execution_count": null,
   "id": "47688f67",
   "metadata": {},
   "outputs": [],
   "source": [
    "from vespa.io import VespaResponse\n",
    "\n",
    "\n",
    "def callback(response: VespaResponse, id: str):\n",
    "    if not response.is_successful():\n",
    "        print(f\"Error {response.url} : {response.get_json()}\")\n",
    "    else:\n",
    "        print(f\"Success {response.url}\")\n",
    "\n",
    "\n",
    "app.feed_iterable(\n",
    "    synthetic_mail_data_generator(),\n",
    "    schema=\"mail\",\n",
    "    namespace=\"assistant\",\n",
    "    callback=callback,\n",
    ")\n",
    "app.feed_iterable(\n",
    "    synthetic_calendar_data_generator(),\n",
    "    schema=\"calendar\",\n",
    "    namespace=\"assistant\",\n",
    "    callback=callback,\n",
    ")"
   ]
  },
  {
   "cell_type": "markdown",
   "id": "20b007ec",
   "metadata": {},
   "source": [
    "### Querying data\n",
    "\n",
    "Now, we can also query our data. With [streaming mode](https://docs.vespa.ai/en/reference/query-api-reference.html#streaming),\n",
    "we must pass the `groupname` parameter, or the request will fail with an error.\n",
    "\n",
    "The query request uses the Vespa Query API and the `Vespa.query()` function\n",
    "supports passing any of the Vespa query API parameters.\n",
    "\n",
    "Read more about querying Vespa in:\n",
    "\n",
    "- [Vespa Query API](https://docs.vespa.ai/en/query-api.html)\n",
    "- [Vespa Query API reference](https://docs.vespa.ai/en/reference/query-api-reference.html)\n",
    "- [Vespa Query Language API (YQL)](https://docs.vespa.ai/en/query-language.html)\n",
    "\n",
    "Sample query request for `when is my dentist appointment` for the user `bergum@vespa.ai`:\n"
   ]
  },
  {
   "cell_type": "code",
   "execution_count": 18,
   "id": "3d8b072b",
   "metadata": {},
   "outputs": [
    {
     "name": "stdout",
     "output_type": "stream",
     "text": [
      "{\n",
      "  \"id\": \"id:assistant:mail:g=bergum@vespa.ai:2\",\n",
      "  \"relevance\": 1.134783932836458,\n",
      "  \"source\": \"assistant_content.mail\",\n",
      "  \"fields\": {\n",
      "    \"matchfeatures\": {\n",
      "      \"freshness(timestamp)\": 0.9232458847736625,\n",
      "      \"nativeRank(body)\": 0.09246780326887034,\n",
      "      \"nativeRank(subject)\": 0.11907024479392506,\n",
      "      \"my_function\": 1.134783932836458\n",
      "    },\n",
      "    \"subject\": \"Dentist Appointment Reminder\",\n",
      "    \"to\": \"bergum@vespa.ai\",\n",
      "    \"display_date\": \"2023-11-15T15:30:00Z\"\n",
      "  }\n",
      "}\n"
     ]
    }
   ],
   "source": [
    "from vespa.io import VespaQueryResponse\n",
    "import json\n",
    "\n",
    "response: VespaQueryResponse = app.query(\n",
    "    yql=\"select subject, display_date, to from sources mail where userQuery()\",\n",
    "    query=\"when is my dentist appointment\",\n",
    "    groupname=\"bergum@vespa.ai\",\n",
    "    ranking=\"default\",\n",
    ")\n",
    "assert response.is_successful()\n",
    "print(json.dumps(response.hits[0], indent=2))"
   ]
  },
  {
   "cell_type": "markdown",
   "id": "f77beb5a",
   "metadata": {},
   "source": [
    "For the above query request, Vespa searched the `default` fieldset which we defined in the schema to match against several fields including the body and the subject. The `default`\n",
    "rank-profile calculated the relevance score as the sum of three rank-features: `nativeRank(body)` + `nativeRank(subject)` + `freshness(`timestamp)`, and the result of this computation is the `relevance`score of the hit. In addition, we also asked for Vespa to return`matchfeatures`that are handy for debugging the final`relevance` score or for feature logging.\n",
    "\n",
    "Now, we can try the `semantic` ranking profile, using Vespa's support for nearestNeighbor search. This also exemplifies using the configured `e5` embedder to embed the user query\n",
    "into an embedding representation. See [embedding a query text](https://docs.vespa.ai/en/embedding.html#embedding-a-query-text) for more usage examples of using Vespa embedders.\n"
   ]
  },
  {
   "cell_type": "code",
   "execution_count": 19,
   "id": "b9349fb4",
   "metadata": {},
   "outputs": [
    {
     "name": "stdout",
     "output_type": "stream",
     "text": [
      "{\n",
      "  \"id\": \"id:assistant:mail:g=bergum@vespa.ai:2\",\n",
      "  \"relevance\": 0.9079386507883569,\n",
      "  \"source\": \"assistant_content.mail\",\n",
      "  \"fields\": {\n",
      "    \"matchfeatures\": {\n",
      "      \"distance(field,embedding)\": 0.4324572498488368,\n",
      "      \"freshness(timestamp)\": 0.9232457561728395,\n",
      "      \"query(threshold)\": 0.75,\n",
      "      \"cosine\": 0.9079386507883569\n",
      "    },\n",
      "    \"subject\": \"Dentist Appointment Reminder\",\n",
      "    \"display_date\": \"2023-11-15T15:30:00Z\"\n",
      "  }\n",
      "}\n"
     ]
    }
   ],
   "source": [
    "from vespa.io import VespaQueryResponse\n",
    "import json\n",
    "\n",
    "response: VespaQueryResponse = app.query(\n",
    "    yql=\"select subject, display_date from mail where {targetHits:10}nearestNeighbor(embedding,q)\",\n",
    "    groupname=\"bergum@vespa.ai\",\n",
    "    ranking=\"semantic\",\n",
    "    body={\n",
    "        \"input.query(q)\": 'embed(e5, \"when is my dentist appointment\")',\n",
    "    },\n",
    ")\n",
    "assert response.is_successful()\n",
    "print(json.dumps(response.hits[0], indent=2))"
   ]
  },
  {
   "cell_type": "markdown",
   "id": "05d2a4ad",
   "metadata": {},
   "source": [
    "## LlamaIndex Retrievers Introduction\n",
    "\n",
    "Now, we have a basic Vespa app using streaming mode.\n",
    "We likely want to use an LLM framework like [LangChain](https://www.langchain.com/) or [LLamaIndex](https://www.llamaindex.ai/) to build an end-to-end assistant.\n",
    "In this example notebook, we use LLamaIndex retrievers.\n",
    "\n",
    "LlamaIndex [retriever](https://docs.llamaindex.ai/)\n",
    "abstraction allows developers to add custom retrievers that retrieve information in Retrieval Augmented Generation (RAG) pipelines.\n",
    "\n",
    "For an excellent introduction to LLamaIndex and its concepts, see [LLamaIndex High-Level Concepts](https://docs.llamaindex.ai/).\n",
    "\n",
    "To create a custom LlamaIndex retrieve, we implement a class that inherits from `llama_index.retrievers.BaseRetriever.BaseRetriever` and\n",
    "which implements `_retrieve(query)`.\n",
    "\n",
    "A simple `PersonalAssistantVespaRetriever` could look like the following:\n"
   ]
  },
  {
   "cell_type": "code",
   "execution_count": null,
   "id": "5ac21f55",
   "metadata": {},
   "outputs": [],
   "source": [
    "from llama_index.legacy.core.base_retriever import BaseRetriever\n",
    "from llama_index.legacy.schema import NodeWithScore, QueryBundle, TextNode\n",
    "from llama_index.legacy.callbacks.base import CallbackManager\n",
    "\n",
    "from vespa.application import Vespa\n",
    "from vespa.io import VespaQueryResponse\n",
    "\n",
    "from typing import List, Union, Optional\n",
    "\n",
    "\n",
    "class PersonalAssistantVespaRetriever(BaseRetriever):\n",
    "    def __init__(\n",
    "        self,\n",
    "        app: Vespa,\n",
    "        user: str,\n",
    "        hits: int = 5,\n",
    "        vespa_rank_profile: str = \"default\",\n",
    "        vespa_score_cutoff: float = 0.70,\n",
    "        sources: List[str] = [\"mail\"],\n",
    "        fields: List[str] = [\"subject\", \"body\"],\n",
    "        callback_manager: Optional[CallbackManager] = None,\n",
    "    ) -> None:\n",
    "        \"\"\"Sample Retriever for a personal assistant application.\n",
    "        Args:\n",
    "        param: app: Vespa application object\n",
    "        param: user: user id to retrieve documents for (used for Vespa streaming groupname)\n",
    "        param: hits: number of hits to retrieve from Vespa app\n",
    "        param: vespa_rank_profile: Vespa rank profile to use\n",
    "        param: vespa_score_cutoff: Vespa score cutoff to use during first-phase ranking\n",
    "        param: sources: sources to retrieve documents from\n",
    "        param: fields: fields to retrieve\n",
    "        \"\"\"\n",
    "\n",
    "        self.app = app\n",
    "        self.hits = hits\n",
    "        self.user = user\n",
    "        self.vespa_rank_profile = vespa_rank_profile\n",
    "        self.vespa_score_cutoff = vespa_score_cutoff\n",
    "        self.fields = fields\n",
    "        self.summary_fields = \",\".join(fields)\n",
    "        self.sources = \",\".join(sources)\n",
    "        super().__init__(callback_manager)\n",
    "\n",
    "    def _retrieve(self, query: Union[str, QueryBundle]) -> List[NodeWithScore]:\n",
    "        \"\"\"Retrieve documents from Vespa application.\"\"\"\n",
    "        if isinstance(query, QueryBundle):\n",
    "            query = query.query_str\n",
    "\n",
    "        if self.vespa_rank_profile == \"default\":\n",
    "            yql: str = f\"select {self.summary_fields} from mail where userQuery()\"\n",
    "        else:\n",
    "            yql = f\"select {self.summary_fields} from sources {self.sources} where {{targetHits:10}}nearestNeighbor(embedding,q) or userQuery()\"\n",
    "        vespa_body_request = {\n",
    "            \"yql\": yql,\n",
    "            \"query\": query,\n",
    "            \"hits\": self.hits,\n",
    "            \"ranking.profile\": self.vespa_rank_profile,\n",
    "            \"timeout\": \"1s\",\n",
    "            \"input.query(threshold)\": self.vespa_score_cutoff,\n",
    "        }\n",
    "        if self.vespa_rank_profile != \"default\":\n",
    "            vespa_body_request[\"input.query(q)\"] = f'embed(e5, \"{query}\")'\n",
    "\n",
    "        with self.app.syncio(connections=1) as session:\n",
    "            response: VespaQueryResponse = session.query(\n",
    "                body=vespa_body_request, groupname=self.user\n",
    "            )\n",
    "            if not response.is_successful():\n",
    "                raise ValueError(\n",
    "                    f\"Query request failed: {response.status_code}, response payload: {response.get_json()}\"\n",
    "                )\n",
    "\n",
    "        nodes: List[NodeWithScore] = []\n",
    "        for hit in response.hits:\n",
    "            response_fields: dict = hit.get(\"fields\", {})\n",
    "            text: str = \"\"\n",
    "            for field in response_fields.keys():\n",
    "                if isinstance(response_fields[field], str) and field in self.fields:\n",
    "                    text += response_fields[field] + \" \"\n",
    "            id = hit[\"id\"]\n",
    "            #\n",
    "            doc = TextNode(\n",
    "                id_=id,\n",
    "                text=text,\n",
    "                metadata=response_fields,\n",
    "            )\n",
    "            nodes.append(NodeWithScore(node=doc, score=hit[\"relevance\"]))\n",
    "        return nodes"
   ]
  },
  {
   "cell_type": "markdown",
   "id": "1188a1e3",
   "metadata": {},
   "source": [
    "The above defines a `PersonalAssistantVespaRetriever` which accepts most importantly a [pyvespa](https://pyvespa.readthedocs.io/en/latest/)\n",
    "`Vespa` application instance.\n",
    "\n",
    "The YQL specifies a hybrid retrieval query that retrieves both using embedding-based retrieval (vector search)\n",
    "using Vespa's nearest neighbor search operator in combination with traditional keyword matching.\n",
    "\n",
    "With the above, we can connect to the running Vespa app and initialize the `PersonalAssistantVespaRetriever`\n",
    "for the user `bergum@vespa.ai`. The `user` argument maps to the [streaming search groupname\n",
    "parameter](https://docs.vespa.ai/en/reference/query-api-reference.html#streaming.groupname).\n"
   ]
  },
  {
   "cell_type": "code",
   "execution_count": 21,
   "id": "707a3fa9",
   "metadata": {},
   "outputs": [
    {
     "data": {
      "text/plain": [
       "[NodeWithScore(node=TextNode(id_='id:assistant:mail:g=bergum@vespa.ai:2', embedding=None, metadata={'matchfeatures': {'freshness(timestamp)': 0.9232454989711935, 'nativeRank(body)': 0.09246780326887034, 'nativeRank(subject)': 0.11907024479392506, 'my_function': 1.1347835470339889}, 'subject': 'Dentist Appointment Reminder', 'body': 'Dear Jo Kristian ,\\nThis is a reminder for your upcoming dentist appointment on 2023-12-04 at 09:30. Please arrive 15 minutes early.\\nBest regards,\\nDr. Dentist'}, excluded_embed_metadata_keys=[], excluded_llm_metadata_keys=[], relationships={}, hash='269fe208f8d43a967dc683e1c9b832b18ddfb0b2efd801ab7e428620c8163021', text='Dentist Appointment Reminder Dear Jo Kristian ,\\nThis is a reminder for your upcoming dentist appointment on 2023-12-04 at 09:30. Please arrive 15 minutes early.\\nBest regards,\\nDr. Dentist ', start_char_idx=None, end_char_idx=None, text_template='{metadata_str}\\n\\n{content}', metadata_template='{key}: {value}', metadata_seperator='\\n'), score=1.1347835470339889),\n",
       " NodeWithScore(node=TextNode(id_='id:assistant:mail:g=bergum@vespa.ai:1', embedding=None, metadata={'matchfeatures': {'freshness(timestamp)': 0.9202362397119341, 'nativeRank(body)': 0.02919821398130037, 'nativeRank(subject)': 1.3512214436142505e-38, 'my_function': 0.9494344536932345}, 'subject': 'LlamaIndex news, 2023-11-14', 'body': \"Hello Llama Friends 🦙 LlamaIndex is 1 year old this week! 🎉 To celebrate, we're taking a stroll down memory \\n                    lane on our blog with twelve milestones from our first year. Be sure to check it out.\"}, excluded_embed_metadata_keys=[], excluded_llm_metadata_keys=[], relationships={}, hash='5e975eaece761d46956c9d301138f29b5c067d3da32fd013bb79c6ee9c033d3d', text=\"LlamaIndex news, 2023-11-14 Hello Llama Friends 🦙 LlamaIndex is 1 year old this week! 🎉 To celebrate, we're taking a stroll down memory \\n                    lane on our blog with twelve milestones from our first year. Be sure to check it out. \", start_char_idx=None, end_char_idx=None, text_template='{metadata_str}\\n\\n{content}', metadata_template='{key}: {value}', metadata_seperator='\\n'), score=0.9494344536932345)]"
      ]
     },
     "execution_count": 21,
     "metadata": {},
     "output_type": "execute_result"
    }
   ],
   "source": [
    "retriever = PersonalAssistantVespaRetriever(\n",
    "    app=app, user=\"bergum@vespa.ai\", vespa_rank_profile=\"default\"\n",
    ")\n",
    "retriever.retrieve(\"When is my dentist appointment?\")"
   ]
  },
  {
   "cell_type": "markdown",
   "id": "0c1eaf45",
   "metadata": {},
   "source": [
    "These `NodeWithScore` retrieved `default` rank-profile can then be used for the next steps in a generative chain.\n",
    "\n",
    "We can also try the `semantic` rank-profile, which has rank-score-drop functionality, allowing us to have a per-query time threshold. Altering the threshold\n",
    "will remove context.\n"
   ]
  },
  {
   "cell_type": "code",
   "execution_count": 22,
   "id": "1cfc3477",
   "metadata": {},
   "outputs": [
    {
     "data": {
      "text/plain": [
       "[NodeWithScore(node=TextNode(id_='id:assistant:mail:g=bergum@vespa.ai:2', embedding=None, metadata={'matchfeatures': {'distance(field,embedding)': 0.43945494361938975, 'freshness(timestamp)': 0.9232453703703704, 'query(threshold)': 0.6, 'cosine': 0.9049836898369259}, 'subject': 'Dentist Appointment Reminder', 'body': 'Dear Jo Kristian ,\\nThis is a reminder for your upcoming dentist appointment on 2023-12-04 at 09:30. Please arrive 15 minutes early.\\nBest regards,\\nDr. Dentist'}, excluded_embed_metadata_keys=[], excluded_llm_metadata_keys=[], relationships={}, hash='e89f669e6c9cf64ab6a856d9857915481396e2aa84154951327cd889c23f7c4f', text='Dentist Appointment Reminder Dear Jo Kristian ,\\nThis is a reminder for your upcoming dentist appointment on 2023-12-04 at 09:30. Please arrive 15 minutes early.\\nBest regards,\\nDr. Dentist ', start_char_idx=None, end_char_idx=None, text_template='{metadata_str}\\n\\n{content}', metadata_template='{key}: {value}', metadata_seperator='\\n'), score=0.9049836898369259),\n",
       " NodeWithScore(node=TextNode(id_='id:assistant:mail:g=bergum@vespa.ai:1', embedding=None, metadata={'matchfeatures': {'distance(field,embedding)': 0.69930099954744, 'freshness(timestamp)': 0.9202361111111111, 'query(threshold)': 0.6, 'cosine': 0.7652923088511814}, 'subject': 'LlamaIndex news, 2023-11-14', 'body': \"Hello Llama Friends 🦙 LlamaIndex is 1 year old this week! 🎉 To celebrate, we're taking a stroll down memory \\n                    lane on our blog with twelve milestones from our first year. Be sure to check it out.\"}, excluded_embed_metadata_keys=[], excluded_llm_metadata_keys=[], relationships={}, hash='cb9b588e5b53dbdd0fbe6f7aadfa689d84a5bea23239293bd299347ee9ecd853', text=\"LlamaIndex news, 2023-11-14 Hello Llama Friends 🦙 LlamaIndex is 1 year old this week! 🎉 To celebrate, we're taking a stroll down memory \\n                    lane on our blog with twelve milestones from our first year. Be sure to check it out. \", start_char_idx=None, end_char_idx=None, text_template='{metadata_str}\\n\\n{content}', metadata_template='{key}: {value}', metadata_seperator='\\n'), score=0.7652923088511814)]"
      ]
     },
     "execution_count": 22,
     "metadata": {},
     "output_type": "execute_result"
    }
   ],
   "source": [
    "retriever = PersonalAssistantVespaRetriever(\n",
    "    app=app,\n",
    "    user=\"bergum@vespa.ai\",\n",
    "    vespa_rank_profile=\"semantic\",\n",
    "    vespa_score_cutoff=0.6,\n",
    "    hits=20,\n",
    ")\n",
    "retriever.retrieve(\"When is my dentist appointment?\")"
   ]
  },
  {
   "cell_type": "markdown",
   "id": "9776e5c2",
   "metadata": {},
   "source": [
    "Create a new retriever with sources including both mail and calendar data:\n"
   ]
  },
  {
   "cell_type": "code",
   "execution_count": 23,
   "id": "47271769",
   "metadata": {},
   "outputs": [
    {
     "data": {
      "text/plain": [
       "[NodeWithScore(node=TextNode(id_='id:assistant:calendar:g=bergum@vespa.ai:1', embedding=None, metadata={'matchfeatures': {'freshness(timestamp)': 0.9232447273662552, 'nativeRank(subject)': 0.11907024479392506, 'query(threshold)': 0.8, 'cosine': 0.8872983644178517, 'keywords_and_freshness': 1.1606592237923947}, 'subject': 'Dentist Appointment', 'body': 'Dentist appointment at 2023-12-04 at 09:30 - 1 hour duration'}, excluded_embed_metadata_keys=[], excluded_llm_metadata_keys=[], relationships={}, hash='b30948011cbe9bbf29135384efbc72f85a6eb65113be0eb9762315a022f11ba1', text='Dentist Appointment Dentist appointment at 2023-12-04 at 09:30 - 1 hour duration ', start_char_idx=None, end_char_idx=None, text_template='{metadata_str}\\n\\n{content}', metadata_template='{key}: {value}', metadata_seperator='\\n'), score=0.03278688524590164),\n",
       " NodeWithScore(node=TextNode(id_='id:assistant:mail:g=bergum@vespa.ai:2', embedding=None, metadata={'matchfeatures': {'freshness(timestamp)': 0.9232447273662552, 'nativeRank(subject)': 0.11907024479392506, 'query(threshold)': 0.8, 'cosine': 0.9049836898369259, 'keywords_and_freshness': 1.1347827754290507}, 'subject': 'Dentist Appointment Reminder', 'body': 'Dear Jo Kristian ,\\nThis is a reminder for your upcoming dentist appointment on 2023-12-04 at 09:30. Please arrive 15 minutes early.\\nBest regards,\\nDr. Dentist'}, excluded_embed_metadata_keys=[], excluded_llm_metadata_keys=[], relationships={}, hash='21c501ccdc6e4b33d388eefa244c5039a0e1ed4b81e4f038916765e22be24705', text='Dentist Appointment Reminder Dear Jo Kristian ,\\nThis is a reminder for your upcoming dentist appointment on 2023-12-04 at 09:30. Please arrive 15 minutes early.\\nBest regards,\\nDr. Dentist ', start_char_idx=None, end_char_idx=None, text_template='{metadata_str}\\n\\n{content}', metadata_template='{key}: {value}', metadata_seperator='\\n'), score=0.03278688524590164)]"
      ]
     },
     "execution_count": 23,
     "metadata": {},
     "output_type": "execute_result"
    }
   ],
   "source": [
    "retriever = PersonalAssistantVespaRetriever(\n",
    "    app=app,\n",
    "    user=\"bergum@vespa.ai\",\n",
    "    vespa_rank_profile=\"fusion\",\n",
    "    sources=[\"calendar\", \"mail\"],\n",
    "    vespa_score_cutoff=0.80,\n",
    ")\n",
    "retriever.retrieve(\"When is my dentist appointment?\")"
   ]
  },
  {
   "cell_type": "code",
   "execution_count": 24,
   "id": "e1dd0ba4",
   "metadata": {},
   "outputs": [
    {
     "data": {
      "text/plain": [
       "{'root': {'id': 'toplevel',\n",
       "  'relevance': 1.0,\n",
       "  'fields': {'totalCount': 2},\n",
       "  'coverage': {'coverage': 100,\n",
       "   'documents': 2,\n",
       "   'full': True,\n",
       "   'nodes': 1,\n",
       "   'results': 1,\n",
       "   'resultsFull': 1},\n",
       "  'children': [{'id': 'id:assistant:calendar:g=bergum@vespa.ai:2',\n",
       "    'relevance': 0.987133487654321,\n",
       "    'source': 'assistant_content.calendar',\n",
       "    'fields': {'matchfeatures': {'freshness(timestamp)': 0.987133487654321,\n",
       "      'nativeRank(body)': 0.0,\n",
       "      'nativeRank(subject)': 0.0,\n",
       "      'my_function': 0.987133487654321},\n",
       "     'subject': 'Public Cloud Platform Events',\n",
       "     'display_date': '2023-11-21T09:30:00Z'}},\n",
       "   {'id': 'id:assistant:calendar:g=bergum@vespa.ai:1',\n",
       "    'relevance': 0.9232445987654321,\n",
       "    'source': 'assistant_content.calendar',\n",
       "    'fields': {'matchfeatures': {'freshness(timestamp)': 0.9232445987654321,\n",
       "      'nativeRank(body)': 0.0,\n",
       "      'nativeRank(subject)': 0.0,\n",
       "      'my_function': 0.9232445987654321},\n",
       "     'subject': 'Dentist Appointment',\n",
       "     'display_date': '2023-11-15T15:30:00Z'}}]}}"
      ]
     },
     "execution_count": 24,
     "metadata": {},
     "output_type": "execute_result"
    }
   ],
   "source": [
    "app.query(\n",
    "    yql=\"select subject, display_date from calendar where duration > 0\",\n",
    "    ranking=\"default\",\n",
    "    groupname=\"bergum@vespa.ai\",\n",
    ").json"
   ]
  },
  {
   "cell_type": "markdown",
   "id": "7c8b8223",
   "metadata": {},
   "source": [
    "## Conclusion\n",
    "\n",
    "In this notebook, we have demonstrated:\n",
    "\n",
    "- Configuring and using Vespa's streaming mode\n",
    "- Using multiple document types and schema to organize our data\n",
    "- Running embedding inference in Vespa\n",
    "- Hybrid retrieval techniques - combined with score thresholding to filter irrelevant contexts\n",
    "- Creating a custom LLamaIndex retriever and connecting it with our Vespa app\n",
    "- Vespa Cloud deployments to sandbox/dev zone\n",
    "\n",
    "We can now delete the cloud instance:\n"
   ]
  },
  {
   "cell_type": "code",
   "execution_count": null,
   "id": "71e310e3",
   "metadata": {},
   "outputs": [],
   "source": [
    "vespa_cloud.delete()"
   ]
  }
 ],
 "metadata": {
  "kernelspec": {
   "display_name": "Python 3.11.4 64-bit",
   "language": "python",
   "name": "python3"
  },
  "language_info": {
   "codemirror_mode": {
    "name": "ipython",
    "version": 3
   },
   "file_extension": ".py",
   "mimetype": "text/x-python",
   "name": "python",
   "nbconvert_exporter": "python",
   "pygments_lexer": "ipython3",
   "version": "3.11.4"
  },
  "vscode": {
   "interpreter": {
    "hash": "b0fa6594d8f4cbf19f97940f81e996739fb7646882a419484c72d19e05852a7e"
   }
  }
 },
 "nbformat": 4,
 "nbformat_minor": 5
}
