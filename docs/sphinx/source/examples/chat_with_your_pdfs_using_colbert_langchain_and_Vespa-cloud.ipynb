{
  "cells": [
    {
      "cell_type": "markdown",
      "id": "b3ae8a2b",
      "metadata": {
        "id": "b3ae8a2b"
      },
      "source": [
        "<picture>\n",
        "  <source media=\"(prefers-color-scheme: dark)\" srcset=\"https://vespa.ai/assets/vespa-ai-logo-heather.svg\">\n",
        "  <source media=\"(prefers-color-scheme: light)\" srcset=\"https://vespa.ai/assets/vespa-ai-logo-rock.svg\">\n",
        "  <img alt=\"#Vespa\" width=\"200\" src=\"https://vespa.ai/assets/vespa-ai-logo-rock.svg\" style=\"margin-bottom: 25px;\">\n",
        "</picture>\n",
        "\n",
        "\n",
        "# Chat with your pdfs with ColBERT, langchain, and Vespa\n",
        "\n",
        "This notebook illustrates using [Vespa streaming mode](https://docs.vespa.ai/en/streaming-search.html)\n",
        "to build cost-efficient RAG applications over naturally sharded data. It also demonstrates how you can now use ColBERT ranking natively in Vespa, which can now handle the ColBERT embedding process for you with no custom code!\n",
        "\n",
        "You can read more about Vespa vector streaming search in these blog posts:\n",
        "\n",
        "- [Announcing vector streaming search: AI assistants at scale without breaking the bank](https://blog.vespa.ai/announcing-vector-streaming-search/)\n",
        "- [Yahoo Mail turns to Vespa to do RAG at scale](https://blog.vespa.ai/yahoo-mail-turns-to-vespa-to-do-rag-at-scale/)\n",
        "- [Hands-On RAG guide for personal data with Vespa and LLamaIndex](https://blog.vespa.ai/scaling-personal-ai-assistants-with-streaming-mode/)\n",
        "- [Turbocharge RAG with LangChain and Vespa Streaming Mode for Sharded Data](https://blog.vespa.ai/turbocharge-rag-with-langchain-and-vespa-streaming-mode/)\n",
        "\n",
        "This notebook is also available in blog form: [TODO FIXME](https://blog.vespa.ai/)\n",
        "\n",
        "### TLDR; Vespa streaming mode for partitioned data\n",
        "\n",
        "Vespa's streaming search solution enables you to integrate a user ID (or any sharding key) into the Vespa document ID.\n",
        "This setup allows Vespa to efficiently group each user's data on a small set of nodes and the same disk chunk.\n",
        "Streaming mode enables low latency searches on a user's data without keeping data in memory.\n",
        "\n",
        "The key benefits of streaming mode:\n",
        "\n",
        "- Eliminating compromises in precision introduced by approximate algorithms\n",
        "- Achieve significantly higher write throughput, thanks to the absence of index builds required for supporting approximate search.\n",
        "- Optimize efficiency by storing documents, including tensors and data, on disk, benefiting from the cost-effective economics of storage tiers.\n",
        "- Storage cost is the primary cost driver of Vespa streaming mode; no data is in memory. Avoiding memory usage lowers deployment costs significantly.\n",
        "\n",
        "\n",
        "### Connecting LangChain Retriever with Vespa for Context Retrieval from PDF Documents\n",
        "\n",
        "In this notebook, we seamlessly integrate a custom [LangChain](https://python.langchain.com/docs/get_started/introduction)\n",
        "[retriever](https://python.langchain.com/docs/modules/data_connection/) with a Vespa app,\n",
        "leveraging Vespa's streaming mode to extract meaningful context from PDF documents.\n",
        "\n",
        "The workflow\n",
        "\n",
        "- Define and deploy a Vespa [application package](https://docs.vespa.ai/en/application-packages.html) using PyVespa.\n",
        "- Utilize [LangChain PDF Loaders](https://python.langchain.com/docs/modules/data_connection/document_loaders/pdf) to download and parse PDF files.\n",
        "- Leverage [LangChain Document Transformers](https://python.langchain.com/docs/modules/data_connection/document_transformers/)\n",
        "to convert each PDF page into multiple text chunks.\n",
        "- Feed the transformer representation to the running Vespa instance\n",
        "- Employ Vespa's built-in ColBERT embedder functionality (using an open-source embedding model) for embedding the text chunks, resulting in a multi-vector representation per chunk\n",
        "- Develop a custom [Retriever](https://python.langchain.com/docs/modules/data_connection/retrievers/) to enable seamless retrieval for any unstructured text query.\n",
        "\n",
        "\n",
        "![Overview](https://blog.vespa.ai/assets/2023-12-08-turbocharge-rag-with-langchain-and-vespa-streaming-mode/turbocharge-RAG-vespa-streaming.png)\n",
        "\n",
        "Let's get started! First, install dependencies:"
      ]
    },
    {
      "cell_type": "code",
      "execution_count": null,
      "id": "4ffa3cbe",
      "metadata": {
        "id": "4ffa3cbe"
      },
      "outputs": [],
      "source": [
        "!pip3 install -U pyvespa langchain langchain-openai pypdf openai"
      ]
    },
    {
      "cell_type": "markdown",
      "id": "fd3b1e45",
      "metadata": {
        "id": "fd3b1e45"
      },
      "source": [
        "## Sample data\n",
        "We love [ColBERT](https://blog.vespa.ai/pretrained-transformer-language-models-for-search-part-3/), so\n",
        "we'll use a few COlBERT related papers as examples of PDFs in this notebook."
      ]
    },
    {
      "cell_type": "code",
      "execution_count": 2,
      "id": "384c4c56",
      "metadata": {
        "id": "384c4c56"
      },
      "outputs": [],
      "source": [
        "def sample_pdfs():\n",
        "    return [\n",
        "        {\n",
        "            \"title\": \"ColBERTv2: Effective and Efficient Retrieval via Lightweight Late Interaction\",\n",
        "            \"url\": \"https://arxiv.org/pdf/2112.01488.pdf\",\n",
        "            \"authors\": \"Keshav Santhanam, Omar Khattab, Jon Saad-Falcon, Christopher Potts, Matei Zaharia\"\n",
        "        },\n",
        "        {\n",
        "            \"title\": \"ColBERT: Efficient and Effective Passage Search via Contextualized Late Interaction over BERT\",\n",
        "            \"url\": \"https://arxiv.org/pdf/2004.12832.pdf\",\n",
        "            \"authors\": \"Omar Khattab, Matei Zaharia\"\n",
        "        },\n",
        "        {\n",
        "            \"title\": \"On Approximate Nearest Neighbour Selection for Multi-Stage Dense Retrieval\",\n",
        "            \"url\": \"https://arxiv.org/pdf/2108.11480.pdf\",\n",
        "            \"authors\": \"Craig Macdonald, Nicola Tonellotto\"\n",
        "        },\n",
        "        {\n",
        "            \"title\": \"A Study on Token Pruning for ColBERT\",\n",
        "            \"url\": \"https://arxiv.org/pdf/2112.06540.pdf\",\n",
        "            \"authors\": \"Carlos Lassance, Maroua Maachou, Joohee Park, Stéphane Clinchant\"\n",
        "        },\n",
        "        {\n",
        "            \"title\": \"Pseudo-Relevance Feedback for Multiple Representation Dense Retrieval\",\n",
        "            \"url\": \"https://arxiv.org/pdf/2106.11251.pdf\",\n",
        "            \"authors\": \"Xiao Wang, Craig Macdonald, Nicola Tonellotto, Iadh Ounis\"\n",
        "        }\n",
        "\n",
        "    ]"
      ]
    },
    {
      "cell_type": "markdown",
      "id": "da356d25",
      "metadata": {
        "id": "da356d25"
      },
      "source": [
        "## Definining the Vespa application\n",
        "[PyVespa](https://pyvespa.readthedocs.io/en/latest/) helps us build the [Vespa application package](https://docs.vespa.ai/en/application-packages.html).\n",
        "A Vespa application package consists of configuration files, schemas, models, and code (plugins).   \n",
        "\n",
        "First, we define a [Vespa schema](https://docs.vespa.ai/en/schemas.html) with the fields we want to store and their type."
      ]
    },
    {
      "cell_type": "code",
      "execution_count": 3,
      "id": "0dca2378",
      "metadata": {
        "id": "0dca2378"
      },
      "outputs": [],
      "source": [
        "from vespa.package import Schema, Document, Field, FieldSet\n",
        "pdf_schema = Schema(\n",
        "            name=\"pdf\",\n",
        "            mode=\"streaming\",\n",
        "            document=Document(\n",
        "                fields=[\n",
        "                    Field(name=\"id\", type=\"string\", indexing=[\"summary\"]),\n",
        "                    Field(name=\"title\", type=\"string\", indexing=[\"summary\", \"index\"]),\n",
        "                    Field(name=\"url\", type=\"string\", indexing=[\"summary\", \"index\"]),\n",
        "                    Field(name=\"authors\", type=\"array<string>\", indexing=[\"summary\", \"index\"]),\n",
        "                    Field(name=\"metadata\", type=\"map<string,string>\", indexing=[\"summary\", \"index\"]),\n",
        "                    Field(name=\"page\", type=\"int\", indexing=[\"summary\", \"attribute\"]),\n",
        "                    Field(name=\"chunkno\", type=\"int\", indexing=[\"summary\", \"attribute\"]),\n",
        "                    Field(name=\"chunk\", type=\"string\", indexing=[\"summary\", \"index\"]),\n",
        "\n",
        "                    Field(name=\"embedding\", type=\"tensor<bfloat16>(x[384])\",\n",
        "                        indexing=['\"passage: \" . (input title || \"\") . \" \" . (input chunk || \"\")', \"embed e5\", \"attribute\"],\n",
        "                        attribute=[\"distance-metric: angular\"],\n",
        "                        is_document_field=False\n",
        "                    ),\n",
        "\n",
        "                    Field(name=\"colbert\", type=\"tensor<int8>(dt{}, x[16])\",\n",
        "                        indexing=['(input title || \"\") . \" \" . (input chunk || \"\")', \"embed colbert\", \"attribute\"],\n",
        "                        is_document_field=False\n",
        "                    )\n",
        "                ],\n",
        "            ),\n",
        "            fieldsets=[\n",
        "                FieldSet(name = \"default\", fields = [\"title\", \"chunk\"])\n",
        "            ]\n",
        ")"
      ]
    },
    {
      "cell_type": "markdown",
      "id": "2834fe25",
      "metadata": {
        "id": "2834fe25"
      },
      "source": [
        "The above defines our `pdf` schema using mode `streaming`. Most fields are straightforward,  but take a note of:\n",
        "\n",
        "- `metadata` using `map<string,string>` - here we can store and match over page level metadata extracted by the PDF parser.\n",
        "- `chunk` using `<string>`, this is the text chunks that we use langchain document transformers for\n",
        "- The `embedding` field of type `tensor<bfloat16>(chunk{},x[384])` allows us to store and search a single 384-dimensional embeddings per chunk in the same document\n",
        "- The `colbert` field of type `tensor<int8>(dt{}, x[16])` stores the ColBERT embedding, retaining a (quantized) per-token representation of the text."
      ]
    },
    {
      "cell_type": "markdown",
      "id": "4e2539f8",
      "metadata": {
        "id": "4e2539f8"
      },
      "source": [
        "The observant reader might have noticed the `e5` and `colbert` arguments to the `embed` expression in the above `embedding` field.\n",
        "The `e5` argument references a component of the type [hugging-face-embedder](https://docs.vespa.ai/en/embedding.html#huggingface-embedder), and `colbert` references the new [cobert-embedder](https://docs.vespa.ai/en/embedding.html#colbert-embedder). We configure\n",
        "the application package and its name with the `pdf` schema and the `e5` and `colbert` embedder components."
      ]
    },
    {
      "cell_type": "code",
      "execution_count": 4,
      "id": "66c5da1d",
      "metadata": {
        "id": "66c5da1d"
      },
      "outputs": [],
      "source": [
        "from vespa.package import ApplicationPackage, Component, Parameter\n",
        "\n",
        "vespa_app_name = \"pdfs\"\n",
        "vespa_application_package = ApplicationPackage(\n",
        "        name=vespa_app_name,\n",
        "        schema=[pdf_schema],\n",
        "        components=[\n",
        "            Component(id=\"e5\", type=\"hugging-face-embedder\",\n",
        "              parameters=[\n",
        "                  Parameter(\"transformer-model\", {\"url\": \"https://huggingface.co/intfloat/e5-small-v2/resolve/main/model.onnx\"}),\n",
        "                  Parameter(\"tokenizer-model\", {\"url\": \"https://huggingface.co/intfloat/e5-small-v2/raw/main/tokenizer.json\"})\n",
        "              ]\n",
        "            ),\n",
        "            Component(id=\"colbert\", type=\"colbert-embedder\",\n",
        "              parameters=[\n",
        "                  Parameter(\"transformer-model\", {\"url\": \"https://huggingface.co/colbert-ir/colbertv2.0/resolve/main/model.onnx\"}),\n",
        "                  Parameter(\"tokenizer-model\", {\"url\": \"https://huggingface.co/colbert-ir/colbertv2.0/raw/main/tokenizer.json\"})\n",
        "              ]\n",
        "            )\n",
        "        ]\n",
        ")"
      ]
    },
    {
      "cell_type": "markdown",
      "id": "7fe3d7bd",
      "metadata": {
        "id": "7fe3d7bd"
      },
      "source": [
        "In the last step, we configure [ranking](https://docs.vespa.ai/en/ranking.html) by adding `rank-profile`'s to the schema.\n",
        "\n",
        "Vespa supports [phased ranking](https://docs.vespa.ai/en/phased-ranking.html) and has a rich set of built-in [rank-features](https://docs.vespa.ai/en/reference/rank-features.html), including many\n",
        "text-matching features such as:\n",
        "\n",
        "- [BM25](https://docs.vespa.ai/en/reference/bm25.html).\n",
        "- [nativeRank](https://docs.vespa.ai/en/reference/nativerank.html) and many more.\n",
        "\n",
        "Users can also define custom functions using [ranking expressions](https://docs.vespa.ai/en/reference/ranking-expressions.html). The following defines a `colbert` Vespa ranking profile which uses the `e5` embedding in the first phase, and the `max_sim` function in the second phase. The `max_sim` function performs the _late interaction_ for the ColBERT ranking, and is by default applied to the top 100 documents from the first phase."
      ]
    },
    {
      "cell_type": "code",
      "execution_count": 5,
      "id": "a8ce5624",
      "metadata": {
        "id": "a8ce5624"
      },
      "outputs": [],
      "source": [
        "from vespa.package import RankProfile, Function, FirstPhaseRanking, SecondPhaseRanking\n",
        "\n",
        "colbert = RankProfile(\n",
        "    name=\"colbert\",\n",
        "    inputs=[\n",
        "        (\"query(q)\", \"tensor<float>(x[384])\"),\n",
        "        (\"query(qt)\", \"tensor<float>(qt{}, x[128])\")\n",
        "        ],\n",
        "    functions=[\n",
        "        Function(\n",
        "            name=\"unpack\",\n",
        "            expression=\"unpack_bits(attribute(colbert))\"\n",
        "        ),\n",
        "        Function(\n",
        "            name=\"cos_sim\",\n",
        "            expression=\"closeness(field, embedding)\"\n",
        "        ),\n",
        "        Function(\n",
        "            name=\"max_sim\",\n",
        "            expression=\"\"\"\n",
        "                sum(\n",
        "                    reduce(\n",
        "                        sum(\n",
        "                            query(qt) * unpack() , x\n",
        "                        ),\n",
        "                        max, dt\n",
        "                    ),\n",
        "                    qt\n",
        "                )\n",
        "            \"\"\"\n",
        "        )\n",
        "    ],\n",
        "    first_phase=FirstPhaseRanking(\n",
        "        expression=\"cos_sim\"\n",
        "    ),\n",
        "    second_phase=SecondPhaseRanking(\n",
        "        expression=\"max_sim\"\n",
        "    ),\n",
        "    match_features=[\"max_sim\", \"cos_sim\"]\n",
        ")\n",
        "pdf_schema.add_rank_profile(colbert)"
      ]
    },
    {
      "cell_type": "markdown",
      "id": "ce78268c",
      "metadata": {
        "id": "ce78268c"
      },
      "source": [
        "For an example of a `hybrid` rank-profile which combines semantic search with traditional text retrieval such as BM25, see the previous blog post: [Turbocharge RAG with LangChain and Vespa Streaming Mode for Sharded Data](https://blog.vespa.ai/turbocharge-rag-with-langchain-and-vespa-streaming-mode/)"
      ]
    },
    {
      "cell_type": "markdown",
      "id": "846545f9",
      "metadata": {
        "id": "846545f9"
      },
      "source": [
        "## Deploy the application to Vespa Cloud\n",
        "\n",
        "With the configured application, we can deploy it to [Vespa Cloud](https://cloud.vespa.ai/en/).\n",
        "It is also possible to deploy the app using docker; see the [Hybrid Search - Quickstart](https://pyvespa.readthedocs.io/en/latest/getting-started-pyvespa.html) guide for\n",
        "an example of deploying it to a local docker container."
      ]
    },
    {
      "cell_type": "markdown",
      "id": "16179d9b",
      "metadata": {
        "id": "16179d9b"
      },
      "source": [
        "Install the Vespa CLI using [homebrew](https://brew.sh/) - or download a binary from GitHub as demonstrated below."
      ]
    },
    {
      "cell_type": "code",
      "execution_count": null,
      "id": "343981ce",
      "metadata": {
        "id": "343981ce"
      },
      "outputs": [],
      "source": [
        "!brew install vespa-cli"
      ]
    },
    {
      "cell_type": "markdown",
      "id": "863d0700",
      "metadata": {
        "id": "863d0700"
      },
      "source": [
        "Alternatively, if running in Colab, download the Vespa CLI:"
      ]
    },
    {
      "cell_type": "code",
      "execution_count": 6,
      "id": "d5670bb6",
      "metadata": {
        "id": "d5670bb6"
      },
      "outputs": [],
      "source": [
        "import os\n",
        "import requests\n",
        "res = requests.get(url=\"https://api.github.com/repos/vespa-engine/vespa/releases/latest\").json()\n",
        "os.environ[\"VERSION\"] = res[\"tag_name\"].replace(\"v\", \"\")\n",
        "!curl -fsSL https://github.com/vespa-engine/vespa/releases/download/v${VERSION}/vespa-cli_${VERSION}_linux_amd64.tar.gz | tar -zxf -\n",
        "!ln -sf /content/vespa-cli_${VERSION}_linux_amd64/bin/vespa /bin/vespa"
      ]
    },
    {
      "cell_type": "markdown",
      "id": "0ff00727",
      "metadata": {
        "id": "0ff00727"
      },
      "source": [
        "To deploy the application to Vespa Cloud we need to create a tenant in the Vespa Cloud:\n",
        "\n",
        "Create a tenant at [console.vespa-cloud.com](https://console.vespa-cloud.com/) (unless you already have one).\n",
        "This step requires a Google or GitHub account, and will start your [free trial](https://cloud.vespa.ai/en/free-trial).\n",
        "Make note of the tenant name, it is used in the next steps."
      ]
    },
    {
      "cell_type": "markdown",
      "id": "df9f9a1c",
      "metadata": {
        "id": "df9f9a1c"
      },
      "source": [
        "### Configure Vespa Cloud date-plane security\n",
        "\n",
        "Create Vespa Cloud data-plane mTLS cert/key-pair. The mutual certificate pair is used to talk to your Vespa cloud endpoints. See [Vespa Cloud Security Guide](https://cloud.vespa.ai/en/security/guide) for details.\n",
        "\n",
        "We save the paths to the credentials for later data-plane access without using pyvespa APIs."
      ]
    },
    {
      "cell_type": "code",
      "execution_count": 7,
      "id": "b6a766d6",
      "metadata": {
        "colab": {
          "base_uri": "https://localhost:8080/"
        },
        "id": "b6a766d6",
        "outputId": "9f05ce4d-378a-4abf-cefe-d8dd2580b25a"
      },
      "outputs": [
        {
          "output_type": "stream",
          "name": "stdout",
          "text": [
            "\u001b[32mSuccess:\u001b[0m Certificate written to \u001b[36m'/root/.vespa/vespa-team.pdfs.default/data-plane-public-cert.pem'\u001b[0m\n",
            "\u001b[32mSuccess:\u001b[0m Private key written to \u001b[36m'/root/.vespa/vespa-team.pdfs.default/data-plane-private-key.pem'\u001b[0m\n"
          ]
        }
      ],
      "source": [
        "import os\n",
        "\n",
        "os.environ[\"TENANT_NAME\"] = \"vespa-team\" # Replace with your tenant name\n",
        "\n",
        "vespa_cli_command = f'vespa config set application {os.environ[\"TENANT_NAME\"]}.{vespa_app_name}'\n",
        "\n",
        "!vespa config set target cloud\n",
        "!{vespa_cli_command}\n",
        "!vespa auth cert -N"
      ]
    },
    {
      "cell_type": "markdown",
      "id": "b228381b",
      "metadata": {
        "id": "b228381b"
      },
      "source": [
        "Validate that we have the expected data-plane credential files:"
      ]
    },
    {
      "cell_type": "code",
      "execution_count": 8,
      "id": "1f0b97c8",
      "metadata": {
        "id": "1f0b97c8"
      },
      "outputs": [],
      "source": [
        "from os.path import exists\n",
        "from pathlib import Path\n",
        "\n",
        "cert_path = Path.home() / \".vespa\" / f\"{os.environ['TENANT_NAME']}.{vespa_app_name}.default/data-plane-public-cert.pem\"\n",
        "key_path = Path.home() / \".vespa\" / f\"{os.environ['TENANT_NAME']}.{vespa_app_name}.default/data-plane-private-key.pem\"\n",
        "\n",
        "if not exists(cert_path) or not exists(key_path):\n",
        "    print(\"ERROR: set the correct paths to security credentials. Correct paths above and rerun until you do not see this error\")"
      ]
    },
    {
      "cell_type": "markdown",
      "id": "85ce80e0",
      "metadata": {
        "id": "85ce80e0"
      },
      "source": [
        "Note that the subsequent Vespa Cloud deploy call below will add `data-plane-public-cert.pem` to the application before deploying it to Vespa Cloud, so that\n",
        "you have access to both the private key and the public certificate. At the same time, Vespa Cloud only knows the public certificate.\n",
        "\n",
        "### Configure Vespa Cloud control-plane security\n",
        "\n",
        "Authenticate to generate a tenant level control plane API key for deploying the applications to Vespa Cloud, and save the path to it.\n",
        "\n",
        "The generated tenant api key must be added in the Vespa Console before attemting to deploy the application.\n",
        "\n",
        "```\n",
        "To use this key in Vespa Cloud click 'Add custom key' at\n",
        "https://console.vespa-cloud.com/tenant/TENANT_NAME/account/keys\n",
        "and paste the entire public key including the BEGIN and END lines.\n",
        "```"
      ]
    },
    {
      "cell_type": "code",
      "execution_count": 9,
      "id": "5bf8731c",
      "metadata": {
        "colab": {
          "base_uri": "https://localhost:8080/"
        },
        "id": "5bf8731c",
        "outputId": "12765e29-1060-43f7-bd77-ff13d72835ed"
      },
      "outputs": [
        {
          "output_type": "stream",
          "name": "stdout",
          "text": [
            "\u001b[32mSuccess:\u001b[0m Developer private key for tenant \u001b[36mvespa-team\u001b[0m written to '/root/.vespa/vespa-team.api-key.pem'\n",
            "\n",
            "This is your public key:\n",
            "\u001b[32m-----BEGIN PUBLIC KEY-----\n",
            "MFkwEwYHKoZIzj0CAQYIKoZIzj0DAQcDQgAEwDAfZCdD4VKoVKD4Mt/kXE0MYNTJ\n",
            "xcKshC42sWwi7gvYMGYwTcasZDczHhn8t4b6cxBlBk9R2TaRswRJ9TSLVQ==\n",
            "-----END PUBLIC KEY-----\n",
            "\u001b[0m\n",
            "Its fingerprint is:\n",
            "\u001b[36meb:8d:3e:88:b4:cd:50:2a:89:c9:0a:b2:27:35:9d:aa\u001b[0m\n",
            "\n",
            "To use this key in Vespa Cloud click 'Add custom key' at\n",
            "\u001b[36mhttps://console.vespa-cloud.com/tenant/vespa-team/account/keys\u001b[0m\n",
            "and paste the entire public key including the BEGIN and END lines.\n"
          ]
        }
      ],
      "source": [
        "!vespa auth api-key\n",
        "\n",
        "from pathlib import Path\n",
        "api_key_path = Path.home() / \".vespa\" / f\"{os.environ['TENANT_NAME']}.api-key.pem\""
      ]
    },
    {
      "cell_type": "markdown",
      "id": "21db1010",
      "metadata": {
        "id": "21db1010"
      },
      "source": [
        "### Deploy to Vespa Cloud\n",
        "\n",
        "Now that we have data-plane and control-plane credentials ready, we can deploy our application to Vespa Cloud!\n",
        "\n",
        "`PyVespa` supports deploying apps to the [development zone](https://cloud.vespa.ai/en/reference/environments#dev-and-perf).\n",
        "\n",
        ">Note: Deployments to dev and perf expire after 7 days of inactivity, i.e., 7 days after running deploy. This applies to all plans, not only the Free Trial. Use the Vespa Console to extend the expiry period, or redeploy the application to add 7 more days."
      ]
    },
    {
      "cell_type": "code",
      "execution_count": 14,
      "id": "b5fddf9f",
      "metadata": {
        "id": "b5fddf9f"
      },
      "outputs": [],
      "source": [
        "from vespa.deployment import VespaCloud\n",
        "\n",
        "def read_secret():\n",
        "    \"\"\"Read the API key from the environment variable. This is\n",
        "    only used for CI/CD purposes.\"\"\"\n",
        "    t = os.getenv(\"VESPA_TEAM_API_KEY\")\n",
        "    if t:\n",
        "        return t.replace(r\"\\n\", \"\\n\")\n",
        "    else:\n",
        "        return t\n",
        "\n",
        "vespa_cloud = VespaCloud(\n",
        "    tenant=os.environ[\"TENANT_NAME\"],\n",
        "    application=vespa_app_name,\n",
        "    key_content=read_secret() if read_secret() else None,\n",
        "    key_location=api_key_path,\n",
        "    application_package=vespa_application_package)"
      ]
    },
    {
      "cell_type": "markdown",
      "id": "fa9baa5a",
      "metadata": {
        "id": "fa9baa5a"
      },
      "source": [
        "Now deploy the app to Vespa Cloud dev zone.\n",
        "\n",
        "The first deployment typically takes 2 minutes until the endpoint is up."
      ]
    },
    {
      "cell_type": "code",
      "execution_count": 15,
      "id": "fe954dc4",
      "metadata": {
        "colab": {
          "base_uri": "https://localhost:8080/"
        },
        "id": "fe954dc4",
        "outputId": "a0764bd3-98c2-492a-b8d9-b99ecacf4bdb"
      },
      "outputs": [
        {
          "output_type": "stream",
          "name": "stdout",
          "text": [
            "Deployment started in run 1 of dev-aws-us-east-1c for vespa-team.pdfs. This may take a few minutes the first time.\n",
            "INFO    [09:57:32]  Deploying platform version 8.289.21 and application dev build 1 for dev-aws-us-east-1c of default ...\n",
            "INFO    [09:57:32]  Using CA signed certificate version 0\n",
            "INFO    [09:57:32]  Using 1 nodes in container cluster 'pdfs_container'\n",
            "INFO    [09:57:36]  Deployment successful.\n",
            "INFO    [09:57:36]  Session 280679 for tenant 'vespa-team' prepared and activated.\n",
            "INFO    [09:57:40]  ######## Details for all nodes ########\n",
            "INFO    [09:57:50]  h88976d.dev.aws-us-east-1c.vespa-external.aws.oath.cloud: expected to be UP\n",
            "INFO    [09:57:50]  --- platform vespa/cloud-tenant-rhel8:8.289.21 <-- :\n",
            "INFO    [09:57:50]  --- logserver-container on port 4080 has not started \n",
            "INFO    [09:57:50]  --- metricsproxy-container on port 19092 has not started \n",
            "INFO    [09:57:50]  h88976g.dev.aws-us-east-1c.vespa-external.aws.oath.cloud: expected to be UP\n",
            "INFO    [09:57:50]  --- platform vespa/cloud-tenant-rhel8:8.289.21 <-- :\n",
            "INFO    [09:57:50]  --- container-clustercontroller on port 19050 has not started \n",
            "INFO    [09:57:50]  --- metricsproxy-container on port 19092 has not started \n",
            "INFO    [09:57:50]  h89963b.dev.aws-us-east-1c.vespa-external.aws.oath.cloud: expected to be UP\n",
            "INFO    [09:57:50]  --- platform vespa/cloud-tenant-rhel8:8.289.21 <-- :\n",
            "INFO    [09:57:50]  --- storagenode on port 19102 has not started \n",
            "INFO    [09:57:50]  --- searchnode on port 19107 has not started \n",
            "INFO    [09:57:50]  --- distributor on port 19111 has not started \n",
            "INFO    [09:57:50]  --- metricsproxy-container on port 19092 has not started \n",
            "INFO    [09:57:50]  h90210a.dev.aws-us-east-1c.vespa-external.aws.oath.cloud: expected to be UP\n",
            "INFO    [09:57:50]  --- platform vespa/cloud-tenant-rhel8:8.289.21 <-- :\n",
            "INFO    [09:57:50]  --- container on port 4080 has not started \n",
            "INFO    [09:57:50]  --- metricsproxy-container on port 19092 has not started \n",
            "INFO    [09:57:53]  Waiting for convergence of 10 services across 4 nodes\n",
            "INFO    [09:57:59]  3/3 nodes upgrading platform\n",
            "INFO    [09:57:59]  10 application services still deploying\n",
            "DEBUG   [09:57:59]  h88976d.dev.aws-us-east-1c.vespa-external.aws.oath.cloud: expected to be UP\n",
            "DEBUG   [09:57:59]  --- platform vespa/cloud-tenant-rhel8:8.289.21 <-- :\n",
            "DEBUG   [09:57:59]  --- logserver-container on port 4080 has not started \n",
            "DEBUG   [09:57:59]  --- metricsproxy-container on port 19092 has not started \n",
            "DEBUG   [09:57:59]  h89963b.dev.aws-us-east-1c.vespa-external.aws.oath.cloud: expected to be UP\n",
            "DEBUG   [09:57:59]  --- platform vespa/cloud-tenant-rhel8:8.289.21 <-- :\n",
            "DEBUG   [09:57:59]  --- storagenode on port 19102 has not started \n",
            "DEBUG   [09:57:59]  --- searchnode on port 19107 has not started \n",
            "DEBUG   [09:57:59]  --- distributor on port 19111 has not started \n",
            "DEBUG   [09:57:59]  --- metricsproxy-container on port 19092 has not started \n",
            "DEBUG   [09:57:59]  h90210a.dev.aws-us-east-1c.vespa-external.aws.oath.cloud: expected to be UP\n",
            "DEBUG   [09:57:59]  --- platform vespa/cloud-tenant-rhel8:8.289.21 <-- :\n",
            "DEBUG   [09:57:59]  --- container on port 4080 has not started \n",
            "DEBUG   [09:57:59]  --- metricsproxy-container on port 19092 has not started \n",
            "DEBUG   [09:57:59]  h88976g.dev.aws-us-east-1c.vespa-external.aws.oath.cloud: expected to be UP\n",
            "DEBUG   [09:57:59]  --- platform vespa/cloud-tenant-rhel8:8.289.21\n",
            "DEBUG   [09:57:59]  --- container-clustercontroller on port 19050 has not started \n",
            "DEBUG   [09:57:59]  --- metricsproxy-container on port 19092 has not started \n",
            "INFO    [09:58:23]  Waiting for convergence of 10 services across 4 nodes\n",
            "INFO    [09:58:23]  1/1 nodes upgrading platform\n",
            "INFO    [09:58:23]  9 application services still deploying\n",
            "DEBUG   [09:58:23]  h90210a.dev.aws-us-east-1c.vespa-external.aws.oath.cloud: expected to be UP\n",
            "DEBUG   [09:58:23]  --- platform vespa/cloud-tenant-rhel8:8.289.21 <-- :\n",
            "DEBUG   [09:58:23]  --- container on port 4080 has not started \n",
            "DEBUG   [09:58:23]  --- metricsproxy-container on port 19092 has not started \n",
            "DEBUG   [09:58:23]  h88976d.dev.aws-us-east-1c.vespa-external.aws.oath.cloud: expected to be UP\n",
            "DEBUG   [09:58:23]  --- platform vespa/cloud-tenant-rhel8:8.289.21\n",
            "DEBUG   [09:58:23]  --- logserver-container on port 4080 has not started \n",
            "DEBUG   [09:58:23]  --- metricsproxy-container on port 19092 has not started \n",
            "DEBUG   [09:58:23]  h88976g.dev.aws-us-east-1c.vespa-external.aws.oath.cloud: expected to be UP\n",
            "DEBUG   [09:58:23]  --- platform vespa/cloud-tenant-rhel8:8.289.21\n",
            "DEBUG   [09:58:23]  --- container-clustercontroller on port 19050 has not started \n",
            "DEBUG   [09:58:23]  --- metricsproxy-container on port 19092 has not started \n",
            "DEBUG   [09:58:23]  h89963b.dev.aws-us-east-1c.vespa-external.aws.oath.cloud: expected to be UP\n",
            "DEBUG   [09:58:23]  --- platform vespa/cloud-tenant-rhel8:8.289.21\n",
            "DEBUG   [09:58:23]  --- storagenode on port 19102 has not started \n",
            "DEBUG   [09:58:23]  --- searchnode on port 19107 has config generation 280679, wanted is 280679\n",
            "DEBUG   [09:58:23]  --- distributor on port 19111 has not started \n",
            "DEBUG   [09:58:23]  --- metricsproxy-container on port 19092 has not started \n",
            "INFO    [09:58:52]  Waiting for convergence of 10 services across 4 nodes\n",
            "INFO    [09:58:52]  1/1 nodes upgrading platform\n",
            "INFO    [09:58:52]  2 application services still deploying\n",
            "DEBUG   [09:58:52]  h90210a.dev.aws-us-east-1c.vespa-external.aws.oath.cloud: expected to be UP\n",
            "DEBUG   [09:58:52]  --- platform vespa/cloud-tenant-rhel8:8.289.21 <-- :\n",
            "DEBUG   [09:58:52]  --- container on port 4080 has not started \n",
            "DEBUG   [09:58:52]  --- metricsproxy-container on port 19092 has not started \n",
            "INFO    [09:59:21]  Waiting for convergence of 10 services across 4 nodes\n",
            "INFO    [09:59:21]  1/1 nodes upgrading platform\n",
            "DEBUG   [09:59:21]  h90210a.dev.aws-us-east-1c.vespa-external.aws.oath.cloud: expected to be UP\n",
            "DEBUG   [09:59:21]  --- platform vespa/cloud-tenant-rhel8:8.289.21 <-- :\n",
            "INFO    [09:59:51]  Found endpoints:\n",
            "INFO    [09:59:51]  - dev.aws-us-east-1c\n",
            "INFO    [09:59:51]   |-- https://c21188d6.c81e7b13.z.vespa-app.cloud/ (cluster 'pdfs_container')\n",
            "INFO    [09:59:51]  Installation succeeded!\n",
            "Using mTLS (key,cert) Authentication against endpoint https://c21188d6.c81e7b13.z.vespa-app.cloud//ApplicationStatus\n",
            "Application is up!\n",
            "Finished deployment.\n"
          ]
        }
      ],
      "source": [
        "from vespa.application import Vespa\n",
        "app:Vespa = vespa_cloud.deploy()"
      ]
    },
    {
      "cell_type": "markdown",
      "id": "4cde8f22",
      "metadata": {
        "id": "4cde8f22"
      },
      "source": [
        "### Processing PDFs with LangChain\n",
        "\n",
        "[LangChain](https://python.langchain.com/) has a rich set of [document loaders](https://python.langchain.com/docs/modules/data_connection/document_loaders/) that can be used to load and process various file formats. In this notebook, we use the [PyPDFLoader](https://python.langchain.com/docs/modules/data_connection/document_loaders/pdf#using-pypdf).\n",
        "\n",
        "We also want to split the extracted text into *chunks* using a [text splitter](https://python.langchain.com/docs/modules/data_connection/document_transformers/). Most text embedding models have limited input lengths (typically less than 512 language model tokens, so splitting the text\n",
        "into multiple chunks that fits into the context limit of the embedding model is a common strategy.\n",
        "\n",
        "For embedding text data, models based on the Transformer architecture have become the de facto standard. A challenge with Transformer-based models is their input length limitation due to the quadratic self-attention computational complexity. For example, a popular open-source text embedding model like\n",
        "[e5](https://huggingface.co/intfloat/e5-small) has an absolute maximum input length of 512 wordpiece tokens. In addition to\n",
        "the technical limitation, trying to fit more tokens than used during fine-tuning of the model will impact the quality of the vector representation.\n",
        "\n",
        "One can view this text embedding encoding as a lossy compression technique, where variable-length texts are compressed\n",
        "into a fixed dimensional vector representation.\n",
        "\n",
        "Although this compressed representation is very useful, it can be imprecise especially as the size of the text increases. By adding the ColBERT embedding, we also retain token-level information which retains more of the original meaning of the text and allows the richer _late interaction_ between the query and the document text."
      ]
    },
    {
      "cell_type": "code",
      "execution_count": 16,
      "id": "d9e42b0f",
      "metadata": {
        "id": "d9e42b0f"
      },
      "outputs": [],
      "source": [
        "from langchain.document_loaders import PyPDFLoader\n",
        "from langchain.text_splitter import RecursiveCharacterTextSplitter\n",
        "text_splitter = RecursiveCharacterTextSplitter(\n",
        "    chunk_size = 1024, #chars, not llm tokens\n",
        "    chunk_overlap  = 0,\n",
        "    length_function = len,\n",
        "    is_separator_regex = False,\n",
        ")"
      ]
    },
    {
      "cell_type": "markdown",
      "id": "adaccdfc",
      "metadata": {
        "id": "adaccdfc"
      },
      "source": [
        "The following iterates over the `sample_pdfs` and performs the following:\n",
        "\n",
        "- Load the URL and extract the text into pages. A page is the retrievable unit we will use in Vespa\n",
        "- For each page, use the text splitter to split the text into chunks. The chunks are represented as an `array<string>` in the Vespa schema\n",
        "- Create the page level Vespa `fields`, note that we duplicate some content like the title and URL into the page level representation."
      ]
    },
    {
      "cell_type": "code",
      "execution_count": 17,
      "id": "bf8ac8c7",
      "metadata": {
        "id": "bf8ac8c7"
      },
      "outputs": [],
      "source": [
        "import hashlib\n",
        "import unicodedata\n",
        "def remove_control_characters(s):\n",
        "    return \"\".join(ch for ch in s if unicodedata.category(ch)[0]!=\"C\")\n",
        "\n",
        "my_docs_to_feed = []\n",
        "for pdf in sample_pdfs():\n",
        "    url = pdf['url']\n",
        "    loader = PyPDFLoader(url)\n",
        "    pages = loader.load_and_split()\n",
        "    for index, page in enumerate(pages):\n",
        "        source = page.metadata['source']\n",
        "        chunks = text_splitter.transform_documents([page])\n",
        "        text_chunks = [chunk.page_content for chunk in chunks]\n",
        "        text_chunks = [remove_control_characters(chunk) for chunk in text_chunks]\n",
        "        page_number = index + 1\n",
        "        for chunkno, chunk in enumerate(text_chunks):\n",
        "          vespa_id = f\"{url}#{page_number}#{chunkno}\"\n",
        "          hash_value = hashlib.sha1(vespa_id.encode()).hexdigest()\n",
        "          fields = {\n",
        "              \"title\" : pdf['title'],\n",
        "              \"url\" : url,\n",
        "              \"page\": page_number,\n",
        "              \"id\": hash_value,\n",
        "              \"authors\": [a.strip() for a in pdf['authors'].split(\",\")],\n",
        "              \"chunkno\": chunkno,\n",
        "              \"chunk\": chunk,\n",
        "              \"metadata\": page.metadata\n",
        "          }\n",
        "          my_docs_to_feed.append(fields)\n"
      ]
    },
    {
      "cell_type": "markdown",
      "id": "54db44b1",
      "metadata": {
        "id": "54db44b1"
      },
      "source": [
        "Now that we have parsed the input PDFs and created a list of pages that we want to add to Vespa, we must format the\n",
        "list into the format that PyVespa accepts. Notice the `fields`, `id` and `groupname` keys. The `groupname` is the\n",
        "key that is used to shard and co-locate the data and is only relevant when using Vespa with streaming mode."
      ]
    },
    {
      "cell_type": "code",
      "execution_count": 18,
      "id": "bcbfa981",
      "metadata": {
        "id": "bcbfa981"
      },
      "outputs": [],
      "source": [
        "from typing import Iterable\n",
        "def vespa_feed(user:str) -> Iterable[dict]:\n",
        "    for doc in my_docs_to_feed:\n",
        "        yield {\n",
        "            \"fields\": doc,\n",
        "            \"id\": doc[\"id\"],\n",
        "            \"groupname\": user\n",
        "        }"
      ]
    },
    {
      "cell_type": "code",
      "execution_count": 19,
      "id": "MMvbUZ1Vpuup",
      "metadata": {
        "colab": {
          "base_uri": "https://localhost:8080/"
        },
        "id": "MMvbUZ1Vpuup",
        "outputId": "3dd357d7-1a2f-4d51-abe2-efdd2dd6a829"
      },
      "outputs": [
        {
          "output_type": "execute_result",
          "data": {
            "text/plain": [
              "{'title': 'ColBERTv2: Effective and Efficient Retrieval via Lightweight Late Interaction',\n",
              " 'url': 'https://arxiv.org/pdf/2112.01488.pdf',\n",
              " 'page': 1,\n",
              " 'id': 'e8804aca8be65ac4610b88e53d5aaa38e6a74870',\n",
              " 'authors': ['Keshav Santhanam',\n",
              "  'Omar Khattab',\n",
              "  'Jon Saad-Falcon',\n",
              "  'Christopher Potts',\n",
              "  'Matei Zaharia'],\n",
              " 'chunkno': 0,\n",
              " 'chunk': 'ColBERTv2:Effective and Efﬁcient Retrieval via Lightweight Late InteractionKeshav Santhanam∗Stanford UniversityOmar Khattab∗Stanford UniversityJon Saad-FalconGeorgia Institute of TechnologyChristopher PottsStanford UniversityMatei ZahariaStanford UniversityAbstractNeural information retrieval (IR) has greatlyadvanced search and other knowledge-intensive language tasks. While many neuralIR methods encode queries and documentsinto single-vector representations, lateinteraction models produce multi-vector repre-sentations at the granularity of each token anddecompose relevance modeling into scalabletoken-level computations. This decompositionhas been shown to make late interaction moreeffective, but it inﬂates the space footprint ofthese models by an order of magnitude. In thiswork, we introduce ColBERTv2, a retrieverthat couples an aggressive residual compres-sion mechanism with a denoised supervisionstrategy to simultaneously improve the quality',\n",
              " 'metadata': {'source': 'https://arxiv.org/pdf/2112.01488.pdf', 'page': 0}}"
            ]
          },
          "metadata": {},
          "execution_count": 19
        }
      ],
      "source": [
        "my_docs_to_feed[0]"
      ]
    },
    {
      "cell_type": "markdown",
      "id": "2ff628ac",
      "metadata": {
        "id": "2ff628ac"
      },
      "source": [
        "Now, we can feed to the Vespa instance (`app`), using the `feed_iterable` API, using the generator function above as input\n",
        "with a custom `callback` function. Vespa also performs embedding inference during this step using the built-in Vespa [embedding](https://docs.vespa.ai/en/embedding.html#huggingface-embedder) functionality."
      ]
    },
    {
      "cell_type": "code",
      "execution_count": 20,
      "id": "dc1b3029",
      "metadata": {
        "id": "dc1b3029"
      },
      "outputs": [],
      "source": [
        "from vespa.io import VespaResponse\n",
        "\n",
        "def callback(response:VespaResponse, id:str):\n",
        "    if not response.is_successful():\n",
        "        print(f\"Document {id} failed to feed with status code {response.status_code}, url={response.url} response={response.json}\")\n",
        "\n",
        "app.feed_iterable(schema=\"pdf\", iter=vespa_feed(\"jo-bergum\"), namespace=\"personal\", callback=callback)"
      ]
    },
    {
      "cell_type": "markdown",
      "id": "431dc2f9",
      "metadata": {
        "id": "431dc2f9"
      },
      "source": [
        "Notice the `schema` and `namespace` arguments. PyVespa transforms the input operations to Vespa [document v1](https://docs.vespa.ai/en/document-v1-api-guide.html)\n",
        "requests.\n",
        "\n",
        "TODO FIXME use updated image with single chunk per doc\n",
        "\n",
        "![Document id](https://blog.vespa.ai/assets/2023-12-08-turbocharge-rag-with-langchain-and-vespa-streaming-mode/docid.png)"
      ]
    },
    {
      "cell_type": "markdown",
      "id": "20b007ec",
      "metadata": {
        "id": "20b007ec"
      },
      "source": [
        "### Querying data\n",
        "\n",
        "Now, we can also query our data. With [streaming mode](https://docs.vespa.ai/en/reference/query-api-reference.html#streaming),\n",
        "we must pass the `groupname` parameter, or the request will fail with an error.\n",
        "\n",
        "The query request uses the Vespa Query API  and the `Vespa.query()` function\n",
        "supports passing any of the Vespa query API parameters.\n",
        "\n",
        "Read more about querying Vespa in:\n",
        "\n",
        "- [Vespa Query API](https://docs.vespa.ai/en/query-api.html)\n",
        "- [Vespa Query API reference](https://docs.vespa.ai/en/reference/query-api-reference.html)\n",
        "- [Vespa Query Language API (YQL)](https://docs.vespa.ai/en/query-language.html)\n",
        "\n",
        "Sample query request for `why is colbert effective?` for the user `bergum@vespa.ai`:"
      ]
    },
    {
      "cell_type": "code",
      "execution_count": 21,
      "id": "b9349fb4",
      "metadata": {
        "colab": {
          "base_uri": "https://localhost:8080/"
        },
        "id": "b9349fb4",
        "outputId": "08eafc2f-0856-4c6b-9f13-2decf754228c"
      },
      "outputs": [
        {
          "output_type": "stream",
          "name": "stdout",
          "text": [
            "{\n",
            "  \"id\": \"id:personal:pdf:g=jo-bergum:ca45229d483b107430faa63e7e3e30e51a5ff5c8\",\n",
            "  \"relevance\": 113.11049354076385,\n",
            "  \"source\": \"pdfs_content.pdf\",\n",
            "  \"fields\": {\n",
            "    \"matchfeatures\": {\n",
            "      \"cos_sim\": 0.6499400742312476,\n",
            "      \"max_sim\": 113.11049354076385\n",
            "    },\n",
            "    \"id\": \"ca45229d483b107430faa63e7e3e30e51a5ff5c8\",\n",
            "    \"title\": \"ColBERT: Efficient and Effective Passage Search via Contextualized Late Interaction over BERT\",\n",
            "    \"page\": 6,\n",
            "    \"chunkno\": 1,\n",
            "    \"chunk\": \"lishes a new state-of-the-art for non-BERT models on MS MARCO(Dev); however, the best non-ensemble MRR@10 it achieves is 31%while ColBERT reaches up to 36%. Moreover, due to indexing docu-ment representations o\\ufb04ine and employing a MaxSim-based lateinteraction mechanism, ColBERT is much more scalable, enablingend-to-end retrieval which is not supported by TK.3 COLBERTColBERT prescribes a simple framework for balancing the qualityand cost of neural IR, particularly deep language models like BERT.As introduced earlier, delaying the query\\u2013document interaction canfacilitate cheap neural re-ranking (i.e., through pre-computation)and even support practical end-to-end neural retrieval (i.e., throughpruning via vector-similarity search). ColBERT addresses how todo so while still preserving the e\\ufb00ectiveness of state-of-the-artmodels, which condition the bulk of their computations on thejoint query\\u2013document pair.\"\n",
            "  }\n",
            "}\n"
          ]
        }
      ],
      "source": [
        "from vespa.io import VespaQueryResponse\n",
        "import json\n",
        "\n",
        "response:VespaQueryResponse = app.query(\n",
        "    yql=\"select id,title,page,chunkno,chunk from pdf where userQuery() or ({targetHits:10}nearestNeighbor(embedding,q))\",\n",
        "    groupname=\"jo-bergum\",\n",
        "    ranking=\"colbert\",\n",
        "    query=\"why is colbert effective?\",\n",
        "    body={\n",
        "        \"presentation.format.tensors\": \"short-value\",\n",
        "        \"input.query(q)\": \"embed(e5, \\\"why is colbert effective?\\\")\",\n",
        "        \"input.query(qt)\": \"embed(colbert, \\\"why is colbert effective?\\\")\",\n",
        "    }\n",
        ")\n",
        "assert(response.is_successful())\n",
        "print(json.dumps(response.hits[0], indent=2))"
      ]
    },
    {
      "cell_type": "markdown",
      "id": "4d3ca1da",
      "metadata": {
        "id": "4d3ca1da"
      },
      "source": [
        "Notice the `matchfeatures` that returns the configured match-features from the rank-profile, including all the chunk similarities."
      ]
    },
    {
      "cell_type": "markdown",
      "id": "57f323df",
      "metadata": {
        "id": "57f323df"
      },
      "source": [
        "## LangChain Retriever\n",
        "\n",
        "We use the [LangChain Retriever](https://python.langchain.com/docs/modules/data_connection/retrievers/) interface so that\n",
        "we can connect our Vespa app with the flexibility and power of the [LangChain](https://python.langchain.com/docs/get_started/introduction) LLM framework.\n",
        "\n",
        ">A retriever is an interface that returns documents given an unstructured query. It is more general than a vector store. A retriever does not need to be able to store documents, only to return (or retrieve) them. Vector stores can be used as the backbone of a retriever, but there are other types of retrievers as well.\n",
        "\n",
        "The retriever interface fits perfectly with Vespa, as Vespa can support a wide range of features and ways to retrieve and\n",
        "rank content. The following implements a custom retriever `VespaStreamingHybridRetriever` that takes the following arguments:\n",
        "\n",
        "- `app:Vespa` The Vespa application we retrieve from. This could be a Vespa Cloud instance or a local instance, for example running on a laptop.\n",
        "-  `user:str` The user that that we want to retrieve for, this argument maps to the [Vespa streaming mode groupname parameter](https://docs.vespa.ai/en/reference/query-api-reference.html#streaming.groupname)\n",
        "- `chunks:int` The  target number of text chunks from the PDFs we want to retrieve for a given query\n",
        "\n",
        "The core idea is to _retrieve_ pages using chunk similarity as the initial scoring function, then re-rank the top-K chunks using the ColBERT embedding. This re-ranking is handled by the second phase of the Vespa ranking expression defined above, and is transparent to the retriever code below."
      ]
    },
    {
      "cell_type": "code",
      "execution_count": 22,
      "id": "c5b7c0d1",
      "metadata": {
        "id": "c5b7c0d1"
      },
      "outputs": [],
      "source": [
        "from langchain_core.documents import Document\n",
        "from langchain_core.retrievers import BaseRetriever\n",
        "from typing import List\n",
        "\n",
        "\n",
        "class VespaStreamingHybridRetriever(BaseRetriever):\n",
        "\n",
        "    app: Vespa\n",
        "    user:str\n",
        "    chunks: int = 5\n",
        "\n",
        "    def _get_relevant_documents(self, query: str) -> List[Document]:\n",
        "        response:VespaQueryResponse = self.app.query(\n",
        "            yql=\"select id, url, title, page, chunkno, authors, chunk from pdf where userQuery() or ({targetHits:20}nearestNeighbor(embedding,q))\",\n",
        "            groupname=self.user,\n",
        "            ranking=\"colbert\",\n",
        "            query=query,\n",
        "            hits = self.chunks,\n",
        "            body={\n",
        "                \"presentation.format.tensors\": \"short-value\",\n",
        "                \"input.query(q)\": f\"embed(e5, \\\"query: {query} \\\")\",\n",
        "                \"input.query(qt)\": f\"embed(colbert, \\\"query: {query} \\\")\"\n",
        "            }\n",
        "        )\n",
        "        if not response.is_successful():\n",
        "            raise ValueError(f\"Query failed with status code {response.status_code}, url={response.url} response={response.json}\")\n",
        "        return self._parse_response(response)\n",
        "\n",
        "\n",
        "    def _parse_response(self, response: VespaQueryResponse) -> List[Document]:\n",
        "        documents: List[Document] = []\n",
        "        for hit in response.hits:\n",
        "            fields = hit['fields']\n",
        "            documents.append(\n",
        "                Document(\n",
        "                    id=fields['id'],\n",
        "                    page_content=fields['chunk'],\n",
        "                    title=fields['title'],\n",
        "                    metadata={\n",
        "                        \"title\": fields['title'],\n",
        "                        \"url\": fields['url'],\n",
        "                        \"page\": fields['page'],\n",
        "                        \"authors\": fields['authors'],\n",
        "                        \"features\": fields['matchfeatures']\n",
        "                    }\n",
        "                )\n",
        "            )\n",
        "        return documents"
      ]
    },
    {
      "cell_type": "markdown",
      "id": "341dd861",
      "metadata": {
        "id": "341dd861"
      },
      "source": [
        "That's it! We can give our newborn retriever a spin for the user `jo-bergum` by"
      ]
    },
    {
      "cell_type": "code",
      "execution_count": 23,
      "id": "ac9088a4",
      "metadata": {
        "id": "ac9088a4"
      },
      "outputs": [],
      "source": [
        "vespa_hybrid_retriever = VespaStreamingHybridRetriever(app=app, user=\"jo-bergum\", chunks=3)"
      ]
    },
    {
      "cell_type": "code",
      "execution_count": 24,
      "id": "3198db04",
      "metadata": {
        "colab": {
          "base_uri": "https://localhost:8080/"
        },
        "id": "3198db04",
        "outputId": "8d25439c-e8a2-4c2e-9d70-8f1bd5f57ae4"
      },
      "outputs": [
        {
          "output_type": "execute_result",
          "data": {
            "text/plain": [
              "[Document(page_content='ture that precisely does so. As illustrated, every query embeddinginteracts with all document embeddings via a MaxSim operator,which computes maximum similarity (e.g., cosine similarity), andthe scalar outputs of these operators are summed across queryterms. /T_his paradigm allows ColBERT to exploit deep LM-basedrepresentations while shi/f_ting the cost of encoding documents of-/f_line and amortizing the cost of encoding the query once acrossall ranked documents. Additionally, it enables ColBERT to lever-age vector-similarity search indexes (e.g., [ 1,15]) to retrieve thetop-kresults directly from a large document collection, substan-tially improving recall over models that only re-rank the output ofterm-based retrieval.As Figure 1 illustrates, ColBERT can serve queries in tens orfew hundreds of milliseconds. For instance, when used for re-ranking as in “ColBERT (re-rank)”, it delivers over 170 ×speedup(and requires 14,000 ×fewer FLOPs) relative to existing BERT-based', metadata={'title': 'ColBERT: Efficient and Effective Passage Search via Contextualized Late Interaction over BERT', 'url': 'https://arxiv.org/pdf/2004.12832.pdf', 'page': 4, 'authors': ['Omar Khattab', 'Matei Zaharia'], 'features': {'cos_sim': 0.6664045997289173, 'max_sim': 125.49820709228516}}),\n",
              " Document(page_content='correspond to each centroid together, and save thisinverted list to disk. At search time, this allows usto quickly ﬁnd token-level embeddings similar tothose in a query.3We round down to the nearest power of two larger than16×√nembeddings , inspired by FAISS (Johnson et al., 2019).3.5 RetrievalGiven a query representation Q, retrieval starts withcandidate generation. For every vector Qiin thequery, the nearest nprobe≥1centroids are found.Using the inverted list, ColBERTv2 identiﬁes thepassage embeddings close to these centroids, de-compresses them, and computes their cosine simi-larity with every query vector. The scores are thengrouped by passage ID for each query vector, andscores corresponding to the same passage are max -reduced. This allows ColBERTv2 to conduct anapproximate “MaxSim” operation per query vector.This computes a lower-bound on the true MaxSim(§3.1) using the embeddings identiﬁed via the in-verted list, which resembles the approximation ex-', metadata={'title': 'ColBERTv2: Effective and Efficient Retrieval via Lightweight Late Interaction', 'url': 'https://arxiv.org/pdf/2112.01488.pdf', 'page': 9, 'authors': ['Keshav Santhanam', 'Omar Khattab', 'Jon Saad-Falcon', 'Christopher Potts', 'Matei Zaharia'], 'features': {'cos_sim': 0.6386523257807515, 'max_sim': 120.3723874092102}}),\n",
              " Document(page_content='operator on the approximate scores obtained from the FAISS ANNresults in sufficient recall to ensure high effectiveness. For TREC2019, using 𝑘=200with Approx MaxSim resulted in no signifi-cant differences in MAP, MRR or NDCG@10, and improved meanresponse time by a factor of 2.5 CONCLUSIONSColBERT’s dense retrieval mechanism can be seen as a first-stagecandidate set retrieval, followed by an exact scoring of all the can-didates. In this work, we showed than an approximate ranking canbe instantiated on the candidate set, and that this allows the size ofthe candidate set to be markedly reduced (from ∼7100 documentsto200), without significantly impacting upon the effectiveness ofthe final ranking, providing a 2 ×speedup in efficiency.In this work, we ignored the role of the differing query embed-dings used by ColBERT - e.g. retrieving fewer documents for theless important masked query embeddings compared to other queryembeddings. We leave this, and examining the impact of varying', metadata={'title': 'On Approximate Nearest Neighbour Selection for Multi-Stage Dense Retrieval', 'url': 'https://arxiv.org/pdf/2108.11480.pdf', 'page': 9, 'authors': ['Craig Macdonald', 'Nicola Tonellotto'], 'features': {'cos_sim': 0.6088954302216933, 'max_sim': 118.94812953472137}})]"
            ]
          },
          "metadata": {},
          "execution_count": 24
        }
      ],
      "source": [
        "vespa_hybrid_retriever.get_relevant_documents(\"what is the maxsim operator in colbert?\")"
      ]
    },
    {
      "cell_type": "markdown",
      "id": "fcca4fc7",
      "metadata": {
        "id": "fcca4fc7"
      },
      "source": [
        "## RAG\n"
      ]
    },
    {
      "cell_type": "markdown",
      "id": "a84b98db",
      "metadata": {
        "id": "a84b98db"
      },
      "source": [
        "Finally, we can connect our custom retriever with the complete flexibility and power of the [LangChain] LLM framework.\n",
        "The following uses [LangChain Expression Language, or LCEL](https://python.langchain.com/docs/expression_language/), a declarative way to compose chains.\n",
        "\n",
        "We have several steps composed into a chain:\n",
        "\n",
        "- The prompt template and LLM model, in this case using OpenAI\n",
        "- The retriever that provides the retrieved context for the question\n",
        "- The formatting of the retrieved context\n",
        "\n"
      ]
    },
    {
      "cell_type": "code",
      "execution_count": 30,
      "id": "e3dcf5b4",
      "metadata": {
        "id": "e3dcf5b4"
      },
      "outputs": [],
      "source": [
        "vespa_hybrid_retriever = VespaStreamingHybridRetriever(app=app, user=\"jo-bergum\", chunks=12)"
      ]
    },
    {
      "cell_type": "code",
      "execution_count": 31,
      "id": "d95473dc",
      "metadata": {
        "id": "d95473dc"
      },
      "outputs": [],
      "source": [
        "from langchain_openai import ChatOpenAI\n",
        "from langchain.prompts import ChatPromptTemplate\n",
        "from langchain.schema import StrOutputParser\n",
        "from langchain.schema.runnable import RunnablePassthrough\n",
        "\n",
        "prompt_template = \"\"\"\n",
        "Answer the question based only on the following context.\n",
        "Cite the page number and the url of the document you are citing.\n",
        "\n",
        "{context}\n",
        "Question: {question}\n",
        "\"\"\"\n",
        "prompt = ChatPromptTemplate.from_template(prompt_template)\n",
        "model = ChatOpenAI()\n",
        "\n",
        "def format_prompt_context(docs) -> str:\n",
        "    context = []\n",
        "    for d in docs:\n",
        "        context.append(f\"{d.metadata['title']} by {d.metadata['authors']}\\n\")\n",
        "        context.append(f\"url: {d.metadata['url']}\\n\")\n",
        "        context.append(f\"page: {d.metadata['page']}\\n\")\n",
        "        context.append(f\"{d.page_content}\\n\\n\")\n",
        "    return \"\".join(context)\n",
        "\n",
        "\n",
        "chain = (\n",
        "    {\"context\": vespa_hybrid_retriever | format_prompt_context, \"question\": RunnablePassthrough()}\n",
        "    | prompt\n",
        "    | model\n",
        "    | StrOutputParser()\n",
        ")"
      ]
    },
    {
      "cell_type": "markdown",
      "id": "562d2c7d",
      "metadata": {
        "id": "562d2c7d"
      },
      "source": [
        "### Interact with the chain\n",
        "\n",
        "Now, we can start asking questions using the `chain` define above."
      ]
    },
    {
      "cell_type": "code",
      "execution_count": 34,
      "id": "36f7f092",
      "metadata": {
        "id": "36f7f092",
        "outputId": "d509cc65-1a08-4c39-b987-14c007d0b9bf",
        "colab": {
          "base_uri": "https://localhost:8080/",
          "height": 70
        }
      },
      "outputs": [
        {
          "output_type": "execute_result",
          "data": {
            "text/plain": [
              "'ColBERT is a ranking model that adapts deep language models, specifically BERT, for efficient retrieval in information retrieval tasks. It introduces a late interaction architecture that independently encodes queries and documents using BERT and employs a cheap yet powerful interaction step to model their fine-grained similarity. This allows ColBERT to leverage the expressiveness of deep language models while significantly reducing computational cost and speeding up query processing. ColBERT is designed to support end-to-end retrieval directly from a large document collection and has shown competitive effectiveness compared to other BERT-based models. (source: page 1, https://arxiv.org/pdf/2004.12832.pdf)'"
            ],
            "application/vnd.google.colaboratory.intrinsic+json": {
              "type": "string"
            }
          },
          "metadata": {},
          "execution_count": 34
        }
      ],
      "source": [
        "chain.invoke(\"what is colbert?\")"
      ]
    },
    {
      "cell_type": "code",
      "execution_count": 33,
      "id": "569929de",
      "metadata": {
        "id": "569929de",
        "outputId": "035e08d4-81e5-4421-a1d1-e1039fa6bd26",
        "colab": {
          "base_uri": "https://localhost:8080/",
          "height": 53
        }
      },
      "outputs": [
        {
          "output_type": "execute_result",
          "data": {
            "text/plain": [
              "'The ColBERT maxsim operator is a operator that computes the maximum similarity (e.g., cosine similarity) between query embeddings and document embeddings. It is used to model the interactions between words in the query and document and is a key component of the ColBERT architecture. (ColBERT: Efficient and Effective Passage Search via Contextualized Late Interaction over BERT by Omar Khattab and Matei Zaharia, page 4, url: https://arxiv.org/pdf/2004.12832.pdf)'"
            ],
            "application/vnd.google.colaboratory.intrinsic+json": {
              "type": "string"
            }
          },
          "metadata": {},
          "execution_count": 33
        }
      ],
      "source": [
        "chain.invoke(\"what is the colbert maxsim operator\")"
      ]
    },
    {
      "cell_type": "code",
      "execution_count": 32,
      "id": "fde46620",
      "metadata": {
        "id": "fde46620",
        "outputId": "26ae73f5-931c-4dcb-cf0f-1d3bcacb9cd0",
        "colab": {
          "base_uri": "https://localhost:8080/",
          "height": 87
        }
      },
      "outputs": [
        {
          "output_type": "execute_result",
          "data": {
            "text/plain": [
              "'The difference between ColBERT and single vector representational models is that ColBERT uses a late interaction approach, while single vector models use a single high-dimensional vector representation for each query and document. In ColBERT, the relevance between a query and document is estimated by computing the sum of maximum similarities between each query vector and all vectors in the document at the token level. This allows ColBERT to delegate query-document matching to the interaction mechanism and encode meaning at the token level. On the other hand, single vector models directly model relevance using a dot product between the query and document vectors. The late interaction approach of ColBERT aims to reduce the burden on the encoder by decomposing relevance modeling into token-level computations. However, late interaction models like ColBERT typically have a larger space footprint compared to single vector models, as they store billions of small vectors for large-scale collections. (ColBERTv2: Effective and Efficient Retrieval via Lightweight Late Interaction, page 1-2, https://arxiv.org/pdf/2112.01488.pdf)'"
            ],
            "application/vnd.google.colaboratory.intrinsic+json": {
              "type": "string"
            }
          },
          "metadata": {},
          "execution_count": 32
        }
      ],
      "source": [
        "chain.invoke(\"What is the difference between colbert and single vector representational models?\")"
      ]
    },
    {
      "cell_type": "markdown",
      "id": "7c8b8223",
      "metadata": {
        "id": "7c8b8223"
      },
      "source": [
        "\n",
        "## Summary\n",
        "\n",
        "Vespa’s streaming mode is a game-changer, enabling the creation of highly cost-effective RAG applications for naturally partitioned data. Now it is also possible to use ColBERT for re-ranking, without having to integrate any custom embedder or re-ranking code.\n",
        "\n",
        "\n",
        "In this notebook, we delved into the hands-on application of [LangChain](https://python.langchain.com/docs/get_started/introduction),\n",
        "leveraging document loaders and transformers. Finally, we showcased a custom LangChain retriever that connected\n",
        "all the functionality of LangChain with Vespa.\n",
        "\n",
        "For those interested in learning more about Vespa, join the [Vespa community on Slack](https://vespatalk.slack.com/) to exchange ideas,\n",
        "seek assistance, or stay in the loop on the latest Vespa developments.\n",
        "\n",
        "\n",
        "We can now delete the cloud instance:"
      ]
    },
    {
      "cell_type": "code",
      "execution_count": null,
      "id": "71e310e3",
      "metadata": {
        "colab": {
          "base_uri": "https://localhost:8080/"
        },
        "id": "71e310e3",
        "outputId": "991b1965-6c33-4985-e873-a92c43695528"
      },
      "outputs": [
        {
          "output_type": "stream",
          "name": "stdout",
          "text": [
            "Deactivated vespa-team.pdfs in dev.aws-us-east-1c\n",
            "Deleted instance vespa-team.pdfs.default\n"
          ]
        }
      ],
      "source": [
        "vespa_cloud.delete()"
      ]
    }
  ],
  "metadata": {
    "colab": {
      "provenance": []
    },
    "kernelspec": {
      "display_name": "Python 3.11.4 64-bit",
      "language": "python",
      "name": "python3"
    },
    "language_info": {
      "codemirror_mode": {
        "name": "ipython",
        "version": 3
      },
      "file_extension": ".py",
      "mimetype": "text/x-python",
      "name": "python",
      "nbconvert_exporter": "python",
      "pygments_lexer": "ipython3",
      "version": "3.10.13"
    },
    "vscode": {
      "interpreter": {
        "hash": "b0fa6594d8f4cbf19f97940f81e996739fb7646882a419484c72d19e05852a7e"
      }
    }
  },
  "nbformat": 4,
  "nbformat_minor": 5
}