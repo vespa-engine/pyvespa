{
 "cells": [
  {
   "cell_type": "markdown",
   "id": "b3ae8a2b",
   "metadata": {},
   "source": [
    "<picture>\n",
    "  <source media=\"(prefers-color-scheme: dark)\" srcset=\"https://vespa.ai/assets/vespa-ai-logo-heather.svg\">\n",
    "  <source media=\"(prefers-color-scheme: light)\" srcset=\"https://vespa.ai/assets/vespa-ai-logo-rock.svg\">\n",
    "  <img alt=\"#Vespa\" width=\"200\" src=\"https://vespa.ai/assets/vespa-ai-logo-rock.svg\" style=\"margin-bottom: 25px;\">\n",
    "</picture>\n",
    "\n",
    "\n",
    "# Arxiv AI-powered search with Nomaic (nomic-embed-text-v1) and Vespa\n",
    "\n",
    " This notebook demonstrates how to use the recently announced open-source Nomic embedding model\n",
    "([nomic blog post](https://blog.nomic.ai/posts/nomic-embed-text-v1)) with Vespa. It also demonstrates how to \n",
    "load an ArxiV dataset hosted on [HF datasets](https://huggingface.co/datasets/somewheresystems/dataclysm-arxiv) \n",
    "and feed it to a Vespa instance.\n",
    "\n",
    "\n",
    "In this notebook, we use Vespa's embedder functionality to include the [nomic-ai/nomic-embed-text-v1](https://huggingface.co/nomic-ai/nomic-embed-text-v1) embedding model into Vespa for query serving. We use a quantized model to improve CPU inference performance. \n"
   ]
  },
  {
   "cell_type": "code",
   "execution_count": null,
   "id": "4ffa3cbe",
   "metadata": {},
   "outputs": [],
   "source": [
    "!pip3 install -U pyvespa "
   ]
  },
  {
   "cell_type": "markdown",
   "id": "da356d25",
   "metadata": {},
   "source": [
    "## Definining the Vespa application\n",
    "\n",
    "[PyVespa](https://pyvespa.readthedocs.io/en/latest/) helps us build the [Vespa application package](https://docs.vespa.ai/en/application-packages.html). \n",
    "A Vespa application package consists of configuration files, schemas, models, and code (plugins).   \n",
    "\n",
    "First, we define a [Vespa schema](https://docs.vespa.ai/en/schemas.html) with the fields we want to store and their type. \n",
    "\n",
    "The nomic technical report [(pdf)](https://static.nomic.ai/reports/2024_Nomic_Embed_Text_Technical_Report.pdf) mentions\n",
    "that the model was trained with prefix instructions, using `search_document` as a prefix for documents and `search_query` \n",
    "as a prefix for queries. We add the prefix in the embed infere. "
   ]
  },
  {
   "cell_type": "code",
   "execution_count": 2,
   "id": "0dca2378",
   "metadata": {},
   "outputs": [],
   "source": [
    "from vespa.package import Schema, Document, Field, FieldSet, HNSW\n",
    "paper_schema = Schema(\n",
    "            name=\"paper\",\n",
    "            mode=\"index\",\n",
    "            document=Document(\n",
    "                fields=[\n",
    "                    Field(name=\"id\", type=\"string\", indexing=[\"summary\", \"index\"], match=[\"word\"]),\n",
    "                    Field(name=\"submitter\", type=\"string\", indexing=[\"summary\", \"index\"]),\n",
    "                    Field(name=\"authors\", type=\"string\", indexing=[\"summary\", \"index\"]),\n",
    "                    Field(name=\"title\", type=\"string\", indexing=[\"summary\", \"index\"], index = \"enable-bm25\"),\n",
    "                    Field(name=\"abstract\", type=\"string\", indexing=[\"summary\", \"index\"], index=\"enable-bm25\"),\n",
    "                    Field(name=\"journal_ref\", type=\"string\", indexing=[\"summary\", \"index\"]),\n",
    "                    Field(name=\"doi\", type=\"string\", indexing=[\"summary\", \"index\"]),\n",
    "                    Field(name=\"categories\", type=\"array<string>\", indexing=[\"summary\", \"index\"], match=[\"word\"]),\n",
    "                    Field(name=\"embedding\", type=\"tensor<bfloat16>(x[768])\",\n",
    "                     indexing=[\"\\\"search_document\\\" . \\\" \\\" . input title . \\\" \\\". input abstract \", \"embed\", \"index\", \"attribute\"],\n",
    "                    ann=HNSW(distance_metric=\"angular\"),\n",
    "                    is_document_field=False)       \n",
    "                ],\n",
    "            ),\n",
    "            fieldsets=[\n",
    "                FieldSet(name = \"default\", fields = [\"title\", \"abstract\", \"authors\", \"submitter\"])\n",
    "            ]\n",
    ")"
   ]
  },
  {
   "cell_type": "markdown",
   "id": "3acc9020",
   "metadata": {},
   "source": [
    "## Configure embedder\n",
    "This uses Vespa embedder inference support, we use the Xenova (Transformer.js) model checkpoints in ONNX. "
   ]
  },
  {
   "cell_type": "code",
   "execution_count": 3,
   "id": "66c5da1d",
   "metadata": {},
   "outputs": [],
   "source": [
    "from vespa.package import ApplicationPackage, Component, Parameter\n",
    "\n",
    "vespa_app_name = \"arxivsearch\"\n",
    "vespa_application_package = ApplicationPackage(\n",
    "        name=vespa_app_name,\n",
    "        schema=[paper_schema],\n",
    "        components=[Component(id=\"nomic\", type=\"hugging-face-embedder\",\n",
    "            parameters=[\n",
    "                Parameter(\"transformer-model\", {\"url\": \"https://huggingface.co/Xenova/nomic-embed-text-v1/resolve/main/onnx/model_quantized.onnx\"}),\n",
    "                Parameter(\"tokenizer-model\", {\"url\": \"https://huggingface.co/Xenova/nomic-embed-text-v1/raw/main/tokenizer.json\"})\n",
    "            ]\n",
    "        )]\n",
    ") "
   ]
  },
  {
   "cell_type": "markdown",
   "id": "7fe3d7bd",
   "metadata": {},
   "source": [
    "In the last step, we configure [ranking](https://docs.vespa.ai/en/ranking.html) by adding `rank-profile`'s to the schema. \n",
    "\n",
    "Vespa supports [phased ranking](https://docs.vespa.ai/en/phased-ranking.html) and has a rich set of built-in [rank-features](https://docs.vespa.ai/en/reference/rank-features.html), including many\n",
    "text-matching features such as:\n",
    "\n",
    "- [BM25](https://docs.vespa.ai/en/reference/bm25.html).\n",
    "- [nativeRank](https://docs.vespa.ai/en/reference/nativerank.html) and many more. \n",
    "\n",
    "Users can also define custom functions using [ranking expressions](https://docs.vespa.ai/en/reference/ranking-expressions.html). \n",
    "\n",
    "The following defines a `hybrid` Vespa ranking profile and a plain `bm25` profile."
   ]
  },
  {
   "cell_type": "code",
   "execution_count": 4,
   "id": "a8ce5624",
   "metadata": {},
   "outputs": [],
   "source": [
    "from vespa.package import RankProfile, FirstPhaseRanking, GlobalPhaseRanking\n",
    "\n",
    "bm25 = RankProfile(\n",
    "    name=\"bm25\", \n",
    "    inputs=[(\"query(q)\", \"tensor<float>(x[768])\")],\n",
    "    \n",
    "    first_phase=FirstPhaseRanking(\n",
    "        expression=\"bm25(title) + bm25(abstract)\",\n",
    "    )\n",
    ")\n",
    "\n",
    "hybrid = RankProfile(\n",
    "    name=\"hybrid\", \n",
    "    inputs=[(\"query(q)\", \"tensor<float>(x[768])\")],\n",
    "    first_phase=FirstPhaseRanking(\n",
    "        expression=\"closeness(field, embedding)\"\n",
    "    ),\n",
    "    global_phase=GlobalPhaseRanking(\n",
    "        expression=\"reciprocal_rank_fusion(closeness(field,embedding), bm25(title), bm25(abstract))\"\n",
    "    ),\n",
    "    match_features=[\"bm25(title)\", \"bm25(abstract)\", \"closeness(field, embedding)\"]\n",
    ")\n",
    "paper_schema.add_rank_profile(bm25)\n",
    "paper_schema.add_rank_profile(hybrid)"
   ]
  },
  {
   "cell_type": "markdown",
   "id": "846545f9",
   "metadata": {},
   "source": [
    "## Deploy the application to Vespa Cloud\n",
    "\n",
    "With the configured application, we can deploy it to [Vespa Cloud](https://cloud.vespa.ai/en/). \n",
    "It is also possible to deploy the app using docker; see the [Hybrid Search - Quickstart](https://pyvespa.readthedocs.io/en/latest/getting-started-pyvespa.html) guide for\n",
    "an example of deploying it to a local docker container. "
   ]
  },
  {
   "cell_type": "markdown",
   "id": "16179d9b",
   "metadata": {},
   "source": [
    "Install the Vespa CLI using [homebrew](https://brew.sh/) - or download a binary from GitHub as demonstrated below. "
   ]
  },
  {
   "cell_type": "code",
   "execution_count": null,
   "id": "343981ce",
   "metadata": {},
   "outputs": [],
   "source": [
    "!brew install vespa-cli"
   ]
  },
  {
   "cell_type": "markdown",
   "id": "863d0700",
   "metadata": {},
   "source": [
    "Alternatively, if running in Colab, download the Vespa CLI:"
   ]
  },
  {
   "cell_type": "code",
   "execution_count": null,
   "id": "d5670bb6",
   "metadata": {},
   "outputs": [],
   "source": [
    "import os\n",
    "import requests\n",
    "res = requests.get(url=\"https://api.github.com/repos/vespa-engine/vespa/releases/latest\").json()\n",
    "os.environ[\"VERSION\"] = res[\"tag_name\"].replace(\"v\", \"\")\n",
    "!curl -fsSL https://github.com/vespa-engine/vespa/releases/download/v${VERSION}/vespa-cli_${VERSION}_linux_amd64.tar.gz | tar -zxf -\n",
    "!ln -sf /content/vespa-cli_${VERSION}_linux_amd64/bin/vespa /bin/vespa"
   ]
  },
  {
   "cell_type": "markdown",
   "id": "0ff00727",
   "metadata": {},
   "source": [
    "To deploy the application to Vespa Cloud we need to create a tenant in the Vespa Cloud:\n",
    "\n",
    "Create a tenant at [console.vespa-cloud.com](https://console.vespa-cloud.com/) (unless you already have one). \n",
    "This step requires a Google or GitHub account, and will start your [free trial](https://cloud.vespa.ai/en/free-trial). \n",
    "Make note of the tenant name, it is used in the next steps."
   ]
  },
  {
   "cell_type": "markdown",
   "id": "df9f9a1c",
   "metadata": {},
   "source": [
    "### Configure Vespa Cloud date-plane security\n",
    "\n",
    "Create Vespa Cloud data-plane mTLS cert/key-pair. The mutual certificate pair is used to talk to your Vespa cloud endpoints. See [Vespa Cloud Security Guide](https://cloud.vespa.ai/en/security/guide) for details.\n",
    "\n",
    "We save the paths to the credentials for later data-plane access without using pyvespa APIs. "
   ]
  },
  {
   "cell_type": "code",
   "execution_count": null,
   "id": "b6a766d6",
   "metadata": {},
   "outputs": [],
   "source": [
    "import os\n",
    "\n",
    "os.environ[\"TENANT_NAME\"] = \"samples\" # Replace with your tenant name\n",
    "\n",
    "vespa_cli_command = f'vespa config set application {os.environ[\"TENANT_NAME\"]}.{vespa_app_name}'\n",
    "\n",
    "!vespa config set target cloud\n",
    "!{vespa_cli_command}\n",
    "!vespa auth cert -N "
   ]
  },
  {
   "cell_type": "markdown",
   "id": "b228381b",
   "metadata": {},
   "source": [
    "Validate that we have the expected data-plane credential files:"
   ]
  },
  {
   "cell_type": "code",
   "execution_count": 8,
   "id": "1f0b97c8",
   "metadata": {},
   "outputs": [],
   "source": [
    "from os.path import exists\n",
    "from pathlib import Path\n",
    "\n",
    "cert_path = Path.home() / \".vespa\" / f\"{os.environ['TENANT_NAME']}.{vespa_app_name}.default/data-plane-public-cert.pem\"\n",
    "key_path = Path.home() / \".vespa\" / f\"{os.environ['TENANT_NAME']}.{vespa_app_name}.default/data-plane-private-key.pem\"\n",
    "\n",
    "if not exists(cert_path) or not exists(key_path):\n",
    "    print(\"ERROR: set the correct paths to security credentials. Correct paths above and rerun until you do not see this error\")"
   ]
  },
  {
   "cell_type": "markdown",
   "id": "85ce80e0",
   "metadata": {},
   "source": [
    "Note that the subsequent Vespa Cloud deploy call below will add `data-plane-public-cert.pem` to the application before deploying it to Vespa Cloud, so that\n",
    "you have access to both the private key and the public certificate. At the same time, Vespa Cloud only knows the public certificate. \n",
    "\n",
    "### Configure Vespa Cloud control-plane security \n",
    "\n",
    "Authenticate to generate a tenant level control plane API key for deploying the applications to Vespa Cloud, and save the path to it. \n",
    "\n",
    "The generated tenant api key must be added in the Vespa Console before attemting to deploy the application. \n",
    "\n",
    "```\n",
    "To use this key in Vespa Cloud click 'Add custom key' at\n",
    "https://console.vespa-cloud.com/tenant/TENANT_NAME/account/keys\n",
    "and paste the entire public key including the BEGIN and END lines.\n",
    "```"
   ]
  },
  {
   "cell_type": "code",
   "execution_count": null,
   "id": "5bf8731c",
   "metadata": {},
   "outputs": [],
   "source": [
    "!vespa auth api-key\n",
    "\n",
    "from pathlib import Path\n",
    "api_key_path = Path.home() / \".vespa\" / f\"{os.environ['TENANT_NAME']}.api-key.pem\""
   ]
  },
  {
   "cell_type": "markdown",
   "id": "21db1010",
   "metadata": {},
   "source": [
    "### Deploy to Vespa Cloud\n",
    "\n",
    "Now that we have data-plane and control-plane credentials ready, we can deploy our application to Vespa Cloud! \n",
    "\n",
    "`PyVespa` supports deploying apps to the [development zone](https://cloud.vespa.ai/en/reference/environments#dev-and-perf).\n",
    "\n",
    ">Note: Deployments to dev and perf expire after 7 days of inactivity, i.e., 7 days after running deploy. This applies to all plans, not only the Free Trial. Use the Vespa Console to extend the expiry period, or redeploy the application to add 7 more days."
   ]
  },
  {
   "cell_type": "code",
   "execution_count": 10,
   "id": "b5fddf9f",
   "metadata": {},
   "outputs": [],
   "source": [
    "from vespa.deployment import VespaCloud\n",
    "\n",
    "def read_secret():\n",
    "    \"\"\"Read the API key from the environment variable. This is \n",
    "    only used for CI/CD purposes.\"\"\"\n",
    "    t = os.getenv(\"VESPA_TEAM_API_KEY\")\n",
    "    if t:\n",
    "        return t.replace(r\"\\n\", \"\\n\")\n",
    "    else:\n",
    "        return t\n",
    "\n",
    "vespa_cloud = VespaCloud(\n",
    "    tenant=os.environ[\"TENANT_NAME\"],\n",
    "    application=vespa_app_name,\n",
    "    key_content=read_secret() if read_secret() else None,\n",
    "    key_location=api_key_path,\n",
    "    application_package=vespa_application_package)"
   ]
  },
  {
   "cell_type": "markdown",
   "id": "fa9baa5a",
   "metadata": {},
   "source": [
    "Now deploy the app to Vespa Cloud dev zone. \n",
    "\n",
    "The first deployment typically takes 2 minutes until the endpoint is up. "
   ]
  },
  {
   "cell_type": "code",
   "execution_count": null,
   "id": "fe954dc4",
   "metadata": {},
   "outputs": [],
   "source": [
    "from vespa.application import Vespa\n",
    "app:Vespa = vespa_cloud.deploy()"
   ]
  },
  {
   "cell_type": "markdown",
   "id": "27d17774",
   "metadata": {},
   "source": [
    "## Index the dataset\n",
    "\n",
    "The following streams the hf dataset into the Vespa instance. Notice the mapping of the dataset fields to Vespa feed\n",
    "format. "
   ]
  },
  {
   "cell_type": "code",
   "execution_count": null,
   "id": "8f422178",
   "metadata": {},
   "outputs": [],
   "source": [
    "# app:Vespa = vespa_cloud.deploy()\n",
    "\n",
    "from datasets import load_dataset\n",
    "dataset = load_dataset(\"somewheresystems/dataclysm-arxiv\", split=\"train\", streaming=True).take(100)\n",
    "vespa_feed = dataset.map(lambda x: \n",
    "{\n",
    "    \"id\": x[\"id\"],\n",
    "    \"fields\" : {\n",
    "        \"id\": x[\"id\"],\n",
    "        \"title\": x[\"title\"],\n",
    "        \"abstract\": x[\"abstract\"],\n",
    "        \"journal_ref\": x.get(\"journal-ref\",None),\n",
    "        \"doi\": x.get(\"doi\",None),\n",
    "        \"categories\": x[\"categories\"],\n",
    "        \"authors\": x[\"authors\"],\n",
    "        \"submitter\": x[\"submitter\"]\n",
    "    }\n",
    "})\n",
    "from vespa.io import VespaResponse\n",
    "\n",
    "def callback(response:VespaResponse, id:str):\n",
    "    if not response.is_successful():\n",
    "        print(f\"Document {id} failed to feed with status code {response.status_code}, url={response.url} response={response.json}\")\n",
    "    else:\n",
    "        print(f\"Document {id} success.\")\n",
    "\n",
    "app.feed_iterable(schema=\"paper\", iter=vespa_feed, callback=callback, max_connections=12, max_workers=14, max_queue_size=10000)\n"
   ]
  },
  {
   "cell_type": "markdown",
   "id": "20b007ec",
   "metadata": {},
   "source": [
    "### Querying data\n",
    "\n",
    "Now, we can start exploring querying the arxiv papers. \n",
    "\n",
    "The query request uses the Vespa Query API  and the `Vespa.query()` function \n",
    "supports passing any of the Vespa query API parameters. \n",
    "\n",
    "Read more about querying Vespa in:\n",
    "\n",
    "- [Vespa Query API](https://docs.vespa.ai/en/query-api.html)\n",
    "- [Vespa Query API reference](https://docs.vespa.ai/en/reference/query-api-reference.html)\n",
    "- [Vespa Query Language API (YQL)](https://docs.vespa.ai/en/query-language.html)\n"
   ]
  },
  {
   "cell_type": "code",
   "execution_count": 13,
   "id": "b9349fb4",
   "metadata": {},
   "outputs": [
    {
     "name": "stdout",
     "output_type": "stream",
     "text": [
      "[\n",
      "  {\n",
      "    \"id\": \"index:arxivsearch_content/0/93be86dc99f3b26b012796f6\",\n",
      "    \"relevance\": 0.04918032786885246,\n",
      "    \"source\": \"arxivsearch_content\",\n",
      "    \"fields\": {\n",
      "      \"matchfeatures\": {\n",
      "        \"bm25(abstract)\": 16.812307256543374,\n",
      "        \"bm25(title)\": 10.293464220282218,\n",
      "        \"closeness(field,embedding)\": 0.5253550471303831\n",
      "      },\n",
      "      \"id\": \"704.0003\",\n",
      "      \"title\": \"The evolution of the Earth-Moon system based on the dark matter field\\n  fluid model\"\n",
      "    }\n",
      "  },\n",
      "  {\n",
      "    \"id\": \"index:arxivsearch_content/0/9fba7416eaa319e25a2b7b6f\",\n",
      "    \"relevance\": 0.047619047619047616,\n",
      "    \"source\": \"arxivsearch_content\",\n",
      "    \"fields\": {\n",
      "      \"matchfeatures\": {\n",
      "        \"bm25(abstract)\": 6.052146920083321,\n",
      "        \"bm25(title)\": 3.3033206224361487,\n",
      "        \"closeness(field,embedding)\": 0.4964298779859894\n",
      "      },\n",
      "      \"id\": \"704.0077\",\n",
      "      \"title\": \"Universal Forces and the Dark Energy Problem\"\n",
      "    }\n",
      "  }\n",
      "]\n"
     ]
    }
   ],
   "source": [
    "from vespa.io import VespaQueryResponse\n",
    "import json\n",
    "\n",
    "response:VespaQueryResponse = app.query(\n",
    "    yql=\"select title, id from paper where ({targetHits:10}nearestNeighbor(embedding,q)) or userQuery()\",\n",
    "    ranking=\"hybrid\",\n",
    "    query=\"dark matter field fluid model\",\n",
    "    body={\n",
    "        \"presentation.format.tensors\": \"short-value\",\n",
    "        \"input.query(q)\": \"embed(nomic, \\\"search_query dark matter field fluid model\\\")\",\n",
    "    }\n",
    ")\n",
    "assert(response.is_successful())\n",
    "print(json.dumps(response.hits[0:2], indent=2))"
   ]
  },
  {
   "cell_type": "code",
   "execution_count": 14,
   "id": "405cdb72",
   "metadata": {},
   "outputs": [
    {
     "name": "stdout",
     "output_type": "stream",
     "text": [
      "[\n",
      "  {\n",
      "    \"id\": \"index:arxivsearch_content/0/93be86dc99f3b26b012796f6\",\n",
      "    \"relevance\": 27.10577147682559,\n",
      "    \"source\": \"arxivsearch_content\",\n",
      "    \"fields\": {\n",
      "      \"id\": \"704.0003\",\n",
      "      \"title\": \"The evolution of the Earth-Moon system based on the dark matter field\\n  fluid model\"\n",
      "    }\n",
      "  },\n",
      "  {\n",
      "    \"id\": \"index:arxivsearch_content/0/9fba7416eaa319e25a2b7b6f\",\n",
      "    \"relevance\": 9.35546754251947,\n",
      "    \"source\": \"arxivsearch_content\",\n",
      "    \"fields\": {\n",
      "      \"id\": \"704.0077\",\n",
      "      \"title\": \"Universal Forces and the Dark Energy Problem\"\n",
      "    }\n",
      "  }\n",
      "]\n"
     ]
    }
   ],
   "source": [
    "\n",
    "\n",
    "response:VespaQueryResponse = app.query(\n",
    "    yql=\"select title, id from paper where userQuery()\",\n",
    "    ranking=\"bm25\",\n",
    "    query=\"dark matter field fluid model\",\n",
    ")\n",
    "assert(response.is_successful())\n",
    "print(json.dumps(response.hits[0:2], indent=2))"
   ]
  },
  {
   "cell_type": "markdown",
   "id": "4d3ca1da",
   "metadata": {},
   "source": [
    "## Summary\n",
    "\n",
    "This notebook demonstrates how to interact with HF datasets, including embedding models in Vespa and querying. Now we can delete the Vespa cloud instance!"
   ]
  },
  {
   "cell_type": "code",
   "execution_count": null,
   "id": "71e310e3",
   "metadata": {},
   "outputs": [],
   "source": [
    "vespa_cloud.delete()"
   ]
  }
 ],
 "metadata": {
  "kernelspec": {
   "display_name": "Python 3.11.4 64-bit",
   "language": "python",
   "name": "python3"
  },
  "language_info": {
   "codemirror_mode": {
    "name": "ipython",
    "version": 3
   },
   "file_extension": ".py",
   "mimetype": "text/x-python",
   "name": "python",
   "nbconvert_exporter": "python",
   "pygments_lexer": "ipython3",
   "version": "3.11.4"
  },
  "vscode": {
   "interpreter": {
    "hash": "b0fa6594d8f4cbf19f97940f81e996739fb7646882a419484c72d19e05852a7e"
   }
  }
 },
 "nbformat": 4,
 "nbformat_minor": 5
}
