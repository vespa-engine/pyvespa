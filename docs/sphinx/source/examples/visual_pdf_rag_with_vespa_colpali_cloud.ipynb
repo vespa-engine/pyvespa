{
 "cells": [
  {
   "cell_type": "markdown",
   "id": "be90cc12",
   "metadata": {
    "id": "be90cc12"
   },
   "source": [
    "<picture>\n",
    "  <source media=\"(prefers-color-scheme: dark)\" srcset=\"https://assets.vespa.ai/logos/Vespa-logo-green-RGB.svg\">\n",
    "  <source media=\"(prefers-color-scheme: light)\" srcset=\"https://assets.vespa.ai/logos/Vespa-logo-dark-RGB.svg\">\n",
    "  <img alt=\"#Vespa\" width=\"200\" src=\"https://assets.vespa.ai/logos/Vespa-logo-dark-RGB.svg\" style=\"margin-bottom: 25px;\">\n",
    "</picture>\n",
    "\n",
    "\n",
    "# Visual PDF RAG with Vespa - ColPali demo application\n",
    "\n",
    "We created an end-to-end demo application for visual retrieval of PDF pages using Vespa, including a frontend web application. To see the live demo, visit https://vespa-engine-colpali-vespa-visual-retrieval.hf.space/.\n",
    "\n",
    "The main goal of the demo is to make it easy for _you_ to create your own PDF Enterprise Search application using Vespa.\n",
    "To deploy a full demo, you need two main components:\n",
    "\n",
    "1. A Vespa application that lets you index and search PDF pages using ColPali embeddings.\n",
    "2. A live web application that lets you interact with the Vespa application. \n",
    "\n",
    "<a href=\"https://imgflip.com/i/98mhch\"><img src=\"https://i.imgflip.com/98mhch.jpg\" title=\"made at imgflip.com\"/></a>\n",
    "\n",
    "After running this notebook, you will have set up a Vespa application, and indexed some PDF pages.\n",
    "You can then test that you are able to query the Vespa application, and you will be ready to deploy the web application including the frontend.\n",
    "\n",
    "Some of the features we want to highlight in this demo are:\n",
    "\n",
    "- Visual retrieval of PDF pages using ColPali embeddings\n",
    "- Explainability by displaying similarity maps over the patches in the PDF pages for each query token.\n",
    "- Extracting queries and questions from the PDF pages using `gemini-1.5-8b` model.\n",
    "- Type-ahead search suggestions based on the extracted queries and questions.\n",
    "- Comparison of different retrieval and ranking strategies (BM25, ColPali MaxSim, and a combination of both).\n",
    "- AI-generated responses to the query based on the top ranked PDF pages. Also using the `gemini-1.5-8b` model.\n",
    "\n",
    "We also wanted to give a notion of which latency one can expect using Vespa for this use case.\n",
    "Event though your users might not state this explicitly, we consider it important to provide a snappy user experience.\n",
    "\n",
    "In this notebook, we will prepare the Vespa backend application for our visual retrieval demo.\n",
    "We will use ColPali as the model to extract patch vectors from images of pdf pages.\n",
    "At query time, we use MaxSim to retrieve and/or (based on the configuration) rank the page results.\n",
    "\n",
    "![img](../_static/colpalidemo_1.png)\n",
    "\n",
    "![img](../_static/colpalidemo_2.png)\n",
    "\n",
    "\n",
    "The steps we will take in this notebook are:\n",
    "\n",
    "1. Setup and configuration\n",
    "2. Download PDFs\n",
    "3. Convert PDFs to images\n",
    "4. Generate queries and questions\n",
    "5. Generate ColPali embeddings\n",
    "6. Prepare the Vespa application package\n",
    "7. Deploy the Vespa application to Vespa Cloud\n",
    "8. Feed the data to the Vespa application\n",
    "9. Test a query to the Vespa application\n",
    "\n",
    "All the steps that are needed to provision the Vespa application, including feeding the data, can be done by running this notebook.\n",
    "We have tried to make it easy for others to run this notebook, to create your own PDF Enterprise Search application using Vespa.\n",
    "\n",
    "If you want to run this notebook in Colab, you can do so by clicking the button below:\n",
    "\n",
    "[![Open In Colab](https://colab.research.google.com/assets/colab-badge.svg)](https://colab.research.google.com/github/vespa-engine/pyvespa/blob/master/docs/sphinx/source/examples/visual_pdf_rag_with_vespa_colpali_cloud.ipynb)"
   ]
  },
  {
   "cell_type": "markdown",
   "id": "d08e66bb",
   "metadata": {
    "id": "d08e66bb"
   },
   "source": [
    "## 1. Setup and Configuration\n"
   ]
  },
  {
   "cell_type": "code",
   "execution_count": null,
   "id": "xScM73Drph7A",
   "metadata": {
    "colab": {
     "base_uri": "https://localhost:8080/"
    },
    "id": "xScM73Drph7A",
    "outputId": "3d4424c1-7da1-4e8d-d013-c05062534fd8"
   },
   "outputs": [],
   "source": [
    "!python --version"
   ]
  },
  {
   "cell_type": "markdown",
   "id": "f036f23a",
   "metadata": {
    "id": "f036f23a"
   },
   "source": [
    "Install dependencies:\n",
    "\n",
    "Note that the python pdf2image package requires poppler-utils, see other installation options [here](https://pdf2image.readthedocs.io/en/latest/installation.html#installing-poppler)."
   ]
  },
  {
   "cell_type": "code",
   "execution_count": null,
   "id": "cd9549b8",
   "metadata": {
    "colab": {
     "base_uri": "https://localhost:8080/"
    },
    "id": "cd9549b8",
    "outputId": "62f303a1-ff98-4927-e9e8-1ae4e14de64c"
   },
   "outputs": [],
   "source": [
    "!sudo apt-get update && sudo apt-get install poppler-utils -y"
   ]
  },
  {
   "cell_type": "markdown",
   "id": "5ece742b",
   "metadata": {
    "id": "5ece742b"
   },
   "source": [
    "Now install the required python packages:"
   ]
  },
  {
   "cell_type": "code",
   "execution_count": null,
   "id": "d20c20a1",
   "metadata": {
    "id": "d20c20a1"
   },
   "outputs": [],
   "source": [
    "!pip3 install colpali-engine==0.3.10 pdf2image pypdf==5.0.1 pyvespa>=0.50.0 vespacli numpy==1.26.4 pillow==10.4.0 google-generativeai==0.8.3 transformers python-dotenv"
   ]
  },
  {
   "cell_type": "code",
   "execution_count": null,
   "id": "10688093",
   "metadata": {
    "id": "10688093"
   },
   "outputs": [],
   "source": [
    "import os\n",
    "import json\n",
    "from typing import Tuple\n",
    "import hashlib\n",
    "import numpy as np\n",
    "\n",
    "# Vespa\n",
    "from vespa.package import (\n",
    "    ApplicationPackage,\n",
    "    Field,\n",
    "    Schema,\n",
    "    Document,\n",
    "    HNSW,\n",
    "    RankProfile,\n",
    "    Function,\n",
    "    FieldSet,\n",
    "    SecondPhaseRanking,\n",
    "    Summary,\n",
    "    DocumentSummary,\n",
    ")\n",
    "from vespa.deployment import VespaCloud\n",
    "from vespa.application import Vespa\n",
    "from vespa.io import VespaResponse\n",
    "\n",
    "# Google Generative AI for Google Gemini interaction\n",
    "import google.generativeai as genai\n",
    "\n",
    "# Torch and other ML libraries\n",
    "import torch\n",
    "from torch.utils.data import DataLoader\n",
    "from tqdm import tqdm\n",
    "from pdf2image import convert_from_path\n",
    "from pypdf import PdfReader\n",
    "\n",
    "# ColPali model and processor\n",
    "from colpali_engine.models import ColPali, ColPaliProcessor\n",
    "from colpali_engine.utils.torch_utils import get_torch_device\n",
    "\n",
    "# Load environment variables\n",
    "from dotenv import load_dotenv\n",
    "\n",
    "load_dotenv()\n",
    "\n",
    "# Avoid warning from huggingface tokenizers\n",
    "os.environ[\"TOKENIZERS_PARALLELISM\"] = \"false\""
   ]
  },
  {
   "cell_type": "markdown",
   "id": "2ad9a48f",
   "metadata": {
    "id": "2ad9a48f"
   },
   "source": [
    "### Create a free trial in Vespa Cloud\n",
    "\n",
    "Create a tenant from [here](https://vespa.ai/free-trial/).\n",
    "The trial includes $300 credit.\n",
    "Take note of your tenant name, and input it below.\n"
   ]
  },
  {
   "cell_type": "code",
   "execution_count": null,
   "id": "38c0ceaf",
   "metadata": {
    "id": "38c0ceaf"
   },
   "outputs": [],
   "source": [
    "VESPA_TENANT_NAME = \"vespa-team\"  # Replace with your tenant name"
   ]
  },
  {
   "cell_type": "markdown",
   "id": "87d79b10",
   "metadata": {
    "id": "87d79b10"
   },
   "source": [
    "Here, set your desired application name. (Will be created in later steps)\n",
    "Note that you can not have hyphen `-` or underscore `_` in the application name.\n"
   ]
  },
  {
   "cell_type": "code",
   "execution_count": null,
   "id": "ab7001fd",
   "metadata": {
    "id": "ab7001fd"
   },
   "outputs": [],
   "source": [
    "VESPA_APPLICATION_NAME = \"colpalidemodev\"\n",
    "VESPA_SCHEMA_NAME = \"pdf_page\""
   ]
  },
  {
   "cell_type": "markdown",
   "id": "875de5b0",
   "metadata": {
    "id": "875de5b0"
   },
   "source": [
    "Next, you can to create a token. This is an optional authentication method (the default is mTLS), and will be used for feeding data, and querying the application.\n",
    "For details, see [Authenticating to Vespa Cloud](https://vespa-engine.github.io/pyvespa/authenticating-to-vespa-cloud.html).\n",
    "For now, we will use a single token with both read and write permissions.\n",
    "For production, we recommend separate tokens for feeding and querying, (the former with write permission, and the latter with read permission).\n",
    "The tokens can be created from the [Vespa Cloud console](https://console.vespa-cloud.com/) in the 'Account' -> 'Tokens' section. Please make sure to save the both the token id and it's value somwhere safe - you'll need it when you're going to connect to your app.  "
   ]
  },
  {
   "cell_type": "code",
   "execution_count": null,
   "id": "8987066c",
   "metadata": {
    "id": "8987066c"
   },
   "outputs": [],
   "source": [
    "# Replace this with the id of your token\n",
    "VESPA_TOKEN_ID = \"pyvespa_integration\"  # This needs to match the token_id that you created in the Vespa Cloud Console"
   ]
  },
  {
   "cell_type": "markdown",
   "id": "d96e79d1",
   "metadata": {
    "id": "d96e79d1"
   },
   "source": [
    "We also need to set the value of the write token to be able to feed data to the Vespa application (value of VESPA_TOKEN_ID_WRITE). Please run the cell below to set the variable."
   ]
  },
  {
   "cell_type": "code",
   "execution_count": null,
   "id": "31e72d3c",
   "metadata": {
    "colab": {
     "base_uri": "https://localhost:8080/"
    },
    "id": "31e72d3c",
    "outputId": "fd2ec6e6-1208-4866-a6db-41cec70502bb"
   },
   "outputs": [],
   "source": [
    "VESPA_CLOUD_SECRET_TOKEN = os.getenv(\"VESPA_CLOUD_SECRET_TOKEN\") or input(\n",
    "    \"Enter Vespa cloud secret token: \"\n",
    ")"
   ]
  },
  {
   "cell_type": "markdown",
   "id": "b441f9b1",
   "metadata": {
    "id": "b441f9b1"
   },
   "source": [
    "We will use Google's Gemini API to create sample queries for our images.\n",
    "Create a Gemini API key from [here](https://aistudio.google.com/app/apikey). Once you have the key, please run the cell below.\n",
    "You can also use other VLM's to create these queries."
   ]
  },
  {
   "cell_type": "code",
   "execution_count": null,
   "id": "7e381016",
   "metadata": {
    "colab": {
     "base_uri": "https://localhost:8080/"
    },
    "id": "7e381016",
    "outputId": "e6f7c2e4-695c-47bd-e011-cd96cb2d3bd0"
   },
   "outputs": [],
   "source": [
    "GOOGLE_API_KEY = os.getenv(\"GOOGLE_API_KEY\") or input(\n",
    "    \"Enter Google Generative AI API key: \"\n",
    ")\n",
    "# Configure Google Generative AI\n",
    "genai.configure(api_key=GOOGLE_API_KEY)"
   ]
  },
  {
   "cell_type": "markdown",
   "id": "cf6e478e",
   "metadata": {
    "id": "cf6e478e"
   },
   "source": [
    "### Loading the ColPali model from huggingface 🤗"
   ]
  },
  {
   "cell_type": "code",
   "execution_count": null,
   "id": "da9059a1",
   "metadata": {
    "colab": {
     "base_uri": "https://localhost:8080/",
     "height": 265,
     "referenced_widgets": [
      "151a0a2102f94d17be835614b2b123c0",
      "37e076c8b287463e89d69763472578eb",
      "d59096202c9c4dad870e1175b318b3ad",
      "6a2b271ae4d543d8ab2b3c1012bbfa24",
      "6ee4a3833b9346c685bf62959e0ea88b",
      "f25412e6cf3a4caaab2c10fda2b18e25",
      "0ee4aac7e3c54e3fada6f85f65d10c7c",
      "1d95528769124fa9832f92d211020811",
      "2762779e15304722b73f404eb9321939",
      "d1519bd5b466448fa331b1c7ecb8f3e1",
      "327669bed4ed4692875e8232a10058a4"
     ]
    },
    "id": "da9059a1",
    "outputId": "a26830aa-1d35-4287-a094-7501fedd7865"
   },
   "outputs": [],
   "source": [
    "MODEL_NAME = \"vidore/colpali-v1.2\"\n",
    "\n",
    "# Set device for Torch\n",
    "device = get_torch_device(\"auto\")\n",
    "print(f\"Using device: {device}\")\n",
    "\n",
    "# Load the ColPali model and processor\n",
    "model = ColPali.from_pretrained(\n",
    "    MODEL_NAME,\n",
    "    torch_dtype=torch.float32,\n",
    "    device_map=device,\n",
    ").eval()\n",
    "\n",
    "processor = ColPaliProcessor.from_pretrained(MODEL_NAME)"
   ]
  },
  {
   "cell_type": "markdown",
   "id": "b2fa950e",
   "metadata": {
    "id": "b2fa950e"
   },
   "source": [
    "## 2. Download PDFs\n",
    "\n",
    "We are going to use public reports from the Norwegian Government Pension Fund Global (also known as the Oil Fund).\n",
    "The fund puts transparency at the forefront and publishes reports on its investments, holdings, and returns, as well as its strategy and governance.\n",
    "\n",
    "These reports are the ones we are going to use for this showcase.\n",
    "Here are some sample images:\n",
    "\n",
    "![Sample1](../_static/sample_1.png)\n",
    "![Sample2](../_static/sample_2.png)\n"
   ]
  },
  {
   "cell_type": "markdown",
   "id": "e68a75f8",
   "metadata": {
    "id": "e68a75f8"
   },
   "source": [
    "As we can see, a lot of the information is in the form of tables, charts and numbers.\n",
    "These are not easily extractable using pdf-readers or OCR tools.\n"
   ]
  },
  {
   "cell_type": "code",
   "execution_count": null,
   "id": "ac9022f4",
   "metadata": {
    "colab": {
     "base_uri": "https://localhost:8080/"
    },
    "id": "ac9022f4",
    "outputId": "4671dcab-b07b-43f5-b8df-887bceeb001e"
   },
   "outputs": [],
   "source": [
    "import requests\n",
    "\n",
    "pdfs = [\n",
    "    {\n",
    "        \"url\": \"https://www.nbim.no/contentassets/c328a077177e4b03af6bee280e20d40e/gpfg-half-year-report-2024.pdf\",\n",
    "        \"path\": \"pdfs/gpfg-half-year-report-2024.pdf\",\n",
    "        \"year\": \"2024\",\n",
    "    },\n",
    "    {\n",
    "        \"url\": \"https://www.nbim.no/contentassets/75e18afc40974cb189e3747164def669/gpfg-annual-report_2023.pdf\",\n",
    "        \"path\": \"pdfs/gpfg-annual-report_2023.pdf\",\n",
    "        \"year\": \"2023\",\n",
    "    },\n",
    "]"
   ]
  },
  {
   "cell_type": "markdown",
   "id": "47b91844",
   "metadata": {
    "id": "47b91844"
   },
   "source": [
    "### Downloading the PDFs\n",
    "\n",
    "We create a function to download the PDFs from the web to the provided directory."
   ]
  },
  {
   "cell_type": "code",
   "execution_count": null,
   "id": "5d291269",
   "metadata": {},
   "outputs": [],
   "source": [
    "PDFS_DIR = \"pdfs\"\n",
    "os.makedirs(PDFS_DIR, exist_ok=True)\n",
    "\n",
    "\n",
    "def download_pdf(url: str, path: str):\n",
    "    r = requests.get(url, stream=True)\n",
    "    with open(path, \"wb\") as f:\n",
    "        for chunk in r.iter_content(chunk_size=1024):\n",
    "            if chunk:\n",
    "                f.write(chunk)\n",
    "    return path\n",
    "\n",
    "\n",
    "# Download the pdfs\n",
    "for pdf in pdfs:\n",
    "    download_pdf(pdf[\"url\"], pdf[\"path\"])"
   ]
  },
  {
   "cell_type": "markdown",
   "id": "98fff7f2",
   "metadata": {
    "id": "98fff7f2",
    "lines_to_next_cell": 2
   },
   "source": [
    "## 3. Convert PDFs to Images\n"
   ]
  },
  {
   "cell_type": "code",
   "execution_count": null,
   "id": "c3776ee9",
   "metadata": {
    "colab": {
     "base_uri": "https://localhost:8080/"
    },
    "id": "c3776ee9",
    "outputId": "667bb3a4-b39a-49a9-c990-59cc9ae9e6b3"
   },
   "outputs": [],
   "source": [
    "def get_pdf_images(pdf_path):\n",
    "    reader = PdfReader(pdf_path)\n",
    "    page_texts = []\n",
    "    for page_number in range(len(reader.pages)):\n",
    "        page = reader.pages[page_number]\n",
    "        text = page.extract_text()\n",
    "        page_texts.append(text)\n",
    "    # Convert to PIL images\n",
    "    images = convert_from_path(pdf_path)\n",
    "    assert len(images) == len(page_texts)\n",
    "    return images, page_texts\n",
    "\n",
    "\n",
    "pdf_folder = \"pdfs\"\n",
    "pdf_pages = []\n",
    "for pdf in tqdm(pdfs):\n",
    "    pdf_file = pdf[\"path\"]\n",
    "    title = os.path.splitext(os.path.basename(pdf_file))[0]\n",
    "    images, texts = get_pdf_images(pdf_file)\n",
    "    for page_no, (image, text) in enumerate(zip(images, texts)):\n",
    "        pdf_pages.append(\n",
    "            {\n",
    "                \"title\": title,\n",
    "                \"year\": pdf[\"year\"],\n",
    "                \"url\": pdf[\"url\"],\n",
    "                \"path\": pdf_file,\n",
    "                \"image\": image,\n",
    "                \"text\": text,\n",
    "                \"page_no\": page_no,\n",
    "            }\n",
    "        )"
   ]
  },
  {
   "cell_type": "code",
   "execution_count": null,
   "id": "40f1ba74",
   "metadata": {
    "colab": {
     "base_uri": "https://localhost:8080/"
    },
    "id": "40f1ba74",
    "outputId": "754c0f25-f23d-4561-c253-ab50bb5529b8"
   },
   "outputs": [],
   "source": [
    "len(pdf_pages)"
   ]
  },
  {
   "cell_type": "code",
   "execution_count": null,
   "id": "a24c02c2",
   "metadata": {
    "id": "a24c02c2"
   },
   "outputs": [],
   "source": [
    "MAX_PAGES = 10  # Set to None to use all pages\n",
    "pdf_pages = pdf_pages[:MAX_PAGES] if MAX_PAGES else pdf_pages"
   ]
  },
  {
   "cell_type": "markdown",
   "id": "a55a5537",
   "metadata": {
    "id": "a55a5537"
   },
   "source": [
    "We now have 176 pages, which will be the entity we define as one document in Vespa."
   ]
  },
  {
   "cell_type": "markdown",
   "id": "a029ffd4",
   "metadata": {
    "id": "a029ffd4"
   },
   "source": [
    "Let us look at the extracted text from the pages displayed above."
   ]
  },
  {
   "cell_type": "code",
   "execution_count": null,
   "id": "09c56b0c",
   "metadata": {
    "colab": {
     "base_uri": "https://localhost:8080/",
     "height": 1000
    },
    "id": "09c56b0c",
    "outputId": "28a5f12f-e9b4-4cd2-ffe7-9017efa10841"
   },
   "outputs": [],
   "source": [
    "pdf_pages[8][\"image\"]"
   ]
  },
  {
   "cell_type": "code",
   "execution_count": null,
   "id": "668f1965",
   "metadata": {
    "id": "668f1965"
   },
   "outputs": [],
   "source": [
    "print(pdf_pages[8][\"text\"])"
   ]
  },
  {
   "cell_type": "code",
   "execution_count": null,
   "id": "7c99476f",
   "metadata": {
    "id": "7c99476f"
   },
   "outputs": [],
   "source": [
    "# print(pdf_pages[95][\"text\"])"
   ]
  },
  {
   "cell_type": "markdown",
   "id": "979fa109",
   "metadata": {
    "id": "979fa109"
   },
   "source": [
    "As we can see, the extracted text fails to capture the visual information we see in the image, and it would be difficult for an LLM to correctly answer questions such as _'Price development in Technology sector from April 2023?'_ based on the text alone."
   ]
  },
  {
   "cell_type": "markdown",
   "id": "fc1a4940",
   "metadata": {
    "id": "fc1a4940"
   },
   "source": [
    "## 4. Generate Queries\n",
    "\n",
    "In this step, we want to generate queries for each page image.\n",
    "These will be useful for 2 reasons:\n",
    "\n",
    "1. We can use these queries as typeahead suggestions in the search bar.\n",
    "2. We could potentially use the queries to generate an evaluation dataset. See [Improving Retrieval with LLM-as-a-judge](https://blog.vespa.ai/improving-retrieval-with-llm-as-a-judge/) for a deeper dive into this topic. This will not be within the scope of this notebook though.\n",
    "\n",
    "The prompt for generating queries is adapted from [this](https://danielvanstrien.xyz/posts/post-with-code/colpali/2024-09-23-generate_colpali_dataset.html#an-update-retrieval-focused-prompt) wonderful blog post by Daniel van Strien.\n",
    "\n",
    "We have modified the prompt to also generate keword based queries, in addition to the question based queries.\n",
    "\n",
    "We will use the Gemini API to generate these queries, with `gemini-flash-lite-latest` as the model.\n"
   ]
  },
  {
   "cell_type": "code",
   "execution_count": null,
   "id": "c91d609f",
   "metadata": {
    "id": "c91d609f"
   },
   "outputs": [],
   "source": [
    "from pydantic import BaseModel\n",
    "\n",
    "\n",
    "class GeneratedQueries(BaseModel):\n",
    "    broad_topical_question: str\n",
    "    broad_topical_query: str\n",
    "    specific_detail_question: str\n",
    "    specific_detail_query: str\n",
    "    visual_element_question: str\n",
    "    visual_element_query: str\n",
    "\n",
    "\n",
    "def get_retrieval_prompt() -> Tuple[str, GeneratedQueries]:\n",
    "    prompt = (\n",
    "        prompt\n",
    "    ) = \"\"\"You are an investor, stock analyst and financial expert. You will be presented an image of a document page from a report published by the Norwegian Government Pension Fund Global (GPFG). The report may be annual or quarterly reports, or policy reports, on topics such as responsible investment, risk etc.\n",
    "Your task is to generate retrieval queries and questions that you would use to retrieve this document (or ask based on this document) in a large corpus.\n",
    "Please generate 3 different types of retrieval queries and questions.\n",
    "A retrieval query is a keyword based query, made up of 2-5 words, that you would type into a search engine to find this document.\n",
    "A question is a natural language question that you would ask, for which the document contains the answer.\n",
    "The queries should be of the following types:\n",
    "1. A broad topical query: This should cover the main subject of the document.\n",
    "2. A specific detail query: This should cover a specific detail or aspect of the document.\n",
    "3. A visual element query: This should cover a visual element of the document, such as a chart, graph, or image.\n",
    "\n",
    "Important guidelines:\n",
    "- Ensure the queries are relevant for retrieval tasks, not just describing the page content.\n",
    "- Use a fact-based natural language style for the questions.\n",
    "- Frame the queries as if someone is searching for this document in a large corpus.\n",
    "- Make the queries diverse and representative of different search strategies.\n",
    "\n",
    "Format your response as a JSON object with the structure of the following example:\n",
    "{\n",
    "    \"broad_topical_question\": \"What was the Responsible Investment Policy in 2019?\",\n",
    "    \"broad_topical_query\": \"responsible investment policy 2019\",\n",
    "    \"specific_detail_question\": \"What is the percentage of investments in renewable energy?\",\n",
    "    \"specific_detail_query\": \"renewable energy investments percentage\",\n",
    "    \"visual_element_question\": \"What is the trend of total holding value over time?\",\n",
    "    \"visual_element_query\": \"total holding value trend\"\n",
    "}\n",
    "\n",
    "If there are no relevant visual elements, provide an empty string for the visual element question and query.\n",
    "Here is the document image to analyze:\n",
    "Generate the queries based on this image and provide the response in the specified JSON format.\n",
    "Only return JSON. Don't return any extra explanation text. \"\"\"\n",
    "\n",
    "    return prompt, GeneratedQueries\n",
    "\n",
    "\n",
    "prompt_text, pydantic_model = get_retrieval_prompt()"
   ]
  },
  {
   "cell_type": "code",
   "execution_count": null,
   "id": "c46004e5",
   "metadata": {
    "id": "c46004e5"
   },
   "outputs": [],
   "source": [
    "gemini_model = genai.GenerativeModel(\"gemini-flash-lite-latest\")\n",
    "\n",
    "\n",
    "def generate_queries(image, prompt_text, pydantic_model):\n",
    "    try:\n",
    "        response = gemini_model.generate_content(\n",
    "            [image, \"\\n\\n\", prompt_text],\n",
    "            generation_config=genai.GenerationConfig(\n",
    "                response_mime_type=\"application/json\",\n",
    "                response_schema=pydantic_model,\n",
    "            ),\n",
    "        )\n",
    "        queries = json.loads(response.text)\n",
    "    except Exception as _e:\n",
    "        print(_e)\n",
    "        queries = {\n",
    "            \"broad_topical_question\": \"\",\n",
    "            \"broad_topical_query\": \"\",\n",
    "            \"specific_detail_question\": \"\",\n",
    "            \"specific_detail_query\": \"\",\n",
    "            \"visual_element_question\": \"\",\n",
    "            \"visual_element_query\": \"\",\n",
    "        }\n",
    "    return queries"
   ]
  },
  {
   "cell_type": "code",
   "execution_count": null,
   "id": "a363c7b5",
   "metadata": {
    "colab": {
     "base_uri": "https://localhost:8080/",
     "height": 35
    },
    "id": "a363c7b5",
    "outputId": "8663fd62-c383-4b5c-e0d4-e95646f4d9be"
   },
   "outputs": [],
   "source": [
    "for pdf in tqdm(pdf_pages):\n",
    "    image = pdf.get(\"image\")\n",
    "    pdf[\"queries\"] = generate_queries(image, prompt_text, pydantic_model)"
   ]
  },
  {
   "cell_type": "markdown",
   "id": "3e863e44",
   "metadata": {},
   "source": [
    "Let's take a look at the queries and questions generated for the page displayed above."
   ]
  },
  {
   "cell_type": "code",
   "execution_count": null,
   "id": "XoyM3-xLz5qH",
   "metadata": {
    "colab": {
     "base_uri": "https://localhost:8080/"
    },
    "id": "XoyM3-xLz5qH",
    "outputId": "4990cd4c-f111-42fb-a623-b3d7f331b926"
   },
   "outputs": [],
   "source": [
    "pdf_pages[8][\"queries\"]"
   ]
  },
  {
   "cell_type": "markdown",
   "id": "263fce18",
   "metadata": {
    "id": "263fce18",
    "lines_to_next_cell": 2
   },
   "source": [
    "## 5. Generate embeddings\n",
    "\n",
    "Now that we have the queries, we can use the ColPali model to generate embeddings for each page image.\n"
   ]
  },
  {
   "cell_type": "code",
   "execution_count": null,
   "id": "39131a95",
   "metadata": {
    "id": "39131a95"
   },
   "outputs": [],
   "source": [
    "def generate_embeddings(images, model, processor, batch_size=1) -> np.ndarray:\n",
    "    \"\"\"\n",
    "    Generate embeddings for a list of images.\n",
    "    Move to CPU only once per batch.\n",
    "\n",
    "    Args:\n",
    "        images (List[PIL.Image]): List of PIL images.\n",
    "        model (nn.Module): The model to generate embeddings.\n",
    "        processor: The processor to preprocess images.\n",
    "        batch_size (int, optional): Batch size for processing. Defaults to 64.\n",
    "\n",
    "    Returns:\n",
    "        np.ndarray: Embeddings for the images, shape\n",
    "                    (len(images), processor.max_patch_length (1030 for ColPali), model.config.hidden_size (Patch embedding dimension - 128 for ColPali)).\n",
    "    \"\"\"\n",
    "\n",
    "    def collate_fn(batch):\n",
    "        # Batch is a list of images\n",
    "        return processor.process_images(batch)  # Should return a dict of tensors\n",
    "\n",
    "    dataloader = DataLoader(\n",
    "        images,\n",
    "        shuffle=False,\n",
    "        collate_fn=collate_fn,\n",
    "    )\n",
    "\n",
    "    embeddings_list = []\n",
    "    for batch in tqdm(dataloader):\n",
    "        with torch.no_grad():\n",
    "            batch = {k: v.to(model.device) for k, v in batch.items()}\n",
    "            embeddings_batch = model(**batch)\n",
    "            # Convert tensor to numpy array and append to list\n",
    "            embeddings_list.extend(\n",
    "                [t.cpu().numpy() for t in torch.unbind(embeddings_batch)]\n",
    "            )\n",
    "\n",
    "    # Stack all embeddings into a single numpy array\n",
    "    all_embeddings = np.stack(embeddings_list, axis=0)\n",
    "    return all_embeddings"
   ]
  },
  {
   "cell_type": "code",
   "execution_count": null,
   "id": "dece992e",
   "metadata": {
    "colab": {
     "base_uri": "https://localhost:8080/"
    },
    "id": "dece992e",
    "outputId": "bd8baf97-ec7c-4ae1-b732-56aed111aedc"
   },
   "outputs": [],
   "source": [
    "# Generate embeddings for all images\n",
    "images = [pdf[\"image\"] for pdf in pdf_pages]\n",
    "embeddings = generate_embeddings(images, model, processor)"
   ]
  },
  {
   "cell_type": "markdown",
   "id": "0fa98c4d",
   "metadata": {},
   "source": [
    "Now, we have one embedding vector of dimension 128 for each patch of each image (1024 patches + some special tokens)."
   ]
  },
  {
   "cell_type": "code",
   "execution_count": null,
   "id": "eedcf944",
   "metadata": {},
   "outputs": [],
   "source": [
    "embeddings.shape"
   ]
  },
  {
   "cell_type": "code",
   "execution_count": null,
   "id": "f59b0f93",
   "metadata": {
    "colab": {
     "base_uri": "https://localhost:8080/"
    },
    "id": "f59b0f93",
    "outputId": "632cbb72-571f-48b4-a1c0-7c57ccaf6608"
   },
   "outputs": [],
   "source": [
    "assert len(pdf_pages) == embeddings.shape[0]\n",
    "assert embeddings.shape[1] > 1028  # Number of patches (including special tokens)\n",
    "assert embeddings.shape[2] == 128  # Embedding dimension per patch"
   ]
  },
  {
   "cell_type": "markdown",
   "id": "ad45dbb5",
   "metadata": {
    "id": "ad45dbb5",
    "lines_to_next_cell": 2
   },
   "source": [
    "## 6. Prepare Data on Vespa Format\n",
    "\n",
    "Now, that we have all the data we need, all that remains is to make sure it is in the right format for Vespa.\n",
    "\n",
    "We now convert the embeddings to Vespa JSON format so we can store (and index) them in Vespa.\n",
    "Details in [Vespa JSON feed format doc](https://docs.vespa.ai/en/reference/document-json-format.html).\n",
    "\n",
    "\n",
    "We use binary quantization (BQ) of the page level ColPali vector embeddings to reduce their size by 32x.\n",
    "\n",
    "Read more about binarization of multi-vector representations in the [colbert blog post](https://blog.vespa.ai/announcing-colbert-embedder-in-vespa/).\n",
    "\n",
    "The binarization step maps 128 dimensional floats to 128 bits, or 16 bytes per vector. Reducing the size by 32x. On the [DocVQA benchmark](https://huggingface.co/datasets/vidore/docvqa_test_subsampled), binarization results in only a small drop in ranking accuracy."
   ]
  },
  {
   "cell_type": "code",
   "execution_count": null,
   "id": "b41b8283",
   "metadata": {
    "id": "b41b8283"
   },
   "outputs": [],
   "source": [
    "def float_to_binary_embedding(float_query_embedding: dict) -> dict:\n",
    "    \"\"\"Utility function to convert float query embeddings to binary query embeddings.\"\"\"\n",
    "    binary_query_embeddings = {}\n",
    "    for k, v in float_query_embedding.items():\n",
    "        binary_vector = (\n",
    "            np.packbits(np.where(np.array(v) > 0, 1, 0)).astype(np.int8).tolist()\n",
    "        )\n",
    "        binary_query_embeddings[k] = binary_vector\n",
    "    return binary_query_embeddings"
   ]
  },
  {
   "cell_type": "markdown",
   "id": "edd6d42d",
   "metadata": {},
   "source": [
    "We also need a couple of image processing helper functions. These are borrowed from [vidore-benchmark](https://github.com/illuin-tech/vidore-benchmark/blob/v4.0.0/src/vidore_benchmark/utils/image_utils.py) repo. "
   ]
  },
  {
   "cell_type": "code",
   "execution_count": null,
   "id": "8005bb63",
   "metadata": {},
   "outputs": [],
   "source": [
    "import base64\n",
    "import io\n",
    "from pathlib import Path\n",
    "from typing import Union\n",
    "from PIL import Image\n",
    "\n",
    "\n",
    "def scale_image(image: Image.Image, new_height: int = 1024) -> Image.Image:\n",
    "    \"\"\"\n",
    "    Scale an image to a new height while maintaining the aspect ratio.\n",
    "    \"\"\"\n",
    "    # Calculate the scaling factor\n",
    "    width, height = image.size\n",
    "    aspect_ratio = width / height\n",
    "    new_width = int(new_height * aspect_ratio)\n",
    "\n",
    "    # Resize the image\n",
    "    scaled_image = image.resize((new_width, new_height))\n",
    "    return scaled_image\n",
    "\n",
    "\n",
    "def get_base64_image(img: Union[str, Image.Image], add_url_prefix: bool = True) -> str:\n",
    "    \"\"\"\n",
    "    Convert an image (from a filepath or a PIL.Image object) to a JPEG-base64 string.\n",
    "    \"\"\"\n",
    "    if isinstance(img, str):\n",
    "        img = Image.open(img)\n",
    "    elif isinstance(img, Image.Image):\n",
    "        pass\n",
    "    else:\n",
    "        raise ValueError(\"`img` must be a path to an image or a PIL Image object.\")\n",
    "\n",
    "    buffered = io.BytesIO()\n",
    "    img.save(buffered, format=\"jpeg\")\n",
    "    b64_data = base64.b64encode(buffered.getvalue()).decode(\"utf-8\")\n",
    "    return f\"data:image/jpeg;base64,{b64_data}\" if add_url_prefix else b64_data"
   ]
  },
  {
   "cell_type": "markdown",
   "id": "728196e0",
   "metadata": {
    "id": "728196e0"
   },
   "source": [
    "Note that we also store a scaled down (blurred) version of the image in Vespa. The purpose of this is to return this fast on first results to the frontend, to provide a snappy user experience, and then load the full resolution image async in the background."
   ]
  },
  {
   "cell_type": "code",
   "execution_count": null,
   "id": "d1ffdb25",
   "metadata": {
    "id": "d1ffdb25"
   },
   "outputs": [],
   "source": [
    "vespa_feed = []\n",
    "for pdf, embedding in zip(pdf_pages, embeddings):\n",
    "    url = pdf[\"url\"]\n",
    "    year = pdf[\"year\"]\n",
    "    title = pdf[\"title\"]\n",
    "    image = pdf[\"image\"]\n",
    "    text = pdf.get(\"text\", \"\")\n",
    "    page_no = pdf[\"page_no\"]\n",
    "    query_dict = pdf[\"queries\"]\n",
    "    questions = [v for k, v in query_dict.items() if \"question\" in k and v]\n",
    "    queries = [v for k, v in query_dict.items() if \"query\" in k and v]\n",
    "    base_64_image = get_base64_image(\n",
    "        scale_image(image, 32), add_url_prefix=False\n",
    "    )  # Scaled down image to return fast on search (~1kb)\n",
    "    base_64_full_image = get_base64_image(image, add_url_prefix=False)\n",
    "    embedding_dict = {k: v for k, v in enumerate(embedding)}\n",
    "    binary_embedding = float_to_binary_embedding(embedding_dict)\n",
    "    # id_hash should be md5 hash of url and page_number\n",
    "    id_hash = hashlib.md5(f\"{url}_{page_no}\".encode()).hexdigest()\n",
    "    page = {\n",
    "        \"id\": id_hash,\n",
    "        \"fields\": {\n",
    "            \"id\": id_hash,\n",
    "            \"url\": url,\n",
    "            \"title\": title,\n",
    "            \"year\": year,\n",
    "            \"page_number\": page_no,\n",
    "            \"blur_image\": base_64_image,\n",
    "            \"full_image\": base_64_full_image,\n",
    "            \"text\": text,\n",
    "            \"embedding\": binary_embedding,\n",
    "            \"queries\": queries,\n",
    "            \"questions\": questions,\n",
    "        },\n",
    "    }\n",
    "    vespa_feed.append(page)"
   ]
  },
  {
   "cell_type": "markdown",
   "id": "30a95b74",
   "metadata": {
    "id": "30a95b74"
   },
   "source": [
    "### [Optional] Saving the feed file\n",
    "\n",
    "If you have a large dataset, you can optionally save the file, and feed it using the Vespa CLI, which is more performant than the pyvespa client. See [Feeding to Vespa Cloud](https://vespa-engine.github.io/pyvespa/examples/feed_performance_cloud.html) for more details. Uncomment the cell below if you want to save the feed file."
   ]
  },
  {
   "cell_type": "code",
   "execution_count": null,
   "id": "8d1fd953",
   "metadata": {
    "id": "8d1fd953"
   },
   "outputs": [],
   "source": [
    "# os.makedirs(\"output\", exist_ok=True)\n",
    "# with open(\"output/vespa_feed.jsonl\", \"w\") as f:\n",
    "#     vespa_feed_to_save = []\n",
    "#     for page in vespa_feed:\n",
    "#         document_id = page[\"id\"]\n",
    "#         put_id = f\"id:{VESPA_APPLICATION_NAME}:{VESPA_SCHEMA_NAME}::{document_id}\"\n",
    "#         vespa_feed_to_save.append({\"put\": put_id, \"fields\": page[\"fields\"]})\n",
    "#     json.dump(vespa_feed_to_save, f)"
   ]
  },
  {
   "cell_type": "markdown",
   "id": "198bfd90",
   "metadata": {
    "id": "198bfd90"
   },
   "source": [
    "## 7. Prepare Vespa Application\n"
   ]
  },
  {
   "cell_type": "markdown",
   "id": "46c050df",
   "metadata": {
    "id": "46c050df"
   },
   "source": [
    "### Configuring the application package\n",
    "\n",
    "[PyVespa](https://vespa-engine.github.io/pyvespa/) helps us build the [Vespa application package](https://docs.vespa.ai/en/application-packages.html).\n",
    "A Vespa application package consists of configuration files, schemas, models, and code (plugins).\n",
    "\n",
    "Here are some of the key components of this application package:\n",
    "\n",
    "1. We store images (and a scaled down version of the image) as a `raw` field.\n",
    "2. We store the binarized ColPali embeddings as a `tensor<int8>` field.\n",
    "3. We store the queries and questions as a `array<str>` field.\n",
    "4. We define 3 different ranking profiles:\n",
    "    - `default` Uses BM25 for first phase ranking and MaxSim for second phase ranking.\n",
    "    - `bm25` Uses `bm25(title) + bm25(text)` (first phase only) for ranking.\n",
    "    - `retrieval-and-rerank` Uses `nearestneighbor` of the query embedding over the document embeddings for retrieval, `binary_max_sim` for first phase ranking, and `max_sim` of the query-embeddings as float for second phase ranking.\n",
    "    Vespa's [phased ranking](https://docs.vespa.ai/en/phased-ranking.html) allows us to use different ranking strategies for retrieval and reranking, to choose attractive trade-offs between latency, cost, and accuracy.\n",
    "5. We also calculate dot product between the query and each document, so that it can be returned with the results, to generate the similarity maps, which show which patches of the image is most similar to the query token embeddings.\n",
    "\n",
    "First, we define a [Vespa schema](https://docs.vespa.ai/en/schemas.html) with the fields we want to store and their type."
   ]
  },
  {
   "cell_type": "code",
   "execution_count": null,
   "id": "5b7acbb6",
   "metadata": {
    "id": "5b7acbb6"
   },
   "outputs": [],
   "source": [
    "colpali_schema = Schema(\n",
    "    name=VESPA_SCHEMA_NAME,\n",
    "    document=Document(\n",
    "        fields=[\n",
    "            Field(\n",
    "                name=\"id\",\n",
    "                type=\"string\",\n",
    "                indexing=[\"summary\", \"index\"],\n",
    "                match=[\"word\"],\n",
    "            ),\n",
    "            Field(name=\"url\", type=\"string\", indexing=[\"summary\", \"index\"]),\n",
    "            Field(name=\"year\", type=\"int\", indexing=[\"summary\", \"attribute\"]),\n",
    "            Field(\n",
    "                name=\"title\",\n",
    "                type=\"string\",\n",
    "                indexing=[\"summary\", \"index\"],\n",
    "                match=[\"text\"],\n",
    "                index=\"enable-bm25\",\n",
    "            ),\n",
    "            Field(name=\"page_number\", type=\"int\", indexing=[\"summary\", \"attribute\"]),\n",
    "            Field(name=\"blur_image\", type=\"raw\", indexing=[\"summary\"]),\n",
    "            Field(name=\"full_image\", type=\"raw\", indexing=[\"summary\"]),\n",
    "            Field(\n",
    "                name=\"text\",\n",
    "                type=\"string\",\n",
    "                indexing=[\"summary\", \"index\"],\n",
    "                match=[\"text\"],\n",
    "                index=\"enable-bm25\",\n",
    "            ),\n",
    "            Field(\n",
    "                name=\"embedding\",\n",
    "                type=\"tensor<int8>(patch{}, v[16])\",\n",
    "                indexing=[\n",
    "                    \"attribute\",\n",
    "                    \"index\",\n",
    "                ],\n",
    "                ann=HNSW(\n",
    "                    distance_metric=\"hamming\",\n",
    "                    max_links_per_node=32,\n",
    "                    neighbors_to_explore_at_insert=400,\n",
    "                ),\n",
    "            ),\n",
    "            Field(\n",
    "                name=\"questions\",\n",
    "                type=\"array<string>\",\n",
    "                indexing=[\"summary\", \"attribute\"],\n",
    "                summary=Summary(fields=[\"matched-elements-only\"]),\n",
    "            ),\n",
    "            Field(\n",
    "                name=\"queries\",\n",
    "                type=\"array<string>\",\n",
    "                indexing=[\"summary\", \"attribute\"],\n",
    "                summary=Summary(fields=[\"matched-elements-only\"]),\n",
    "            ),\n",
    "        ]\n",
    "    ),\n",
    "    fieldsets=[\n",
    "        FieldSet(\n",
    "            name=\"default\",\n",
    "            fields=[\"title\", \"text\"],\n",
    "        ),\n",
    "    ],\n",
    "    document_summaries=[\n",
    "        DocumentSummary(\n",
    "            name=\"default\",\n",
    "            summary_fields=[\n",
    "                Summary(\n",
    "                    name=\"text\",\n",
    "                    fields=[(\"bolding\", \"on\")],\n",
    "                ),\n",
    "                Summary(\n",
    "                    name=\"snippet\",\n",
    "                    fields=[(\"source\", \"text\"), \"dynamic\"],\n",
    "                ),\n",
    "            ],\n",
    "            from_disk=True,\n",
    "        ),\n",
    "        DocumentSummary(\n",
    "            name=\"suggestions\",\n",
    "            summary_fields=[\n",
    "                Summary(name=\"questions\"),\n",
    "            ],\n",
    "            from_disk=True,\n",
    "        ),\n",
    "    ],\n",
    ")\n",
    "\n",
    "# Define similarity functions used in all rank profiles\n",
    "mapfunctions = [\n",
    "    Function(\n",
    "        name=\"similarities\",  # computes similarity scores between each query token and image patch\n",
    "        expression=\"\"\"\n",
    "                sum(\n",
    "                    query(qt) * unpack_bits(attribute(embedding)), v\n",
    "                )\n",
    "            \"\"\",\n",
    "    ),\n",
    "    Function(\n",
    "        name=\"normalized\",  # normalizes the similarity scores to [-1, 1]\n",
    "        expression=\"\"\"\n",
    "                (similarities - reduce(similarities, min)) / (reduce((similarities - reduce(similarities, min)), max)) * 2 - 1\n",
    "            \"\"\",\n",
    "    ),\n",
    "    Function(\n",
    "        name=\"quantized\",  # quantizes the normalized similarity scores to signed 8-bit integers [-128, 127]\n",
    "        expression=\"\"\"\n",
    "                cell_cast(normalized * 127.999, int8)\n",
    "            \"\"\",\n",
    "    ),\n",
    "]\n",
    "\n",
    "# Define the 'bm25' rank profile\n",
    "bm25 = RankProfile(\n",
    "    name=\"bm25\",\n",
    "    inputs=[(\"query(qt)\", \"tensor<float>(querytoken{}, v[128])\")],\n",
    "    first_phase=\"bm25(title) + bm25(text)\",\n",
    "    functions=mapfunctions,\n",
    ")\n",
    "\n",
    "\n",
    "# A function to create an inherited rank profile which also returns quantized similarity scores\n",
    "def with_quantized_similarity(rank_profile: RankProfile) -> RankProfile:\n",
    "    return RankProfile(\n",
    "        name=f\"{rank_profile.name}_sim\",\n",
    "        first_phase=rank_profile.first_phase,\n",
    "        inherits=rank_profile.name,\n",
    "        summary_features=[\"quantized\"],\n",
    "    )\n",
    "\n",
    "\n",
    "colpali_schema.add_rank_profile(bm25)\n",
    "colpali_schema.add_rank_profile(with_quantized_similarity(bm25))\n",
    "\n",
    "\n",
    "# Update the 'colpali' rank profile\n",
    "input_query_tensors = []\n",
    "MAX_QUERY_TERMS = 64\n",
    "for i in range(MAX_QUERY_TERMS):\n",
    "    input_query_tensors.append((f\"query(rq{i})\", \"tensor<int8>(v[16])\"))\n",
    "\n",
    "input_query_tensors.extend(\n",
    "    [\n",
    "        (\"query(qt)\", \"tensor<float>(querytoken{}, v[128])\"),\n",
    "        (\"query(qtb)\", \"tensor<int8>(querytoken{}, v[16])\"),\n",
    "    ]\n",
    ")\n",
    "\n",
    "colpali = RankProfile(\n",
    "    name=\"colpali\",\n",
    "    inputs=input_query_tensors,\n",
    "    first_phase=\"max_sim_binary\",\n",
    "    second_phase=SecondPhaseRanking(expression=\"max_sim\", rerank_count=10),\n",
    "    functions=mapfunctions\n",
    "    + [\n",
    "        Function(\n",
    "            name=\"max_sim\",\n",
    "            expression=\"\"\"\n",
    "                sum(\n",
    "                    reduce(\n",
    "                        sum(\n",
    "                            query(qt) * unpack_bits(attribute(embedding)), v\n",
    "                        ),\n",
    "                        max, patch\n",
    "                    ),\n",
    "                    querytoken\n",
    "                )\n",
    "            \"\"\",\n",
    "        ),\n",
    "        Function(\n",
    "            name=\"max_sim_binary\",\n",
    "            expression=\"\"\"\n",
    "                sum(\n",
    "                    reduce(\n",
    "                        1 / (1 + sum(\n",
    "                            hamming(query(qtb), attribute(embedding)), v)\n",
    "                        ),\n",
    "                        max, patch\n",
    "                    ),\n",
    "                    querytoken\n",
    "                )\n",
    "            \"\"\",\n",
    "        ),\n",
    "    ],\n",
    ")\n",
    "colpali_schema.add_rank_profile(colpali)\n",
    "colpali_schema.add_rank_profile(with_quantized_similarity(colpali))\n",
    "\n",
    "# Update the 'hybrid' rank profile\n",
    "hybrid = RankProfile(\n",
    "    name=\"hybrid\",\n",
    "    inputs=input_query_tensors,\n",
    "    first_phase=\"max_sim_binary\",\n",
    "    second_phase=SecondPhaseRanking(\n",
    "        expression=\"max_sim + 2 * (bm25(text) + bm25(title))\", rerank_count=10\n",
    "    ),\n",
    "    functions=mapfunctions\n",
    "    + [\n",
    "        Function(\n",
    "            name=\"max_sim\",\n",
    "            expression=\"\"\"\n",
    "                sum(\n",
    "                    reduce(\n",
    "                        sum(\n",
    "                            query(qt) * unpack_bits(attribute(embedding)), v\n",
    "                        ),\n",
    "                        max, patch\n",
    "                    ),\n",
    "                    querytoken\n",
    "                )\n",
    "            \"\"\",\n",
    "        ),\n",
    "        Function(\n",
    "            name=\"max_sim_binary\",\n",
    "            expression=\"\"\"\n",
    "                sum(\n",
    "                    reduce(\n",
    "                        1 / (1 + sum(\n",
    "                            hamming(query(qtb), attribute(embedding)), v)\n",
    "                        ),\n",
    "                        max, patch\n",
    "                    ),\n",
    "                    querytoken\n",
    "                )\n",
    "            \"\"\",\n",
    "        ),\n",
    "    ],\n",
    ")\n",
    "colpali_schema.add_rank_profile(hybrid)\n",
    "colpali_schema.add_rank_profile(with_quantized_similarity(hybrid))"
   ]
  },
  {
   "cell_type": "markdown",
   "id": "1400db2a",
   "metadata": {
    "id": "1400db2a"
   },
   "source": [
    "### Configuring the `services.xml`\n",
    "\n",
    "[services.xml](https://docs.vespa.ai/en/reference/services.html) is the primary configuration file for a Vespa application, with a plethora of options to configure the application.\n",
    "\n",
    "Since `pyvespa` version `0.50.0`, these configuration options are also available in `pyvespa`. See [Pyvespa - Advanced configuration](https://vespa-engine.github.io/pyvespa/advanced-configuration.html) for more details. (Note that configurating this is optional, and pyvespa will use basic defaults for you if you opt out).\n",
    "\n",
    "We will use the advanced configuration to configure up [dynamic snippets](https://docs.vespa.ai/en/document-summaries.html#dynamic-snippets). This allows us to highlight matched terms in the search results and generate a `snippet` to display, rather than the full text of the document."
   ]
  },
  {
   "cell_type": "code",
   "execution_count": null,
   "id": "e6a1ae73",
   "metadata": {
    "id": "e6a1ae73"
   },
   "outputs": [],
   "source": [
    "from vespa.configuration.services import (\n",
    "    services,\n",
    "    container,\n",
    "    search,\n",
    "    document_api,\n",
    "    document_processing,\n",
    "    clients,\n",
    "    client,\n",
    "    config,\n",
    "    content,\n",
    "    redundancy,\n",
    "    documents,\n",
    "    node,\n",
    "    certificate,\n",
    "    token,\n",
    "    document,\n",
    "    nodes,\n",
    ")\n",
    "from vespa.configuration.vt import vt\n",
    "from vespa.package import ServicesConfiguration\n",
    "\n",
    "service_config = ServicesConfiguration(\n",
    "    application_name=VESPA_APPLICATION_NAME,\n",
    "    services_config=services(\n",
    "        container(\n",
    "            search(),\n",
    "            document_api(),\n",
    "            document_processing(),\n",
    "            clients(\n",
    "                client(\n",
    "                    certificate(file=\"security/clients.pem\"),\n",
    "                    id=\"mtls\",\n",
    "                    permissions=\"read,write\",\n",
    "                ),\n",
    "                client(\n",
    "                    token(id=f\"{VESPA_TOKEN_ID}\"),\n",
    "                    id=\"token_write\",\n",
    "                    permissions=\"read,write\",\n",
    "                ),\n",
    "            ),\n",
    "            config(\n",
    "                vt(\"tag\")(\n",
    "                    vt(\"bold\")(\n",
    "                        vt(\"open\", \"<strong>\"),\n",
    "                        vt(\"close\", \"</strong>\"),\n",
    "                    ),\n",
    "                    vt(\"separator\", \"...\"),\n",
    "                ),\n",
    "                name=\"container.qr-searchers\",\n",
    "            ),\n",
    "            id=f\"{VESPA_APPLICATION_NAME}_container\",\n",
    "            version=\"1.0\",\n",
    "        ),\n",
    "        content(\n",
    "            redundancy(\"1\"),\n",
    "            documents(document(type=\"pdf_page\", mode=\"index\")),\n",
    "            nodes(node(distribution_key=\"0\", hostalias=\"node1\")),\n",
    "            config(\n",
    "                vt(\"max_matches\", \"2\", replace_underscores=False),\n",
    "                vt(\"length\", \"1000\"),\n",
    "                vt(\"surround_max\", \"500\", replace_underscores=False),\n",
    "                vt(\"min_length\", \"300\", replace_underscores=False),\n",
    "                name=\"vespa.config.search.summary.juniperrc\",\n",
    "            ),\n",
    "            id=f\"{VESPA_APPLICATION_NAME}_content\",\n",
    "            version=\"1.0\",\n",
    "        ),\n",
    "        version=\"1.0\",\n",
    "    ),\n",
    ")"
   ]
  },
  {
   "cell_type": "code",
   "execution_count": null,
   "id": "288ce09d",
   "metadata": {
    "id": "288ce09d"
   },
   "outputs": [],
   "source": [
    "# Create the Vespa application package\n",
    "vespa_application_package = ApplicationPackage(\n",
    "    name=VESPA_APPLICATION_NAME,\n",
    "    schema=[colpali_schema],\n",
    "    services_config=service_config,\n",
    ")"
   ]
  },
  {
   "cell_type": "markdown",
   "id": "d2a9d5fc",
   "metadata": {
    "id": "d2a9d5fc"
   },
   "source": [
    "## 8. Deploy Vespa Application\n"
   ]
  },
  {
   "cell_type": "code",
   "execution_count": null,
   "id": "e2f1147e",
   "metadata": {
    "id": "e2f1147e"
   },
   "outputs": [],
   "source": [
    "# This is only needed for CI.\n",
    "VESPA_TEAM_API_KEY = os.getenv(\"VESPA_TEAM_API_KEY\", None)"
   ]
  },
  {
   "cell_type": "code",
   "execution_count": null,
   "id": "8cd98149",
   "metadata": {
    "colab": {
     "base_uri": "https://localhost:8080/"
    },
    "id": "8cd98149",
    "outputId": "99b6ff7f-c84d-44f9-b4f2-29c9be994538"
   },
   "outputs": [],
   "source": [
    "vespa_cloud = VespaCloud(\n",
    "    tenant=VESPA_TENANT_NAME,\n",
    "    application=VESPA_APPLICATION_NAME,\n",
    "    key_content=VESPA_TEAM_API_KEY,\n",
    "    application_package=vespa_application_package,\n",
    ")\n",
    "\n",
    "# Deploy the application\n",
    "vespa_cloud.deploy()\n",
    "\n",
    "# Output the endpoint URL\n",
    "endpoint_url = vespa_cloud.get_token_endpoint()\n",
    "print(f\"Application deployed. Token endpoint URL: {endpoint_url}\")"
   ]
  },
  {
   "cell_type": "markdown",
   "id": "d9cb4dfa",
   "metadata": {
    "id": "d9cb4dfa"
   },
   "source": [
    "Make sure to take note of the token endpoint_url.\n",
    "You need to put this in your `.env` file for your web application - `VESPA_APP_TOKEN_URL=https://abcd.vespa-app.cloud` - to access the Vespa application from your web application.\n"
   ]
  },
  {
   "cell_type": "markdown",
   "id": "bcaa6acc",
   "metadata": {
    "id": "bcaa6acc"
   },
   "source": [
    "## 9. Feed Data to Vespa\n",
    "\n",
    "We will need the `enpdoint_url` and `colpalidemo_write` token to feed the data to the Vespa application."
   ]
  },
  {
   "cell_type": "code",
   "execution_count": null,
   "id": "0e97868b",
   "metadata": {
    "colab": {
     "base_uri": "https://localhost:8080/"
    },
    "id": "0e97868b",
    "outputId": "227dd121-a7b7-42db-a9a9-c892bbaf73e6"
   },
   "outputs": [],
   "source": [
    "# Instantiate Vespa connection using token\n",
    "app = Vespa(url=endpoint_url, vespa_cloud_secret_token=VESPA_CLOUD_SECRET_TOKEN)\n",
    "app.get_application_status()"
   ]
  },
  {
   "cell_type": "markdown",
   "id": "caae9d21",
   "metadata": {},
   "source": [
    "Now, let us feed the data to Vespa. \n",
    "If you have a large dataset, you could also do this async, with `feed_async_iterable()`, see [Feeding Vespa cloud](https://vespa-engine.github.io/pyvespa/examples/feed_performance_cloud.html) for a detailed comparison. "
   ]
  },
  {
   "cell_type": "code",
   "execution_count": null,
   "id": "d3d650aa",
   "metadata": {
    "id": "d3d650aa"
   },
   "outputs": [],
   "source": [
    "def callback(response: VespaResponse, id: str):\n",
    "    if not response.is_successful():\n",
    "        print(\n",
    "            f\"Failed to feed document {id} with status code {response.status_code}: Reason {response.get_json()}\"\n",
    "        )\n",
    "\n",
    "\n",
    "# Feed data into Vespa synchronously\n",
    "app.feed_iterable(vespa_feed, schema=VESPA_SCHEMA_NAME, callback=callback)"
   ]
  },
  {
   "cell_type": "markdown",
   "id": "b6b40258",
   "metadata": {
    "id": "b6b40258"
   },
   "source": [
    "## 10. Test a query to the Vespa application"
   ]
  },
  {
   "cell_type": "markdown",
   "id": "0d50eff1",
   "metadata": {},
   "source": [
    "For now, we will just run a query with the default rank profile. \n",
    "We will need a utility function to generate embeddings for the query, and pass this to Vespa to use for calculating MaxSim. \n",
    "In the web application, we also provide function to generate binary embeddings, allowing the user to choose different rank profiles at query time. "
   ]
  },
  {
   "cell_type": "code",
   "execution_count": null,
   "id": "f9e9612f",
   "metadata": {},
   "outputs": [],
   "source": [
    "query = \"Price development in Technology sector from April 2023?\""
   ]
  },
  {
   "cell_type": "code",
   "execution_count": null,
   "id": "a0e8c26c",
   "metadata": {},
   "outputs": [],
   "source": [
    "def get_q_embs_vespa_format(query: str):\n",
    "    inputs = processor.process_queries([query]).to(model.device)\n",
    "    with torch.no_grad():\n",
    "        embeddings_query = model(**inputs)\n",
    "        q_embs = embeddings_query.to(\"cpu\")[0]  # Extract the single embedding\n",
    "    return {idx: emb.tolist() for idx, emb in enumerate(q_embs)}"
   ]
  },
  {
   "cell_type": "code",
   "execution_count": null,
   "id": "0cda4668",
   "metadata": {},
   "outputs": [],
   "source": [
    "q_emb = get_q_embs_vespa_format(query)"
   ]
  },
  {
   "cell_type": "code",
   "execution_count": null,
   "id": "2ec704f8",
   "metadata": {
    "id": "2ec704f8"
   },
   "outputs": [],
   "source": [
    "with app.syncio() as sess:\n",
    "    response = sess.query(\n",
    "        body={\n",
    "            \"yql\": (\n",
    "                f\"select id, url, title, year, full_image, quantized  from {VESPA_SCHEMA_NAME} where userQuery();\"\n",
    "            ),\n",
    "            \"ranking\": \"default\",\n",
    "            \"query\": query,\n",
    "            \"timeout\": \"10s\",\n",
    "            \"hits\": 3,\n",
    "            \"input.query(qt)\": q_emb,\n",
    "            \"presentation.timing\": True,\n",
    "        }\n",
    "    )"
   ]
  },
  {
   "cell_type": "code",
   "execution_count": null,
   "id": "540a5d87",
   "metadata": {
    "colab": {
     "base_uri": "https://localhost:8080/"
    },
    "id": "540a5d87",
    "outputId": "747d299e-6b23-4539-ba22-cab108c958f1"
   },
   "outputs": [],
   "source": [
    "assert len(response.json[\"root\"][\"children\"]) == 3"
   ]
  },
  {
   "cell_type": "markdown",
   "id": "bdd6ab1c",
   "metadata": {
    "id": "bdd6ab1c"
   },
   "source": [
    "Great. You have now deployed the Vespa application and fed the data to it, and made sure you are able to query it using the vespa endpoint and a token.\n",
    "\n",
    "### Saving the generated key/cert files\n",
    "\n",
    "A key and cert file is generated for you as an alternative to using tokens for authentication.\n",
    "We advise you to save these files in a secure location, in case you want to use them for authentication in the future."
   ]
  },
  {
   "cell_type": "code",
   "execution_count": null,
   "id": "SzjQd1R67vEm",
   "metadata": {
    "colab": {
     "base_uri": "https://localhost:8080/",
     "height": 257
    },
    "id": "SzjQd1R67vEm",
    "outputId": "7149e59e-5752-4bf7-b654-91e536b5ee02"
   },
   "outputs": [],
   "source": [
    "key_path = Path(\n",
    "    f\"~/.vespa/{VESPA_TENANT_NAME}.{VESPA_APPLICATION_NAME}.default/data-plane-private-key.pem\"\n",
    ").expanduser()\n",
    "cert_path = Path(\n",
    "    f\"~/.vespa/{VESPA_TENANT_NAME}.{VESPA_APPLICATION_NAME}.default/data-plane-public-cert.pem\"\n",
    ").expanduser()\n",
    "\n",
    "assert key_path.exists(), cert_path.exists()"
   ]
  },
  {
   "cell_type": "markdown",
   "id": "efff6dda",
   "metadata": {
    "id": "efff6dda"
   },
   "source": [
    "## 11. Deploying your web app\n",
    "\n",
    "To deploy a frontend to let users interact with the Vespa application. you can clone the sample app from [sample-apps repo](https://github.com/vespa-engine/sample-apps/blob/master/visual-retrieval-colpali/README.md).\n",
    "It includes instructions for running and connecting your web application to your vespa app. "
   ]
  },
  {
   "cell_type": "code",
   "execution_count": null,
   "id": "03e5aee0",
   "metadata": {},
   "outputs": [],
   "source": [
    "!git clone --depth 1 --filter=blob:none --sparse https://github.com/vespa-engine/sample-apps.git src && cd src && git sparse-checkout set visual-retrieval-colpali"
   ]
  },
  {
   "cell_type": "markdown",
   "id": "dd11ceca",
   "metadata": {},
   "source": [
    "Now, you have the code for the webapp in your `src/visual-retrieval-colpali`-directory"
   ]
  },
  {
   "cell_type": "code",
   "execution_count": null,
   "id": "34e30c3d",
   "metadata": {},
   "outputs": [],
   "source": [
    "os.listdir(\"src/visual-retrieval-colpali\")"
   ]
  },
  {
   "cell_type": "markdown",
   "id": "0cd235cc",
   "metadata": {},
   "source": [
    "### Setting environment variables for your web app\n",
    "\n",
    "Now, you need to set the following variables in the `src/.env.example`-file: \n",
    "\n",
    "```bash\n",
    "VESPA_APP_TOKEN_URL=https://abcde.z.vespa-app.cloud # Your token endpoint url you got after deploying your Vespa app.\n",
    "VESPA_CLOUD_SECRET_TOKEN=vespa_cloud_xxxxxxxx # The value of the token that your created in this notebook. \n",
    "GEMINI_API_KEY=your_api_key # The same as GOOGLE_API_KEY in this notebook\n",
    "HF_TOKEN=hf_xxxx # If you want to deploy your web app to huggingface spaces - https://huggingface.co/settings/tokens\n",
    "```\n",
    "\n",
    "After, that, rename your file to .env. "
   ]
  },
  {
   "cell_type": "code",
   "execution_count": null,
   "id": "ffdda836",
   "metadata": {},
   "outputs": [],
   "source": [
    "# rename src/visual-retrieval-colpali/.env.example\n",
    "os.rename(\n",
    "    \"src/visual-retrieval-colpali/.env.example\", dst=\"src/visual-retrieval-colpali/.env\"\n",
    ")"
   ]
  },
  {
   "cell_type": "markdown",
   "id": "e47acc98",
   "metadata": {},
   "source": [
    "And you're ready to spin up your web app locally, and deploy to huggingface spaces if you want. \n",
    "Navigate to `src/visual-retrieval-colpali/` directory and follow the instructions in the `README.md` to continue. 🚀"
   ]
  },
  {
   "cell_type": "markdown",
   "id": "b42fce1e",
   "metadata": {},
   "source": [
    "## Cleanup\n",
    "\n",
    "As this notebook runs in CI, we will delete the Vespa application after running the notebook.\n",
    "DO NOT run the cell below unless you are sure you want to delete the Vespa application."
   ]
  },
  {
   "cell_type": "code",
   "execution_count": null,
   "id": "09e94299",
   "metadata": {},
   "outputs": [],
   "source": [
    "if os.getenv(\"CI\", \"false\") == \"true\":\n",
    "    vespa_cloud.delete()"
   ]
  }
 ],
 "metadata": {
  "accelerator": "GPU",
  "colab": {
   "gpuType": "T4",
   "provenance": [],
   "toc_visible": true
  },
  "jupytext": {
   "cell_metadata_filter": "-all",
   "main_language": "python",
   "notebook_metadata_filter": "-all"
  },
  "kernelspec": {
   "display_name": "Python 3",
   "name": "python3"
  },
  "language_info": {
   "name": "python"
  },
  "widgets": {
   "application/vnd.jupyter.widget-state+json": {
    "0ee4aac7e3c54e3fada6f85f65d10c7c": {
     "model_module": "@jupyter-widgets/controls",
     "model_module_version": "1.5.0",
     "model_name": "DescriptionStyleModel",
     "state": {
      "_model_module": "@jupyter-widgets/controls",
      "_model_module_version": "1.5.0",
      "_model_name": "DescriptionStyleModel",
      "_view_count": null,
      "_view_module": "@jupyter-widgets/base",
      "_view_module_version": "1.2.0",
      "_view_name": "StyleView",
      "description_width": ""
     }
    },
    "151a0a2102f94d17be835614b2b123c0": {
     "model_module": "@jupyter-widgets/controls",
     "model_module_version": "1.5.0",
     "model_name": "HBoxModel",
     "state": {
      "_dom_classes": [],
      "_model_module": "@jupyter-widgets/controls",
      "_model_module_version": "1.5.0",
      "_model_name": "HBoxModel",
      "_view_count": null,
      "_view_module": "@jupyter-widgets/controls",
      "_view_module_version": "1.5.0",
      "_view_name": "HBoxView",
      "box_style": "",
      "children": [
       "IPY_MODEL_37e076c8b287463e89d69763472578eb",
       "IPY_MODEL_d59096202c9c4dad870e1175b318b3ad",
       "IPY_MODEL_6a2b271ae4d543d8ab2b3c1012bbfa24"
      ],
      "layout": "IPY_MODEL_6ee4a3833b9346c685bf62959e0ea88b"
     }
    },
    "1d95528769124fa9832f92d211020811": {
     "model_module": "@jupyter-widgets/base",
     "model_module_version": "1.2.0",
     "model_name": "LayoutModel",
     "state": {
      "_model_module": "@jupyter-widgets/base",
      "_model_module_version": "1.2.0",
      "_model_name": "LayoutModel",
      "_view_count": null,
      "_view_module": "@jupyter-widgets/base",
      "_view_module_version": "1.2.0",
      "_view_name": "LayoutView",
      "align_content": null,
      "align_items": null,
      "align_self": null,
      "border": null,
      "bottom": null,
      "display": null,
      "flex": null,
      "flex_flow": null,
      "grid_area": null,
      "grid_auto_columns": null,
      "grid_auto_flow": null,
      "grid_auto_rows": null,
      "grid_column": null,
      "grid_gap": null,
      "grid_row": null,
      "grid_template_areas": null,
      "grid_template_columns": null,
      "grid_template_rows": null,
      "height": null,
      "justify_content": null,
      "justify_items": null,
      "left": null,
      "margin": null,
      "max_height": null,
      "max_width": null,
      "min_height": null,
      "min_width": null,
      "object_fit": null,
      "object_position": null,
      "order": null,
      "overflow": null,
      "overflow_x": null,
      "overflow_y": null,
      "padding": null,
      "right": null,
      "top": null,
      "visibility": null,
      "width": null
     }
    },
    "2762779e15304722b73f404eb9321939": {
     "model_module": "@jupyter-widgets/controls",
     "model_module_version": "1.5.0",
     "model_name": "ProgressStyleModel",
     "state": {
      "_model_module": "@jupyter-widgets/controls",
      "_model_module_version": "1.5.0",
      "_model_name": "ProgressStyleModel",
      "_view_count": null,
      "_view_module": "@jupyter-widgets/base",
      "_view_module_version": "1.2.0",
      "_view_name": "StyleView",
      "bar_color": null,
      "description_width": ""
     }
    },
    "327669bed4ed4692875e8232a10058a4": {
     "model_module": "@jupyter-widgets/controls",
     "model_module_version": "1.5.0",
     "model_name": "DescriptionStyleModel",
     "state": {
      "_model_module": "@jupyter-widgets/controls",
      "_model_module_version": "1.5.0",
      "_model_name": "DescriptionStyleModel",
      "_view_count": null,
      "_view_module": "@jupyter-widgets/base",
      "_view_module_version": "1.2.0",
      "_view_name": "StyleView",
      "description_width": ""
     }
    },
    "37e076c8b287463e89d69763472578eb": {
     "model_module": "@jupyter-widgets/controls",
     "model_module_version": "1.5.0",
     "model_name": "HTMLModel",
     "state": {
      "_dom_classes": [],
      "_model_module": "@jupyter-widgets/controls",
      "_model_module_version": "1.5.0",
      "_model_name": "HTMLModel",
      "_view_count": null,
      "_view_module": "@jupyter-widgets/controls",
      "_view_module_version": "1.5.0",
      "_view_name": "HTMLView",
      "description": "",
      "description_tooltip": null,
      "layout": "IPY_MODEL_f25412e6cf3a4caaab2c10fda2b18e25",
      "placeholder": "​",
      "style": "IPY_MODEL_0ee4aac7e3c54e3fada6f85f65d10c7c",
      "value": "Loading checkpoint shards: 100%"
     }
    },
    "6a2b271ae4d543d8ab2b3c1012bbfa24": {
     "model_module": "@jupyter-widgets/controls",
     "model_module_version": "1.5.0",
     "model_name": "HTMLModel",
     "state": {
      "_dom_classes": [],
      "_model_module": "@jupyter-widgets/controls",
      "_model_module_version": "1.5.0",
      "_model_name": "HTMLModel",
      "_view_count": null,
      "_view_module": "@jupyter-widgets/controls",
      "_view_module_version": "1.5.0",
      "_view_name": "HTMLView",
      "description": "",
      "description_tooltip": null,
      "layout": "IPY_MODEL_d1519bd5b466448fa331b1c7ecb8f3e1",
      "placeholder": "​",
      "style": "IPY_MODEL_327669bed4ed4692875e8232a10058a4",
      "value": " 2/2 [00:19&lt;00:00,  9.10s/it]"
     }
    },
    "6ee4a3833b9346c685bf62959e0ea88b": {
     "model_module": "@jupyter-widgets/base",
     "model_module_version": "1.2.0",
     "model_name": "LayoutModel",
     "state": {
      "_model_module": "@jupyter-widgets/base",
      "_model_module_version": "1.2.0",
      "_model_name": "LayoutModel",
      "_view_count": null,
      "_view_module": "@jupyter-widgets/base",
      "_view_module_version": "1.2.0",
      "_view_name": "LayoutView",
      "align_content": null,
      "align_items": null,
      "align_self": null,
      "border": null,
      "bottom": null,
      "display": null,
      "flex": null,
      "flex_flow": null,
      "grid_area": null,
      "grid_auto_columns": null,
      "grid_auto_flow": null,
      "grid_auto_rows": null,
      "grid_column": null,
      "grid_gap": null,
      "grid_row": null,
      "grid_template_areas": null,
      "grid_template_columns": null,
      "grid_template_rows": null,
      "height": null,
      "justify_content": null,
      "justify_items": null,
      "left": null,
      "margin": null,
      "max_height": null,
      "max_width": null,
      "min_height": null,
      "min_width": null,
      "object_fit": null,
      "object_position": null,
      "order": null,
      "overflow": null,
      "overflow_x": null,
      "overflow_y": null,
      "padding": null,
      "right": null,
      "top": null,
      "visibility": null,
      "width": null
     }
    },
    "d1519bd5b466448fa331b1c7ecb8f3e1": {
     "model_module": "@jupyter-widgets/base",
     "model_module_version": "1.2.0",
     "model_name": "LayoutModel",
     "state": {
      "_model_module": "@jupyter-widgets/base",
      "_model_module_version": "1.2.0",
      "_model_name": "LayoutModel",
      "_view_count": null,
      "_view_module": "@jupyter-widgets/base",
      "_view_module_version": "1.2.0",
      "_view_name": "LayoutView",
      "align_content": null,
      "align_items": null,
      "align_self": null,
      "border": null,
      "bottom": null,
      "display": null,
      "flex": null,
      "flex_flow": null,
      "grid_area": null,
      "grid_auto_columns": null,
      "grid_auto_flow": null,
      "grid_auto_rows": null,
      "grid_column": null,
      "grid_gap": null,
      "grid_row": null,
      "grid_template_areas": null,
      "grid_template_columns": null,
      "grid_template_rows": null,
      "height": null,
      "justify_content": null,
      "justify_items": null,
      "left": null,
      "margin": null,
      "max_height": null,
      "max_width": null,
      "min_height": null,
      "min_width": null,
      "object_fit": null,
      "object_position": null,
      "order": null,
      "overflow": null,
      "overflow_x": null,
      "overflow_y": null,
      "padding": null,
      "right": null,
      "top": null,
      "visibility": null,
      "width": null
     }
    },
    "d59096202c9c4dad870e1175b318b3ad": {
     "model_module": "@jupyter-widgets/controls",
     "model_module_version": "1.5.0",
     "model_name": "FloatProgressModel",
     "state": {
      "_dom_classes": [],
      "_model_module": "@jupyter-widgets/controls",
      "_model_module_version": "1.5.0",
      "_model_name": "FloatProgressModel",
      "_view_count": null,
      "_view_module": "@jupyter-widgets/controls",
      "_view_module_version": "1.5.0",
      "_view_name": "ProgressView",
      "bar_style": "success",
      "description": "",
      "description_tooltip": null,
      "layout": "IPY_MODEL_1d95528769124fa9832f92d211020811",
      "max": 2,
      "min": 0,
      "orientation": "horizontal",
      "style": "IPY_MODEL_2762779e15304722b73f404eb9321939",
      "value": 2
     }
    },
    "f25412e6cf3a4caaab2c10fda2b18e25": {
     "model_module": "@jupyter-widgets/base",
     "model_module_version": "1.2.0",
     "model_name": "LayoutModel",
     "state": {
      "_model_module": "@jupyter-widgets/base",
      "_model_module_version": "1.2.0",
      "_model_name": "LayoutModel",
      "_view_count": null,
      "_view_module": "@jupyter-widgets/base",
      "_view_module_version": "1.2.0",
      "_view_name": "LayoutView",
      "align_content": null,
      "align_items": null,
      "align_self": null,
      "border": null,
      "bottom": null,
      "display": null,
      "flex": null,
      "flex_flow": null,
      "grid_area": null,
      "grid_auto_columns": null,
      "grid_auto_flow": null,
      "grid_auto_rows": null,
      "grid_column": null,
      "grid_gap": null,
      "grid_row": null,
      "grid_template_areas": null,
      "grid_template_columns": null,
      "grid_template_rows": null,
      "height": null,
      "justify_content": null,
      "justify_items": null,
      "left": null,
      "margin": null,
      "max_height": null,
      "max_width": null,
      "min_height": null,
      "min_width": null,
      "object_fit": null,
      "object_position": null,
      "order": null,
      "overflow": null,
      "overflow_x": null,
      "overflow_y": null,
      "padding": null,
      "right": null,
      "top": null,
      "visibility": null,
      "width": null
     }
    }
   }
  }
 },
 "nbformat": 4,
 "nbformat_minor": 5
}
