{
 "cells": [
  {
   "cell_type": "markdown",
   "id": "given-adoption",
   "metadata": {},
   "source": [
    "<picture>\n",
    "  <source media=\"(prefers-color-scheme: dark)\" srcset=\"https://vespa.ai/assets/vespa-ai-logo-heather.svg\">\n",
    "  <source media=\"(prefers-color-scheme: light)\" srcset=\"https://vespa.ai/assets/vespa-ai-logo-rock.svg\">\n",
    "  <img alt=\"#Vespa\" width=\"200\" src=\"https://vespa.ai/assets/vespa-ai-logo-rock.svg\" style=\"margin-bottom: 25px;\">\n",
    "</picture>\n",
    "\n",
    "# Feeding performance\n",
    "\n",
    "This explorative notebook intends to shine some light on the different modes of feeding documents to Vespa.\n",
    "We will look at these 3 different methods:\n",
    "\n",
    "1. Using `feed_iterable()`.\n",
    "2. Using `feed_iterable_async()`\n",
    "3. Using [Vespa CLI](https://docs.vespa.ai/en/vespa-cli)\n"
   ]
  },
  {
   "cell_type": "markdown",
   "id": "8c967bd2",
   "metadata": {},
   "source": [
    "<div class=\"alert alert-info\">\n",
    "    Refer to <a href=\"https://pyvespa.readthedocs.io/en/latest/troubleshooting.html\">troubleshooting</a>\n",
    "    for any problem when running this guide.\n",
    "</div>\n"
   ]
  },
  {
   "cell_type": "markdown",
   "id": "8345b2fe",
   "metadata": {},
   "source": [
    "[Install pyvespa](https://pyvespa.readthedocs.io/), Vespa CLI, and start Docker Daemon.\n",
    "\n",
    "> The `vespacli` python package is just a thin wrapper, allowing for installation through pypi.\n",
    "> Do NOT install if you already have the Vespa CLI installed.\n"
   ]
  },
  {
   "cell_type": "code",
   "execution_count": 1,
   "id": "03f3d0f2",
   "metadata": {},
   "outputs": [
    {
     "name": "stdout",
     "output_type": "stream",
     "text": [
      "Defaulting to user installation because normal site-packages is not writeable\n",
      "Requirement already satisfied: pyvespa in /Users/thomas/Library/Python/3.9/lib/python/site-packages (0.40.0)\n",
      "Collecting vespacli\n",
      "  Downloading vespacli-8.323.45-py3-none-any.whl (49.3 MB)\n",
      "\u001b[K     |████████████████████████████████| 49.3 MB 3.0 MB/s eta 0:00:01\n",
      "\u001b[?25hRequirement already satisfied: requests in /Users/thomas/Library/Python/3.9/lib/python/site-packages (from pyvespa) (2.31.0)\n",
      "Requirement already satisfied: jinja2 in /Users/thomas/Library/Python/3.9/lib/python/site-packages (from pyvespa) (3.1.3)\n",
      "Requirement already satisfied: aiohttp in /Users/thomas/Library/Python/3.9/lib/python/site-packages (from pyvespa) (3.9.3)\n",
      "Requirement already satisfied: requests-toolbelt in /Users/thomas/Library/Python/3.9/lib/python/site-packages (from pyvespa) (1.0.0)\n",
      "Requirement already satisfied: cryptography in /Users/thomas/Library/Python/3.9/lib/python/site-packages (from pyvespa) (42.0.5)\n",
      "Requirement already satisfied: docker in /Users/thomas/Library/Python/3.9/lib/python/site-packages (from pyvespa) (7.0.0)\n",
      "Requirement already satisfied: tenacity in /Users/thomas/Library/Python/3.9/lib/python/site-packages (from pyvespa) (8.2.3)\n",
      "Requirement already satisfied: typing-extensions in /Users/thomas/Library/Python/3.9/lib/python/site-packages (from pyvespa) (4.10.0)\n",
      "Requirement already satisfied: yarl<2.0,>=1.0 in /Users/thomas/Library/Python/3.9/lib/python/site-packages (from aiohttp->pyvespa) (1.9.4)\n",
      "Requirement already satisfied: aiosignal>=1.1.2 in /Users/thomas/Library/Python/3.9/lib/python/site-packages (from aiohttp->pyvespa) (1.3.1)\n",
      "Requirement already satisfied: frozenlist>=1.1.1 in /Users/thomas/Library/Python/3.9/lib/python/site-packages (from aiohttp->pyvespa) (1.4.1)\n",
      "Requirement already satisfied: multidict<7.0,>=4.5 in /Users/thomas/Library/Python/3.9/lib/python/site-packages (from aiohttp->pyvespa) (6.0.5)\n",
      "Requirement already satisfied: attrs>=17.3.0 in /Users/thomas/Library/Python/3.9/lib/python/site-packages (from aiohttp->pyvespa) (23.2.0)\n",
      "Requirement already satisfied: async-timeout<5.0,>=4.0 in /Users/thomas/Library/Python/3.9/lib/python/site-packages (from aiohttp->pyvespa) (4.0.3)\n",
      "Requirement already satisfied: idna>=2.0 in /Users/thomas/Library/Python/3.9/lib/python/site-packages (from yarl<2.0,>=1.0->aiohttp->pyvespa) (3.6)\n",
      "Requirement already satisfied: cffi>=1.12 in /Users/thomas/Library/Python/3.9/lib/python/site-packages (from cryptography->pyvespa) (1.16.0)\n",
      "Requirement already satisfied: pycparser in /Users/thomas/Library/Python/3.9/lib/python/site-packages (from cffi>=1.12->cryptography->pyvespa) (2.22)\n",
      "Requirement already satisfied: packaging>=14.0 in /Users/thomas/Library/Python/3.9/lib/python/site-packages (from docker->pyvespa) (24.0)\n",
      "Requirement already satisfied: urllib3>=1.26.0 in /Users/thomas/Library/Python/3.9/lib/python/site-packages (from docker->pyvespa) (2.2.1)\n",
      "Requirement already satisfied: certifi>=2017.4.17 in /Users/thomas/Library/Python/3.9/lib/python/site-packages (from requests->pyvespa) (2024.2.2)\n",
      "Requirement already satisfied: charset-normalizer<4,>=2 in /Users/thomas/Library/Python/3.9/lib/python/site-packages (from requests->pyvespa) (3.3.2)\n",
      "Requirement already satisfied: MarkupSafe>=2.0 in /Users/thomas/Library/Python/3.9/lib/python/site-packages (from jinja2->pyvespa) (2.1.5)\n",
      "Installing collected packages: vespacli\n",
      "\u001b[33m  WARNING: The script vespa is installed in '/Users/thomas/Library/Python/3.9/bin' which is not on PATH.\n",
      "  Consider adding this directory to PATH or, if you prefer to suppress this warning, use --no-warn-script-location.\u001b[0m\n",
      "Successfully installed vespacli-8.323.45\n",
      "\u001b[33mWARNING: You are using pip version 21.2.4; however, version 24.0 is available.\n",
      "You should consider upgrading via the '/Library/Developer/CommandLineTools/usr/bin/python3 -m pip install --upgrade pip' command.\u001b[0m\n",
      "Emulate Docker CLI using podman. Create /etc/containers/nodocker to quiet msg.\n",
      "host:\n",
      "  arch: arm64\n",
      "  buildahVersion: 1.35.3\n",
      "  cgroupControllers:\n",
      "  - cpu\n",
      "  - io\n",
      "  - memory\n",
      "  - pids\n",
      "  cgroupManager: systemd\n",
      "  cgroupVersion: v2\n",
      "  conmon:\n",
      "    package: conmon-2.1.10-1.fc39.aarch64\n",
      "    path: /usr/bin/conmon\n",
      "    version: 'conmon version 2.1.10, commit: '\n",
      "  cpuUtilization:\n",
      "    idlePercent: 95.57\n",
      "    systemPercent: 1.48\n",
      "    userPercent: 2.95\n",
      "  cpus: 6\n",
      "  databaseBackend: sqlite\n",
      "  distribution:\n",
      "    distribution: fedora\n",
      "    variant: coreos\n",
      "    version: \"39\"\n",
      "  eventLogger: journald\n",
      "  freeLocks: 2044\n",
      "  hostname: localhost.localdomain\n",
      "  idMappings:\n",
      "    gidmap:\n",
      "    - container_id: 0\n",
      "      host_id: 1000\n",
      "      size: 1\n",
      "    - container_id: 1\n",
      "      host_id: 100000\n",
      "      size: 1000000\n",
      "    uidmap:\n",
      "    - container_id: 0\n",
      "      host_id: 501\n",
      "      size: 1\n",
      "    - container_id: 1\n",
      "      host_id: 100000\n",
      "      size: 1000000\n",
      "  kernel: 6.7.9-200.fc39.aarch64\n",
      "  linkmode: dynamic\n",
      "  logDriver: journald\n",
      "  memFree: 850501632\n",
      "  memTotal: 5757870080\n",
      "  networkBackend: netavark\n",
      "  networkBackendInfo:\n",
      "    backend: netavark\n",
      "    dns:\n",
      "      package: aardvark-dns-1.10.0-1.fc39.aarch64\n",
      "      path: /usr/libexec/podman/aardvark-dns\n",
      "      version: aardvark-dns 1.10.0\n",
      "    package: netavark-1.10.3-1.fc39.aarch64\n",
      "    path: /usr/libexec/podman/netavark\n",
      "    version: netavark 1.10.3\n",
      "  ociRuntime:\n",
      "    name: crun\n",
      "    package: crun-1.14.4-1.fc39.aarch64\n",
      "    path: /usr/bin/crun\n",
      "    version: |-\n",
      "      crun version 1.14.4\n",
      "      commit: a220ca661ce078f2c37b38c92e66cf66c012d9c1\n",
      "      rundir: /run/user/501/crun\n",
      "      spec: 1.0.0\n",
      "      +SYSTEMD +SELINUX +APPARMOR +CAP +SECCOMP +EBPF +CRIU +LIBKRUN +WASM:wasmedge +YAJL\n",
      "  os: linux\n",
      "  pasta:\n",
      "    executable: /usr/bin/pasta\n",
      "    package: passt-0^20240326.g4988e2b-1.fc39.aarch64\n",
      "    version: |\n",
      "      pasta 0^20240326.g4988e2b-1.fc39.aarch64-pasta\n",
      "      Copyright Red Hat\n",
      "      GNU General Public License, version 2 or later\n",
      "        <https://www.gnu.org/licenses/old-licenses/gpl-2.0.html>\n",
      "      This is free software: you are free to change and redistribute it.\n",
      "      There is NO WARRANTY, to the extent permitted by law.\n",
      "  remoteSocket:\n",
      "    exists: true\n",
      "    path: /run/user/501/podman/podman.sock\n",
      "  security:\n",
      "    apparmorEnabled: false\n",
      "    capabilities: CAP_CHOWN,CAP_DAC_OVERRIDE,CAP_FOWNER,CAP_FSETID,CAP_KILL,CAP_NET_BIND_SERVICE,CAP_SETFCAP,CAP_SETGID,CAP_SETPCAP,CAP_SETUID,CAP_SYS_CHROOT\n",
      "    rootless: true\n",
      "    seccompEnabled: true\n",
      "    seccompProfilePath: /usr/share/containers/seccomp.json\n",
      "    selinuxEnabled: true\n",
      "  serviceIsRemote: true\n",
      "  slirp4netns:\n",
      "    executable: /usr/bin/slirp4netns\n",
      "    package: slirp4netns-1.2.2-1.fc39.aarch64\n",
      "    version: |-\n",
      "      slirp4netns version 1.2.2\n",
      "      commit: 0ee2d87523e906518d34a6b423271e4826f71faf\n",
      "      libslirp: 4.7.0\n",
      "      SLIRP_CONFIG_VERSION_MAX: 4\n",
      "      libseccomp: 2.5.3\n",
      "  swapFree: 0\n",
      "  swapTotal: 0\n",
      "  uptime: 23h 34m 33.00s (Approximately 0.96 days)\n",
      "  variant: v8\n",
      "plugins:\n",
      "  authorization: null\n",
      "  log:\n",
      "  - k8s-file\n",
      "  - none\n",
      "  - passthrough\n",
      "  - journald\n",
      "  network:\n",
      "  - bridge\n",
      "  - macvlan\n",
      "  - ipvlan\n",
      "  volume:\n",
      "  - local\n",
      "registries:\n",
      "  search:\n",
      "  - docker.io\n",
      "store:\n",
      "  configFile: /var/home/core/.config/containers/storage.conf\n",
      "  containerStore:\n",
      "    number: 4\n",
      "    paused: 0\n",
      "    running: 1\n",
      "    stopped: 3\n",
      "  graphDriverName: overlay\n",
      "  graphOptions: {}\n",
      "  graphRoot: /var/home/core/.local/share/containers/storage\n",
      "  graphRootAllocated: 106769133568\n",
      "  graphRootUsed: 40999809024\n",
      "  graphStatus:\n",
      "    Backing Filesystem: xfs\n",
      "    Native Overlay Diff: \"true\"\n",
      "    Supports d_type: \"true\"\n",
      "    Supports shifting: \"false\"\n",
      "    Supports volatile: \"true\"\n",
      "    Using metacopy: \"false\"\n",
      "  imageCopyTmpDir: /var/tmp\n",
      "  imageStore:\n",
      "    number: 2\n",
      "  runRoot: /run/user/501/containers\n",
      "  transientStore: false\n",
      "  volumePath: /var/home/core/.local/share/containers/storage/volumes\n",
      "version:\n",
      "  APIVersion: 5.0.1\n",
      "  Built: 1711929600\n",
      "  BuiltTime: Mon Apr  1 02:00:00 2024\n",
      "  GitCommit: \"\"\n",
      "  GoVersion: go1.21.8\n",
      "  Os: linux\n",
      "  OsArch: linux/arm64\n",
      "  Version: 5.0.1\n",
      "\n"
     ]
    }
   ],
   "source": [
    "!pip3 install pyvespa vespacli\n",
    "!docker info"
   ]
  },
  {
   "cell_type": "markdown",
   "id": "db637322",
   "metadata": {},
   "source": [
    "## Create an application package\n",
    "\n",
    "The [application package](https://pyvespa.readthedocs.io/en/latest/reference-api.html#vespa.package.ApplicationPackage)\n",
    "has all the Vespa configuration files -\n",
    "create one from scratch:\n"
   ]
  },
  {
   "cell_type": "code",
   "execution_count": 2,
   "id": "bd5c2629",
   "metadata": {},
   "outputs": [],
   "source": [
    "from vespa.package import (\n",
    "    ApplicationPackage,\n",
    "    Field,\n",
    "    Schema,\n",
    "    Document,\n",
    "    FieldSet,\n",
    ")\n",
    "\n",
    "package = ApplicationPackage(\n",
    "    name=\"pyvespafeed\",\n",
    "    schema=[\n",
    "        Schema(\n",
    "            name=\"doc\",\n",
    "            document=Document(\n",
    "                fields=[\n",
    "                    Field(name=\"id\", type=\"string\", indexing=[\"summary\"]),\n",
    "                    Field(name=\"text\", type=\"string\", indexing=[\"summary\"]),\n",
    "                ]\n",
    "            ),\n",
    "            fieldsets=[FieldSet(name=\"default\", fields=[\"text\"])],\n",
    "        )\n",
    "    ],\n",
    ")"
   ]
  },
  {
   "cell_type": "markdown",
   "id": "2c5e2943",
   "metadata": {},
   "source": [
    "Note that the `ApplicationPackage` name cannot have `-` or `_`.\n"
   ]
  },
  {
   "cell_type": "markdown",
   "id": "careful-savage",
   "metadata": {},
   "source": [
    "## Deploy the Vespa application\n",
    "\n",
    "Deploy `package` on the local machine using Docker,\n",
    "without leaving the notebook, by creating an instance of\n",
    "[VespaDocker](https://pyvespa.readthedocs.io/en/latest/reference-api.html#vespa.deployment.VespaDocker). `VespaDocker` connects\n",
    "to the local Docker daemon socket and starts the [Vespa docker image](https://hub.docker.com/r/vespaengine/vespa/).\n",
    "\n",
    "If this step fails, please check\n",
    "that the Docker daemon is running, and that the Docker daemon socket can be used by clients (Configurable under advanced settings in Docker Desktop).\n"
   ]
  },
  {
   "cell_type": "code",
   "execution_count": 3,
   "id": "canadian-blood",
   "metadata": {},
   "outputs": [
    {
     "name": "stderr",
     "output_type": "stream",
     "text": [
      "/Users/thomas/Repos/pyvespa/pyvespa/lib/python3.9/site-packages/urllib3/__init__.py:35: NotOpenSSLWarning: urllib3 v2 only supports OpenSSL 1.1.1+, currently the 'ssl' module is compiled with 'LibreSSL 2.8.3'. See: https://github.com/urllib3/urllib3/issues/3020\n",
      "  warnings.warn(\n"
     ]
    },
    {
     "name": "stdout",
     "output_type": "stream",
     "text": [
      "Waiting for configuration server, 0/300 seconds...\n",
      "Using plain http against endpoint http://localhost:8080/ApplicationStatus\n",
      "Waiting for application status, 0/300 seconds...\n",
      "Using plain http against endpoint http://localhost:8080/ApplicationStatus\n",
      "Waiting for application status, 5/300 seconds...\n",
      "Using plain http against endpoint http://localhost:8080/ApplicationStatus\n",
      "Waiting for application status, 10/300 seconds...\n",
      "Using plain http against endpoint http://localhost:8080/ApplicationStatus\n",
      "Application is up!\n",
      "Finished deployment.\n"
     ]
    }
   ],
   "source": [
    "from vespa.deployment import VespaDocker\n",
    "\n",
    "vespa_docker = VespaDocker()\n",
    "app = vespa_docker.deploy(application_package=package)"
   ]
  },
  {
   "cell_type": "markdown",
   "id": "aaae2f91",
   "metadata": {},
   "source": [
    "`app` now holds a reference to a [Vespa](https://pyvespa.readthedocs.io/en/latest/reference-api.html#vespa.application.Vespa) instance.\n"
   ]
  },
  {
   "cell_type": "markdown",
   "id": "sealed-mustang",
   "metadata": {},
   "source": [
    "## Preparing the data\n",
    "\n",
    "In this example we use [HF Datasets](https://huggingface.co/docs/datasets/index) library to stream the\n",
    "[\"Cohere/wikipedia-2023-11-embed-multilingual-v3\"](https://huggingface.co/datasets/Cohere/wikipedia-2023-11-embed-multilingual-v3) dataset and index in our newly deployed Vespa instance.\n",
    "\n",
    "The dataset contains wikipedia-pages, and their corresponding embeddings.\n",
    "\n",
    "> For this exploration we will just use the `id` and `text`-fields\n",
    "\n",
    "The following uses the [stream](https://huggingface.co/docs/datasets/stream) option of datasets to stream the data without\n",
    "downloading all the contents locally.\n",
    "\n",
    "The `map` functionality allows us to convert the\n",
    "dataset fields into the expected feed format for `pyvespa` which expects a dict with the keys `id` and `fields`:\n",
    "\n",
    "`{ \"id\": \"vespa-document-id\", \"fields\": {\"vespa_field\": \"vespa-field-value\"}}`\n"
   ]
  },
  {
   "cell_type": "code",
   "execution_count": 4,
   "id": "e9d3facd",
   "metadata": {},
   "outputs": [],
   "source": [
    "from datasets import load_dataset\n",
    "\n",
    "dataset = load_dataset(\n",
    "    \"Cohere/wikipedia-2023-11-embed-multilingual-v3\",\n",
    "    \"ext\",\n",
    "    split=\"train\",\n",
    "    streaming=False,\n",
    ")\n",
    "vespa_feed = dataset.map(\n",
    "    lambda x: {\"id\": x[\"_id\"] + \"-iter\", \"fields\": {\"text\": x[\"text\"]}}\n",
    ")"
   ]
  },
  {
   "cell_type": "code",
   "execution_count": 5,
   "id": "f08fc961",
   "metadata": {},
   "outputs": [],
   "source": [
    "vespa_feed_iter = vespa_feed.select_columns([\"id\", \"fields\"])"
   ]
  },
  {
   "cell_type": "code",
   "execution_count": 6,
   "id": "20c98a58",
   "metadata": {},
   "outputs": [],
   "source": [
    "from vespa.application import Vespa\n",
    "\n",
    "app = Vespa(url=\"http://localhost\", port=\"8080\")"
   ]
  },
  {
   "cell_type": "markdown",
   "id": "79f3f550",
   "metadata": {},
   "source": [
    "## Feeding sync\n"
   ]
  },
  {
   "cell_type": "code",
   "execution_count": 7,
   "id": "92928d20",
   "metadata": {},
   "outputs": [
    {
     "name": "stdout",
     "output_type": "stream",
     "text": [
      "Preparing update requests...\n"
     ]
    },
    {
     "name": "stderr",
     "output_type": "stream",
     "text": [
      "10967 Requests [00:13, 787.11 Requests/s]"
     ]
    },
    {
     "name": "stdout",
     "output_type": "stream",
     "text": [
      "Requests completed\n",
      "Feed time sync: 13.93797492980957\n"
     ]
    },
    {
     "name": "stderr",
     "output_type": "stream",
     "text": [
      "\n"
     ]
    }
   ],
   "source": [
    "import time\n",
    "\n",
    "start = time.time()\n",
    "responses = app.feed_iterable(\n",
    "    vespa_feed_iter,\n",
    "    schema=\"doc\",\n",
    "    namespace=\"pyvespa-feed\",\n",
    "    operation_type=\"update\",\n",
    "    create=True,\n",
    ")\n",
    "end = time.time()\n",
    "sync_feed_time = end - start\n",
    "print(f\"Feed time sync: {sync_feed_time}\")"
   ]
  },
  {
   "cell_type": "markdown",
   "id": "788e2dda",
   "metadata": {},
   "source": [
    "# Feeding async\n",
    "\n",
    "With the next release of `pyvespa`, we will have the `feed_iterable_async` method available, which should make the feeding process a lot faster.\n",
    "\n",
    "> One thing to keep in mind is that this function will only have one thread available, and will context switch between all the tasks.\n",
    "> This means that when feeding many requests, it will take some time before any of the tasks are finished, which might make the user wonder if something is wrong.\n"
   ]
  },
  {
   "cell_type": "code",
   "execution_count": 8,
   "id": "ba601daa",
   "metadata": {},
   "outputs": [
    {
     "name": "stdout",
     "output_type": "stream",
     "text": [
      "Preparing feed requests...\n"
     ]
    },
    {
     "name": "stderr",
     "output_type": "stream",
     "text": [
      "100%|██████████| 10967/10967 [00:04<00:00, 2647.01 Requests/s]"
     ]
    },
    {
     "name": "stdout",
     "output_type": "stream",
     "text": [
      "Requests completed\n",
      "Feed time async: 4.34295916557312\n"
     ]
    },
    {
     "name": "stderr",
     "output_type": "stream",
     "text": [
      "\n"
     ]
    }
   ],
   "source": [
    "start = time.time()\n",
    "responses = await app.feed_iterable_async(\n",
    "    vespa_feed_iter, schema=\"doc\", namespace=\"pyvespa-feed\"\n",
    ")\n",
    "end = time.time()\n",
    "async_feed_time = end - start\n",
    "print(f\"Feed time async: {async_feed_time}\")"
   ]
  },
  {
   "cell_type": "markdown",
   "id": "46a28331",
   "metadata": {},
   "source": [
    "Nice! 🤩\n",
    "We got a ~3x speedup by using the async method.\n",
    "\n",
    "Even more can be expected in scenarios where requests will travel over the network, e.g. when feeding to [Vespa Cloud](https://cloud.vespa.ai/).\n",
    "\n",
    "We have not looked at multiprocessing, but for very large datasets, one approach could be to read the data in non-overlapping splits, and feed each split in different python processes. Maybe we will explore this in a future notebook.\n"
   ]
  },
  {
   "cell_type": "markdown",
   "id": "5630e540",
   "metadata": {},
   "source": [
    "## Feeding with Vespa CLI\n",
    "\n",
    "[Vespa CLI](https://docs.vespa.ai/en/vespa-cli) is a command-line interface for interacting with Vespa.\n",
    "Among many useful features are a `vespa feed` command that is the recommended way of feeding large datasets into Vespa.\n"
   ]
  },
  {
   "cell_type": "markdown",
   "id": "f82d48fd",
   "metadata": {},
   "source": [
    "## Prepare the data for Vespa CLI\n",
    "\n",
    "Vespa CLI can feed data from either many .json files or a single .jsonl file with many documents.\n",
    "The json format needs to be in the following format:\n",
    "\n",
    "```json\n",
    "{\n",
    "  \"put\": \"id:namespace:document-type::document-id\",\n",
    "  \"fields\": {\n",
    "    \"field1\": \"value1\",\n",
    "    \"field2\": \"value2\"\n",
    "  }\n",
    "}\n",
    "```\n",
    "\n",
    "Where, `put` is the document operation in this case. Other allowed operations are `get`, `update` and `remove`.\n",
    "\n",
    "For reference, see https://docs.vespa.ai/en/vespa-cli#cheat-sheet\n"
   ]
  },
  {
   "cell_type": "code",
   "execution_count": 9,
   "id": "8e821b7e",
   "metadata": {},
   "outputs": [],
   "source": [
    "vespa_json_feed = vespa_feed.map(\n",
    "    lambda x: {\n",
    "        \"put\": f\"id:pyvespa-feed:doc::{x['_id']}-json\",\n",
    "        \"fields\": {\"text\": x[\"text\"]},\n",
    "    }\n",
    ")"
   ]
  },
  {
   "cell_type": "code",
   "execution_count": 10,
   "id": "9b377ee3",
   "metadata": {},
   "outputs": [
    {
     "data": {
      "application/vnd.jupyter.widget-view+json": {
       "model_id": "b1062ef945cd4636af17a552f558684c",
       "version_major": 2,
       "version_minor": 0
      },
      "text/plain": [
       "Creating json from Arrow format:   0%|          | 0/11 [00:00<?, ?ba/s]"
      ]
     },
     "metadata": {},
     "output_type": "display_data"
    },
    {
     "data": {
      "text/plain": [
       "4505289"
      ]
     },
     "execution_count": 10,
     "metadata": {},
     "output_type": "execute_result"
    }
   ],
   "source": [
    "vespa_json_feed.select_columns([\"put\", \"fields\"]).to_json(\n",
    "    \"vespa_feed.json\", orient=\"records\", lines=True\n",
    ")"
   ]
  },
  {
   "cell_type": "code",
   "execution_count": 11,
   "id": "cd95d014",
   "metadata": {},
   "outputs": [
    {
     "name": "stdout",
     "output_type": "stream",
     "text": [
      "{'fields': {'text': 'Güiquipedia Ayúa Zona prevas Índizi A–Z El conceju La '\n",
      "                    'troji Embassy Help for non-Extremaduran speakers Ayuda '\n",
      "                    \"para quienes no hablan estremeñu'''\"},\n",
      " 'put': 'id:pyvespa-feed:doc::20231101.ext_246_0-json'}\n"
     ]
    }
   ],
   "source": [
    "from pprint import pprint\n",
    "import json\n",
    "\n",
    "with open(\"vespa_feed.json\", \"r\") as f:\n",
    "    sample = f.readline()\n",
    "    pprint(json.loads(sample))"
   ]
  },
  {
   "cell_type": "code",
   "execution_count": 12,
   "id": "2ea17d30",
   "metadata": {},
   "outputs": [
    {
     "data": {
      "text/plain": [
       "{'feeder.operation.count': 10967,\n",
       " 'feeder.seconds': 1.023,\n",
       " 'feeder.ok.count': 10967,\n",
       " 'feeder.ok.rate': 10725.075,\n",
       " 'feeder.error.count': 0,\n",
       " 'feeder.inflight.count': 0,\n",
       " 'http.request.count': 10967,\n",
       " 'http.request.bytes': 3295053,\n",
       " 'http.request.MBps': 3.222,\n",
       " 'http.exception.count': 0,\n",
       " 'http.response.count': 10967,\n",
       " 'http.response.bytes': 1380468,\n",
       " 'http.response.MBps': 1.35,\n",
       " 'http.response.error.count': 0,\n",
       " 'http.response.latency.millis.min': 47,\n",
       " 'http.response.latency.millis.avg': 95,\n",
       " 'http.response.latency.millis.max': 270,\n",
       " 'http.response.code.counts': {'200': 10967}}"
      ]
     },
     "execution_count": 12,
     "metadata": {},
     "output_type": "execute_result"
    }
   ],
   "source": [
    "output_list = !vespa feed vespa_feed.json\n",
    "results = json.loads(\"\".join(output_list))\n",
    "results"
   ]
  },
  {
   "cell_type": "code",
   "execution_count": 13,
   "id": "be2c18ae",
   "metadata": {},
   "outputs": [
    {
     "name": "stdout",
     "output_type": "stream",
     "text": [
      "CLI Feed time: 1.023\n"
     ]
    }
   ],
   "source": [
    "print(f\"CLI Feed time: {results['feeder.seconds']}\")"
   ]
  },
  {
   "cell_type": "markdown",
   "id": "1f745d73",
   "metadata": {},
   "source": [
    "Told you the CLI was fast! 🚀\n",
    "As you can see, the CLI is by far the fastest way to feed data into Vespa.\n"
   ]
  },
  {
   "cell_type": "markdown",
   "id": "18fc6282",
   "metadata": {},
   "source": [
    "## Conclusion\n"
   ]
  },
  {
   "cell_type": "code",
   "execution_count": 14,
   "id": "571c3db0",
   "metadata": {},
   "outputs": [
    {
     "name": "stdout",
     "output_type": "stream",
     "text": [
      "zsh:1: command not found: pip\n"
     ]
    }
   ],
   "source": [
    "!pip3 install matplotlib"
   ]
  },
  {
   "cell_type": "code",
   "execution_count": 19,
   "id": "5769dc21",
   "metadata": {},
   "outputs": [
    {
     "data": {
      "image/png": "[encoded data removed]",
      "text/plain": [
       "<Figure size 1000x500 with 1 Axes>"
      ]
     },
     "metadata": {},
     "output_type": "display_data"
    }
   ],
   "source": [
    "# A beautiful visualization (Tufte style) of requests per second for sync, async and CLI\n",
    "import matplotlib.pyplot as plt\n",
    "\n",
    "num_requests = len(vespa_feed)\n",
    "plt.figure(figsize=(10, 5))\n",
    "plt.bar(\n",
    "    [\"feed_iterable\", \"feed_iterable_async\", \"CLI\"],\n",
    "    [\n",
    "        num_requests / sync_feed_time,\n",
    "        num_requests / async_feed_time,\n",
    "        num_requests / results[\"feeder.seconds\"],\n",
    "    ],\n",
    "    color=[\"blue\", \"red\", \"green\"],\n",
    ")\n",
    "plt.ylabel(\"Requests per second\")\n",
    "plt.title(\"Feeding to Vespa\")\n",
    "plt.show()"
   ]
  },
  {
   "cell_type": "markdown",
   "id": "2d91581b",
   "metadata": {},
   "source": [
    "- Prefer to use the CLI if you care about performance. 🚀\n",
    "- If you are using Python, prefer the async method, as it is the fastest way to feed data using `pyvespa`.\n",
    "- If you _really_ don`t like async, the sync method will also work, if you are not in a hurry. ☕\n"
   ]
  },
  {
   "cell_type": "markdown",
   "id": "28591491",
   "metadata": {},
   "source": [
    "## Cleanup\n"
   ]
  },
  {
   "cell_type": "code",
   "execution_count": 16,
   "id": "e5064bd2",
   "metadata": {},
   "outputs": [],
   "source": [
    "vespa_docker.container.stop()\n",
    "vespa_docker.container.remove()"
   ]
  },
  {
   "cell_type": "markdown",
   "id": "d1872b31",
   "metadata": {},
   "source": [
    "## Next steps\n",
    "\n",
    "This is just an intro into the capabilities of Vespa and pyvespa.\n",
    "Browse the site to learn more about schemas, feeding and queries -\n",
    "find more complex applications in\n",
    "[examples](https://pyvespa.readthedocs.io/en/latest/examples.html).\n"
   ]
  }
 ],
 "metadata": {
  "kernelspec": {
   "display_name": "Python 3.11.4 64-bit",
   "language": "python",
   "name": "python3"
  },
  "language_info": {
   "codemirror_mode": {
    "name": "ipython",
    "version": 3
   },
   "file_extension": ".py",
   "mimetype": "text/x-python",
   "name": "python",
   "nbconvert_exporter": "python",
   "pygments_lexer": "ipython3",
   "version": "3.9.6"
  },
  "vscode": {
   "interpreter": {
    "hash": "b0fa6594d8f4cbf19f97940f81e996739fb7646882a419484c72d19e05852a7e"
   }
  }
 },
 "nbformat": 4,
 "nbformat_minor": 5
}
