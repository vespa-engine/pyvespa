{
 "cells": [
  {
   "cell_type": "markdown",
   "id": "given-adoption",
   "metadata": {},
   "source": [
    "<picture>\n",
    "  <source media=\"(prefers-color-scheme: dark)\" srcset=\"https://vespa.ai/assets/vespa-ai-logo-heather.svg\">\n",
    "  <source media=\"(prefers-color-scheme: light)\" srcset=\"https://vespa.ai/assets/vespa-ai-logo-rock.svg\">\n",
    "  <img alt=\"#Vespa\" width=\"200\" src=\"https://vespa.ai/assets/vespa-ai-logo-rock.svg\" style=\"margin-bottom: 25px;\">\n",
    "</picture>\n",
    "\n",
    "# Feeding performance\n",
    "\n",
    "This explorative notebook intends to shine some light on the different modes of feeding documents to Vespa.\n",
    "We will look at these 3 different methods:\n",
    "\n",
    "1. Using `feed_iterable()`.\n",
    "2. Using `feed_iterable_async()`\n",
    "3. Using [Vespa CLI](https://docs.vespa.ai/en/vespa-cli)\n"
   ]
  },
  {
   "cell_type": "markdown",
   "id": "8c967bd2",
   "metadata": {},
   "source": [
    "<div class=\"alert alert-info\">\n",
    "    Refer to <a href=\"https://pyvespa.readthedocs.io/en/latest/troubleshooting.html\">troubleshooting</a>\n",
    "    for any problem when running this guide.\n",
    "</div>\n"
   ]
  },
  {
   "cell_type": "markdown",
   "id": "8345b2fe",
   "metadata": {},
   "source": [
    "[Install pyvespa](https://pyvespa.readthedocs.io/) and start Docker Daemon, validate minimum 6G available:\n"
   ]
  },
  {
   "cell_type": "code",
   "execution_count": 1,
   "id": "03f3d0f2",
   "metadata": {},
   "outputs": [],
   "source": [
    "#!pip3 install pyvespa\n",
    "#!docker info | grep \"Total Memory\""
   ]
  },
  {
   "cell_type": "markdown",
   "id": "db637322",
   "metadata": {},
   "source": [
    "## Create an application package\n",
    "\n",
    "The [application package](https://pyvespa.readthedocs.io/en/latest/reference-api.html#vespa.package.ApplicationPackage)\n",
    "has all the Vespa configuration files -\n",
    "create one from scratch:\n"
   ]
  },
  {
   "cell_type": "code",
   "execution_count": 2,
   "id": "bd5c2629",
   "metadata": {},
   "outputs": [],
   "source": [
    "from vespa.package import (\n",
    "    ApplicationPackage,\n",
    "    Field,\n",
    "    Schema,\n",
    "    Document,\n",
    "    FieldSet,\n",
    ")\n",
    "\n",
    "package = ApplicationPackage(\n",
    "    name=\"pyvespafeed\",\n",
    "    schema=[\n",
    "        Schema(\n",
    "            name=\"doc\",\n",
    "            document=Document(\n",
    "                fields=[\n",
    "                    Field(name=\"id\", type=\"string\", indexing=[\"summary\"]),\n",
    "                    Field(name=\"text\", type=\"string\", indexing=[\"summary\"]),\n",
    "                ]\n",
    "            ),\n",
    "            fieldsets=[FieldSet(name=\"default\", fields=[\"text\"])],\n",
    "        )\n",
    "    ],\n",
    ")"
   ]
  },
  {
   "cell_type": "markdown",
   "id": "2c5e2943",
   "metadata": {},
   "source": [
    "Note that the `ApplicationPackage` name cannot have `-` or `_`.\n"
   ]
  },
  {
   "cell_type": "markdown",
   "id": "careful-savage",
   "metadata": {},
   "source": [
    "## Deploy the Vespa application\n",
    "\n",
    "Deploy `package` on the local machine using Docker,\n",
    "without leaving the notebook, by creating an instance of\n",
    "[VespaDocker](https://pyvespa.readthedocs.io/en/latest/reference-api.html#vespa.deployment.VespaDocker). `VespaDocker` connects\n",
    "to the local Docker daemon socket and starts the [Vespa docker image](https://hub.docker.com/r/vespaengine/vespa/).\n",
    "\n",
    "If this step fails, please check\n",
    "that the Docker daemon is running, and that the Docker daemon socket can be used by clients (Configurable under advanced settings in Docker Desktop).\n"
   ]
  },
  {
   "cell_type": "code",
   "execution_count": 3,
   "id": "canadian-blood",
   "metadata": {},
   "outputs": [
    {
     "name": "stderr",
     "output_type": "stream",
     "text": [
      "/Users/thomas/Repos/pyvespa/pyvespa/lib/python3.9/site-packages/urllib3/__init__.py:35: NotOpenSSLWarning: urllib3 v2 only supports OpenSSL 1.1.1+, currently the 'ssl' module is compiled with 'LibreSSL 2.8.3'. See: https://github.com/urllib3/urllib3/issues/3020\n",
      "  warnings.warn(\n"
     ]
    },
    {
     "name": "stdout",
     "output_type": "stream",
     "text": [
      "Waiting for configuration server, 0/300 seconds...\n"
     ]
    }
   ],
   "source": [
    "from vespa.deployment import VespaDocker\n",
    "\n",
    "vespa_docker = VespaDocker()\n",
    "app = vespa_docker.deploy(application_package=package)"
   ]
  },
  {
   "cell_type": "markdown",
   "id": "aaae2f91",
   "metadata": {},
   "source": [
    "`app` now holds a reference to a [Vespa](https://pyvespa.readthedocs.io/en/latest/reference-api.html#vespa.application.Vespa) instance.\n"
   ]
  },
  {
   "cell_type": "markdown",
   "id": "sealed-mustang",
   "metadata": {},
   "source": [
    "## Preparing the data\n",
    "\n",
    "In this example we use [HF Datasets](https://huggingface.co/docs/datasets/index) library to stream the\n",
    "[\"Cohere/wikipedia-2023-11-embed-multilingual-v3\"](https://huggingface.co/datasets/Cohere/wikipedia-2023-11-embed-multilingual-v3) dataset and index in our newly deployed Vespa instance.\n",
    "\n",
    "The dataset contains wikipedia-pages, and their corresponding embeddings.\n",
    "\n",
    "> For this exploration we will just use the `id` and `text`-fields\n",
    "\n",
    "The following uses the [stream](https://huggingface.co/docs/datasets/stream) option of datasets to stream the data without\n",
    "downloading all the contents locally.\n",
    "\n",
    "The `map` functionality allows us to convert the\n",
    "dataset fields into the expected feed format for `pyvespa` which expects a dict with the keys `id` and `fields`:\n",
    "\n",
    "`{ \"id\": \"vespa-document-id\", \"fields\": {\"vespa_field\": \"vespa-field-value\"}}`\n"
   ]
  },
  {
   "cell_type": "code",
   "execution_count": null,
   "id": "e9d3facd",
   "metadata": {},
   "outputs": [],
   "source": [
    "from datasets import load_dataset\n",
    "\n",
    "dataset = load_dataset(\n",
    "    \"Cohere/wikipedia-2023-11-embed-multilingual-v3\",\n",
    "    \"ext\",\n",
    "    split=\"train\",\n",
    "    streaming=False,\n",
    ")\n",
    "vespa_feed = dataset.map(\n",
    "    lambda x: {\"id\": x[\"_id\"] + \"-iter\", \"fields\": {\"text\": x[\"text\"]}}\n",
    ")"
   ]
  },
  {
   "cell_type": "code",
   "execution_count": null,
   "id": "f08fc961",
   "metadata": {},
   "outputs": [],
   "source": [
    "vespa_feed_iter = vespa_feed.select_columns([\"id\", \"fields\"])"
   ]
  },
  {
   "cell_type": "code",
   "execution_count": null,
   "id": "20c98a58",
   "metadata": {},
   "outputs": [],
   "source": [
    "from vespa.application import Vespa\n",
    "\n",
    "app = Vespa(url=\"http://localhost\", port=\"8080\")"
   ]
  },
  {
   "cell_type": "markdown",
   "id": "79f3f550",
   "metadata": {},
   "source": [
    "## Feeding sync\n"
   ]
  },
  {
   "cell_type": "code",
   "execution_count": null,
   "id": "92928d20",
   "metadata": {},
   "outputs": [
    {
     "name": "stdout",
     "output_type": "stream",
     "text": [
      "Preparing update requests...\n"
     ]
    },
    {
     "name": "stderr",
     "output_type": "stream",
     "text": [
      "10967 Requests [00:13, 790.26 Requests/s]"
     ]
    },
    {
     "name": "stdout",
     "output_type": "stream",
     "text": [
      "Requests completed\n",
      "Feed time sync: 13.880165815353394\n"
     ]
    },
    {
     "name": "stderr",
     "output_type": "stream",
     "text": [
      "\n"
     ]
    }
   ],
   "source": [
    "import time\n",
    "\n",
    "start = time.time()\n",
    "responses = app.feed_iterable(\n",
    "    vespa_feed_iter,\n",
    "    schema=\"doc\",\n",
    "    namespace=\"pyvespa-feed\",\n",
    "    operation_type=\"update\",\n",
    "    create=True,\n",
    ")\n",
    "end = time.time()\n",
    "sync_feed_time = end - start\n",
    "print(f\"Feed time sync: {sync_feed_time}\")"
   ]
  },
  {
   "cell_type": "code",
   "execution_count": null,
   "id": "ba601daa",
   "metadata": {},
   "outputs": [
    {
     "name": "stdout",
     "output_type": "stream",
     "text": [
      "Preparing feed requests...\n"
     ]
    },
    {
     "name": "stderr",
     "output_type": "stream",
     "text": [
      "100%|██████████| 10967/10967 [00:04<00:00, 2446.03 Requests/s]"
     ]
    },
    {
     "name": "stdout",
     "output_type": "stream",
     "text": [
      "Requests completed\n",
      "Feed time async: 4.682251930236816\n"
     ]
    },
    {
     "name": "stderr",
     "output_type": "stream",
     "text": [
      "\n"
     ]
    }
   ],
   "source": [
    "start = time.time()\n",
    "responses = await app.feed_iterable_async(\n",
    "    vespa_feed_iter, schema=\"doc\", namespace=\"pyvespa-feed\"\n",
    ")\n",
    "end = time.time()\n",
    "async_feed_time = end - start\n",
    "print(f\"Feed time async: {async_feed_time}\")"
   ]
  },
  {
   "cell_type": "markdown",
   "id": "5630e540",
   "metadata": {},
   "source": [
    "## Feeding with Vespa CLI\n",
    "\n",
    "[Vespa CLI](https://docs.vespa.ai/en/vespa-cli) is a command-line interface for interacting with Vespa.\n",
    "Among many useful features are a `vespa feed` command that is the recommended way of feeding large datasets into Vespa.\n"
   ]
  },
  {
   "cell_type": "markdown",
   "id": "f82d48fd",
   "metadata": {},
   "source": [
    "## Prepare the data for Vespa CLI\n",
    "\n",
    "Vespa CLI can feed data from either many .json files or a single .jsonl file with many documents.\n",
    "The json format needs to be in the following format:\n",
    "\n",
    "```json\n",
    "{\n",
    "  \"put\": \"id:namespace:document-type::document-id\",\n",
    "  \"fields\": {\n",
    "    \"field1\": \"value1\",\n",
    "    \"field2\": \"value2\"\n",
    "  }\n",
    "}\n",
    "```\n",
    "\n",
    "Where, `put` is the document operation in this case. Other allowed operations are `get`, `update` and `remove`.\n",
    "\n",
    "For reference, see https://docs.vespa.ai/en/vespa-cli#cheat-sheet\n"
   ]
  },
  {
   "cell_type": "code",
   "execution_count": null,
   "id": "8e821b7e",
   "metadata": {},
   "outputs": [],
   "source": [
    "vespa_json_feed = vespa_feed.map(\n",
    "    lambda x: {\n",
    "        \"put\": f\"id:pyvespa-feed:doc::{x['_id']}-json\",\n",
    "        \"fields\": {\"text\": x[\"text\"]},\n",
    "    }\n",
    ")"
   ]
  },
  {
   "cell_type": "code",
   "execution_count": null,
   "id": "9b377ee3",
   "metadata": {},
   "outputs": [
    {
     "data": {
      "application/vnd.jupyter.widget-view+json": {
       "model_id": "67237302f5bf48748f8e75abf5e1fec8",
       "version_major": 2,
       "version_minor": 0
      },
      "text/plain": [
       "Creating json from Arrow format:   0%|          | 0/11 [00:00<?, ?ba/s]"
      ]
     },
     "metadata": {},
     "output_type": "display_data"
    },
    {
     "data": {
      "text/plain": [
       "4505289"
      ]
     },
     "execution_count": 10,
     "metadata": {},
     "output_type": "execute_result"
    }
   ],
   "source": [
    "vespa_json_feed.select_columns([\"put\", \"fields\"]).to_json(\n",
    "    \"vespa_feed.json\", orient=\"records\", lines=True\n",
    ")"
   ]
  },
  {
   "cell_type": "code",
   "execution_count": null,
   "id": "c9e6f135",
   "metadata": {},
   "outputs": [
    {
     "name": "stdout",
     "output_type": "stream",
     "text": [
      "{\"put\":\"id:pyvespa-feed:doc::20231101.ext_246_0-json\",\"fields\":{\"text\":\"G\\u00fciquipedia Ay\\u00faa Zona prevas \\u00cdndizi A\\u2013Z El conceju La troji Embassy Help for non-Extremaduran speakers Ayuda para quienes no hablan estreme\\u00f1u'''\"}}\n",
      "{\"put\":\"id:pyvespa-feed:doc::20231101.ext_246_1-json\",\"fields\":{\"text\":\"|class=\\\"MainPageBG\\\" style=\\\"width: 50%; border: 1px solid #006600; background-color: #F5FBEF; vertical-align: top; -moz-border-radius:10px; font-size:90% \\\" |\"}}\n",
      "{\"put\":\"id:pyvespa-feed:doc::20231101.ext_247_0-json\",\"fields\":{\"text\":\".com (el ingr\\u00e9s commercial, comercial) es un domi\\u00f1u d'internet hen\\u00e9ricu que horma parti el sistema e domi\\u00f1us d'internet. El domi\\u00f1u .com es unu los domi\\u00f1us orihinalis d'internet, hue estableciu en Eneru e 1985 i oga\\u00f1u es llevau pola compa\\u00f1ia VeriSign.\"}}\n"
     ]
    }
   ],
   "source": [
    "!head -3 vespa_feed.json"
   ]
  },
  {
   "cell_type": "code",
   "execution_count": null,
   "id": "2ea17d30",
   "metadata": {},
   "outputs": [],
   "source": [
    "results = !vespa feed vespa_feed.json"
   ]
  },
  {
   "cell_type": "code",
   "execution_count": null,
   "id": "7dc4d5d2",
   "metadata": {},
   "outputs": [
    {
     "data": {
      "text/plain": [
       "['Error: deployment not converged: Get \"http://127.0.0.1:19071/application/v2/tenant/default/application/default/environment/prod/region/default/instance/default/serviceconverge\": dial tcp 127.0.0.1:19071: connect: connection refused']"
      ]
     },
     "execution_count": 15,
     "metadata": {},
     "output_type": "execute_result"
    }
   ],
   "source": [
    "results"
   ]
  },
  {
   "cell_type": "markdown",
   "id": "28591491",
   "metadata": {},
   "source": [
    "## Cleanup\n"
   ]
  },
  {
   "cell_type": "code",
   "execution_count": null,
   "id": "e5064bd2",
   "metadata": {},
   "outputs": [],
   "source": [
    "vespa_docker.container.stop()\n",
    "vespa_docker.container.remove()"
   ]
  },
  {
   "cell_type": "markdown",
   "id": "d1872b31",
   "metadata": {},
   "source": [
    "## Next steps\n",
    "\n",
    "This is just an intro into the capabilities of Vespa and pyvespa.\n",
    "Browse the site to learn more about schemas, feeding and queries -\n",
    "find more complex applications in\n",
    "[examples](https://pyvespa.readthedocs.io/en/latest/examples.html).\n"
   ]
  }
 ],
 "metadata": {
  "kernelspec": {
   "display_name": "Python 3.11.4 64-bit",
   "language": "python",
   "name": "python3"
  },
  "language_info": {
   "codemirror_mode": {
    "name": "ipython",
    "version": 3
   },
   "file_extension": ".py",
   "mimetype": "text/x-python",
   "name": "python",
   "nbconvert_exporter": "python",
   "pygments_lexer": "ipython3",
   "version": "3.9.6"
  },
  "vscode": {
   "interpreter": {
    "hash": "b0fa6594d8f4cbf19f97940f81e996739fb7646882a419484c72d19e05852a7e"
   }
  }
 },
 "nbformat": 4,
 "nbformat_minor": 5
}
