{
 "cells": [
  {
   "cell_type": "markdown",
   "metadata": {},
   "source": [
    "<picture>\n",
    "  <source media=\"(prefers-color-scheme: dark)\" srcset=\"https://vespa.ai/assets/vespa-ai-logo-heather.svg\">\n",
    "  <source media=\"(prefers-color-scheme: light)\" srcset=\"https://vespa.ai/assets/vespa-ai-logo-rock.svg\">\n",
    "  <img alt=\"#Vespa\" width=\"200\" src=\"https://vespa.ai/assets/vespa-ai-logo-rock.svg\" style=\"margin-bottom: 25px;\">\n",
    "</picture>\n",
    "\n",
    "# Evaluating retrieval with Snowflake arctic embed\n",
    "\n",
    "This notebook will demonstrate how different rank profiles in Vespa can be set up and evaluated.\n",
    "For the rank profiles that use semantic search, we will use the small version of [Snowflake's arctic embed model series](https://huggingface.co/Snowflake/snowflake-arctic-embed-s) for generating embeddings.\n",
    "\n",
    "Feel free to experiment with different sizes based on your need and compute/latency constraints.\n",
    "\n",
    "> The snowflake-arctic-embedding models achieve state-of-the-art performance on the MTEB/BEIR leaderboard for each of their size variants.\n",
    "\n",
    "We will set up and compare the following rank profiles:\n",
    "\n",
    "- **unranked**: No ranking at all, for a dummy baseline.\n",
    "- **bm25**: The classic BM25 ranker.\n",
    "- **semantic**: Using `closeness(query_embedding, document_embedding)` only.\n",
    "- **hybrid**: Combining BM25 and semantic search - `closeness(query_embedding, document_embedding) + log10( bm25(doc) )`.\n",
    "- **hybrid_filter**: Same as the previous, but with a filter to exclude hits based on some heuristics.\n"
   ]
  },
  {
   "cell_type": "code",
   "execution_count": 1,
   "metadata": {},
   "outputs": [],
   "source": [
    "from vespa.package import (\n",
    "    HNSW,\n",
    "    ApplicationPackage,\n",
    "    Component,\n",
    "    Field,\n",
    "    Parameter,\n",
    "    Function,\n",
    ")\n",
    "\n",
    "app_name = \"snowflake\"\n",
    "\n",
    "app_package = ApplicationPackage(\n",
    "    name=app_name,\n",
    "    components=[\n",
    "        Component(\n",
    "            id=\"snow\",\n",
    "            type=\"hugging-face-embedder\",\n",
    "            parameters=[\n",
    "                Parameter(\n",
    "                    \"transformer-model\",\n",
    "                    {\n",
    "                        \"url\": \"https://huggingface.co/Snowflake/snowflake-arctic-embed-s/resolve/main/onnx/model_int8.onnx\"\n",
    "                    },\n",
    "                ),\n",
    "                Parameter(\n",
    "                    \"tokenizer-model\",\n",
    "                    {\n",
    "                        \"url\": \"https://huggingface.co/Snowflake/snowflake-arctic-embed-s/raw/main/tokenizer.json\"\n",
    "                    },\n",
    "                ),\n",
    "                Parameter(\n",
    "                    \"normalize\",\n",
    "                    {},\n",
    "                    \"true\",\n",
    "                ),\n",
    "                Parameter(\n",
    "                    \"pooling-strategy\",\n",
    "                    {},\n",
    "                    \"cls\",\n",
    "                ),\n",
    "            ],\n",
    "        )\n",
    "    ],\n",
    ")"
   ]
  },
  {
   "cell_type": "code",
   "execution_count": 2,
   "metadata": {},
   "outputs": [],
   "source": [
    "app_package.schema.add_fields(\n",
    "    Field(name=\"id\", type=\"int\", indexing=[\"attribute\", \"summary\"]),\n",
    "    Field(\n",
    "        name=\"doc\", type=\"string\", indexing=[\"index\", \"summary\"], index=\"enable-bm25\"\n",
    "    ),\n",
    "    Field(\n",
    "        name=\"doc_embeddings\",\n",
    "        type=\"tensor<float>(x[384])\",\n",
    "        indexing=[\"input doc\", \"embed\", \"index\", \"attribute\"],\n",
    "        ann=HNSW(distance_metric=\"prenormalized-angular\"),\n",
    "        is_document_field=False,\n",
    "    ),\n",
    ")"
   ]
  },
  {
   "cell_type": "code",
   "execution_count": 3,
   "metadata": {},
   "outputs": [],
   "source": [
    "from vespa.package import (\n",
    "    DocumentSummary,\n",
    "    FieldSet,\n",
    "    FirstPhaseRanking,\n",
    "    RankProfile,\n",
    "    SecondPhaseRanking,\n",
    "    Summary,\n",
    ")\n",
    "\n",
    "app_package.schema.add_rank_profile(\n",
    "    RankProfile(\n",
    "        name=\"semantic\",\n",
    "        inputs=[(\"query(q)\", \"tensor<float>(x[384])\")],\n",
    "        inherits=\"default\",\n",
    "        first_phase=\"closeness(field, doc_embeddings)\",\n",
    "        match_features=[\"closeness(field, doc_embeddings)\"],\n",
    "    )\n",
    ")\n",
    "\n",
    "app_package.schema.add_rank_profile(RankProfile(name=\"bm25\", first_phase=\"bm25(doc)\"))"
   ]
  },
  {
   "cell_type": "code",
   "execution_count": 4,
   "metadata": {},
   "outputs": [],
   "source": [
    "app_package.schema.add_rank_profile(\n",
    "    RankProfile(\n",
    "        name=\"hybrid\",\n",
    "        inherits=\"semantic\",\n",
    "        # Guard against no keword match -> bm25 = 0 -> log10(0) = undefined\n",
    "        functions=[\n",
    "            Function(\n",
    "                name=\"log_guard\", expression=\"if (bm25(doc) > 0, log10(bm25(doc)), 0)\"\n",
    "            )\n",
    "        ],\n",
    "        first_phase=FirstPhaseRanking(expression=\"closeness(field, doc_embeddings)\"),\n",
    "        # Notice that we use log10 here, as the bm25 values with the natural logarithm tends to dominate the closeness values for these documents.\n",
    "        second_phase=SecondPhaseRanking(expression=\"firstPhase + log_guard\"),\n",
    "        match_features=[\n",
    "            \"firstPhase\",\n",
    "            \"bm25(doc)\",\n",
    "        ],\n",
    "    )\n",
    ")"
   ]
  },
  {
   "cell_type": "code",
   "execution_count": 5,
   "metadata": {},
   "outputs": [],
   "source": [
    "app_package.schema.add_field_set(FieldSet(name=\"default\", fields=[\"doc\"]))"
   ]
  },
  {
   "cell_type": "code",
   "execution_count": 6,
   "metadata": {},
   "outputs": [],
   "source": [
    "app_package.schema.add_document_summary(\n",
    "    DocumentSummary(\n",
    "        name=\"minimal\",\n",
    "        summary_fields=[Summary(\"id\", \"int\"), Summary(\"doc\", \"string\")],\n",
    "    )\n",
    ")"
   ]
  },
  {
   "cell_type": "markdown",
   "metadata": {},
   "source": [
    "Create some sample documents that will help us see where the different ranking strategies have their strengths and weaknesses.\n",
    "\n",
    "> These sample documents were created with a little help from ChatGPT.\n",
    "\n",
    "Looking through the documents, we can see that a ranking of the documents in the order they are presented seem quite reasonable.\n"
   ]
  },
  {
   "cell_type": "code",
   "execution_count": 7,
   "metadata": {},
   "outputs": [],
   "source": [
    "# Query that the user is searching for\n",
    "query = \"How does Vespa handle real-time indexing and search?\"\n",
    "\n",
    "documents = [\n",
    "    \"Vespa excels in real-time data indexing and its ability to search large datasets quickly.\",\n",
    "    \"Instant data availability and maintaining query performance while simultaneously indexing are key features of the Vespa search engine.\",\n",
    "    \"With our search solution, real-time updates are seamlessly integrated into the search index, enhancing responsiveness.\",\n",
    "    \"While not as robust as Vespa, our vector database strives to meet your search needs, despite certain, shall we say, 'flexible' features.\",\n",
    "    \"Search engines like ours utilize complex algorithms to handle immediate data querying and indexing.\",\n",
    "    \"Modern search platforms emphasize quick data retrieval from continuously updated indexes.\",\n",
    "    \"Discover the history and cultural impact of the classic Italian Vespa scooter brand.\",\n",
    "    \"Tips for maintaining your Vespa to ensure optimal performance and longevity of your scooter.\",\n",
    "    \"Review of different scooter brands including Vespa, highlighting how they handle features like speed, cost, and aesthetics, and how consumers search for the best options.\",\n",
    "    \"Vespa scooter safety regulations and best practices for urban commuting.\",\n",
    "]"
   ]
  },
  {
   "cell_type": "markdown",
   "metadata": {},
   "source": [
    "## Dumping the application package to files\n",
    "\n",
    "This is a good practice to inspect and understand the structure of the application package and schema files, generated by pyvespa.\n"
   ]
  },
  {
   "cell_type": "code",
   "execution_count": 8,
   "metadata": {},
   "outputs": [],
   "source": [
    "app_package.to_files(\"snowflake\")"
   ]
  },
  {
   "cell_type": "code",
   "execution_count": 9,
   "metadata": {},
   "outputs": [
    {
     "name": "stdout",
     "output_type": "stream",
     "text": [
      "Waiting for configuration server, 0/60 seconds...\n",
      "Waiting for configuration server, 5/60 seconds...\n",
      "Using plain http against endpoint http://localhost:8080/ApplicationStatus\n",
      "Waiting for application status, 0/300 seconds...\n",
      "Using plain http against endpoint http://localhost:8080/ApplicationStatus\n",
      "Waiting for application status, 5/300 seconds...\n",
      "Using plain http against endpoint http://localhost:8080/ApplicationStatus\n",
      "Waiting for application status, 10/300 seconds...\n",
      "Using plain http against endpoint http://localhost:8080/ApplicationStatus\n",
      "Waiting for application status, 15/300 seconds...\n",
      "Using plain http against endpoint http://localhost:8080/ApplicationStatus\n",
      "Waiting for application status, 20/300 seconds...\n",
      "Using plain http against endpoint http://localhost:8080/ApplicationStatus\n",
      "Waiting for application status, 25/300 seconds...\n",
      "Using plain http against endpoint http://localhost:8080/ApplicationStatus\n",
      "Application is up!\n",
      "Finished deployment.\n"
     ]
    }
   ],
   "source": [
    "from vespa.deployment import VespaDocker\n",
    "\n",
    "vespa_docker = VespaDocker()\n",
    "app = vespa_docker.deploy(app_package)"
   ]
  },
  {
   "cell_type": "code",
   "execution_count": 10,
   "metadata": {},
   "outputs": [],
   "source": [
    "feed_docs = [\n",
    "    {\n",
    "        \"id\": str(i),\n",
    "        \"fields\": {\n",
    "            \"doc\": doc,\n",
    "        },\n",
    "    }\n",
    "    for i, doc in enumerate(documents)\n",
    "]"
   ]
  },
  {
   "cell_type": "code",
   "execution_count": 11,
   "metadata": {},
   "outputs": [],
   "source": [
    "from vespa.io import VespaResponse\n",
    "\n",
    "\n",
    "def callback(response: VespaResponse, id: str):\n",
    "    if not response.is_successful():\n",
    "        print(\n",
    "            f\"Failed to feed document {id} with status code {response.status_code}: Reason {response.get_json()}\"\n",
    "        )"
   ]
  },
  {
   "cell_type": "code",
   "execution_count": 12,
   "metadata": {},
   "outputs": [],
   "source": [
    "app.feed_iterable(feed_docs, schema=app_package.schema.name, callback=callback)"
   ]
  },
  {
   "cell_type": "markdown",
   "metadata": {},
   "source": [
    "## Choosing a metric\n",
    "\n",
    "Check out [this](<https://en.wikipedia.org/wiki/Evaluation_measures_(information_retrieval)>) wikipedia-article for an overview of evaluation measures in information retrieval.\n",
    "\n",
    "In our case, we have a query and ranked documents as the ground truth.\n",
    "\n",
    "When evaluating a ranking against our ground truth ranking, the Normalized Discounted Cumulative Gain (NDCG) metric is a good choice.\n",
    "\n",
    "The NDCG is a measure of ranking quality. It is calculated as the sum of the discounted gain of the relevant documents(DCG), divided by the ideal DCG. The ideal DCG is the DCG of the perfect ranking, where the documents are ordered by relevance.\n",
    "\n",
    "> If you are already familiar with NDCG, feel free to skip this part.\n",
    "> There is also an implementation in [scikit-learn](https://scikit-learn.org/stable/modules/generated/sklearn.metrics.ndcg_score.html) that you can use.\n",
    "\n",
    "The formula for NDCG is:\n",
    "\n",
    "$$\n",
    "NDCG = \\frac{DCG}{IDCG}\n",
    "$$\n",
    "\n",
    "where:\n",
    "\n",
    "$$\n",
    "DCG = \\sum_{i=1}^{n} \\frac{2^{rel_i} - 1}{\\log_2(i + 1)}\n",
    "$$\n",
    "\n",
    "Let us create a function to calculate the NDCG for a given ranking.\n"
   ]
  },
  {
   "cell_type": "code",
   "execution_count": 13,
   "metadata": {},
   "outputs": [
    {
     "name": "stdout",
     "output_type": "stream",
     "text": [
      "nDCG@3: 0.6618\n"
     ]
    }
   ],
   "source": [
    "import math\n",
    "from typing import List\n",
    "\n",
    "\n",
    "def ndcg_at_k(rank_order: List[int], ideal_order: List[int], k: int) -> float:\n",
    "    \"\"\"\n",
    "    Calculate the normalized Discounted Cumulative Gain (nDCG) at position k.\n",
    "\n",
    "    Parameters:\n",
    "        rank_order (List[int]): The list of document indices as ranked by the search system.\n",
    "        ideal_order (List[int]): The list of document indices in the ideal order.\n",
    "        k (int): The position up to which to calculate nDCG.\n",
    "\n",
    "    Returns:\n",
    "        float: The nDCG value at position k.\n",
    "    \"\"\"\n",
    "    dcg = 0.0\n",
    "    idcg = 0.0\n",
    "\n",
    "    # Calculate DCG based on the ranked order up to k\n",
    "    for i in range(min(k, len(rank_order))):\n",
    "        rank_index = rank_order[i]\n",
    "        # Find the rank index in the ideal order to assign relevance\n",
    "        if rank_index in ideal_order:\n",
    "            relevance = len(ideal_order) - ideal_order.index(rank_index)\n",
    "        else:\n",
    "            relevance = 0\n",
    "        dcg += relevance / math.log2(i + 2)\n",
    "\n",
    "    # Calculate IDCG based on the ideal order up to k\n",
    "    for i in range(min(k, len(ideal_order))):\n",
    "        relevance = len(ideal_order) - i\n",
    "        idcg += relevance / math.log2(i + 2)\n",
    "\n",
    "    # Handle the case where IDCG is zero to avoid division by zero\n",
    "    if idcg == 0:\n",
    "        return 0.0\n",
    "    return dcg / idcg\n",
    "\n",
    "\n",
    "# Example usage\n",
    "rank_order = [5, 6, 1]  # Example ranked order indices\n",
    "ideal_result_order = [0, 1, 2, 4, 5, 3, 6, 7, 8, 9]  # Example ideal order indices\n",
    "\n",
    "# Calculate nDCG@3\n",
    "result = ndcg_at_k(rank_order, ideal_result_order, 3)\n",
    "print(f\"nDCG@3: {result:.4f}\")\n",
    "\n",
    "assert ndcg_at_k([0, 1, 2], ideal_result_order, 3) == 1.0"
   ]
  },
  {
   "cell_type": "code",
   "execution_count": 14,
   "metadata": {},
   "outputs": [],
   "source": [
    "# Define the different rank profiles to evaluate\n",
    "\n",
    "rank_profiles = {\n",
    "    \"unranked\": {\n",
    "        \"yql\": f\"select * from {app_name} where true\",\n",
    "        \"ranking.profile\": \"unranked\",\n",
    "    },\n",
    "    \"bm25\": {\n",
    "        \"yql\": f\"select * from {app_name} where userQuery()\",\n",
    "        \"ranking.profile\": \"bm25\",\n",
    "    },\n",
    "    \"semantic\": {\n",
    "        \"yql\": f\"select * from {app_name} where {{targetHits:5}}nearestNeighbor(doc_embeddings,q)\",\n",
    "        \"ranking.profile\": \"semantic\",\n",
    "        \"input.query(q)\": f\"embed({query})\",\n",
    "    },\n",
    "    \"hybrid\": {\n",
    "        \"yql\": f\"select * from {app_name} where userQuery() or ({{targetHits:5}}nearestNeighbor(doc_embeddings,q))\",\n",
    "        \"ranking.profile\": \"hybrid\",\n",
    "        \"input.query(q)\": f\"embed({query})\",\n",
    "    },\n",
    "    \"hybrid_filtered\": {\n",
    "        # Here, we will add an heuristic, filtering out documents that contain the word \"scooter\"\n",
    "        \"yql\": f'select * from {app_name} where !(doc contains \"scooter\") and userQuery() or ({{targetHits:5}}nearestNeighbor(doc_embeddings,q))',\n",
    "        \"ranking.profile\": \"hybrid\",\n",
    "        \"input.query(q)\": f\"embed({query})\",\n",
    "    },\n",
    "}\n",
    "\n",
    "# Define some common params that will be used for all queries\n",
    "\n",
    "common_params = {\n",
    "    \"query\": query,\n",
    "    \"hits\": 3,\n",
    "}"
   ]
  },
  {
   "cell_type": "code",
   "execution_count": 15,
   "metadata": {},
   "outputs": [],
   "source": [
    "from typing import List, Tuple\n",
    "\n",
    "from vespa.application import Vespa\n",
    "from vespa.io import VespaQueryResponse\n",
    "\n",
    "\n",
    "def evaluate_rank_profile(\n",
    "    app: Vespa, rank_profile: str, params: dict, k: int\n",
    ") -> Tuple[float, List[str]]:\n",
    "    \"\"\"\n",
    "    Run a query against a Vespa application using a specific rank profile and parameters.\n",
    "    Evaluate the nDCG@3 of the search results based on the ideal order.\n",
    "\n",
    "    Parameters:\n",
    "        app (Vespa): The Vespa application to query.\n",
    "        rank_profile (str): The name of the rank profile to use.\n",
    "        params (dict): The common parameters to use in addition to the rank profile specific parameters.\n",
    "        k (int): The position up to which to calculate nDCG.\n",
    "\n",
    "    Returns:\n",
    "        List[str]: The search results\n",
    "    \"\"\"\n",
    "    body_params = {\n",
    "        **rank_profiles[rank_profile],\n",
    "        **params,\n",
    "    }\n",
    "    response: VespaQueryResponse = app.query(body_params)\n",
    "    rankings = [int(hit[\"id\"][-1]) for hit in response.hits]\n",
    "    docs = [hit[\"fields\"][\"doc\"] for hit in response.hits]\n",
    "    ndcg = ndcg_at_k(rankings, ideal_order=ideal_result_order, k=3)\n",
    "    return ndcg, docs"
   ]
  },
  {
   "cell_type": "code",
   "execution_count": 16,
   "metadata": {},
   "outputs": [
    {
     "name": "stdout",
     "output_type": "stream",
     "text": [
      "Rank profile: unranked, nDCG@3: 0.68\n",
      "[\n",
      "  \"With our search solution, real-time updates are seamlessly integrated into the search index, enhancing responsiveness.\",\n",
      "  \"Tips for maintaining your Vespa to ensure optimal performance and longevity of your scooter.\",\n",
      "  \"Search engines like ours utilize complex algorithms to handle immediate data querying and indexing.\"\n",
      "]\n",
      "Rank profile: bm25, nDCG@3: 0.78\n",
      "[\n",
      "  \"Vespa excels in real-time data indexing and its ability to search large datasets quickly.\",\n",
      "  \"Review of different scooter brands including Vespa, highlighting how they handle features like speed, cost, and aesthetics, and how consumers search for the best options.\",\n",
      "  \"With our search solution, real-time updates are seamlessly integrated into the search index, enhancing responsiveness.\"\n",
      "]\n",
      "Rank profile: semantic, nDCG@3: 0.94\n",
      "[\n",
      "  \"Vespa excels in real-time data indexing and its ability to search large datasets quickly.\",\n",
      "  \"With our search solution, real-time updates are seamlessly integrated into the search index, enhancing responsiveness.\",\n",
      "  \"Search engines like ours utilize complex algorithms to handle immediate data querying and indexing.\"\n",
      "]\n",
      "Rank profile: hybrid, nDCG@3: 0.82\n",
      "[\n",
      "  \"Vespa excels in real-time data indexing and its ability to search large datasets quickly.\",\n",
      "  \"With our search solution, real-time updates are seamlessly integrated into the search index, enhancing responsiveness.\",\n",
      "  \"Review of different scooter brands including Vespa, highlighting how they handle features like speed, cost, and aesthetics, and how consumers search for the best options.\"\n",
      "]\n",
      "Rank profile: hybrid_filtered, nDCG@3: 0.94\n",
      "[\n",
      "  \"Vespa excels in real-time data indexing and its ability to search large datasets quickly.\",\n",
      "  \"With our search solution, real-time updates are seamlessly integrated into the search index, enhancing responsiveness.\",\n",
      "  \"Search engines like ours utilize complex algorithms to handle immediate data querying and indexing.\"\n",
      "]\n"
     ]
    }
   ],
   "source": [
    "import json\n",
    "\n",
    "rank_results = {}\n",
    "\n",
    "for rank_profile, params in rank_profiles.items():\n",
    "    ndcg, docs = evaluate_rank_profile(\n",
    "        app, rank_profile=rank_profile, params=common_params, k=3\n",
    "    )\n",
    "    rank_results[rank_profile] = ndcg\n",
    "    print(f\"Rank profile: {rank_profile}, nDCG@3: {ndcg:.2f}\")\n",
    "    print(json.dumps(docs, indent=2))"
   ]
  },
  {
   "cell_type": "markdown",
   "metadata": {},
   "source": [
    "Uncomment the cell below to install dependencies needed to generate the plot.\n"
   ]
  },
  {
   "cell_type": "code",
   "execution_count": 17,
   "metadata": {},
   "outputs": [],
   "source": [
    "#!pip3 install pandas plotly"
   ]
  },
  {
   "cell_type": "code",
   "execution_count": 20,
   "metadata": {},
   "outputs": [
    {
     "data": {
      "application/vnd.plotly.v1+json": {
       "config": {
        "plotlyServerURL": "https://plot.ly"
       },
       "data": [
        {
         "alignmentgroup": "True",
         "hovertemplate": "Rank Profile=%{x}<br>nDCG@3 Score=%{text}<extra></extra>",
         "legendgroup": "",
         "marker": {
          "color": "#e74c3c",
          "line": {
           "color": "black",
           "width": 1.5
          },
          "pattern": {
           "shape": ""
          }
         },
         "name": "",
         "offsetgroup": "",
         "orientation": "v",
         "showlegend": false,
         "text": [
          0.6805843558258673
         ],
         "textposition": "outside",
         "texttemplate": "%{text:.2f}",
         "type": "bar",
         "width": 0.4,
         "x": [
          "unranked"
         ],
         "xaxis": "x",
         "y": [
          0.6805843558258673
         ],
         "yaxis": "y"
        },
        {
         "alignmentgroup": "True",
         "hovertemplate": "Rank Profile=%{x}<br>nDCG@3 Score=%{text}<extra></extra>",
         "legendgroup": "",
         "marker": {
          "color": "#2ecc71",
          "line": {
           "color": "black",
           "width": 1.5
          },
          "pattern": {
           "shape": ""
          }
         },
         "name": "",
         "offsetgroup": "",
         "orientation": "v",
         "showlegend": false,
         "text": [
          0.7755653149745527
         ],
         "textposition": "outside",
         "texttemplate": "%{text:.2f}",
         "type": "bar",
         "width": 0.4,
         "x": [
          "bm25"
         ],
         "xaxis": "x",
         "y": [
          0.7755653149745527
         ],
         "yaxis": "y"
        },
        {
         "alignmentgroup": "True",
         "hovertemplate": "Rank Profile=%{x}<br>nDCG@3 Score=%{text}<extra></extra>",
         "legendgroup": "",
         "marker": {
          "color": "#9b59b6",
          "line": {
           "color": "black",
           "width": 1.5
          },
          "pattern": {
           "shape": ""
          }
         },
         "name": "",
         "offsetgroup": "",
         "orientation": "v",
         "showlegend": false,
         "text": [
          0.9425292907373293
         ],
         "textposition": "outside",
         "texttemplate": "%{text:.2f}",
         "type": "bar",
         "width": 0.4,
         "x": [
          "semantic"
         ],
         "xaxis": "x",
         "y": [
          0.9425292907373293
         ],
         "yaxis": "y"
        },
        {
         "alignmentgroup": "True",
         "hovertemplate": "Rank Profile=%{x}<br>nDCG@3 Score=%{text}<extra></extra>",
         "legendgroup": "",
         "marker": {
          "color": "#3498db",
          "line": {
           "color": "black",
           "width": 1.5
          },
          "pattern": {
           "shape": ""
          }
         },
         "name": "",
         "offsetgroup": "",
         "orientation": "v",
         "showlegend": false,
         "text": [
          0.8154862337278657
         ],
         "textposition": "outside",
         "texttemplate": "%{text:.2f}",
         "type": "bar",
         "width": 0.4,
         "x": [
          "hybrid"
         ],
         "xaxis": "x",
         "y": [
          0.8154862337278657
         ],
         "yaxis": "y"
        },
        {
         "alignmentgroup": "True",
         "hovertemplate": "Rank Profile=%{x}<br>nDCG@3 Score=%{text}<extra></extra>",
         "legendgroup": "",
         "marker": {
          "color": "#2980b9",
          "line": {
           "color": "black",
           "width": 1.5
          },
          "pattern": {
           "shape": ""
          }
         },
         "name": "",
         "offsetgroup": "",
         "orientation": "v",
         "showlegend": false,
         "text": [
          0.9425292907373293
         ],
         "textposition": "outside",
         "texttemplate": "%{text:.2f}",
         "type": "bar",
         "width": 0.4,
         "x": [
          "hybrid_filtered"
         ],
         "xaxis": "x",
         "y": [
          0.9425292907373293
         ],
         "yaxis": "y"
        }
       ],
       "layout": {
        "barmode": "relative",
        "font": {
         "color": "black",
         "family": "Arial, sans-serif",
         "size": 18
        },
        "legend": {
         "tracegroupgap": 0
        },
        "margin": {
         "b": 40,
         "l": 40,
         "r": 40,
         "t": 40
        },
        "plot_bgcolor": "white",
        "template": {
         "data": {
          "bar": [
           {
            "error_x": {
             "color": "rgb(36,36,36)"
            },
            "error_y": {
             "color": "rgb(36,36,36)"
            },
            "marker": {
             "line": {
              "color": "white",
              "width": 0.5
             },
             "pattern": {
              "fillmode": "overlay",
              "size": 10,
              "solidity": 0.2
             }
            },
            "type": "bar"
           }
          ],
          "barpolar": [
           {
            "marker": {
             "line": {
              "color": "white",
              "width": 0.5
             },
             "pattern": {
              "fillmode": "overlay",
              "size": 10,
              "solidity": 0.2
             }
            },
            "type": "barpolar"
           }
          ],
          "carpet": [
           {
            "aaxis": {
             "endlinecolor": "rgb(36,36,36)",
             "gridcolor": "white",
             "linecolor": "white",
             "minorgridcolor": "white",
             "startlinecolor": "rgb(36,36,36)"
            },
            "baxis": {
             "endlinecolor": "rgb(36,36,36)",
             "gridcolor": "white",
             "linecolor": "white",
             "minorgridcolor": "white",
             "startlinecolor": "rgb(36,36,36)"
            },
            "type": "carpet"
           }
          ],
          "choropleth": [
           {
            "colorbar": {
             "outlinewidth": 1,
             "tickcolor": "rgb(36,36,36)",
             "ticks": "outside"
            },
            "type": "choropleth"
           }
          ],
          "contour": [
           {
            "colorbar": {
             "outlinewidth": 1,
             "tickcolor": "rgb(36,36,36)",
             "ticks": "outside"
            },
            "colorscale": [
             [
              0,
              "#440154"
             ],
             [
              0.1111111111111111,
              "#482878"
             ],
             [
              0.2222222222222222,
              "#3e4989"
             ],
             [
              0.3333333333333333,
              "#31688e"
             ],
             [
              0.4444444444444444,
              "#26828e"
             ],
             [
              0.5555555555555556,
              "#1f9e89"
             ],
             [
              0.6666666666666666,
              "#35b779"
             ],
             [
              0.7777777777777778,
              "#6ece58"
             ],
             [
              0.8888888888888888,
              "#b5de2b"
             ],
             [
              1,
              "#fde725"
             ]
            ],
            "type": "contour"
           }
          ],
          "contourcarpet": [
           {
            "colorbar": {
             "outlinewidth": 1,
             "tickcolor": "rgb(36,36,36)",
             "ticks": "outside"
            },
            "type": "contourcarpet"
           }
          ],
          "heatmap": [
           {
            "colorbar": {
             "outlinewidth": 1,
             "tickcolor": "rgb(36,36,36)",
             "ticks": "outside"
            },
            "colorscale": [
             [
              0,
              "#440154"
             ],
             [
              0.1111111111111111,
              "#482878"
             ],
             [
              0.2222222222222222,
              "#3e4989"
             ],
             [
              0.3333333333333333,
              "#31688e"
             ],
             [
              0.4444444444444444,
              "#26828e"
             ],
             [
              0.5555555555555556,
              "#1f9e89"
             ],
             [
              0.6666666666666666,
              "#35b779"
             ],
             [
              0.7777777777777778,
              "#6ece58"
             ],
             [
              0.8888888888888888,
              "#b5de2b"
             ],
             [
              1,
              "#fde725"
             ]
            ],
            "type": "heatmap"
           }
          ],
          "heatmapgl": [
           {
            "colorbar": {
             "outlinewidth": 1,
             "tickcolor": "rgb(36,36,36)",
             "ticks": "outside"
            },
            "colorscale": [
             [
              0,
              "#440154"
             ],
             [
              0.1111111111111111,
              "#482878"
             ],
             [
              0.2222222222222222,
              "#3e4989"
             ],
             [
              0.3333333333333333,
              "#31688e"
             ],
             [
              0.4444444444444444,
              "#26828e"
             ],
             [
              0.5555555555555556,
              "#1f9e89"
             ],
             [
              0.6666666666666666,
              "#35b779"
             ],
             [
              0.7777777777777778,
              "#6ece58"
             ],
             [
              0.8888888888888888,
              "#b5de2b"
             ],
             [
              1,
              "#fde725"
             ]
            ],
            "type": "heatmapgl"
           }
          ],
          "histogram": [
           {
            "marker": {
             "line": {
              "color": "white",
              "width": 0.6
             }
            },
            "type": "histogram"
           }
          ],
          "histogram2d": [
           {
            "colorbar": {
             "outlinewidth": 1,
             "tickcolor": "rgb(36,36,36)",
             "ticks": "outside"
            },
            "colorscale": [
             [
              0,
              "#440154"
             ],
             [
              0.1111111111111111,
              "#482878"
             ],
             [
              0.2222222222222222,
              "#3e4989"
             ],
             [
              0.3333333333333333,
              "#31688e"
             ],
             [
              0.4444444444444444,
              "#26828e"
             ],
             [
              0.5555555555555556,
              "#1f9e89"
             ],
             [
              0.6666666666666666,
              "#35b779"
             ],
             [
              0.7777777777777778,
              "#6ece58"
             ],
             [
              0.8888888888888888,
              "#b5de2b"
             ],
             [
              1,
              "#fde725"
             ]
            ],
            "type": "histogram2d"
           }
          ],
          "histogram2dcontour": [
           {
            "colorbar": {
             "outlinewidth": 1,
             "tickcolor": "rgb(36,36,36)",
             "ticks": "outside"
            },
            "colorscale": [
             [
              0,
              "#440154"
             ],
             [
              0.1111111111111111,
              "#482878"
             ],
             [
              0.2222222222222222,
              "#3e4989"
             ],
             [
              0.3333333333333333,
              "#31688e"
             ],
             [
              0.4444444444444444,
              "#26828e"
             ],
             [
              0.5555555555555556,
              "#1f9e89"
             ],
             [
              0.6666666666666666,
              "#35b779"
             ],
             [
              0.7777777777777778,
              "#6ece58"
             ],
             [
              0.8888888888888888,
              "#b5de2b"
             ],
             [
              1,
              "#fde725"
             ]
            ],
            "type": "histogram2dcontour"
           }
          ],
          "mesh3d": [
           {
            "colorbar": {
             "outlinewidth": 1,
             "tickcolor": "rgb(36,36,36)",
             "ticks": "outside"
            },
            "type": "mesh3d"
           }
          ],
          "parcoords": [
           {
            "line": {
             "colorbar": {
              "outlinewidth": 1,
              "tickcolor": "rgb(36,36,36)",
              "ticks": "outside"
             }
            },
            "type": "parcoords"
           }
          ],
          "pie": [
           {
            "automargin": true,
            "type": "pie"
           }
          ],
          "scatter": [
           {
            "fillpattern": {
             "fillmode": "overlay",
             "size": 10,
             "solidity": 0.2
            },
            "type": "scatter"
           }
          ],
          "scatter3d": [
           {
            "line": {
             "colorbar": {
              "outlinewidth": 1,
              "tickcolor": "rgb(36,36,36)",
              "ticks": "outside"
             }
            },
            "marker": {
             "colorbar": {
              "outlinewidth": 1,
              "tickcolor": "rgb(36,36,36)",
              "ticks": "outside"
             }
            },
            "type": "scatter3d"
           }
          ],
          "scattercarpet": [
           {
            "marker": {
             "colorbar": {
              "outlinewidth": 1,
              "tickcolor": "rgb(36,36,36)",
              "ticks": "outside"
             }
            },
            "type": "scattercarpet"
           }
          ],
          "scattergeo": [
           {
            "marker": {
             "colorbar": {
              "outlinewidth": 1,
              "tickcolor": "rgb(36,36,36)",
              "ticks": "outside"
             }
            },
            "type": "scattergeo"
           }
          ],
          "scattergl": [
           {
            "marker": {
             "colorbar": {
              "outlinewidth": 1,
              "tickcolor": "rgb(36,36,36)",
              "ticks": "outside"
             }
            },
            "type": "scattergl"
           }
          ],
          "scattermapbox": [
           {
            "marker": {
             "colorbar": {
              "outlinewidth": 1,
              "tickcolor": "rgb(36,36,36)",
              "ticks": "outside"
             }
            },
            "type": "scattermapbox"
           }
          ],
          "scatterpolar": [
           {
            "marker": {
             "colorbar": {
              "outlinewidth": 1,
              "tickcolor": "rgb(36,36,36)",
              "ticks": "outside"
             }
            },
            "type": "scatterpolar"
           }
          ],
          "scatterpolargl": [
           {
            "marker": {
             "colorbar": {
              "outlinewidth": 1,
              "tickcolor": "rgb(36,36,36)",
              "ticks": "outside"
             }
            },
            "type": "scatterpolargl"
           }
          ],
          "scatterternary": [
           {
            "marker": {
             "colorbar": {
              "outlinewidth": 1,
              "tickcolor": "rgb(36,36,36)",
              "ticks": "outside"
             }
            },
            "type": "scatterternary"
           }
          ],
          "surface": [
           {
            "colorbar": {
             "outlinewidth": 1,
             "tickcolor": "rgb(36,36,36)",
             "ticks": "outside"
            },
            "colorscale": [
             [
              0,
              "#440154"
             ],
             [
              0.1111111111111111,
              "#482878"
             ],
             [
              0.2222222222222222,
              "#3e4989"
             ],
             [
              0.3333333333333333,
              "#31688e"
             ],
             [
              0.4444444444444444,
              "#26828e"
             ],
             [
              0.5555555555555556,
              "#1f9e89"
             ],
             [
              0.6666666666666666,
              "#35b779"
             ],
             [
              0.7777777777777778,
              "#6ece58"
             ],
             [
              0.8888888888888888,
              "#b5de2b"
             ],
             [
              1,
              "#fde725"
             ]
            ],
            "type": "surface"
           }
          ],
          "table": [
           {
            "cells": {
             "fill": {
              "color": "rgb(237,237,237)"
             },
             "line": {
              "color": "white"
             }
            },
            "header": {
             "fill": {
              "color": "rgb(217,217,217)"
             },
             "line": {
              "color": "white"
             }
            },
            "type": "table"
           }
          ]
         },
         "layout": {
          "annotationdefaults": {
           "arrowhead": 0,
           "arrowwidth": 1
          },
          "autotypenumbers": "strict",
          "coloraxis": {
           "colorbar": {
            "outlinewidth": 1,
            "tickcolor": "rgb(36,36,36)",
            "ticks": "outside"
           }
          },
          "colorscale": {
           "diverging": [
            [
             0,
             "rgb(103,0,31)"
            ],
            [
             0.1,
             "rgb(178,24,43)"
            ],
            [
             0.2,
             "rgb(214,96,77)"
            ],
            [
             0.3,
             "rgb(244,165,130)"
            ],
            [
             0.4,
             "rgb(253,219,199)"
            ],
            [
             0.5,
             "rgb(247,247,247)"
            ],
            [
             0.6,
             "rgb(209,229,240)"
            ],
            [
             0.7,
             "rgb(146,197,222)"
            ],
            [
             0.8,
             "rgb(67,147,195)"
            ],
            [
             0.9,
             "rgb(33,102,172)"
            ],
            [
             1,
             "rgb(5,48,97)"
            ]
           ],
           "sequential": [
            [
             0,
             "#440154"
            ],
            [
             0.1111111111111111,
             "#482878"
            ],
            [
             0.2222222222222222,
             "#3e4989"
            ],
            [
             0.3333333333333333,
             "#31688e"
            ],
            [
             0.4444444444444444,
             "#26828e"
            ],
            [
             0.5555555555555556,
             "#1f9e89"
            ],
            [
             0.6666666666666666,
             "#35b779"
            ],
            [
             0.7777777777777778,
             "#6ece58"
            ],
            [
             0.8888888888888888,
             "#b5de2b"
            ],
            [
             1,
             "#fde725"
            ]
           ],
           "sequentialminus": [
            [
             0,
             "#440154"
            ],
            [
             0.1111111111111111,
             "#482878"
            ],
            [
             0.2222222222222222,
             "#3e4989"
            ],
            [
             0.3333333333333333,
             "#31688e"
            ],
            [
             0.4444444444444444,
             "#26828e"
            ],
            [
             0.5555555555555556,
             "#1f9e89"
            ],
            [
             0.6666666666666666,
             "#35b779"
            ],
            [
             0.7777777777777778,
             "#6ece58"
            ],
            [
             0.8888888888888888,
             "#b5de2b"
            ],
            [
             1,
             "#fde725"
            ]
           ]
          },
          "colorway": [
           "#1F77B4",
           "#FF7F0E",
           "#2CA02C",
           "#D62728",
           "#9467BD",
           "#8C564B",
           "#E377C2",
           "#7F7F7F",
           "#BCBD22",
           "#17BECF"
          ],
          "font": {
           "color": "rgb(36,36,36)"
          },
          "geo": {
           "bgcolor": "white",
           "lakecolor": "white",
           "landcolor": "white",
           "showlakes": true,
           "showland": true,
           "subunitcolor": "white"
          },
          "hoverlabel": {
           "align": "left"
          },
          "hovermode": "closest",
          "mapbox": {
           "style": "light"
          },
          "paper_bgcolor": "white",
          "plot_bgcolor": "white",
          "polar": {
           "angularaxis": {
            "gridcolor": "rgb(232,232,232)",
            "linecolor": "rgb(36,36,36)",
            "showgrid": false,
            "showline": true,
            "ticks": "outside"
           },
           "bgcolor": "white",
           "radialaxis": {
            "gridcolor": "rgb(232,232,232)",
            "linecolor": "rgb(36,36,36)",
            "showgrid": false,
            "showline": true,
            "ticks": "outside"
           }
          },
          "scene": {
           "xaxis": {
            "backgroundcolor": "white",
            "gridcolor": "rgb(232,232,232)",
            "gridwidth": 2,
            "linecolor": "rgb(36,36,36)",
            "showbackground": true,
            "showgrid": false,
            "showline": true,
            "ticks": "outside",
            "zeroline": false,
            "zerolinecolor": "rgb(36,36,36)"
           },
           "yaxis": {
            "backgroundcolor": "white",
            "gridcolor": "rgb(232,232,232)",
            "gridwidth": 2,
            "linecolor": "rgb(36,36,36)",
            "showbackground": true,
            "showgrid": false,
            "showline": true,
            "ticks": "outside",
            "zeroline": false,
            "zerolinecolor": "rgb(36,36,36)"
           },
           "zaxis": {
            "backgroundcolor": "white",
            "gridcolor": "rgb(232,232,232)",
            "gridwidth": 2,
            "linecolor": "rgb(36,36,36)",
            "showbackground": true,
            "showgrid": false,
            "showline": true,
            "ticks": "outside",
            "zeroline": false,
            "zerolinecolor": "rgb(36,36,36)"
           }
          },
          "shapedefaults": {
           "fillcolor": "black",
           "line": {
            "width": 0
           },
           "opacity": 0.3
          },
          "ternary": {
           "aaxis": {
            "gridcolor": "rgb(232,232,232)",
            "linecolor": "rgb(36,36,36)",
            "showgrid": false,
            "showline": true,
            "ticks": "outside"
           },
           "baxis": {
            "gridcolor": "rgb(232,232,232)",
            "linecolor": "rgb(36,36,36)",
            "showgrid": false,
            "showline": true,
            "ticks": "outside"
           },
           "bgcolor": "white",
           "caxis": {
            "gridcolor": "rgb(232,232,232)",
            "linecolor": "rgb(36,36,36)",
            "showgrid": false,
            "showline": true,
            "ticks": "outside"
           }
          },
          "title": {
           "x": 0.05
          },
          "xaxis": {
           "automargin": true,
           "gridcolor": "rgb(232,232,232)",
           "linecolor": "rgb(36,36,36)",
           "showgrid": false,
           "showline": true,
           "ticks": "outside",
           "title": {
            "standoff": 15
           },
           "zeroline": false,
           "zerolinecolor": "rgb(36,36,36)"
          },
          "yaxis": {
           "automargin": true,
           "gridcolor": "rgb(232,232,232)",
           "linecolor": "rgb(36,36,36)",
           "showgrid": false,
           "showline": true,
           "ticks": "outside",
           "title": {
            "standoff": 15
           },
           "zeroline": false,
           "zerolinecolor": "rgb(36,36,36)"
          }
         }
        },
        "title": {
         "font": {
          "size": 24
         },
         "text": "Rank Profile Performance - snowflake-arctic-embed-s"
        },
        "width": 800,
        "xaxis": {
         "anchor": "y",
         "domain": [
          0,
          1
         ],
         "linecolor": "black",
         "linewidth": 2,
         "mirror": true,
         "showline": true,
         "title": {
          "text": "Rank Profile"
         }
        },
        "yaxis": {
         "anchor": "x",
         "domain": [
          0,
          1
         ],
         "linecolor": "black",
         "linewidth": 2,
         "mirror": true,
         "range": [
          0,
          1.1
         ],
         "showline": true,
         "title": {
          "text": "nDCG@3 Score"
         }
        }
       }
      }
     },
     "metadata": {},
     "output_type": "display_data"
    }
   ],
   "source": [
    "import pandas as pd\n",
    "import plotly.express as px\n",
    "\n",
    "\n",
    "def plot_rank_profiles(rank_profiles):\n",
    "    # Convert dictionary to DataFrame for easier manipulation\n",
    "    data = pd.DataFrame(list(rank_profiles.items()), columns=[\"Rank Profile\", \"nDCG@3\"])\n",
    "\n",
    "    colors = {\n",
    "        \"unranked\": \"#e74c3c\",  # Red\n",
    "        \"bm25\": \"#2ecc71\",  # Green\n",
    "        \"semantic\": \"#9b59b6\",  # Purple\n",
    "        \"hybrid\": \"#3498db\",  # Blue\n",
    "        \"hybrid_filtered\": \"#2980b9\",  # Darker Blue\n",
    "    }\n",
    "\n",
    "    # Map the colors to the dataframe\n",
    "    data[\"Color\"] = data[\"Rank Profile\"].map(colors)\n",
    "\n",
    "    # Create a bar chart using Plotly\n",
    "    fig = px.bar(\n",
    "        data,\n",
    "        x=\"Rank Profile\",\n",
    "        y=\"nDCG@3\",\n",
    "        title=\"Rank Profile Performance - snowflake-arctic-embed-s\",\n",
    "        labels={\"nDCG@3\": \"nDCG@3 Score\"},\n",
    "        text=\"nDCG@3\",\n",
    "        template=\"simple_white\",\n",
    "        color=\"Color\",\n",
    "        color_discrete_map=\"identity\",\n",
    "    )\n",
    "\n",
    "    # Set bar width and update traces for individual colors\n",
    "    fig.update_traces(\n",
    "        marker_line_color=\"black\", marker_line_width=1.5, width=0.4\n",
    "    )  # Less wide bars\n",
    "\n",
    "    # Enhance chart design adhering to Tufte's principles\n",
    "    fig.update_traces(texttemplate=\"%{text:.2f}\", textposition=\"outside\")\n",
    "    fig.update_layout(\n",
    "        plot_bgcolor=\"white\",\n",
    "        xaxis=dict(\n",
    "            title=\"Rank Profile\",\n",
    "            showline=True,\n",
    "            linewidth=2,\n",
    "            linecolor=\"black\",\n",
    "            mirror=True,\n",
    "        ),\n",
    "        yaxis=dict(\n",
    "            title=\"nDCG@3 Score\",\n",
    "            range=[0, 1.1],\n",
    "            showline=True,\n",
    "            linewidth=2,\n",
    "            linecolor=\"black\",\n",
    "            mirror=True,\n",
    "        ),\n",
    "        title_font=dict(size=24),\n",
    "        font=dict(family=\"Arial, sans-serif\", size=18, color=\"black\"),\n",
    "        margin=dict(l=40, r=40, t=40, b=40),\n",
    "        width=800,  # Set the width of the plot\n",
    "    )\n",
    "\n",
    "    # Show the plot\n",
    "    fig.show()\n",
    "\n",
    "\n",
    "plot_rank_profiles(rank_profiles=rank_results)"
   ]
  },
  {
   "cell_type": "markdown",
   "metadata": {},
   "source": [
    "For this particular synthetic small dataset, we can see that using the `snowflake-arctic-embed`-model improved the results significantly compared to keyword search only. Still, our experience with real-world data is that hybrid search is often the way to go.\n",
    "\n",
    "We also provided a little taste of how one can evaluate different ranking profiles if you have a ground truth dataset available, (or can create a synthetic one).\n"
   ]
  },
  {
   "cell_type": "markdown",
   "metadata": {},
   "source": [
    "## Next steps\n",
    "\n",
    "Check out global reranking strategies, and try to introduce a global_phase reranking strategy.\n"
   ]
  },
  {
   "cell_type": "markdown",
   "metadata": {},
   "source": [
    "## Cleanup\n"
   ]
  },
  {
   "cell_type": "code",
   "execution_count": 19,
   "metadata": {},
   "outputs": [],
   "source": [
    "vespa_docker.container.stop()\n",
    "vespa_docker.container.remove()"
   ]
  }
 ],
 "metadata": {
  "kernelspec": {
   "display_name": "pyvespa",
   "language": "python",
   "name": "python3"
  },
  "language_info": {
   "codemirror_mode": {
    "name": "ipython",
    "version": 3
   },
   "file_extension": ".py",
   "mimetype": "text/x-python",
   "name": "python",
   "nbconvert_exporter": "python",
   "pygments_lexer": "ipython3",
   "version": "3.9.6"
  }
 },
 "nbformat": 4,
 "nbformat_minor": 2
}
