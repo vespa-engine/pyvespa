{
 "cells": [
  {
   "cell_type": "markdown",
   "id": "13f8f209",
   "metadata": {},
   "source": [
    "<picture>\n",
    "  <source media=\"(prefers-color-scheme: dark)\" srcset=\"https://vespa.ai/assets/vespa-ai-logo-heather.svg\">\n",
    "  <source media=\"(prefers-color-scheme: light)\" srcset=\"https://vespa.ai/assets/vespa-ai-logo-rock.svg\">\n",
    "  <img alt=\"#Vespa\" width=\"200\" src=\"https://vespa.ai/assets/vespa-ai-logo-rock.svg\" style=\"margin-bottom: 25px;\">\n",
    "</picture>\n",
    "\n",
    "# Pyvespa examples\n",
    "\n",
    "This is a notebook with short examples one can build applications from."
   ]
  },
  {
   "cell_type": "markdown",
   "id": "8871fe77",
   "metadata": {},
   "source": [
    "<div class=\"alert alert-info\">\n",
    "    Refer to <a href=\"https://pyvespa.readthedocs.io/en/latest/troubleshooting.html\">troubleshooting</a>\n",
    "    for any problem when running this guide.\n",
    "</div>"
   ]
  },
  {
   "cell_type": "markdown",
   "id": "8967c74d",
   "metadata": {},
   "source": [
    "Refer to [troubleshooting](https://pyvespa.readthedocs.io/en/latest/troubleshooting.html), which also has utilies for debugging."
   ]
  },
  {
   "cell_type": "code",
   "execution_count": null,
   "id": "8fb6db5b",
   "metadata": {},
   "outputs": [],
   "source": [
    "!pip3 install pyvespa"
   ]
  },
  {
   "cell_type": "markdown",
   "id": "c77bfca9",
   "metadata": {},
   "source": [
    "## Neighbors\n",
    "\n",
    "Explore distance between points in 3D vector space.\n",
    "\n",
    "These are simple examples, feeding documents with a tensor representing a point in space,\n",
    "and a rank profile calculating the distance between a point in the query and the point in the documents.\n",
    "\n",
    "The examples start with using simple ranking expressions like\n",
    "[euclidean-distance](https://docs.vespa.ai/en/reference/ranking-expressions.html#euclidean-distance-t),\n",
    "then rank features like [closeness()](https://docs.vespa.ai/en/reference/rank-features.html#closeness(dimension,name))\n",
    "and setting different [distance-metrics](https://docs.vespa.ai/en/nearest-neighbor-search.html#distance-metrics-for-nearest-neighbor-search).\n",
    "\n",
    "### Distant neighbor\n",
    "\n",
    "First, find the point that is  **most**  distant from a point in query - deploy the Application Package:"
   ]
  },
  {
   "cell_type": "code",
   "execution_count": 14,
   "id": "f278e1c7",
   "metadata": {},
   "outputs": [
    {
     "name": "stdout",
     "output_type": "stream",
     "text": [
      "Waiting for configuration server, 0/300 seconds...\n",
      "Waiting for configuration server, 5/300 seconds...\n",
      "Using plain http against endpoint http://localhost:8080/ApplicationStatus\n",
      "Waiting for application status, 0/300 seconds...\n",
      "Using plain http against endpoint http://localhost:8080/ApplicationStatus\n",
      "Waiting for application status, 5/300 seconds...\n",
      "Using plain http against endpoint http://localhost:8080/ApplicationStatus\n",
      "Waiting for application status, 10/300 seconds...\n",
      "Using plain http against endpoint http://localhost:8080/ApplicationStatus\n",
      "Waiting for application status, 15/300 seconds...\n",
      "Using plain http against endpoint http://localhost:8080/ApplicationStatus\n",
      "Waiting for application status, 20/300 seconds...\n",
      "Using plain http against endpoint http://localhost:8080/ApplicationStatus\n",
      "Waiting for application status, 25/300 seconds...\n",
      "Using plain http against endpoint http://localhost:8080/ApplicationStatus\n",
      "Application is up!\n",
      "Finished deployment.\n"
     ]
    }
   ],
   "source": [
    "from vespa.package import ApplicationPackage, Field, RankProfile\n",
    "from vespa.deployment import VespaDocker\n",
    "from vespa.io import VespaResponse\n",
    "\n",
    "app_package = ApplicationPackage(name=\"neighbors\")\n",
    "\n",
    "app_package.schema.add_fields(\n",
    "    Field(name=\"point\", type=\"tensor<float>(d[3])\", indexing=[\"attribute\", \"summary\"])\n",
    ")\n",
    "\n",
    "app_package.schema.add_rank_profile(\n",
    "    RankProfile(\n",
    "        name=\"max_distance\",\n",
    "        inputs=[(\"query(qpoint)\", \"tensor<float>(d[3])\")],\n",
    "        first_phase=\"euclidean_distance(attribute(point), query(qpoint), d)\",\n",
    "    )\n",
    ")\n",
    "\n",
    "vespa_docker = VespaDocker()\n",
    "app = vespa_docker.deploy(application_package=app_package)"
   ]
  },
  {
   "cell_type": "markdown",
   "id": "581b3027",
   "metadata": {},
   "source": [
    "Feed points in 3d space using a 3-dimensional [indexed tensor](https://docs.vespa.ai/en/tensor-user-guide.html).\n",
    "Pyvespa feeds using the [/document/v1/ API](https://docs.vespa.ai/en/reference/document-v1-api-reference.html), refer to [document format](https://docs.vespa.ai/en/reference/document-json-format.html):"
   ]
  },
  {
   "cell_type": "code",
   "execution_count": 15,
   "id": "c9ace4be",
   "metadata": {},
   "outputs": [],
   "source": [
    "def get_feed(field_name):\n",
    "    return [\n",
    "        {\"id\": 0, \"fields\": {field_name: [0.0, 1.0, 2.0]}},\n",
    "        {\"id\": 1, \"fields\": {field_name: [1.0, 2.0, 3.0]}},\n",
    "        {\"id\": 2, \"fields\": {field_name: [2.0, 3.0, 4.0]}},\n",
    "    ]\n",
    "\n",
    "\n",
    "with app.syncio(connections=1) as session:\n",
    "    for u in get_feed(\"point\"):\n",
    "        response: VespaResponse = session.update_data(\n",
    "            data_id=u[\"id\"], schema=\"neighbors\", fields=u[\"fields\"], create=True\n",
    "        )\n",
    "        if not response.is_successful():\n",
    "            print(\n",
    "                \"Update failed for document {}\".format(u[\"id\"])\n",
    "                + \" with status code {}\".format(response.status_code)\n",
    "                + \" with response {}\".format(response.get_json())\n",
    "            )"
   ]
  },
  {
   "cell_type": "markdown",
   "id": "df09587d",
   "metadata": {},
   "source": [
    "**Note:**  The feed above uses [create-if-nonexistent](https://docs.vespa.ai/en/document-v1-api-guide.html#create-if-nonexistent), i.e. update a document, create it if it does not exists. Later in this notebook we will add a field and update it, so using an update to feed data makes it easier.\n",
    "\n",
    "Query from origo using [YQL](https://docs.vespa.ai/en/query-language.html).\n",
    "The rank profile will rank the most distant points highest, here `sqrt(2*2 + 3*3 + 4*4) = 5.385`:"
   ]
  },
  {
   "cell_type": "code",
   "execution_count": 16,
   "id": "ad26d1b3",
   "metadata": {},
   "outputs": [
    {
     "name": "stdout",
     "output_type": "stream",
     "text": [
      "[\n",
      "    {\n",
      "        \"id\": \"index:neighbors_content/0/c81e728dfde15fa4e8dfb3d3\",\n",
      "        \"relevance\": 5.385164807134504,\n",
      "        \"source\": \"neighbors_content\",\n",
      "        \"fields\": {\n",
      "            \"point\": [\n",
      "                2.0,\n",
      "                3.0,\n",
      "                4.0\n",
      "            ]\n",
      "        }\n",
      "    },\n",
      "    {\n",
      "        \"id\": \"index:neighbors_content/0/c4ca4238db266f395150e961\",\n",
      "        \"relevance\": 3.7416573867739413,\n",
      "        \"source\": \"neighbors_content\",\n",
      "        \"fields\": {\n",
      "            \"point\": [\n",
      "                1.0,\n",
      "                2.0,\n",
      "                3.0\n",
      "            ]\n",
      "        }\n",
      "    },\n",
      "    {\n",
      "        \"id\": \"index:neighbors_content/0/cfcd20845b10b1420c6cdeca\",\n",
      "        \"relevance\": 2.23606797749979,\n",
      "        \"source\": \"neighbors_content\",\n",
      "        \"fields\": {\n",
      "            \"point\": [\n",
      "                0.0,\n",
      "                1.0,\n",
      "                2.0\n",
      "            ]\n",
      "        }\n",
      "    }\n",
      "]\n"
     ]
    }
   ],
   "source": [
    "import json\n",
    "from vespa.io import VespaQueryResponse\n",
    "\n",
    "result: VespaQueryResponse = app.query(\n",
    "    body={\n",
    "        \"yql\": \"select point from neighbors where true\",\n",
    "        \"input.query(qpoint)\": \"[0.0, 0.0, 0.0]\",\n",
    "        \"ranking.profile\": \"max_distance\",\n",
    "        \"presentation.format.tensors\": \"short-value\",\n",
    "    }\n",
    ")\n",
    "\n",
    "if not response.is_successful():\n",
    "    print(\n",
    "        \"Query failed with status code {}\".format(response.status_code)\n",
    "        + \" with response {}\".format(response.get_json())\n",
    "    )\n",
    "    raise Exception(\"Query failed\")\n",
    "if len(result.hits) != 3:\n",
    "    raise Exception(\"Expected 3 hits, got {}\".format(len(result.hits)))\n",
    "print(json.dumps(result.hits, indent=4))"
   ]
  },
  {
   "cell_type": "markdown",
   "id": "fc9ea0c4",
   "metadata": {},
   "source": [
    "Query from `[1.0, 2.0, 2.9]` - find that `[2.0, 3.0, 4.0]` is most distant:"
   ]
  },
  {
   "cell_type": "code",
   "execution_count": 17,
   "id": "a6d690fb",
   "metadata": {},
   "outputs": [
    {
     "name": "stdout",
     "output_type": "stream",
     "text": [
      "[\n",
      "    {\n",
      "        \"id\": \"index:neighbors_content/0/c81e728dfde15fa4e8dfb3d3\",\n",
      "        \"relevance\": 1.7916472308265357,\n",
      "        \"source\": \"neighbors_content\",\n",
      "        \"fields\": {\n",
      "            \"point\": [\n",
      "                2.0,\n",
      "                3.0,\n",
      "                4.0\n",
      "            ]\n",
      "        }\n",
      "    },\n",
      "    {\n",
      "        \"id\": \"index:neighbors_content/0/cfcd20845b10b1420c6cdeca\",\n",
      "        \"relevance\": 1.6763055154708881,\n",
      "        \"source\": \"neighbors_content\",\n",
      "        \"fields\": {\n",
      "            \"point\": [\n",
      "                0.0,\n",
      "                1.0,\n",
      "                2.0\n",
      "            ]\n",
      "        }\n",
      "    },\n",
      "    {\n",
      "        \"id\": \"index:neighbors_content/0/c4ca4238db266f395150e961\",\n",
      "        \"relevance\": 0.09999990575011103,\n",
      "        \"source\": \"neighbors_content\",\n",
      "        \"fields\": {\n",
      "            \"point\": [\n",
      "                1.0,\n",
      "                2.0,\n",
      "                3.0\n",
      "            ]\n",
      "        }\n",
      "    }\n",
      "]\n"
     ]
    }
   ],
   "source": [
    "result = app.query(\n",
    "    body={\n",
    "        \"yql\": \"select point from neighbors where true\",\n",
    "        \"input.query(qpoint)\": \"[1.0, 2.0, 2.9]\",\n",
    "        \"ranking.profile\": \"max_distance\",\n",
    "        \"presentation.format.tensors\": \"short-value\",\n",
    "    }\n",
    ")\n",
    "print(json.dumps(result.hits, indent=4))"
   ]
  },
  {
   "cell_type": "markdown",
   "id": "521acdbd",
   "metadata": {},
   "source": [
    "### Nearest neighbor\n",
    "\n",
    "The [nearestNeighbor](https://docs.vespa.ai/en/reference/query-language-reference.html#nearestneighbor) query operator\n",
    "calculates distances between points in vector space.\n",
    "Here, we are using the default distance metric (euclidean), as it is not specified.\n",
    "The [closeness()](https://docs.vespa.ai/en/reference/rank-features.html#closeness(dimension,name)) rank feature can be used to rank results - add a new rank profile:"
   ]
  },
  {
   "cell_type": "code",
   "execution_count": 18,
   "id": "d6092057",
   "metadata": {},
   "outputs": [
    {
     "name": "stdout",
     "output_type": "stream",
     "text": [
      "Waiting for configuration server, 0/300 seconds...\n",
      "Waiting for configuration server, 5/300 seconds...\n",
      "Using plain http against endpoint http://localhost:8080/ApplicationStatus\n",
      "Waiting for application status, 0/300 seconds...\n",
      "Using plain http against endpoint http://localhost:8080/ApplicationStatus\n",
      "Waiting for application status, 5/300 seconds...\n",
      "Using plain http against endpoint http://localhost:8080/ApplicationStatus\n",
      "Application is up!\n",
      "Finished deployment.\n"
     ]
    }
   ],
   "source": [
    "app_package.schema.add_rank_profile(\n",
    "    RankProfile(\n",
    "        name=\"nearest_neighbor\",\n",
    "        inputs=[(\"query(qpoint)\", \"tensor<float>(d[3])\")],\n",
    "        first_phase=\"closeness(field, point)\",\n",
    "    )\n",
    ")\n",
    "\n",
    "app = vespa_docker.deploy(application_package=app_package)"
   ]
  },
  {
   "cell_type": "markdown",
   "id": "87b4dbf8",
   "metadata": {},
   "source": [
    "Read more in [nearest neighbor search](https://docs.vespa.ai/en/nearest-neighbor-search.html).\n",
    "\n",
    "Query using nearestNeighbor query operator:"
   ]
  },
  {
   "cell_type": "code",
   "execution_count": 19,
   "id": "df9db164",
   "metadata": {},
   "outputs": [
    {
     "name": "stdout",
     "output_type": "stream",
     "text": [
      "[\n",
      "    {\n",
      "        \"id\": \"index:neighbors_content/0/c4ca4238db266f395150e961\",\n",
      "        \"relevance\": 0.9090909879069752,\n",
      "        \"source\": \"neighbors_content\",\n",
      "        \"fields\": {\n",
      "            \"point\": [\n",
      "                1.0,\n",
      "                2.0,\n",
      "                3.0\n",
      "            ]\n",
      "        }\n",
      "    },\n",
      "    {\n",
      "        \"id\": \"index:neighbors_content/0/cfcd20845b10b1420c6cdeca\",\n",
      "        \"relevance\": 0.37364941905256455,\n",
      "        \"source\": \"neighbors_content\",\n",
      "        \"fields\": {\n",
      "            \"point\": [\n",
      "                0.0,\n",
      "                1.0,\n",
      "                2.0\n",
      "            ]\n",
      "        }\n",
      "    },\n",
      "    {\n",
      "        \"id\": \"index:neighbors_content/0/c81e728dfde15fa4e8dfb3d3\",\n",
      "        \"relevance\": 0.35821144946644456,\n",
      "        \"source\": \"neighbors_content\",\n",
      "        \"fields\": {\n",
      "            \"point\": [\n",
      "                2.0,\n",
      "                3.0,\n",
      "                4.0\n",
      "            ]\n",
      "        }\n",
      "    }\n",
      "]\n"
     ]
    }
   ],
   "source": [
    "result = app.query(\n",
    "    body={\n",
    "        \"yql\": \"select point from neighbors where {targetHits: 3}nearestNeighbor(point, qpoint)\",\n",
    "        \"input.query(qpoint)\": \"[1.0, 2.0, 2.9]\",\n",
    "        \"ranking.profile\": \"nearest_neighbor\",\n",
    "        \"presentation.format.tensors\": \"short-value\",\n",
    "    }\n",
    ")\n",
    "print(json.dumps(result.hits, indent=4))"
   ]
  },
  {
   "cell_type": "markdown",
   "id": "edcf6ceb",
   "metadata": {},
   "source": [
    "### Nearest neighbor - angular\n",
    "\n",
    "So far, we have used the default\n",
    "[distance-metric](https://docs.vespa.ai/en/nearest-neighbor-search.html#distance-metrics-for-nearest-neighbor-search) \n",
    "which is euclidean - now try with another.\n",
    "Add new few field with \"angular\" distance metric:"
   ]
  },
  {
   "cell_type": "code",
   "execution_count": 20,
   "id": "62e38222",
   "metadata": {},
   "outputs": [
    {
     "name": "stdout",
     "output_type": "stream",
     "text": [
      "Waiting for configuration server, 0/300 seconds...\n",
      "Waiting for configuration server, 5/300 seconds...\n",
      "Using plain http against endpoint http://localhost:8080/ApplicationStatus\n",
      "Waiting for application status, 0/300 seconds...\n",
      "Using plain http against endpoint http://localhost:8080/ApplicationStatus\n",
      "Waiting for application status, 5/300 seconds...\n",
      "Using plain http against endpoint http://localhost:8080/ApplicationStatus\n",
      "Waiting for application status, 10/300 seconds...\n",
      "Using plain http against endpoint http://localhost:8080/ApplicationStatus\n",
      "Application is up!\n",
      "Finished deployment.\n"
     ]
    }
   ],
   "source": [
    "app_package.schema.add_fields(\n",
    "    Field(\n",
    "        name=\"point_angular\",\n",
    "        type=\"tensor<float>(d[3])\",\n",
    "        indexing=[\"attribute\", \"summary\"],\n",
    "        attribute=[\"distance-metric: angular\"],\n",
    "    )\n",
    ")\n",
    "app_package.schema.add_rank_profile(\n",
    "    RankProfile(\n",
    "        name=\"nearest_neighbor_angular\",\n",
    "        inputs=[(\"query(qpoint)\", \"tensor<float>(d[3])\")],\n",
    "        first_phase=\"closeness(field, point_angular)\",\n",
    "    )\n",
    ")\n",
    "\n",
    "app = vespa_docker.deploy(application_package=app_package)"
   ]
  },
  {
   "cell_type": "markdown",
   "id": "e22c332e",
   "metadata": {},
   "source": [
    "Feed the same data to the `point_angular` field:"
   ]
  },
  {
   "cell_type": "code",
   "execution_count": 21,
   "id": "b4261c79",
   "metadata": {},
   "outputs": [],
   "source": [
    "for u in get_feed(\"point_angular\"):\n",
    "    response: VespaResponse = session.update_data(\n",
    "        data_id=u[\"id\"], schema=\"neighbors\", fields=u[\"fields\"]\n",
    "    )\n",
    "    if not response.is_successful():\n",
    "        print(\n",
    "            \"Update failed for document {}\".format(u[\"id\"])\n",
    "            + \" with status code {}\".format(response.status_code)\n",
    "            + \" with response {}\".format(response.get_json())\n",
    "        )"
   ]
  },
  {
   "cell_type": "markdown",
   "id": "bb5d4d60",
   "metadata": {},
   "source": [
    "Observe the documents now have _two_ vectors\n",
    "\n",
    "Notice that we pass [native Vespa document v1 api parameters](https://docs.vespa.ai/en/reference/document-v1-api-reference.html) \n",
    "to reduce the tensor verbosity."
   ]
  },
  {
   "cell_type": "code",
   "execution_count": 24,
   "id": "b0c25956",
   "metadata": {},
   "outputs": [
    {
     "name": "stdout",
     "output_type": "stream",
     "text": [
      "{\n",
      "    \"pathId\": \"/document/v1/neighbors/neighbors/docid/0\",\n",
      "    \"id\": \"id:neighbors:neighbors::0\",\n",
      "    \"fields\": {\n",
      "        \"point\": [\n",
      "            0.0,\n",
      "            1.0,\n",
      "            2.0\n",
      "        ],\n",
      "        \"point_angular\": [\n",
      "            0.0,\n",
      "            1.0,\n",
      "            2.0\n",
      "        ]\n",
      "    }\n",
      "}\n"
     ]
    }
   ],
   "source": [
    "from vespa.io import VespaResponse\n",
    "\n",
    "response: VespaResponse = app.get_data(\n",
    "    schema=\"neighbors\", data_id=0, **{\"format.tensors\": \"short-value\"}\n",
    ")\n",
    "print(json.dumps(response.get_json(), indent=4))"
   ]
  },
  {
   "cell_type": "code",
   "execution_count": 25,
   "id": "14befa36",
   "metadata": {},
   "outputs": [
    {
     "name": "stdout",
     "output_type": "stream",
     "text": [
      "[\n",
      "    {\n",
      "        \"id\": \"index:neighbors_content/0/c4ca4238db266f395150e961\",\n",
      "        \"relevance\": 0.983943389010042,\n",
      "        \"source\": \"neighbors_content\",\n",
      "        \"fields\": {\n",
      "            \"point_angular\": [\n",
      "                1.0,\n",
      "                2.0,\n",
      "                3.0\n",
      "            ]\n",
      "        }\n",
      "    },\n",
      "    {\n",
      "        \"id\": \"index:neighbors_content/0/c81e728dfde15fa4e8dfb3d3\",\n",
      "        \"relevance\": 0.9004871017951954,\n",
      "        \"source\": \"neighbors_content\",\n",
      "        \"fields\": {\n",
      "            \"point_angular\": [\n",
      "                2.0,\n",
      "                3.0,\n",
      "                4.0\n",
      "            ]\n",
      "        }\n",
      "    },\n",
      "    {\n",
      "        \"id\": \"index:neighbors_content/0/cfcd20845b10b1420c6cdeca\",\n",
      "        \"relevance\": 0.7638041096953281,\n",
      "        \"source\": \"neighbors_content\",\n",
      "        \"fields\": {\n",
      "            \"point_angular\": [\n",
      "                0.0,\n",
      "                1.0,\n",
      "                2.0\n",
      "            ]\n",
      "        }\n",
      "    }\n",
      "]\n"
     ]
    }
   ],
   "source": [
    "result = app.query(\n",
    "    body={\n",
    "        \"yql\": \"select point_angular from neighbors where {targetHits: 3}nearestNeighbor(point_angular, qpoint)\",\n",
    "        \"input.query(qpoint)\": \"[1.0, 2.0, 2.9]\",\n",
    "        \"ranking.profile\": \"nearest_neighbor_angular\",\n",
    "        \"presentation.format.tensors\": \"short-value\",\n",
    "    }\n",
    ")\n",
    "print(json.dumps(result.hits, indent=4))"
   ]
  },
  {
   "cell_type": "markdown",
   "id": "af8ad452",
   "metadata": {},
   "source": [
    "In the output above, observe the different in \"relevance\", compared to the query using `'ranking.profile': 'nearest_neighbor'` above - this is the difference in `closeness()` using different distance metrics."
   ]
  },
  {
   "cell_type": "markdown",
   "id": "d623d4c7",
   "metadata": {},
   "source": [
    "## Next steps\n",
    "\n",
    "* Try the [multi-vector-indexing](https://pyvespa.readthedocs.io/en/latest/examples/multi-vector-indexing.html)\n",
    "  notebook to explore using an HNSW-index for _approximate_ nearest neighbor search.\n",
    "* Explore using the [distance()](https://docs.vespa.ai/en/reference/rank-features.html#distance(dimension,name))\n",
    "  rank feature - this should give the same results as the ranking expressions using `euclidean-distance` above.\n",
    "* `label` is useful when having more vector fields - read more about the\n",
    "  [nearestNeighbor](https://docs.vespa.ai/en/reference/query-language-reference.html#nearestneighbor)\n",
    "  query operator."
   ]
  },
  {
   "cell_type": "markdown",
   "id": "8af14aab",
   "metadata": {},
   "source": [
    "## Cleanup"
   ]
  },
  {
   "cell_type": "code",
   "execution_count": null,
   "id": "b6c31eef",
   "metadata": {},
   "outputs": [],
   "source": [
    "vespa_docker.container.stop()\n",
    "vespa_docker.container.remove()"
   ]
  }
 ],
 "metadata": {
  "kernelspec": {
   "display_name": "Python 3.11.4 64-bit",
   "language": "python",
   "name": "python3"
  },
  "language_info": {
   "codemirror_mode": {
    "name": "ipython",
    "version": 3
   },
   "file_extension": ".py",
   "mimetype": "text/x-python",
   "name": "python",
   "nbconvert_exporter": "python",
   "pygments_lexer": "ipython3",
   "version": "3.11.4"
  },
  "vscode": {
   "interpreter": {
    "hash": "b0fa6594d8f4cbf19f97940f81e996739fb7646882a419484c72d19e05852a7e"
   }
  }
 },
 "nbformat": 4,
 "nbformat_minor": 5
}
