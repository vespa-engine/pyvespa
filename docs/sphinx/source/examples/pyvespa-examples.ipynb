{
 "cells": [
  {
   "cell_type": "markdown",
   "id": "13f8f209",
   "metadata": {},
   "source": [
    "![Vespa logo](https://vespa.ai/assets/vespa-logo-color.png)\n",
    "\n",
    "# Pyvespa examples\n",
    "\n",
    "This is a notebook with short examples one can build applications from."
   ]
  },
  {
   "cell_type": "markdown",
   "id": "8871fe77",
   "metadata": {},
   "source": [
    "<div class=\"alert alert-info\">\n",
    "    Refer to <a href=\"https://pyvespa.readthedocs.io/en/latest/troubleshooting.html\">troubleshooting</a>\n",
    "    for any problem when running this guide.\n",
    "</div>"
   ]
  },
  {
   "cell_type": "markdown",
   "id": "8967c74d",
   "metadata": {},
   "source": [
    "Refer to [troubleshooting](https://pyvespa.readthedocs.io/en/latest/troubleshooting.html), which also has utilies for debugging."
   ]
  },
  {
   "cell_type": "code",
   "execution_count": 5,
   "id": "8fb6db5b",
   "metadata": {},
   "outputs": [
    {
     "name": "stdout",
     "output_type": "stream",
     "text": [
      "Requirement already satisfied: pyvespa in /opt/homebrew/lib/python3.11/site-packages (0.7.0+dev)\n",
      "Requirement already satisfied: requests in /opt/homebrew/lib/python3.11/site-packages (from pyvespa) (2.31.0)\n",
      "Requirement already satisfied: pandas in /opt/homebrew/lib/python3.11/site-packages (from pyvespa) (2.1.1)\n",
      "Requirement already satisfied: docker in /opt/homebrew/lib/python3.11/site-packages (from pyvespa) (6.1.3)\n",
      "Requirement already satisfied: jinja2 in /opt/homebrew/lib/python3.11/site-packages (from pyvespa) (3.1.2)\n",
      "Requirement already satisfied: cryptography in /opt/homebrew/lib/python3.11/site-packages (from pyvespa) (41.0.4)\n",
      "Requirement already satisfied: aiohttp in /opt/homebrew/lib/python3.11/site-packages (from pyvespa) (3.8.5)\n",
      "Requirement already satisfied: tenacity in /opt/homebrew/lib/python3.11/site-packages (from pyvespa) (8.2.3)\n",
      "Requirement already satisfied: typing-extensions in /opt/homebrew/lib/python3.11/site-packages (from pyvespa) (4.8.0)\n",
      "Requirement already satisfied: attrs>=17.3.0 in /opt/homebrew/lib/python3.11/site-packages (from aiohttp->pyvespa) (23.1.0)\n",
      "Requirement already satisfied: charset-normalizer<4.0,>=2.0 in /opt/homebrew/lib/python3.11/site-packages (from aiohttp->pyvespa) (3.3.0)\n",
      "Requirement already satisfied: multidict<7.0,>=4.5 in /opt/homebrew/lib/python3.11/site-packages (from aiohttp->pyvespa) (6.0.4)\n",
      "Requirement already satisfied: async-timeout<5.0,>=4.0.0a3 in /opt/homebrew/lib/python3.11/site-packages (from aiohttp->pyvespa) (4.0.3)\n",
      "Requirement already satisfied: yarl<2.0,>=1.0 in /opt/homebrew/lib/python3.11/site-packages (from aiohttp->pyvespa) (1.9.2)\n",
      "Requirement already satisfied: frozenlist>=1.1.1 in /opt/homebrew/lib/python3.11/site-packages (from aiohttp->pyvespa) (1.4.0)\n",
      "Requirement already satisfied: aiosignal>=1.1.2 in /opt/homebrew/lib/python3.11/site-packages (from aiohttp->pyvespa) (1.3.1)\n",
      "Requirement already satisfied: cffi>=1.12 in /opt/homebrew/lib/python3.11/site-packages (from cryptography->pyvespa) (1.16.0)\n",
      "Requirement already satisfied: packaging>=14.0 in /opt/homebrew/lib/python3.11/site-packages (from docker->pyvespa) (23.2)\n",
      "Requirement already satisfied: urllib3>=1.26.0 in /opt/homebrew/lib/python3.11/site-packages (from docker->pyvespa) (1.26.18)\n",
      "Requirement already satisfied: websocket-client>=0.32.0 in /opt/homebrew/lib/python3.11/site-packages (from docker->pyvespa) (1.6.3)\n",
      "Requirement already satisfied: idna<4,>=2.5 in /opt/homebrew/lib/python3.11/site-packages (from requests->pyvespa) (3.4)\n",
      "Requirement already satisfied: certifi>=2017.4.17 in /opt/homebrew/lib/python3.11/site-packages (from requests->pyvespa) (2023.7.22)\n",
      "Requirement already satisfied: MarkupSafe>=2.0 in /opt/homebrew/lib/python3.11/site-packages (from jinja2->pyvespa) (2.1.3)\n",
      "Requirement already satisfied: numpy>=1.23.2 in /opt/homebrew/lib/python3.11/site-packages (from pandas->pyvespa) (1.26.0)\n",
      "Requirement already satisfied: python-dateutil>=2.8.2 in /opt/homebrew/lib/python3.11/site-packages (from pandas->pyvespa) (2.8.2)\n",
      "Requirement already satisfied: pytz>=2020.1 in /opt/homebrew/lib/python3.11/site-packages (from pandas->pyvespa) (2023.3.post1)\n",
      "Requirement already satisfied: tzdata>=2022.1 in /opt/homebrew/lib/python3.11/site-packages (from pandas->pyvespa) (2023.3)\n",
      "Requirement already satisfied: pycparser in /opt/homebrew/lib/python3.11/site-packages (from cffi>=1.12->cryptography->pyvespa) (2.21)\n",
      "Requirement already satisfied: six>=1.5 in /opt/homebrew/lib/python3.11/site-packages (from python-dateutil>=2.8.2->pandas->pyvespa) (1.16.0)\n"
     ]
    }
   ],
   "source": [
    "!pip3 install pyvespa"
   ]
  },
  {
   "cell_type": "markdown",
   "id": "c77bfca9",
   "metadata": {},
   "source": [
    "## Neighbors\n",
    "\n",
    "Explore distance between points in 3D vector space.\n",
    "\n",
    "These are simple examples, feeding documents with a tensor representing a point in space,\n",
    "and a rank profile calculating the distance between a point in the query and the point in the documents.\n",
    "\n",
    "The examples start with using simple ranking expressions like\n",
    "[euclidean-distance](https://docs.vespa.ai/en/reference/ranking-expressions.html#euclidean-distance-t),\n",
    "then rank features like [closeness()](https://docs.vespa.ai/en/reference/rank-features.html#closeness(dimension,name))\n",
    "and setting different [distance-metrics](https://docs.vespa.ai/en/nearest-neighbor-search.html#distance-metrics-for-nearest-neighbor-search).\n",
    "\n",
    "### Distant neighbor\n",
    "\n",
    "First, find the point that is  **most**  distant from a point in query - deploy the Application Package:"
   ]
  },
  {
   "cell_type": "code",
   "execution_count": 6,
   "id": "f278e1c7",
   "metadata": {},
   "outputs": [
    {
     "name": "stdout",
     "output_type": "stream",
     "text": [
      "Waiting for configuration server, 0/300 seconds...\n",
      "Waiting for configuration server, 5/300 seconds...\n",
      "Using plain http against endpoint http://localhost:8080/ApplicationStatus\n",
      "Waiting for application status, 0/300 seconds...\n",
      "Using plain http against endpoint http://localhost:8080/ApplicationStatus\n",
      "Waiting for application status, 5/300 seconds...\n",
      "Using plain http against endpoint http://localhost:8080/ApplicationStatus\n",
      "Waiting for application status, 10/300 seconds...\n",
      "Using plain http against endpoint http://localhost:8080/ApplicationStatus\n",
      "Application is up!\n",
      "Finished deployment.\n"
     ]
    }
   ],
   "source": [
    "from vespa.package import ApplicationPackage, Field, RankProfile\n",
    "from vespa.deployment import VespaDocker\n",
    "from vespa.io import VespaResponse\n",
    "\n",
    "app_package = ApplicationPackage(name=\"neighbors\")\n",
    "\n",
    "app_package.schema.add_fields(\n",
    "    Field(name = \"point\", type = \"tensor<float>(d[3])\", indexing = [\"attribute\", \"summary\"])\n",
    ")\n",
    "\n",
    "app_package.schema.add_rank_profile(\n",
    "    RankProfile(\n",
    "        name = \"max_distance\",\n",
    "        inputs = [(\"query(qpoint)\", \"tensor<float>(d[3])\")],\n",
    "        first_phase = \"euclidean_distance(attribute(point), query(qpoint), d)\"\n",
    "    )\n",
    ")\n",
    "\n",
    "vespa_docker = VespaDocker()\n",
    "app = vespa_docker.deploy(application_package=app_package)"
   ]
  },
  {
   "cell_type": "markdown",
   "id": "581b3027",
   "metadata": {},
   "source": [
    "Feed points in 3d space using a 3-dimensional [indexed tensor](https://docs.vespa.ai/en/tensor-user-guide.html).\n",
    "Pyvespa feeds using the [/document/v1/ API](https://docs.vespa.ai/en/reference/document-v1-api-reference.html), refer to [document format](https://docs.vespa.ai/en/reference/document-json-format.html):"
   ]
  },
  {
   "cell_type": "code",
   "execution_count": 8,
   "id": "c9ace4be",
   "metadata": {},
   "outputs": [],
   "source": [
    "def get_feed(field_name):\n",
    "    return [\n",
    "        {\n",
    "            'id': 0,\n",
    "            'create': True,\n",
    "            'fields': {\n",
    "                field_name: [0.0, 1.0, 2.0]\n",
    "            }\n",
    "        },\n",
    "        {\n",
    "            'id': 1,\n",
    "            'create': True,\n",
    "            'fields': {\n",
    "                field_name: [1.0, 2.0, 3.0]\n",
    "            }\n",
    "        },\n",
    "        {\n",
    "            'id': 2,\n",
    "            'create': True,\n",
    "            'fields': {\n",
    "                field_name: [2.0, 3.0, 4.0]\n",
    "            }\n",
    "        }\n",
    "    ]\n",
    "with app.syncio(connections=1) as session:\n",
    "    for u in get_feed(\"point\"):\n",
    "        response:VespaResponse = session.update_data(data_id=u[\"id\"], schema=\"neighbors\", fields=u[\"fields\"])\n",
    "        if not response.is_successfull():\n",
    "            print(\"Update failed for document {}\".format(u[\"id\"]) + \" with status code {}\".format(response.status_code) + \n",
    "            \" with response {}\".format(response.get_json()))\n",
    "    "
   ]
  },
  {
   "cell_type": "markdown",
   "id": "df09587d",
   "metadata": {},
   "source": [
    "**Note:**  The feed above uses [create-if-nonexistent](https://docs.vespa.ai/en/document-v1-api-guide.html#create-if-nonexistent), i.e. update a document, create it if it does not exists. Later in this notebook we will add a field and update it, so using an update to feed data makes it easier.\n",
    "\n",
    "Query from origo using [YQL](https://docs.vespa.ai/en/query-language.html).\n",
    "The rank profile will rank the most distant points highest, here `sqrt(2*2 + 3*3 + 4*4) = 5.385`:"
   ]
  },
  {
   "cell_type": "code",
   "execution_count": null,
   "id": "ad26d1b3",
   "metadata": {},
   "outputs": [],
   "source": [
    "import json\n",
    "result = app.query(body={\n",
    "  'yql': 'select point from neighbors where true',\n",
    "  'input.query(qpoint)': '[0.0, 0.0, 0.0]',\n",
    "  'ranking.profile': 'max_distance'\n",
    "})\n",
    "print(json.dumps(result.hits, indent=4))"
   ]
  },
  {
   "cell_type": "markdown",
   "id": "fc9ea0c4",
   "metadata": {},
   "source": [
    "Query from `[1.0, 2.0, 2.9]` - find that `[2.0, 3.0, 4.0]` is most distant:"
   ]
  },
  {
   "cell_type": "code",
   "execution_count": 83,
   "id": "a6d690fb",
   "metadata": {},
   "outputs": [
    {
     "name": "stdout",
     "output_type": "stream",
     "text": [
      "[\n",
      "    {\n",
      "        \"id\": \"index:neighbors_content/0/c81e728dfde15fa4e8dfb3d3\",\n",
      "        \"relevance\": 1.7916472308265357,\n",
      "        \"source\": \"neighbors_content\",\n",
      "        \"fields\": {\n",
      "            \"point\": {\n",
      "                \"type\": \"tensor<float>(d[3])\",\n",
      "                \"values\": [\n",
      "                    2.0,\n",
      "                    3.0,\n",
      "                    4.0\n",
      "                ]\n",
      "            }\n",
      "        }\n",
      "    },\n",
      "    {\n",
      "        \"id\": \"index:neighbors_content/0/cfcd20845b10b1420c6cdeca\",\n",
      "        \"relevance\": 1.6763055154708881,\n",
      "        \"source\": \"neighbors_content\",\n",
      "        \"fields\": {\n",
      "            \"point\": {\n",
      "                \"type\": \"tensor<float>(d[3])\",\n",
      "                \"values\": [\n",
      "                    0.0,\n",
      "                    1.0,\n",
      "                    2.0\n",
      "                ]\n",
      "            }\n",
      "        }\n",
      "    },\n",
      "    {\n",
      "        \"id\": \"index:neighbors_content/0/c4ca4238db266f395150e961\",\n",
      "        \"relevance\": 0.09999990575011103,\n",
      "        \"source\": \"neighbors_content\",\n",
      "        \"fields\": {\n",
      "            \"point\": {\n",
      "                \"type\": \"tensor<float>(d[3])\",\n",
      "                \"values\": [\n",
      "                    1.0,\n",
      "                    2.0,\n",
      "                    3.0\n",
      "                ]\n",
      "            }\n",
      "        }\n",
      "    }\n",
      "]\n"
     ]
    }
   ],
   "source": [
    "result = app.query(body={\n",
    "  'yql': 'select point from neighbors where true',\n",
    "  'input.query(qpoint)': '[1.0, 2.0, 2.9]',\n",
    "  'ranking.profile': 'max_distance'\n",
    "})\n",
    "print(json.dumps(result.hits, indent=4))"
   ]
  },
  {
   "cell_type": "markdown",
   "id": "521acdbd",
   "metadata": {},
   "source": [
    "### Nearest neighbor\n",
    "\n",
    "The [nearestNeighbor](https://docs.vespa.ai/en/reference/query-language-reference.html#nearestneighbor) query operator\n",
    "calculates distances between points in vector space.\n",
    "Here, we are using the default distance metric (euclidean), as it is not specified.\n",
    "The [closeness()](https://docs.vespa.ai/en/reference/rank-features.html#closeness(dimension,name)) rank feature can be used to rank results - add a new rank profile:"
   ]
  },
  {
   "cell_type": "code",
   "execution_count": 84,
   "id": "d6092057",
   "metadata": {},
   "outputs": [
    {
     "name": "stdout",
     "output_type": "stream",
     "text": [
      "Waiting for configuration server, 0/300 seconds...\n",
      "Waiting for configuration server, 5/300 seconds...\n",
      "Waiting for application status, 0/300 seconds...\n",
      "Waiting for application status, 5/300 seconds...\n",
      "Waiting for application status, 10/300 seconds...\n",
      "Finished deployment.\n"
     ]
    }
   ],
   "source": [
    "app_package.schema.add_rank_profile(\n",
    "    RankProfile(\n",
    "        name = \"nearest_neighbor\",\n",
    "        inputs = [(\"query(qpoint)\", \"tensor<float>(d[3])\")],\n",
    "        first_phase = \"closeness(field, point)\"\n",
    "    )\n",
    ")\n",
    "\n",
    "app = vespa_docker.deploy(application_package=app_package)"
   ]
  },
  {
   "cell_type": "markdown",
   "id": "87b4dbf8",
   "metadata": {},
   "source": [
    "Read more in [nearest neighbor search](https://docs.vespa.ai/en/nearest-neighbor-search.html).\n",
    "\n",
    "Query using nearestNeighbor query operator:"
   ]
  },
  {
   "cell_type": "code",
   "execution_count": 85,
   "id": "df9db164",
   "metadata": {},
   "outputs": [
    {
     "name": "stdout",
     "output_type": "stream",
     "text": [
      "[\n",
      "    {\n",
      "        \"id\": \"index:neighbors_content/0/c4ca4238db266f395150e961\",\n",
      "        \"relevance\": 0.9090909879069752,\n",
      "        \"source\": \"neighbors_content\",\n",
      "        \"fields\": {\n",
      "            \"point\": {\n",
      "                \"type\": \"tensor<float>(d[3])\",\n",
      "                \"values\": [\n",
      "                    1.0,\n",
      "                    2.0,\n",
      "                    3.0\n",
      "                ]\n",
      "            }\n",
      "        }\n",
      "    },\n",
      "    {\n",
      "        \"id\": \"index:neighbors_content/0/cfcd20845b10b1420c6cdeca\",\n",
      "        \"relevance\": 0.37364941905256455,\n",
      "        \"source\": \"neighbors_content\",\n",
      "        \"fields\": {\n",
      "            \"point\": {\n",
      "                \"type\": \"tensor<float>(d[3])\",\n",
      "                \"values\": [\n",
      "                    0.0,\n",
      "                    1.0,\n",
      "                    2.0\n",
      "                ]\n",
      "            }\n",
      "        }\n",
      "    },\n",
      "    {\n",
      "        \"id\": \"index:neighbors_content/0/c81e728dfde15fa4e8dfb3d3\",\n",
      "        \"relevance\": 0.35821144946644456,\n",
      "        \"source\": \"neighbors_content\",\n",
      "        \"fields\": {\n",
      "            \"point\": {\n",
      "                \"type\": \"tensor<float>(d[3])\",\n",
      "                \"values\": [\n",
      "                    2.0,\n",
      "                    3.0,\n",
      "                    4.0\n",
      "                ]\n",
      "            }\n",
      "        }\n",
      "    }\n",
      "]\n"
     ]
    }
   ],
   "source": [
    "result = app.query(body={\n",
    "  'yql': 'select point from neighbors where {targetHits: 3}nearestNeighbor(point, qpoint)',\n",
    "  'input.query(qpoint)': '[1.0, 2.0, 2.9]',\n",
    "  'ranking.profile': 'nearest_neighbor'\n",
    "})\n",
    "print(json.dumps(result.hits, indent=4))"
   ]
  },
  {
   "cell_type": "markdown",
   "id": "edcf6ceb",
   "metadata": {},
   "source": [
    "### Nearest neighbor - angular\n",
    "\n",
    "So far, we have used the default\n",
    "[distance-metric](https://docs.vespa.ai/en/nearest-neighbor-search.html#distance-metrics-for-nearest-neighbor-search) \n",
    "which is euclidean - now try with another.\n",
    "Add new few field with \"angular\" distance metric:"
   ]
  },
  {
   "cell_type": "code",
   "execution_count": 86,
   "id": "62e38222",
   "metadata": {},
   "outputs": [
    {
     "name": "stdout",
     "output_type": "stream",
     "text": [
      "Waiting for configuration server, 0/300 seconds...\n",
      "Waiting for configuration server, 5/300 seconds...\n",
      "Waiting for application status, 0/300 seconds...\n",
      "Waiting for application status, 5/300 seconds...\n",
      "Waiting for application status, 10/300 seconds...\n",
      "Finished deployment.\n"
     ]
    }
   ],
   "source": [
    "app_package.schema.add_fields(\n",
    "    Field(name = \"point_angular\",\n",
    "          type = \"tensor<float>(d[3])\",\n",
    "          indexing = [\"attribute\", \"summary\"],\n",
    "          attribute=[\"distance-metric: angular\"])\n",
    ")\n",
    "app_package.schema.add_rank_profile(\n",
    "    RankProfile(\n",
    "        name = \"nearest_neighbor_angular\",\n",
    "        inputs = [(\"query(qpoint)\", \"tensor<float>(d[3])\")],\n",
    "        first_phase = \"closeness(field, point_angular)\"\n",
    "    )\n",
    ")\n",
    "\n",
    "app = vespa_docker.deploy(application_package=app_package)"
   ]
  },
  {
   "cell_type": "markdown",
   "id": "e22c332e",
   "metadata": {},
   "source": [
    "Feed the same data to the `point_angular` field:"
   ]
  },
  {
   "cell_type": "code",
   "execution_count": 87,
   "id": "b4261c79",
   "metadata": {},
   "outputs": [],
   "source": [
    "for u in get_feed(\"point_angular\"):\n",
    "        response:VespaResponse = session.update_data(data_id=u[\"id\"], schema=\"neighbors\", fields=u[\"fields\"])\n",
    "        if not response.is_successfull():\n",
    "            print(\"Update failed for document {}\".format(u[\"id\"]) + \" with status code {}\".format(response.status_code) + \n",
    "            \" with response {}\".format(response.get_json()))"
   ]
  },
  {
   "cell_type": "markdown",
   "id": "bb5d4d60",
   "metadata": {},
   "source": [
    "Observe the documents now have _two_ vectors:"
   ]
  },
  {
   "cell_type": "code",
   "execution_count": 88,
   "id": "b0c25956",
   "metadata": {},
   "outputs": [
    {
     "name": "stdout",
     "output_type": "stream",
     "text": [
      "{\n",
      "    \"pathId\": \"/document/v1/neighbors/neighbors/docid/0\",\n",
      "    \"id\": \"id:neighbors:neighbors::0\",\n",
      "    \"fields\": {\n",
      "        \"point\": {\n",
      "            \"type\": \"tensor<float>(d[3])\",\n",
      "            \"values\": [\n",
      "                0.0,\n",
      "                1.0,\n",
      "                2.0\n",
      "            ]\n",
      "        },\n",
      "        \"point_angular\": {\n",
      "            \"type\": \"tensor<float>(d[3])\",\n",
      "            \"values\": [\n",
      "                0.0,\n",
      "                1.0,\n",
      "                2.0\n",
      "            ]\n",
      "        }\n",
      "    }\n",
      "}\n"
     ]
    }
   ],
   "source": [
    "response = app.get_data(data_id=0)\n",
    "print(json.dumps(response.get_json(), indent=4))"
   ]
  },
  {
   "cell_type": "code",
   "execution_count": 89,
   "id": "14befa36",
   "metadata": {},
   "outputs": [
    {
     "name": "stdout",
     "output_type": "stream",
     "text": [
      "[\n",
      "    {\n",
      "        \"id\": \"index:neighbors_content/0/c4ca4238db266f395150e961\",\n",
      "        \"relevance\": 0.983943389010042,\n",
      "        \"source\": \"neighbors_content\",\n",
      "        \"fields\": {\n",
      "            \"point_angular\": {\n",
      "                \"type\": \"tensor<float>(d[3])\",\n",
      "                \"values\": [\n",
      "                    1.0,\n",
      "                    2.0,\n",
      "                    3.0\n",
      "                ]\n",
      "            }\n",
      "        }\n",
      "    },\n",
      "    {\n",
      "        \"id\": \"index:neighbors_content/0/c81e728dfde15fa4e8dfb3d3\",\n",
      "        \"relevance\": 0.9004871017951954,\n",
      "        \"source\": \"neighbors_content\",\n",
      "        \"fields\": {\n",
      "            \"point_angular\": {\n",
      "                \"type\": \"tensor<float>(d[3])\",\n",
      "                \"values\": [\n",
      "                    2.0,\n",
      "                    3.0,\n",
      "                    4.0\n",
      "                ]\n",
      "            }\n",
      "        }\n",
      "    },\n",
      "    {\n",
      "        \"id\": \"index:neighbors_content/0/cfcd20845b10b1420c6cdeca\",\n",
      "        \"relevance\": 0.7638041096953281,\n",
      "        \"source\": \"neighbors_content\",\n",
      "        \"fields\": {\n",
      "            \"point_angular\": {\n",
      "                \"type\": \"tensor<float>(d[3])\",\n",
      "                \"values\": [\n",
      "                    0.0,\n",
      "                    1.0,\n",
      "                    2.0\n",
      "                ]\n",
      "            }\n",
      "        }\n",
      "    }\n",
      "]\n"
     ]
    }
   ],
   "source": [
    "result = app.query(body={\n",
    "  'yql': 'select point_angular from neighbors where {targetHits: 3}nearestNeighbor(point_angular, qpoint)',\n",
    "  'input.query(qpoint)': '[1.0, 2.0, 2.9]',\n",
    "  'ranking.profile': 'nearest_neighbor_angular'\n",
    "})\n",
    "print(json.dumps(result.hits, indent=4))"
   ]
  },
  {
   "cell_type": "markdown",
   "id": "af8ad452",
   "metadata": {},
   "source": [
    "In the output above, observe the different in \"relevance\", compared to the query using `'ranking.profile': 'nearest_neighbor'` above - this is the difference in `closeness()` using different distance metrics."
   ]
  },
  {
   "cell_type": "markdown",
   "id": "d623d4c7",
   "metadata": {},
   "source": [
    "## Next steps\n",
    "\n",
    "* Try the [multi-vector-indexing](https://pyvespa.readthedocs.io/en/latest/examples/multi-vector-indexing.html)\n",
    "  notebook to explore using an HNSW-index for _approximate_ nearest neighbor search.\n",
    "* Explore using the [distance()](https://docs.vespa.ai/en/reference/rank-features.html#distance(dimension,name))\n",
    "  rank feature - this should give the same results as the ranking expressions using `euclidean-distance` above.\n",
    "* `label` is useful when having more vector fields - read more about the\n",
    "  [nearestNeighbor](https://docs.vespa.ai/en/reference/query-language-reference.html#nearestneighbor)\n",
    "  query operator."
   ]
  },
  {
   "cell_type": "markdown",
   "id": "8af14aab",
   "metadata": {},
   "source": [
    "## Cleanup"
   ]
  },
  {
   "cell_type": "code",
   "execution_count": 78,
   "id": "b6c31eef",
   "metadata": {},
   "outputs": [],
   "source": [
    "vespa_docker.container.stop()\n",
    "vespa_docker.container.remove()"
   ]
  }
 ],
 "metadata": {
  "kernelspec": {
   "display_name": "Python 3.11.4 64-bit",
   "language": "python",
   "name": "python3"
  },
  "language_info": {
   "codemirror_mode": {
    "name": "ipython",
    "version": 3
   },
   "file_extension": ".py",
   "mimetype": "text/x-python",
   "name": "python",
   "nbconvert_exporter": "python",
   "pygments_lexer": "ipython3",
   "version": "3.11.4"
  },
  "vscode": {
   "interpreter": {
    "hash": "b0fa6594d8f4cbf19f97940f81e996739fb7646882a419484c72d19e05852a7e"
   }
  }
 },
 "nbformat": 4,
 "nbformat_minor": 5
}
