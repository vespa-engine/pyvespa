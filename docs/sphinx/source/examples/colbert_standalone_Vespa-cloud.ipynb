{
  "cells": [
    {
      "cell_type": "markdown",
      "id": "b3ae8a2b",
      "metadata": {
        "id": "b3ae8a2b"
      },
      "source": [
        "<picture>\n",
        "  <source media=\"(prefers-color-scheme: dark)\" srcset=\"https://vespa.ai/assets/vespa-ai-logo-heather.svg\">\n",
        "  <source media=\"(prefers-color-scheme: light)\" srcset=\"https://vespa.ai/assets/vespa-ai-logo-rock.svg\">\n",
        "  <img alt=\"#Vespa\" width=\"200\" src=\"https://vespa.ai/assets/vespa-ai-logo-rock.svg\" style=\"margin-bottom: 25px;\">\n",
        "</picture>\n",
        "\n",
        "\n",
        "# Standalone ColBERT with Vespa for end-to-end retrieval and ranking\n",
        "\n",
        "This notebook illustrates using [ColBERT](https://github.com/stanford-futuredata/ColBERT) package to produce token vectors, \n",
        "instead of using the native Vespa [colbert embedder](https://docs.vespa.ai/en/embedding.html#colbert-embedder).\n",
        "\n",
        "This guide illustrates how to feed and query using a single passage representation\n",
        "\n",
        "- Compress token vectors using binarization compatible with Vespa unpackbits used in ranking. This implements the binarization \n",
        "of token-level vectors using `numpy`. \n",
        "- Use Vespa hex feed format for binary vectors [doc](https://docs.vespa.ai/en/reference/document-json-format.html#tensor).\n",
        "- Query examples.\n",
        "\n",
        "As a bonus, this also demonstrates how to use ColBERT end-to-end with Vespa for both retrieval and ranking. The retrieval step\n",
        "searches the binary token-level representations using hamming distance. This uses 32 nearestNeighbor operators in the same query, each \n",
        "finding 100 nearest hits in hamming space. Then the results are re-ranked using the full-blown MaxSim calculation. \n",
        "\n",
        "See [Announcing the Vespa ColBERT embedder](https://blog.vespa.ai/announcing-colbert-embedder-in-vespa/) for details on ColBERT\n",
        "and the binary quantization used to compress ColBERT's token-level vectors. \n"
      ]
    },
    {
      "cell_type": "code",
      "execution_count": null,
      "id": "4ffa3cbe",
      "metadata": {
        "id": "4ffa3cbe"
      },
      "outputs": [],
      "source": [
        "!pip3 install -U pyvespa colbert-ai numpy torch"
      ]
    },
    {
      "cell_type": "markdown",
      "id": "17d765d7",
      "metadata": {},
      "source": [
        "Load a checkpoint with colbert and obtain document and query embeddings"
      ]
    },
    {
      "cell_type": "code",
      "execution_count": null,
      "id": "9ad221c5",
      "metadata": {},
      "outputs": [],
      "source": [
        "from colbert.modeling.checkpoint import Checkpoint\n",
        "from colbert.infra import ColBERTConfig\n",
        "ckpt = Checkpoint(\"colbert-ir/colbertv2.0\", colbert_config=ColBERTConfig(root=\"experiments\"))"
      ]
    },
    {
      "cell_type": "code",
      "execution_count": 139,
      "id": "f0643f75",
      "metadata": {},
      "outputs": [],
      "source": [
        "passage = [\"Alan Mathison Turing was an English mathematician, computer scientist, logician, cryptanalyst, philosopher and theoretical biologist.\"]"
      ]
    },
    {
      "cell_type": "code",
      "execution_count": null,
      "id": "4b8154eb",
      "metadata": {},
      "outputs": [],
      "source": [
        "vectors = ckpt.docFromText(passage)[0]"
      ]
    },
    {
      "cell_type": "code",
      "execution_count": 129,
      "id": "376f809c",
      "metadata": {},
      "outputs": [
        {
          "data": {
            "text/plain": [
              "torch.Size([27, 128])"
            ]
          },
          "execution_count": 129,
          "metadata": {},
          "output_type": "execute_result"
        }
      ],
      "source": [
        "vectors.shape"
      ]
    },
    {
      "cell_type": "markdown",
      "id": "e98626c4",
      "metadata": {},
      "source": [
        "In this case, we got 27 token-level embeddings, each using 128 float dimensions. This includes CLS token and special tokens used\n",
        "to differentiate the query from the document encoding. "
      ]
    },
    {
      "cell_type": "code",
      "execution_count": 130,
      "id": "f82fa1d3",
      "metadata": {},
      "outputs": [
        {
          "data": {
            "text/plain": [
              "torch.Size([32, 128])"
            ]
          },
          "execution_count": 130,
          "metadata": {},
          "output_type": "execute_result"
        }
      ],
      "source": [
        "query_vectors = ckpt.queryFromText([\"Who was Alan Turing?\"])[0]\n",
        "query_vectors.shape"
      ]
    },
    {
      "cell_type": "markdown",
      "id": "95f7f71b",
      "metadata": {},
      "source": [
        "Routines for binarization and output in Vespa tensor format that can be used in queries and in JSON feed."
      ]
    },
    {
      "cell_type": "code",
      "execution_count": 118,
      "id": "5e43f0fe",
      "metadata": {},
      "outputs": [],
      "source": [
        "import numpy as np\n",
        "import torch\n",
        "from binascii import hexlify\n",
        "from typing import Dict, List\n",
        "\n",
        "def binarize_token_vectors_hex(vectors:torch.Tensor) -> Dict[str, str]:\n",
        "  binarized_token_vectors= np.packbits(np.where(vectors > 0, 1, 0), axis=1).astype(np.int8)\n",
        "  vespa_token_feed = dict()\n",
        "  for index in range(0, len(binarized_token_vectors)):\n",
        "    vespa_token_feed[index] = str(hexlify(binarized_token_vectors[index].tobytes()),\"utf-8\")\n",
        "  return vespa_token_feed\n",
        "\n",
        "\n",
        "def float_query_token_vectors(vectors:torch.Tensor) -> Dict[str, List[float]]:\n",
        "  vespa_token_feed = dict()\n",
        "  for index in range(0, len(vectors)):\n",
        "    vespa_token_feed[index] = vectors[index].tolist()\n",
        "  return vespa_token_feed"
      ]
    },
    {
      "cell_type": "code",
      "execution_count": null,
      "id": "f6857e5d",
      "metadata": {},
      "outputs": [],
      "source": [
        "import json\n",
        "print(json.dumps(binarize_token_vectors_hex(vectors)))\n",
        "print(json.dumps(float_query_token_vectors(query_vectors)))"
      ]
    },
    {
      "cell_type": "markdown",
      "id": "da356d25",
      "metadata": {
        "id": "da356d25"
      },
      "source": [
        "## Definining the Vespa application\n",
        "[PyVespa](https://pyvespa.readthedocs.io/en/latest/) helps us build the [Vespa application package](https://docs.vespa.ai/en/application-packages.html).\n",
        "A Vespa application package consists of configuration files, schemas, models, and code (plugins).   \n",
        "\n",
        "First, we define a [Vespa schema](https://docs.vespa.ai/en/schemas.html) with the fields we want to store and their type.\n",
        "\n",
        "We use HNSW with hamming distance for retrieval"
      ]
    },
    {
      "cell_type": "code",
      "execution_count": 151,
      "id": "0dca2378",
      "metadata": {
        "id": "0dca2378"
      },
      "outputs": [],
      "source": [
        "from vespa.package import Schema, Document, Field\n",
        "colbert_schema = Schema(\n",
        "            name=\"doc\",\n",
        "            document=Document(\n",
        "                fields=[\n",
        "                    Field(name=\"id\", type=\"string\", indexing=[\"summary\"]),\n",
        "                    Field(name=\"passage\", type=\"string\", indexing=[\"index\", \"summary\"]),\n",
        "                    Field(name=\"colbert\", type=\"tensor<int8>(token{}, v[16])\",\n",
        "                        indexing=[\"attribute\", \"summary\", \"index\"],\n",
        "                        attribute=[\"distance-metric:hamming\"],\n",
        "                    )\n",
        "                ]\n",
        "            )\n",
        ")"
      ]
    },
    {
      "cell_type": "code",
      "execution_count": 152,
      "id": "66c5da1d",
      "metadata": {
        "id": "66c5da1d"
      },
      "outputs": [],
      "source": [
        "from vespa.package import ApplicationPackage\n",
        "\n",
        "vespa_app_name = \"colbert\"\n",
        "vespa_application_package = ApplicationPackage(\n",
        "        name=vespa_app_name,\n",
        "        schema=[colbert_schema]\n",
        ")"
      ]
    },
    {
      "cell_type": "markdown",
      "id": "b45a8e79",
      "metadata": {},
      "source": [
        "We need to define all the query input tensors. We are going to input up to 32 query tensors in binary form \n",
        "these are used for retrieval"
      ]
    },
    {
      "cell_type": "code",
      "execution_count": 92,
      "id": "f854cf86",
      "metadata": {},
      "outputs": [],
      "source": [
        "query_binary_input_tensors = []\n",
        "for index in range(0,32):\n",
        "  query_binary_input_tensors.append(\n",
        "    (\"query(binary_vector_{})\".format(index), \"tensor<int8>(v[16])\")\n",
        "  )"
      ]
    },
    {
      "cell_type": "markdown",
      "id": "5ea4ff0d",
      "metadata": {},
      "source": [
        "Note that we just use max sim in the first phase ranking over all the hits that are retrieved by the query"
      ]
    },
    {
      "cell_type": "code",
      "execution_count": 153,
      "id": "a8ce5624",
      "metadata": {
        "id": "a8ce5624"
      },
      "outputs": [],
      "source": [
        "from vespa.package import RankProfile, Function, FirstPhaseRanking\n",
        "\n",
        "colbert = RankProfile(\n",
        "    name=\"default\",\n",
        "    inputs=[\n",
        "        (\"query(qt)\", \"tensor<float>(querytoken{}, v[128])\"),\n",
        "        *query_binary_input_tensors\n",
        "        ],\n",
        "    functions=[\n",
        "    \n",
        "        Function(\n",
        "            name=\"max_sim\",\n",
        "            expression=\"\"\"\n",
        "                sum(\n",
        "                    reduce(\n",
        "                        sum(\n",
        "                            query(qt) * unpack_bits(attribute(colbert)) , v\n",
        "                        ),\n",
        "                        max, token\n",
        "                    ),\n",
        "                    querytoken\n",
        "                )\n",
        "            \"\"\"\n",
        "        )\n",
        "    ],\n",
        "    first_phase=FirstPhaseRanking(\n",
        "        expression=\"max_sim\"\n",
        "    )\n",
        ")\n",
        "colbert_schema.add_rank_profile(colbert)"
      ]
    },
    {
      "cell_type": "markdown",
      "id": "846545f9",
      "metadata": {
        "id": "846545f9"
      },
      "source": [
        "## Deploy the application to Vespa Cloud\n",
        "\n",
        "With the configured application, we can deploy it to [Vespa Cloud](https://cloud.vespa.ai/en/).\n",
        "It is also possible to deploy the app using docker; see the [Hybrid Search - Quickstart](https://pyvespa.readthedocs.io/en/latest/getting-started-pyvespa.html) guide for\n",
        "an example of deploying it to a local docker container."
      ]
    },
    {
      "cell_type": "markdown",
      "id": "16179d9b",
      "metadata": {
        "id": "16179d9b"
      },
      "source": [
        "Install the Vespa CLI using [homebrew](https://brew.sh/) - or download a binary from GitHub as demonstrated below."
      ]
    },
    {
      "cell_type": "code",
      "execution_count": null,
      "id": "343981ce",
      "metadata": {
        "id": "343981ce"
      },
      "outputs": [],
      "source": [
        "!brew install vespa-cli"
      ]
    },
    {
      "cell_type": "markdown",
      "id": "863d0700",
      "metadata": {
        "id": "863d0700"
      },
      "source": [
        "Alternatively, if running in Colab, download the Vespa CLI:"
      ]
    },
    {
      "cell_type": "code",
      "execution_count": null,
      "id": "d5670bb6",
      "metadata": {
        "id": "d5670bb6"
      },
      "outputs": [],
      "source": [
        "import os\n",
        "import requests\n",
        "res = requests.get(url=\"https://api.github.com/repos/vespa-engine/vespa/releases/latest\").json()\n",
        "os.environ[\"VERSION\"] = res[\"tag_name\"].replace(\"v\", \"\")\n",
        "!curl -fsSL https://github.com/vespa-engine/vespa/releases/download/v${VERSION}/vespa-cli_${VERSION}_linux_amd64.tar.gz | tar -zxf -\n",
        "!ln -sf /content/vespa-cli_${VERSION}_linux_amd64/bin/vespa /bin/vespa"
      ]
    },
    {
      "cell_type": "markdown",
      "id": "0ff00727",
      "metadata": {
        "id": "0ff00727"
      },
      "source": [
        "To deploy the application to Vespa Cloud we need to create a tenant in the Vespa Cloud:\n",
        "\n",
        "Create a tenant at [console.vespa-cloud.com](https://console.vespa-cloud.com/) (unless you already have one).\n",
        "This step requires a Google or GitHub account, and will start your [free trial](https://cloud.vespa.ai/en/free-trial).\n",
        "Make note of the tenant name, it is used in the next steps."
      ]
    },
    {
      "cell_type": "markdown",
      "id": "df9f9a1c",
      "metadata": {
        "id": "df9f9a1c"
      },
      "source": [
        "### Configure Vespa Cloud date-plane security\n",
        "\n",
        "Create Vespa Cloud data-plane mTLS cert/key-pair. The mutual certificate pair is used to talk to your Vespa cloud endpoints. See [Vespa Cloud Security Guide](https://cloud.vespa.ai/en/security/guide) for details.\n",
        "\n",
        "We save the paths to the credentials for later data-plane access without using pyvespa APIs."
      ]
    },
    {
      "cell_type": "code",
      "execution_count": null,
      "id": "b6a766d6",
      "metadata": {
        "colab": {
          "base_uri": "https://localhost:8080/"
        },
        "id": "b6a766d6",
        "outputId": "9f05ce4d-378a-4abf-cefe-d8dd2580b25a"
      },
      "outputs": [],
      "source": [
        "import os\n",
        "\n",
        "os.environ[\"TENANT_NAME\"] = \"vespa-team\" # Replace with your tenant name\n",
        "\n",
        "vespa_cli_command = f'vespa config set application {os.environ[\"TENANT_NAME\"]}.{vespa_app_name}'\n",
        "\n",
        "!vespa config set target cloud\n",
        "!{vespa_cli_command}\n",
        "!vespa auth cert -N"
      ]
    },
    {
      "cell_type": "markdown",
      "id": "b228381b",
      "metadata": {
        "id": "b228381b"
      },
      "source": [
        "Validate that we have the expected data-plane credential files:"
      ]
    },
    {
      "cell_type": "code",
      "execution_count": 52,
      "id": "1f0b97c8",
      "metadata": {
        "id": "1f0b97c8"
      },
      "outputs": [],
      "source": [
        "from os.path import exists\n",
        "from pathlib import Path\n",
        "\n",
        "cert_path = Path.home() / \".vespa\" / f\"{os.environ['TENANT_NAME']}.{vespa_app_name}.default/data-plane-public-cert.pem\"\n",
        "key_path = Path.home() / \".vespa\" / f\"{os.environ['TENANT_NAME']}.{vespa_app_name}.default/data-plane-private-key.pem\"\n",
        "\n",
        "if not exists(cert_path) or not exists(key_path):\n",
        "    print(\"ERROR: set the correct paths to security credentials. Correct paths above and rerun until you do not see this error\")"
      ]
    },
    {
      "cell_type": "markdown",
      "id": "85ce80e0",
      "metadata": {
        "id": "85ce80e0"
      },
      "source": [
        "Note that the subsequent Vespa Cloud deploy call below will add `data-plane-public-cert.pem` to the application before deploying it to Vespa Cloud, so that\n",
        "you have access to both the private key and the public certificate. At the same time, Vespa Cloud only knows the public certificate.\n",
        "\n",
        "### Configure Vespa Cloud control-plane security\n",
        "\n",
        "Authenticate to generate a tenant level control plane API key for deploying the applications to Vespa Cloud, and save the path to it.\n",
        "\n",
        "The generated tenant api key must be added in the Vespa Console before attemting to deploy the application.\n",
        "\n",
        "```\n",
        "To use this key in Vespa Cloud click 'Add custom key' at\n",
        "https://console.vespa-cloud.com/tenant/TENANT_NAME/account/keys\n",
        "and paste the entire public key including the BEGIN and END lines.\n",
        "```"
      ]
    },
    {
      "cell_type": "code",
      "execution_count": null,
      "id": "5bf8731c",
      "metadata": {
        "colab": {
          "base_uri": "https://localhost:8080/"
        },
        "id": "5bf8731c",
        "outputId": "12765e29-1060-43f7-bd77-ff13d72835ed"
      },
      "outputs": [],
      "source": [
        "!vespa auth api-key\n",
        "\n",
        "from pathlib import Path\n",
        "api_key_path = Path.home() / \".vespa\" / f\"{os.environ['TENANT_NAME']}.api-key.pem\""
      ]
    },
    {
      "cell_type": "markdown",
      "id": "21db1010",
      "metadata": {
        "id": "21db1010"
      },
      "source": [
        "### Deploy to Vespa Cloud\n",
        "\n",
        "Now that we have data-plane and control-plane credentials ready, we can deploy our application to Vespa Cloud!\n",
        "\n",
        "`PyVespa` supports deploying apps to the [development zone](https://cloud.vespa.ai/en/reference/environments#dev-and-perf).\n",
        "\n",
        ">Note: Deployments to dev and perf expire after 7 days of inactivity, i.e., 7 days after running deploy. This applies to all plans, not only the Free Trial. Use the Vespa Console to extend the expiry period, or redeploy the application to add 7 more days."
      ]
    },
    {
      "cell_type": "code",
      "execution_count": 154,
      "id": "b5fddf9f",
      "metadata": {
        "id": "b5fddf9f"
      },
      "outputs": [],
      "source": [
        "from vespa.deployment import VespaCloud\n",
        "\n",
        "def read_secret():\n",
        "    \"\"\"Read the API key from the environment variable. This is\n",
        "    only used for CI/CD purposes.\"\"\"\n",
        "    t = os.getenv(\"VESPA_TEAM_API_KEY\")\n",
        "    if t:\n",
        "        return t.replace(r\"\\n\", \"\\n\")\n",
        "    else:\n",
        "        return t\n",
        "\n",
        "vespa_cloud = VespaCloud(\n",
        "    tenant=os.environ[\"TENANT_NAME\"],\n",
        "    application=vespa_app_name,\n",
        "    key_content=read_secret() if read_secret() else None,\n",
        "    key_location=api_key_path,\n",
        "    application_package=vespa_application_package)"
      ]
    },
    {
      "cell_type": "markdown",
      "id": "fa9baa5a",
      "metadata": {
        "id": "fa9baa5a"
      },
      "source": [
        "Now deploy the app to Vespa Cloud dev zone.\n",
        "\n",
        "The first deployment typically takes 2 minutes until the endpoint is up."
      ]
    },
    {
      "cell_type": "code",
      "execution_count": null,
      "id": "fe954dc4",
      "metadata": {
        "colab": {
          "base_uri": "https://localhost:8080/"
        },
        "id": "fe954dc4",
        "outputId": "a0764bd3-98c2-492a-b8d9-b99ecacf4bdb"
      },
      "outputs": [],
      "source": [
        "from vespa.application import Vespa\n",
        "app:Vespa = vespa_cloud.deploy()"
      ]
    },
    {
      "cell_type": "code",
      "execution_count": 156,
      "id": "50356013",
      "metadata": {},
      "outputs": [],
      "source": [
        "from vespa.io import VespaResponse\n",
        "\n",
        "vespa_feed_format = {\n",
        "        \"id\": \"1\",\n",
        "        \"passage\": passage[0],\n",
        "        \"colbert\": binarize_token_vectors_hex(vectors)\n",
        "}\n",
        "with app.syncio() as sync:\n",
        "    response:VespaResponse = sync.feed_data_point(data_id=1, fields=vespa_feed_format, schema=\"doc\")"
      ]
    },
    {
      "cell_type": "markdown",
      "id": "cebada8d",
      "metadata": {},
      "source": [
        "## Querying\n",
        "\n",
        "Now we create all the query token vectors in binary form and use 32 nearestNeighbor query operators\n",
        "that are combined with OR. These hits are then exposed to ranking where the final MaxSim is performed using the unpacked binary representations. "
      ]
    },
    {
      "cell_type": "code",
      "execution_count": null,
      "id": "e385db6d",
      "metadata": {},
      "outputs": [],
      "source": [
        "query_vectors = ckpt.queryFromText([\"Who was Alan Turing?\"])[0]\n",
        "binary_query_input_tensors =  binarize_token_vectors_hex(query_vectors)"
      ]
    },
    {
      "cell_type": "code",
      "execution_count": 158,
      "id": "dead43d1",
      "metadata": {},
      "outputs": [],
      "source": [
        "binary_query_vectors = dict()\n",
        "nn_operators = list()\n",
        "for index in range(0,32):\n",
        "\n",
        "  name = \"input.query(binary_vector_{})\".format(index)\n",
        "  nn_argument = \"binary_vector_{}\".format(index)\n",
        "  value = binary_query_input_tensors[index]\n",
        "  binary_query_vectors[name] = value\n",
        "  nn_operators.append(\"({targetHits:100}nearestNeighbor(colbert, %s))\" % nn_argument)"
      ]
    },
    {
      "cell_type": "code",
      "execution_count": 159,
      "id": "e7a8b05c",
      "metadata": {},
      "outputs": [
        {
          "data": {
            "text/plain": [
              "'({targetHits:100}nearestNeighbor(colbert, binary_vector_0)) OR ({targetHits:100}nearestNeighbor(colbert, binary_vector_1)) OR ({targetHits:100}nearestNeighbor(colbert, binary_vector_2)) OR ({targetHits:100}nearestNeighbor(colbert, binary_vector_3)) OR ({targetHits:100}nearestNeighbor(colbert, binary_vector_4)) OR ({targetHits:100}nearestNeighbor(colbert, binary_vector_5)) OR ({targetHits:100}nearestNeighbor(colbert, binary_vector_6)) OR ({targetHits:100}nearestNeighbor(colbert, binary_vector_7)) OR ({targetHits:100}nearestNeighbor(colbert, binary_vector_8)) OR ({targetHits:100}nearestNeighbor(colbert, binary_vector_9)) OR ({targetHits:100}nearestNeighbor(colbert, binary_vector_10)) OR ({targetHits:100}nearestNeighbor(colbert, binary_vector_11)) OR ({targetHits:100}nearestNeighbor(colbert, binary_vector_12)) OR ({targetHits:100}nearestNeighbor(colbert, binary_vector_13)) OR ({targetHits:100}nearestNeighbor(colbert, binary_vector_14)) OR ({targetHits:100}nearestNeighbor(colbert, binary_vector_15)) OR ({targetHits:100}nearestNeighbor(colbert, binary_vector_16)) OR ({targetHits:100}nearestNeighbor(colbert, binary_vector_17)) OR ({targetHits:100}nearestNeighbor(colbert, binary_vector_18)) OR ({targetHits:100}nearestNeighbor(colbert, binary_vector_19)) OR ({targetHits:100}nearestNeighbor(colbert, binary_vector_20)) OR ({targetHits:100}nearestNeighbor(colbert, binary_vector_21)) OR ({targetHits:100}nearestNeighbor(colbert, binary_vector_22)) OR ({targetHits:100}nearestNeighbor(colbert, binary_vector_23)) OR ({targetHits:100}nearestNeighbor(colbert, binary_vector_24)) OR ({targetHits:100}nearestNeighbor(colbert, binary_vector_25)) OR ({targetHits:100}nearestNeighbor(colbert, binary_vector_26)) OR ({targetHits:100}nearestNeighbor(colbert, binary_vector_27)) OR ({targetHits:100}nearestNeighbor(colbert, binary_vector_28)) OR ({targetHits:100}nearestNeighbor(colbert, binary_vector_29)) OR ({targetHits:100}nearestNeighbor(colbert, binary_vector_30)) OR ({targetHits:100}nearestNeighbor(colbert, binary_vector_31))'"
            ]
          },
          "execution_count": 159,
          "metadata": {},
          "output_type": "execute_result"
        }
      ],
      "source": [
        "nn_operators = \" OR \".join(nn_operators)"
      ]
    },
    {
      "cell_type": "code",
      "execution_count": 161,
      "id": "b9349fb4",
      "metadata": {
        "colab": {
          "base_uri": "https://localhost:8080/"
        },
        "id": "b9349fb4",
        "outputId": "08eafc2f-0856-4c6b-9f13-2decf754228c"
      },
      "outputs": [
        {
          "name": "stdout",
          "output_type": "stream",
          "text": [
            "{\n",
            "  \"id\": \"id:doc:doc::1\",\n",
            "  \"relevance\": 100.57648777961731,\n",
            "  \"source\": \"colbert_content\",\n",
            "  \"fields\": {\n",
            "    \"sddocname\": \"doc\",\n",
            "    \"documentid\": \"id:doc:doc::1\",\n",
            "    \"id\": \"1\",\n",
            "    \"passage\": \"Alan Mathison Turing was an English mathematician, computer scientist, logician, cryptanalyst, philosopher and theoretical biologist.\",\n",
            "    \"colbert\": {\n",
            "      \"0\": [\n",
            "        3,\n",
            "        120,\n",
            "        69,\n",
            "        0,\n",
            "        37,\n",
            "        -60,\n",
            "        -58,\n",
            "        -95,\n",
            "        -120,\n",
            "        32,\n",
            "        -127,\n",
            "        67,\n",
            "        -36,\n",
            "        68,\n",
            "        -106,\n",
            "        -12\n",
            "      ],\n",
            "      \"1\": [\n",
            "        -106,\n",
            "        40,\n",
            "        -119,\n",
            "        -128,\n",
            "        96,\n",
            "        -60,\n",
            "        -58,\n",
            "        33,\n",
            "        48,\n",
            "        96,\n",
            "        -127,\n",
            "        67,\n",
            "        -100,\n",
            "        96,\n",
            "        -106,\n",
            "        -12\n",
            "      ],\n",
            "      \"2\": [\n",
            "        -28,\n",
            "        -84,\n",
            "        73,\n",
            "        -18,\n",
            "        113,\n",
            "        -60,\n",
            "        -51,\n",
            "        40,\n",
            "        -96,\n",
            "        121,\n",
            "        4,\n",
            "        24,\n",
            "        -99,\n",
            "        68,\n",
            "        -47,\n",
            "        -60\n",
            "      ],\n",
            "      \"3\": [\n",
            "        -13,\n",
            "        40,\n",
            "        75,\n",
            "        -124,\n",
            "        65,\n",
            "        64,\n",
            "        -32,\n",
            "        -53,\n",
            "        12,\n",
            "        64,\n",
            "        125,\n",
            "        4,\n",
            "        24,\n",
            "        -64,\n",
            "        -69,\n",
            "        101\n",
            "      ],\n",
            "      \"4\": [\n",
            "        33,\n",
            "        -54,\n",
            "        113,\n",
            "        24,\n",
            "        77,\n",
            "        -36,\n",
            "        -44,\n",
            "        3,\n",
            "        -32,\n",
            "        -72,\n",
            "        40,\n",
            "        41,\n",
            "        -38,\n",
            "        102,\n",
            "        53,\n",
            "        -35\n",
            "      ],\n",
            "      \"5\": [\n",
            "        3,\n",
            "        -22,\n",
            "        73,\n",
            "        -95,\n",
            "        73,\n",
            "        -51,\n",
            "        85,\n",
            "        -128,\n",
            "        -121,\n",
            "        25,\n",
            "        17,\n",
            "        68,\n",
            "        90,\n",
            "        64,\n",
            "        -113,\n",
            "        -28\n",
            "      ],\n",
            "      \"6\": [\n",
            "        -109,\n",
            "        -72,\n",
            "        -114,\n",
            "        0,\n",
            "        97,\n",
            "        -58,\n",
            "        -57,\n",
            "        -95,\n",
            "        40,\n",
            "        -96,\n",
            "        -112,\n",
            "        67,\n",
            "        -97,\n",
            "        -85,\n",
            "        -42,\n",
            "        -12\n",
            "      ],\n",
            "      \"7\": [\n",
            "        -112,\n",
            "        56,\n",
            "        -114,\n",
            "        0,\n",
            "        97,\n",
            "        -58,\n",
            "        -57,\n",
            "        -83,\n",
            "        40,\n",
            "        -96,\n",
            "        -127,\n",
            "        67,\n",
            "        -97,\n",
            "        43,\n",
            "        -42,\n",
            "        -12\n",
            "      ],\n",
            "      \"8\": [\n",
            "        22,\n",
            "        -71,\n",
            "        65,\n",
            "        96,\n",
            "        0,\n",
            "        -60,\n",
            "        108,\n",
            "        37,\n",
            "        16,\n",
            "        106,\n",
            "        -55,\n",
            "        115,\n",
            "        -117,\n",
            "        -56,\n",
            "        -28,\n",
            "        -12\n",
            "      ],\n",
            "      \"9\": [\n",
            "        -106,\n",
            "        -72,\n",
            "        94,\n",
            "        30,\n",
            "        32,\n",
            "        -60,\n",
            "        -60,\n",
            "        -19,\n",
            "        24,\n",
            "        -56,\n",
            "        -47,\n",
            "        -63,\n",
            "        -40,\n",
            "        -53,\n",
            "        -103,\n",
            "        -11\n",
            "      ],\n",
            "      \"10\": [\n",
            "        0,\n",
            "        0,\n",
            "        0,\n",
            "        0,\n",
            "        0,\n",
            "        0,\n",
            "        0,\n",
            "        0,\n",
            "        0,\n",
            "        0,\n",
            "        0,\n",
            "        0,\n",
            "        0,\n",
            "        0,\n",
            "        0,\n",
            "        0\n",
            "      ],\n",
            "      \"11\": [\n",
            "        -126,\n",
            "        121,\n",
            "        3,\n",
            "        -103,\n",
            "        32,\n",
            "        70,\n",
            "        103,\n",
            "        -23,\n",
            "        88,\n",
            "        -55,\n",
            "        -61,\n",
            "        71,\n",
            "        -101,\n",
            "        -106,\n",
            "        -8,\n",
            "        -68\n",
            "      ],\n",
            "      \"12\": [\n",
            "        18,\n",
            "        24,\n",
            "        -106,\n",
            "        30,\n",
            "        36,\n",
            "        -42,\n",
            "        -60,\n",
            "        104,\n",
            "        57,\n",
            "        -120,\n",
            "        -128,\n",
            "        -61,\n",
            "        -67,\n",
            "        -53,\n",
            "        -100,\n",
            "        -11\n",
            "      ],\n",
            "      \"13\": [\n",
            "        0,\n",
            "        0,\n",
            "        0,\n",
            "        0,\n",
            "        0,\n",
            "        0,\n",
            "        0,\n",
            "        0,\n",
            "        0,\n",
            "        0,\n",
            "        0,\n",
            "        0,\n",
            "        0,\n",
            "        0,\n",
            "        0,\n",
            "        0\n",
            "      ],\n",
            "      \"14\": [\n",
            "        22,\n",
            "        49,\n",
            "        -38,\n",
            "        17,\n",
            "        36,\n",
            "        -42,\n",
            "        -25,\n",
            "        65,\n",
            "        25,\n",
            "        -56,\n",
            "        -45,\n",
            "        -59,\n",
            "        -102,\n",
            "        -2,\n",
            "        -65,\n",
            "        125\n",
            "      ],\n",
            "      \"15\": [\n",
            "        -105,\n",
            "        25,\n",
            "        -50,\n",
            "        16,\n",
            "        0,\n",
            "        -42,\n",
            "        -28,\n",
            "        45,\n",
            "        48,\n",
            "        -56,\n",
            "        -112,\n",
            "        -55,\n",
            "        -3,\n",
            "        -87,\n",
            "        -112,\n",
            "        -11\n",
            "      ],\n",
            "      \"16\": [\n",
            "        0,\n",
            "        0,\n",
            "        0,\n",
            "        0,\n",
            "        0,\n",
            "        0,\n",
            "        0,\n",
            "        0,\n",
            "        0,\n",
            "        0,\n",
            "        0,\n",
            "        0,\n",
            "        0,\n",
            "        0,\n",
            "        0,\n",
            "        0\n",
            "      ],\n",
            "      \"17\": [\n",
            "        55,\n",
            "        43,\n",
            "        -62,\n",
            "        33,\n",
            "        -91,\n",
            "        68,\n",
            "        99,\n",
            "        32,\n",
            "        72,\n",
            "        10,\n",
            "        -41,\n",
            "        70,\n",
            "        -117,\n",
            "        -78,\n",
            "        -73,\n",
            "        -11\n",
            "      ],\n",
            "      \"18\": [\n",
            "        3,\n",
            "        53,\n",
            "        -117,\n",
            "        20,\n",
            "        36,\n",
            "        -42,\n",
            "        79,\n",
            "        33,\n",
            "        9,\n",
            "        -120,\n",
            "        -41,\n",
            "        69,\n",
            "        -36,\n",
            "        -69,\n",
            "        -111,\n",
            "        117\n",
            "      ],\n",
            "      \"19\": [\n",
            "        23,\n",
            "        16,\n",
            "        -42,\n",
            "        20,\n",
            "        44,\n",
            "        -42,\n",
            "        -26,\n",
            "        33,\n",
            "        57,\n",
            "        -120,\n",
            "        -112,\n",
            "        -63,\n",
            "        -3,\n",
            "        -24,\n",
            "        -108,\n",
            "        -11\n",
            "      ],\n",
            "      \"20\": [\n",
            "        0,\n",
            "        0,\n",
            "        0,\n",
            "        0,\n",
            "        0,\n",
            "        0,\n",
            "        0,\n",
            "        0,\n",
            "        0,\n",
            "        0,\n",
            "        0,\n",
            "        0,\n",
            "        0,\n",
            "        0,\n",
            "        0,\n",
            "        0\n",
            "      ],\n",
            "      \"21\": [\n",
            "        -110,\n",
            "        53,\n",
            "        -106,\n",
            "        28,\n",
            "        32,\n",
            "        -42,\n",
            "        -58,\n",
            "        77,\n",
            "        61,\n",
            "        -56,\n",
            "        -42,\n",
            "        -15,\n",
            "        -68,\n",
            "        -5,\n",
            "        -110,\n",
            "        -11\n",
            "      ],\n",
            "      \"22\": [\n",
            "        -109,\n",
            "        56,\n",
            "        -114,\n",
            "        0,\n",
            "        96,\n",
            "        -42,\n",
            "        -58,\n",
            "        -83,\n",
            "        40,\n",
            "        -96,\n",
            "        -128,\n",
            "        -61,\n",
            "        -99,\n",
            "        -21,\n",
            "        -44,\n",
            "        -12\n",
            "      ],\n",
            "      \"23\": [\n",
            "        18,\n",
            "        57,\n",
            "        -50,\n",
            "        30,\n",
            "        36,\n",
            "        86,\n",
            "        -60,\n",
            "        69,\n",
            "        9,\n",
            "        -120,\n",
            "        -48,\n",
            "        -63,\n",
            "        -75,\n",
            "        -22,\n",
            "        -98,\n",
            "        -11\n",
            "      ],\n",
            "      \"24\": [\n",
            "        30,\n",
            "        -71,\n",
            "        -106,\n",
            "        26,\n",
            "        32,\n",
            "        -42,\n",
            "        -50,\n",
            "        104,\n",
            "        56,\n",
            "        64,\n",
            "        -48,\n",
            "        -61,\n",
            "        -4,\n",
            "        -8,\n",
            "        -104,\n",
            "        -12\n",
            "      ],\n",
            "      \"25\": [\n",
            "        0,\n",
            "        0,\n",
            "        0,\n",
            "        0,\n",
            "        0,\n",
            "        0,\n",
            "        0,\n",
            "        0,\n",
            "        0,\n",
            "        0,\n",
            "        0,\n",
            "        0,\n",
            "        0,\n",
            "        0,\n",
            "        0,\n",
            "        0\n",
            "      ],\n",
            "      \"26\": [\n",
            "        7,\n",
            "        56,\n",
            "        70,\n",
            "        0,\n",
            "        36,\n",
            "        -58,\n",
            "        -42,\n",
            "        33,\n",
            "        -104,\n",
            "        34,\n",
            "        -127,\n",
            "        67,\n",
            "        -99,\n",
            "        96,\n",
            "        -105,\n",
            "        -12\n",
            "      ]\n",
            "    }\n",
            "  }\n",
            "}\n"
          ]
        }
      ],
      "source": [
        "from vespa.io import VespaQueryResponse\n",
        "import json\n",
        "\n",
        "response:VespaQueryResponse = app.query(\n",
        "    yql=\"select * from doc where {}\".format(nn_operators),\n",
        "    ranking=\"default\",\n",
        "    body={\n",
        "        \"presentation.format.tensors\": \"short-value\",\n",
        "        \"input.query(qt)\": float_query_token_vectors(query_vectors),\n",
        "        **binary_query_vectors\n",
        "    }\n",
        ")\n",
        "assert(response.is_successful())\n",
        "print(json.dumps(response.hits[0], indent=2))"
      ]
    },
    {
      "cell_type": "markdown",
      "id": "2f97a38c",
      "metadata": {},
      "source": [
        "Another example where we brute-force \"true\" search without a retrieval step using nearestNeighbor or other filters. \n"
      ]
    },
    {
      "cell_type": "code",
      "execution_count": null,
      "id": "1a2c7f53",
      "metadata": {},
      "outputs": [],
      "source": [
        "from vespa.io import VespaQueryResponse\n",
        "import json\n",
        "\n",
        "response:VespaQueryResponse = app.query(\n",
        "    yql=\"select * from doc where true\",\n",
        "    ranking=\"default\",\n",
        "    body={\n",
        "        \"presentation.format.tensors\": \"short-value\",\n",
        "        \"input.query(qt)\": float_query_token_vectors(query_vectors)\n",
        "    }\n",
        ")\n",
        "assert(response.is_successful())\n",
        "print(json.dumps(response.hits[0], indent=2))"
      ]
    },
    {
      "cell_type": "code",
      "execution_count": null,
      "id": "71e310e3",
      "metadata": {
        "colab": {
          "base_uri": "https://localhost:8080/"
        },
        "id": "71e310e3",
        "outputId": "991b1965-6c33-4985-e873-a92c43695528"
      },
      "outputs": [],
      "source": [
        "vespa_cloud.delete()"
      ]
    }
  ],
  "metadata": {
    "colab": {
      "provenance": []
    },
    "kernelspec": {
      "display_name": "Python 3.11.4 64-bit",
      "language": "python",
      "name": "python3"
    },
    "language_info": {
      "codemirror_mode": {
        "name": "ipython",
        "version": 3
      },
      "file_extension": ".py",
      "mimetype": "text/x-python",
      "name": "python",
      "nbconvert_exporter": "python",
      "pygments_lexer": "ipython3",
      "version": "3.11.4"
    },
    "vscode": {
      "interpreter": {
        "hash": "b0fa6594d8f4cbf19f97940f81e996739fb7646882a419484c72d19e05852a7e"
      }
    }
  },
  "nbformat": 4,
  "nbformat_minor": 5
}
