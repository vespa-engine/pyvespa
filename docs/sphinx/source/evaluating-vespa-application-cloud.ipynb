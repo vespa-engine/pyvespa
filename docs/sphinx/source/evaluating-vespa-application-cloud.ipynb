{
 "cells": [
  {
   "cell_type": "markdown",
   "id": "given-adoption",
   "metadata": {
    "pycharm": {
     "name": "#%% md\n"
    }
   },
   "source": [
    "<picture>\n",
    "  <source media=\"(prefers-color-scheme: dark)\" srcset=\"https://assets.vespa.ai/logos/Vespa-logo-green-RGB.svg\">\n",
    "  <source media=\"(prefers-color-scheme: light)\" srcset=\"https://assets.vespa.ai/logos/Vespa-logo-dark-RGB.svg\">\n",
    "  <img alt=\"#Vespa\" width=\"200\" src=\"https://assets.vespa.ai/logos/Vespa-logo-dark-RGB.svg\" style=\"margin-bottom: 25px;\">\n",
    "</picture>\n",
    "\n",
    "# Evaluating a Vespa Application\n",
    "\n",
    "We are often asked by users and customers what is the best retrieval and ranking strategy for a given use case. And even though we might sometimes have an intuition, we always recommend to set up experiments and do a proper quantitative evaluation.\n",
    "\n",
    "> Models are temporary; Evals are forever.\n",
    "> \n",
    "> -Eugene Yan\n",
    "\n",
    "\n",
    "Without a proper evaluation setup, you run the risk of settling for `lgtm@10` (looks good to me @ 10).\n",
    "\n",
    "Then, if you deploy your application to users, you can be sure that you will get feedback of queries that does not produce relevant results. If you then try to optimize for that without knowing whether your tweaks are actually improving the overall quality of your search, you might end up with a system that is worse than the one you started with. \n",
    "\n",
    "\n",
    "![search eval](_static/search-eval.jpg)\n",
    "\n",
    "\n",
    "## So, what can you do? \n",
    "\n",
    "You can set up a proper evaluation pipeline, where you can test different ranking strategies, and see how they perform on a set of evaluation queries that act as a proxy for your real users' queries. This way, you can make informed decisions about what works best for your use case. If you collect real user interactions, it could be even better, but it is important to also keep the evaluation pipeline light enough so that you can run it both during development and in CI pipelines (possibly at different scales).\n",
    "\n",
    "This guide will show how you easily can evaluate a Vespa application using pyvespa's `VespaMatchEvaluator` and `VespaEvaluator` class.\n",
    "\n",
    "### Evaluate match-phase (retrieval) for recall\n",
    "\n",
    "The match-phase (or retrieval phase) in Vespa is perform to retrieve candidate documents to rank. Here, what we care about is that all possibly relevant documents are retrieved fast, without matching too many documents. If we match too many documents, latency will suffer, as all retrieved docs will be exposed to ranking. For an introduction to phased retrieval in Vespa, see the [docs](https://docs.vespa.ai/en/phased-ranking.html)\n",
    "\n",
    "For this tutorial, we will evaluate and compare `weakAnd`, `nearestNeighbor`, as well as the combination of the two (using `OR`-operator).\n",
    "\n",
    "### Evaluate ranking\n",
    "\n",
    "We will define and compare 4 different ranking strategies in this guide:\n",
    "\n",
    "1. `bm25` - Keyword-based retrieval and ranking - The solid baseline.\n",
    "2. `semantic` - Vector search using cosine similarity (using https://huggingface.co/intfloat/e5-small-v2 for embeddings)\n",
    "3. `fusion`- Hybrid search (semantic+keyword). Combining BM25 and Semantic with [reciprocal rank fusion](https://docs.vespa.ai/en/phased-ranking.html#cross-hit-normalization-including-reciprocal-rank-fusion)\n",
    "4. `atan_norm` - Hybrid search, combining BM25 and Semantic with [atan normalization](https://docs.vespa.ai/en/tutorials/hybrid-search.html#hybrid-ranking) as described in Aapo Tanskanen's [Guidebook to the State-of-the-Art Embeddings and Information Retrieval](https://www.linkedin.com/pulse/guidebook-state-of-the-art-embeddings-information-aapo-tanskanen-pc3mf/) (Originally proposed by [Seo et al. (2022)](https://www.mdpi.com/2227-7390/10/8/1335)) "
   ]
  },
  {
   "cell_type": "markdown",
   "id": "4f8c1448",
   "metadata": {},
   "source": [
    "<div class=\"alert alert-info\">\n",
    "    Refer to <a href=\"https://vespa-engine.github.io/pyvespa/troubleshooting.html\">troubleshooting</a>\n",
    "    for any problem when running this guide.\n",
    "</div>\n"
   ]
  },
  {
   "cell_type": "markdown",
   "id": "148d275b",
   "metadata": {},
   "source": [
    "**Pre-requisite**: Create a tenant at [cloud.vespa.ai](https://cloud.vespa.ai/), save the tenant name.\n",
    "\n",
    "[![Open In Colab](https://colab.research.google.com/assets/colab-badge.svg)](https://colab.research.google.com/github/vespa-engine/pyvespa/blob/master/docs/sphinx/source/evaluating-vespa-application-cloud.ipynb)\n"
   ]
  },
  {
   "cell_type": "markdown",
   "id": "366b0d83",
   "metadata": {},
   "source": [
    "## Install\n",
    "\n",
    "Install [pyvespa](https://pyvespa.readthedocs.io/) >= 0.53.0\n",
    "and the [Vespa CLI](https://docs.vespa.ai/en/vespa-cli.html).\n",
    "The Vespa CLI is used for data and control plane key management ([Vespa Cloud Security Guide](https://cloud.vespa.ai/en/security/guide)).\n"
   ]
  },
  {
   "cell_type": "code",
   "execution_count": null,
   "id": "136750de",
   "metadata": {},
   "outputs": [],
   "source": [
    "!pip3 install pyvespa vespacli datasets pandas"
   ]
  },
  {
   "cell_type": "markdown",
   "id": "02f706ff",
   "metadata": {},
   "source": [
    "## Configure application\n"
   ]
  },
  {
   "cell_type": "code",
   "execution_count": 1,
   "id": "9ca4da83",
   "metadata": {},
   "outputs": [],
   "source": [
    "# Replace with your tenant name from the Vespa Cloud Console\n",
    "tenant_name = \"vespa-team\"\n",
    "# Replace with your application name (does not need to exist yet)\n",
    "application = \"evaluation\"\n",
    "schema_name = \"doc\""
   ]
  },
  {
   "cell_type": "markdown",
   "id": "db637322",
   "metadata": {},
   "source": [
    "## Create an application package\n",
    "\n",
    "The [application package](https://vespa-engine.github.io/pyvespa/api/vespa/package.html)\n",
    "has all the Vespa configuration files -\n",
    "create one from scratch:\n"
   ]
  },
  {
   "cell_type": "code",
   "execution_count": 2,
   "id": "bd5c2629",
   "metadata": {},
   "outputs": [],
   "source": [
    "from vespa.package import (\n",
    "    ApplicationPackage,\n",
    "    Field,\n",
    "    Schema,\n",
    "    Document,\n",
    "    HNSW,\n",
    "    RankProfile,\n",
    "    Component,\n",
    "    Parameter,\n",
    "    FieldSet,\n",
    "    GlobalPhaseRanking,\n",
    "    Function,\n",
    ")\n",
    "import pandas as pd\n",
    "\n",
    "\n",
    "package = ApplicationPackage(\n",
    "    name=application,\n",
    "    schema=[\n",
    "        Schema(\n",
    "            name=schema_name,\n",
    "            document=Document(\n",
    "                fields=[\n",
    "                    # Note that we need an id field as attribute to be able to do evaluation\n",
    "                    # Vespa internal query document id is used as fallback, but have some limitations, see https://docs.vespa.ai/en/document-v1-api-guide.html#query-result-id\n",
    "                    Field(name=\"id\", type=\"string\", indexing=[\"summary\", \"attribute\"]),\n",
    "                    Field(\n",
    "                        name=\"text\",\n",
    "                        type=\"string\",\n",
    "                        indexing=[\"index\", \"summary\"],\n",
    "                        index=\"enable-bm25\",\n",
    "                        bolding=True,\n",
    "                    ),\n",
    "                    Field(\n",
    "                        name=\"embedding\",\n",
    "                        type=\"tensor<float>(x[384])\",\n",
    "                        indexing=[\n",
    "                            \"input text\",\n",
    "                            \"embed\",  # uses default model\n",
    "                            \"index\",\n",
    "                            \"attribute\",\n",
    "                        ],\n",
    "                        ann=HNSW(distance_metric=\"angular\"),\n",
    "                        is_document_field=False,\n",
    "                    ),\n",
    "                ]\n",
    "            ),\n",
    "            fieldsets=[FieldSet(name=\"default\", fields=[\"text\"])],\n",
    "            rank_profiles=[\n",
    "                RankProfile(\n",
    "                    name=\"match-only\",\n",
    "                    inputs=[(\"query(q)\", \"tensor<float>(x[384])\")],\n",
    "                    first_phase=\"random\",  # TODO: Remove when pyvespa supports empty first_phase\n",
    "                ),\n",
    "                RankProfile(\n",
    "                    name=\"bm25\",\n",
    "                    inputs=[(\"query(q)\", \"tensor<float>(x[384])\")],\n",
    "                    functions=[Function(name=\"bm25text\", expression=\"bm25(text)\")],\n",
    "                    first_phase=\"bm25text\",\n",
    "                    match_features=[\"bm25text\"],\n",
    "                ),\n",
    "                RankProfile(\n",
    "                    name=\"semantic\",\n",
    "                    inputs=[(\"query(q)\", \"tensor<float>(x[384])\")],\n",
    "                    functions=[\n",
    "                        Function(\n",
    "                            name=\"cos_sim\", expression=\"closeness(field, embedding)\"\n",
    "                        )\n",
    "                    ],\n",
    "                    first_phase=\"cos_sim\",\n",
    "                    match_features=[\"cos_sim\"],\n",
    "                ),\n",
    "                RankProfile(\n",
    "                    name=\"fusion\",\n",
    "                    inherits=\"bm25\",\n",
    "                    functions=[\n",
    "                        Function(\n",
    "                            name=\"cos_sim\", expression=\"closeness(field, embedding)\"\n",
    "                        )\n",
    "                    ],\n",
    "                    inputs=[(\"query(q)\", \"tensor<float>(x[384])\")],\n",
    "                    first_phase=\"cos_sim\",\n",
    "                    global_phase=GlobalPhaseRanking(\n",
    "                        expression=\"reciprocal_rank_fusion(bm25text, closeness(field, embedding))\",\n",
    "                        rerank_count=1000,\n",
    "                    ),\n",
    "                    match_features=[\"cos_sim\", \"bm25text\"],\n",
    "                ),\n",
    "                RankProfile(\n",
    "                    name=\"atan_norm\",\n",
    "                    inherits=\"bm25\",\n",
    "                    inputs=[(\"query(q)\", \"tensor<float>(x[384])\")],\n",
    "                    functions=[\n",
    "                        Function(\n",
    "                            name=\"scale\",\n",
    "                            args=[\"val\"],\n",
    "                            expression=\"2*atan(val)/(3.14159)\",\n",
    "                        ),\n",
    "                        Function(\n",
    "                            name=\"normalized_bm25\", expression=\"scale(bm25(text))\"\n",
    "                        ),\n",
    "                        Function(\n",
    "                            name=\"cos_sim\", expression=\"closeness(field, embedding)\"\n",
    "                        ),\n",
    "                    ],\n",
    "                    first_phase=\"normalized_bm25\",\n",
    "                    global_phase=GlobalPhaseRanking(\n",
    "                        expression=\"normalize_linear(normalized_bm25) + normalize_linear(cos_sim)\",\n",
    "                        rerank_count=1000,\n",
    "                    ),\n",
    "                    match_features=[\"cos_sim\", \"normalized_bm25\"],\n",
    "                ),\n",
    "            ],\n",
    "        )\n",
    "    ],\n",
    "    components=[\n",
    "        Component(\n",
    "            id=\"e5\",\n",
    "            type=\"hugging-face-embedder\",\n",
    "            parameters=[\n",
    "                Parameter(\n",
    "                    \"transformer-model\",\n",
    "                    {\n",
    "                        \"model-id\": \"e5-small-v2\"\n",
    "                    },  # in vespa cloud, we can use the model-id for selected models, see https://cloud.vespa.ai/en/model-hub\n",
    "                ),\n",
    "                Parameter(\n",
    "                    \"tokenizer-model\",\n",
    "                    {\"model-id\": \"e5-base-v2-vocab\"},\n",
    "                ),\n",
    "            ],\n",
    "        )\n",
    "    ],\n",
    ")"
   ]
  },
  {
   "cell_type": "markdown",
   "id": "2c5e2943",
   "metadata": {},
   "source": [
    "Note that the name cannot have `-` or `_`.\n"
   ]
  },
  {
   "cell_type": "markdown",
   "id": "careful-savage",
   "metadata": {},
   "source": [
    "## Deploy to Vespa Cloud\n",
    "\n",
    "The app is now defined and ready to deploy to Vespa Cloud.\n",
    "\n",
    "Deploy `package` to Vespa Cloud, by creating an instance of\n",
    "[VespaCloud](https://vespa-engine.github.io/pyvespa/api/vespa/deployment#VespaCloud):\n"
   ]
  },
  {
   "cell_type": "code",
   "execution_count": 3,
   "id": "canadian-blood",
   "metadata": {},
   "outputs": [
    {
     "name": "stdout",
     "output_type": "stream",
     "text": [
      "Setting application...\n",
      "Running: vespa config set application vespa-team.evaluation.default\n",
      "Setting target cloud...\n",
      "Running: vespa config set target cloud\n",
      "\n",
      "Api-key found for control plane access. Using api-key.\n"
     ]
    }
   ],
   "source": [
    "from vespa.deployment import VespaCloud\n",
    "import os\n",
    "\n",
    "# Key is only used for CI/CD. Can be removed if logging in interactively\n",
    "\n",
    "vespa_cloud = VespaCloud(\n",
    "    tenant=tenant_name,\n",
    "    application=application,\n",
    "    key_content=os.getenv(\n",
    "        \"VESPA_TEAM_API_KEY\", None\n",
    "    ),  # Key is only used for CI/CD. Can be removed if logging in interactively\n",
    "    application_package=package,\n",
    ")"
   ]
  },
  {
   "cell_type": "markdown",
   "id": "197c0a27",
   "metadata": {},
   "source": [
    "For more details on different authentication options and methods, see [authenticating-to-vespa-cloud](https://vespa-engine.github.io/pyvespa/authenticating-to-vespa-cloud.html).\n",
    "\n",
    "The following will upload the application package to Vespa Cloud Dev Zone (`aws-us-east-1c`), read more about [Vespa Zones](https://cloud.vespa.ai/en/reference/zones.html).\n",
    "The Vespa Cloud Dev Zone is considered as a sandbox environment where resources are down-scaled and idle deployments are expired automatically.\n",
    "For information about production deployments, see the following [method](https://vespa-engine.github.io/pyvespa/api/vespa/deployment#vespa.deployment.VespaCloud.deploy_to_prod).\n",
    "\n",
    "> Note: Deployments to dev and perf expire after 7 days of inactivity, i.e., 7 days after running deploy. This applies to all plans, not only the Free Trial. Use the Vespa Console to extend the expiry period, or redeploy the application to add 7 more days.\n"
   ]
  },
  {
   "cell_type": "markdown",
   "id": "fb2ba0e1",
   "metadata": {},
   "source": [
    "Now deploy the app to Vespa Cloud dev zone.\n",
    "\n",
    "The first deployment typically takes 2 minutes until the endpoint is up. (Applications that for example refer to large onnx-models may take a bit longer.)\n"
   ]
  },
  {
   "cell_type": "code",
   "execution_count": 4,
   "id": "337d9b05",
   "metadata": {},
   "outputs": [
    {
     "name": "stdout",
     "output_type": "stream",
     "text": [
      "Deployment started in run 52 of dev-aws-us-east-1c for vespa-team.evaluation. This may take a few minutes the first time.\n",
      "INFO    [06:52:41]  Deploying platform version 8.586.25 and application dev build 50 for dev-aws-us-east-1c of default ...\n",
      "INFO    [06:52:41]  Using CA signed certificate version 9\n",
      "INFO    [06:52:42]  Using 1 nodes in container cluster 'evaluation_container'\n",
      "INFO    [06:52:44]  Session 379645 for tenant 'vespa-team' prepared and activated.\n",
      "INFO    [06:52:44]  ######## Details for all nodes ########\n",
      "INFO    [06:52:45]  h125699b.dev.us-east-1c.aws.vespa-cloud.net: expected to be UP\n",
      "INFO    [06:52:45]  --- platform vespa/cloud-tenant-rhel8:8.586.25\n",
      "INFO    [06:52:45]  --- storagenode on port 19102 has config generation 379643, wanted is 379645\n",
      "INFO    [06:52:45]  --- searchnode on port 19107 has config generation 379643, wanted is 379645\n",
      "INFO    [06:52:45]  --- distributor on port 19111 has config generation 379645, wanted is 379645\n",
      "INFO    [06:52:45]  --- metricsproxy-container on port 19092 has config generation 379645, wanted is 379645\n",
      "INFO    [06:52:45]  h119183e.dev.us-east-1c.aws.vespa-cloud.net: expected to be UP\n",
      "INFO    [06:52:45]  --- platform vespa/cloud-tenant-rhel8:8.586.25\n",
      "INFO    [06:52:45]  --- container-clustercontroller on port 19050 has config generation 379643, wanted is 379645\n",
      "INFO    [06:52:45]  --- metricsproxy-container on port 19092 has config generation 379645, wanted is 379645\n",
      "INFO    [06:52:45]  h125689a.dev.us-east-1c.aws.vespa-cloud.net: expected to be UP\n",
      "INFO    [06:52:45]  --- platform vespa/cloud-tenant-rhel8:8.586.25\n",
      "INFO    [06:52:45]  --- container on port 4080 has config generation 379643, wanted is 379645\n",
      "INFO    [06:52:45]  --- metricsproxy-container on port 19092 has config generation 379643, wanted is 379645\n",
      "INFO    [06:52:45]  h97530b.dev.us-east-1c.aws.vespa-cloud.net: expected to be UP\n",
      "INFO    [06:52:45]  --- platform vespa/cloud-tenant-rhel8:8.586.25\n",
      "INFO    [06:52:45]  --- logserver-container on port 4080 has config generation 379643, wanted is 379645\n",
      "INFO    [06:52:45]  --- metricsproxy-container on port 19092 has config generation 379643, wanted is 379645\n",
      "INFO    [06:52:56]  Found endpoints:\n",
      "INFO    [06:52:56]  - dev.aws-us-east-1c\n",
      "INFO    [06:52:56]   |-- https://f4f49447.ccc9bd09.z.vespa-app.cloud/ (cluster 'evaluation_container')\n",
      "INFO    [06:52:56]  Deployment of new application revision complete!\n",
      "Only region: aws-us-east-1c available in dev environment.\n",
      "Found mtls endpoint for evaluation_container\n",
      "URL: https://f4f49447.ccc9bd09.z.vespa-app.cloud/\n",
      "Application is up!\n"
     ]
    }
   ],
   "source": [
    "from vespa.application import Vespa\n",
    "\n",
    "app: Vespa = vespa_cloud.deploy()"
   ]
  },
  {
   "cell_type": "markdown",
   "id": "aaae2f91",
   "metadata": {},
   "source": [
    "If the deployment failed, it is possible you forgot to add the key in the Vespa Cloud Console in the `vespa auth api-key` step above.\n",
    "\n",
    "If you can authenticate, you should see lines like the following\n",
    "\n",
    "```\n",
    " Deployment started in run 1 of dev-aws-us-east-1c for mytenant.hybridsearch.\n",
    "```\n",
    "\n",
    "The deployment takes a few minutes the first time while Vespa Cloud sets up the resources for your Vespa application\n",
    "\n",
    "`app` now holds a reference to a [Vespa](https://vespa-engine.github.io/pyvespa/api/vespa/application.html#vespa.application.Vespa) instance. We can access the\n",
    "mTLS protected endpoint name using the control-plane (vespa_cloud) instance. This endpoint we can query and feed to (data plane access) using the\n",
    "mTLS certificate generated in previous steps.\n",
    "\n",
    "See [Authenticating to Vespa Cloud](https://vespa-engine.github.io/pyvespa/authenticating-to-vespa-cloud.html) for details on using token authentication instead of mTLS.\n"
   ]
  },
  {
   "cell_type": "markdown",
   "id": "sealed-mustang",
   "metadata": {},
   "source": [
    "## Getting your evaluation data\n",
    "\n",
    "For evaluating information retrieval methods, in addition to the document corpus, we also need a set of queries and a mapping from queries to relevant documents.\n",
    "\n",
    "For this guide, we will use the [NanoMSMARCO](https://huggingface.co/datasets/zeta-alpha-ai/NanoMSMARCO) dataset, made available on huggingface by [Zeta Alpha](https://zeta-alpha.com/).\n",
    "\n",
    "This dataset is a subset of their 🍺[NanoBEIR](https://huggingface.co/collections/zeta-alpha-ai/nanobeir-66e1a0af21dfd93e620cd9f6)-collection, with 50 queries and up to 10K documents each. \n",
    "\n",
    "This is a great dataset for testing and evaluating information retrieval methods quickly, as it is small and easy to work with. \n",
    "\n",
    "Note that for almost any real-world use case, we would recommend you to create your own evaluation dataset. See [Vespa blog post](https://blog.vespa.ai/improving-retrieval-with-llm-as-a-judge/) on how you can get help from an LLM for this. \n",
    "\n",
    "Note that creating 20-50 queries and annotating relevant documents for each query can be a good start and well worth the effort.\n"
   ]
  },
  {
   "cell_type": "code",
   "execution_count": 5,
   "id": "executed-reservoir",
   "metadata": {},
   "outputs": [],
   "source": [
    "from datasets import load_dataset\n",
    "\n",
    "dataset_id = \"zeta-alpha-ai/NanoMSMARCO\"\n",
    "\n",
    "dataset = load_dataset(dataset_id, \"corpus\", split=\"train\", streaming=True)\n",
    "vespa_feed = dataset.map(\n",
    "    lambda x: {\n",
    "        \"id\": x[\"_id\"],\n",
    "        \"fields\": {\"text\": x[\"text\"], \"id\": x[\"_id\"]},\n",
    "    }\n",
    ")"
   ]
  },
  {
   "cell_type": "markdown",
   "id": "8ff3ea5b",
   "metadata": {},
   "source": [
    "Note that we are only _evaluating_ rank strategies here, we consider it OK to use the `train` split for evaluation. If we were to make changes to our ranking strategies, such as adding weighting terms, or training ml models for ranking, we would suggest to adopt a `train`, `validation`, `test` split approach to avoid overfitting."
   ]
  },
  {
   "cell_type": "code",
   "execution_count": 6,
   "id": "8d6353a8",
   "metadata": {},
   "outputs": [],
   "source": [
    "query_ds = load_dataset(dataset_id, \"queries\", split=\"train\")\n",
    "qrels = load_dataset(dataset_id, \"qrels\", split=\"train\")"
   ]
  },
  {
   "cell_type": "code",
   "execution_count": 7,
   "id": "eec1debe",
   "metadata": {},
   "outputs": [],
   "source": [
    "ids_to_query = dict(zip(query_ds[\"_id\"], query_ds[\"text\"]))"
   ]
  },
  {
   "cell_type": "markdown",
   "id": "45af2e3f",
   "metadata": {},
   "source": [
    "Let us print the first 5 queries:"
   ]
  },
  {
   "cell_type": "code",
   "execution_count": 8,
   "id": "da912bcb",
   "metadata": {},
   "outputs": [
    {
     "name": "stdout",
     "output_type": "stream",
     "text": [
      "qid: 994479, query: which health care system provides all citizens or residents with equal access to health care services\n",
      "qid: 1009388, query: what's right in health care\n",
      "qid: 1088332, query: weather in oran\n",
      "qid: 265729, query: how long keep financial records\n",
      "qid: 1099433, query: how do hoa fees work\n",
      "qid: 200600, query: heels or heal\n"
     ]
    }
   ],
   "source": [
    "for idx, (qid, q) in enumerate(ids_to_query.items()):\n",
    "    print(f\"qid: {qid}, query: {q}\")\n",
    "    if idx == 5:\n",
    "        break"
   ]
  },
  {
   "cell_type": "code",
   "execution_count": 9,
   "id": "aec77319",
   "metadata": {},
   "outputs": [],
   "source": [
    "relevant_docs = dict(zip(qrels[\"query-id\"], qrels[\"corpus-id\"]))"
   ]
  },
  {
   "cell_type": "markdown",
   "id": "b96ecf9a",
   "metadata": {},
   "source": [
    "Let us print the first 5 query ids and their relevant documents:"
   ]
  },
  {
   "cell_type": "code",
   "execution_count": 10,
   "id": "b3d10538",
   "metadata": {},
   "outputs": [
    {
     "name": "stdout",
     "output_type": "stream",
     "text": [
      "qid: 994479, doc_id: 7275120\n",
      "qid: 1009388, doc_id: 7248824\n",
      "qid: 1088332, doc_id: 7094398\n",
      "qid: 265729, doc_id: 7369987\n",
      "qid: 1099433, doc_id: 7255675\n",
      "qid: 200600, doc_id: 7929603\n"
     ]
    }
   ],
   "source": [
    "for idx, (qid, doc_id) in enumerate(relevant_docs.items()):\n",
    "    print(f\"qid: {qid}, doc_id: {doc_id}\")\n",
    "    if idx == 5:\n",
    "        break"
   ]
  },
  {
   "cell_type": "markdown",
   "id": "2fc82e1c",
   "metadata": {},
   "source": [
    "We can see that this dataset only has one relevant document per query.\n",
    "The `VespaEvaluator` class handles this just fine, but you could also provide a set of relevant documents per query if there are multiple relevant docs.\n",
    "\n",
    "```python\n",
    "# multiple relevant docs per query\n",
    "qrels = {\n",
    "    \"q1\": {\"doc1\", \"doc2\"},\n",
    "    \"q2\": {\"doc3\", \"doc4\"},\n",
    "    # etc. \n",
    "}\n",
    "```"
   ]
  },
  {
   "cell_type": "markdown",
   "id": "4f0ca33f",
   "metadata": {},
   "source": [
    "Now we can feed to Vespa using `feed_iterable` which accepts any `Iterable` and an optional callback function where we can\n",
    "check the outcome of each operation. The application is configured to use [embedding](https://docs.vespa.ai/en/embedding.html)\n",
    "functionality, that produce a vector embedding using a concatenation of the title and the body input fields. This step may be resource intensive, depending on the model size.\n",
    "\n",
    "Read more about embedding inference in Vespa in the [Accelerating Transformer-based Embedding Retrieval with Vespa](https://blog.vespa.ai/accelerating-transformer-based-embedding-retrieval-with-vespa/)\n",
    "blog post.\n",
    "\n",
    "Default node resources in Vespa Cloud have 2 v-cpu for the Dev Zone.\n"
   ]
  },
  {
   "cell_type": "code",
   "execution_count": 11,
   "id": "bottom-memorabilia",
   "metadata": {},
   "outputs": [],
   "source": [
    "from vespa.io import VespaResponse\n",
    "\n",
    "\n",
    "def callback(response: VespaResponse, id: str):\n",
    "    if not response.is_successful():\n",
    "        print(f\"Error when feeding document {id}: {response.get_json()}\")\n",
    "\n",
    "\n",
    "app.feed_iterable(vespa_feed, schema=\"doc\", namespace=\"tutorial\", callback=callback)"
   ]
  },
  {
   "cell_type": "markdown",
   "id": "2ee567fa",
   "metadata": {},
   "source": [
    "## Evaluate match-phase"
   ]
  },
  {
   "cell_type": "markdown",
   "id": "46ccb134",
   "metadata": {},
   "source": [
    "There are two separate classes provided for doing evaluations:\n",
    "1. `VespaMatchEvaluator`, which is intended to evaluate only the _retrieval_ (or match-phase), and should not do any ranking. This is useful to evaluate whether your relevant documents are retrieved (and thus exposed to ranking). It only computes recall, total matched documents per query as well as `searchtime`.\n",
    "2. `VespaEvaluator` is intended to evaluate a complete ranking strategy, across several common IR metrics. \n",
    "\n",
    "Both API's are inspired by [SentenceTransformers](https://www.sbert.net/) [`InformationRetrievalEvaluator`](https://sbert.net/docs/package_reference/sentence_transformer/evaluation.html#informationretrievalevaluator) class.\n",
    "\n",
    "The difference it that `VespaMatchEvaluator` evaluates only the retrieval phase, while `VespaEvaluator` evaluates your whole retrieval and ranking _system_ (Vespa application) as opposed to a single model. Your application should be fed with the document corpus in advance, instead of taking in the document corpus. "
   ]
  },
  {
   "cell_type": "markdown",
   "id": "7c983265",
   "metadata": {},
   "source": [
    "We now have created the app, the queries, and the relevant documents. The only thing missing before we can initialize the `VespaMatchEvaluator` is a set of functions that defines the Vespa queries. Each of them is passed as `vespa_query_fn`. \n",
    "\n",
    "We will use the `vespa.querybuilder` module to create the queries. See [reference doc](https://vespa-engine.github.io/pyvespa/api/vespa/querybuilder/builder/builder.html) and [example notebook](https://vespa-engine.github.io/pyvespa/query.html#Using-the-Querybuilder-DSL-API) for more details on usage. \n",
    "\n",
    "This module is a Python wrapper around the Vespa Query Language (YQL), which is an alternative to providing the YQL query as a string directly."
   ]
  },
  {
   "cell_type": "code",
   "execution_count": 12,
   "id": "a1877b9f",
   "metadata": {},
   "outputs": [],
   "source": [
    "import vespa.querybuilder as qb\n",
    "\n",
    "\n",
    "def match_weakand_query_fn(query_text: str, top_k: int) -> dict:\n",
    "    return {\n",
    "        \"yql\": str(qb.select(\"*\").from_(schema_name).where(qb.userQuery(query_text))),\n",
    "        \"query\": query_text,\n",
    "        \"ranking\": \"match-only\",\n",
    "        \"input.query(q)\": f\"embed({query_text})\",\n",
    "    }\n",
    "\n",
    "\n",
    "def match_hybrid_query_fn(query_text: str, top_k: int) -> dict:\n",
    "    return {\n",
    "        \"yql\": str(\n",
    "            qb.select(\"*\")\n",
    "            .from_(schema_name)\n",
    "            .where(\n",
    "                qb.nearestNeighbor(\n",
    "                    field=\"embedding\",\n",
    "                    query_vector=\"q\",\n",
    "                    annotations={\"targetHits\": 100},\n",
    "                )\n",
    "                | qb.userQuery(\n",
    "                    query_text,\n",
    "                )\n",
    "            )\n",
    "        ),\n",
    "        \"query\": query_text,\n",
    "        \"ranking\": \"match-only\",\n",
    "        \"input.query(q)\": f\"embed({query_text})\",\n",
    "    }\n",
    "\n",
    "\n",
    "def match_semantic_query_fn(query_text: str, top_k: int) -> dict:\n",
    "    return {\n",
    "        \"yql\": str(\n",
    "            qb.select(\"*\")\n",
    "            .from_(schema_name)\n",
    "            .where(\n",
    "                qb.nearestNeighbor(\n",
    "                    field=\"embedding\",\n",
    "                    query_vector=\"q\",\n",
    "                    annotations={\"targetHits\": 100},\n",
    "                )\n",
    "            )\n",
    "        ),\n",
    "        \"query\": query_text,\n",
    "        \"ranking\": \"match-only\",\n",
    "        \"input.query(q)\": f\"embed({query_text})\",\n",
    "    }"
   ]
  },
  {
   "cell_type": "markdown",
   "id": "b8a3d053",
   "metadata": {},
   "source": [
    "Now, let us run the evaluator:"
   ]
  },
  {
   "cell_type": "code",
   "execution_count": 13,
   "id": "413d8a7c",
   "metadata": {},
   "outputs": [
    {
     "name": "stdout",
     "output_type": "stream",
     "text": [
      "Evaluating semantic...\n",
      "Results for semantic:\n",
      "{'match_recall': 1.0, 'avg_recall_per_query': 1.0, 'total_relevant_docs': 50, 'total_matched_relevant': 50, 'avg_matched_per_query': 100.0, 'total_queries': 50, 'searchtime_avg': 0.0535, 'searchtime_q50': 0.053, 'searchtime_q90': 0.0786, 'searchtime_q95': 0.08700000000000001}\n",
      "Evaluating weakand...\n",
      "Results for weakand:\n",
      "{'match_recall': 0.98, 'avg_recall_per_query': 0.98, 'total_relevant_docs': 50, 'total_matched_relevant': 49, 'avg_matched_per_query': 809.86, 'total_queries': 50, 'searchtime_avg': 0.04391999999999998, 'searchtime_q50': 0.043000000000000003, 'searchtime_q90': 0.058300000000000005, 'searchtime_q95': 0.06665}\n",
      "Evaluating hybrid...\n",
      "Results for hybrid:\n",
      "{'match_recall': 1.0, 'avg_recall_per_query': 1.0, 'total_relevant_docs': 50, 'total_matched_relevant': 50, 'avg_matched_per_query': 833.18, 'total_queries': 50, 'searchtime_avg': 0.03699999999999999, 'searchtime_q50': 0.037, 'searchtime_q90': 0.0531, 'searchtime_q95': 0.058299999999999984}\n"
     ]
    }
   ],
   "source": [
    "from vespa.evaluation import VespaMatchEvaluator\n",
    "\n",
    "\n",
    "match_results = {}\n",
    "for evaluator_name, query_fn in [\n",
    "    (\"semantic\", match_semantic_query_fn),\n",
    "    (\"weakand\", match_weakand_query_fn),\n",
    "    (\"hybrid\", match_hybrid_query_fn),\n",
    "]:\n",
    "    print(f\"Evaluating {evaluator_name}...\")\n",
    "\n",
    "    match_evaluator = VespaMatchEvaluator(\n",
    "        queries=ids_to_query,\n",
    "        relevant_docs=relevant_docs,\n",
    "        vespa_query_fn=query_fn,\n",
    "        app=app,\n",
    "        name=\"test-run\",\n",
    "        id_field=\"id\",  # specify the id field used in the relevant_docs\n",
    "        write_csv=True,\n",
    "        write_verbose=True,  # optionally write verbose metrics to CSV\n",
    "    )\n",
    "\n",
    "    results = match_evaluator()\n",
    "    match_results[evaluator_name] = results\n",
    "    print(f\"Results for {evaluator_name}:\")\n",
    "    print(results)"
   ]
  },
  {
   "cell_type": "markdown",
   "id": "762eb44e",
   "metadata": {},
   "source": [
    "By setting `write_csv=True` and `verbose=True`, we can save a CSV-file for each query to inspect further the queries that were not matched.\n",
    "This is important to understand how you could improve recall if some relevant documents were not matched.  "
   ]
  },
  {
   "cell_type": "code",
   "execution_count": 14,
   "id": "4820d65c",
   "metadata": {},
   "outputs": [
    {
     "data": {
      "text/html": [
       "<div>\n",
       "<style scoped>\n",
       "    .dataframe tbody tr th:only-of-type {\n",
       "        vertical-align: middle;\n",
       "    }\n",
       "\n",
       "    .dataframe tbody tr th {\n",
       "        vertical-align: top;\n",
       "    }\n",
       "\n",
       "    .dataframe thead th {\n",
       "        text-align: right;\n",
       "    }\n",
       "</style>\n",
       "<table border=\"1\" class=\"dataframe\">\n",
       "  <thead>\n",
       "    <tr style=\"text-align: right;\">\n",
       "      <th></th>\n",
       "      <th>semantic</th>\n",
       "      <th>weakand</th>\n",
       "      <th>hybrid</th>\n",
       "    </tr>\n",
       "  </thead>\n",
       "  <tbody>\n",
       "    <tr>\n",
       "      <th>match_recall</th>\n",
       "      <td>1.0000</td>\n",
       "      <td>0.98000</td>\n",
       "      <td>1.0000</td>\n",
       "    </tr>\n",
       "    <tr>\n",
       "      <th>avg_recall_per_query</th>\n",
       "      <td>1.0000</td>\n",
       "      <td>0.98000</td>\n",
       "      <td>1.0000</td>\n",
       "    </tr>\n",
       "    <tr>\n",
       "      <th>total_relevant_docs</th>\n",
       "      <td>50.0000</td>\n",
       "      <td>50.00000</td>\n",
       "      <td>50.0000</td>\n",
       "    </tr>\n",
       "    <tr>\n",
       "      <th>total_matched_relevant</th>\n",
       "      <td>50.0000</td>\n",
       "      <td>49.00000</td>\n",
       "      <td>50.0000</td>\n",
       "    </tr>\n",
       "    <tr>\n",
       "      <th>avg_matched_per_query</th>\n",
       "      <td>100.0000</td>\n",
       "      <td>809.86000</td>\n",
       "      <td>833.1800</td>\n",
       "    </tr>\n",
       "    <tr>\n",
       "      <th>total_queries</th>\n",
       "      <td>50.0000</td>\n",
       "      <td>50.00000</td>\n",
       "      <td>50.0000</td>\n",
       "    </tr>\n",
       "    <tr>\n",
       "      <th>searchtime_avg</th>\n",
       "      <td>0.0535</td>\n",
       "      <td>0.04392</td>\n",
       "      <td>0.0370</td>\n",
       "    </tr>\n",
       "    <tr>\n",
       "      <th>searchtime_q50</th>\n",
       "      <td>0.0530</td>\n",
       "      <td>0.04300</td>\n",
       "      <td>0.0370</td>\n",
       "    </tr>\n",
       "    <tr>\n",
       "      <th>searchtime_q90</th>\n",
       "      <td>0.0786</td>\n",
       "      <td>0.05830</td>\n",
       "      <td>0.0531</td>\n",
       "    </tr>\n",
       "    <tr>\n",
       "      <th>searchtime_q95</th>\n",
       "      <td>0.0870</td>\n",
       "      <td>0.06665</td>\n",
       "      <td>0.0583</td>\n",
       "    </tr>\n",
       "  </tbody>\n",
       "</table>\n",
       "</div>"
      ],
      "text/plain": [
       "                        semantic    weakand    hybrid\n",
       "match_recall              1.0000    0.98000    1.0000\n",
       "avg_recall_per_query      1.0000    0.98000    1.0000\n",
       "total_relevant_docs      50.0000   50.00000   50.0000\n",
       "total_matched_relevant   50.0000   49.00000   50.0000\n",
       "avg_matched_per_query   100.0000  809.86000  833.1800\n",
       "total_queries            50.0000   50.00000   50.0000\n",
       "searchtime_avg            0.0535    0.04392    0.0370\n",
       "searchtime_q50            0.0530    0.04300    0.0370\n",
       "searchtime_q90            0.0786    0.05830    0.0531\n",
       "searchtime_q95            0.0870    0.06665    0.0583"
      ]
     },
     "execution_count": 14,
     "metadata": {},
     "output_type": "execute_result"
    }
   ],
   "source": [
    "results = pd.DataFrame(match_results)\n",
    "results"
   ]
  },
  {
   "cell_type": "markdown",
   "id": "b71f7768",
   "metadata": {},
   "source": [
    "Here, we can see that all retrieval strategies actually match all the relevant documents. \n",
    "To tune number of documents retrieved and latency, we could tune the `targetHits`-parameter for both the `nearestNeighbor`-operator and `weakAnd`-parameter (our `userInput` is converted to `weakAnd`, see [docs](https://docs.vespa.ai/en/reference/query-language-reference.html)), as well as several additional `weakAnd`-parameters. See Vespa [blog](https://blog.vespa.ai/tripling-the-query-performance-of-lexical-search/) for details. We will not go in detail of this in this notebook. "
   ]
  },
  {
   "cell_type": "markdown",
   "id": "f6636af6",
   "metadata": {},
   "source": [
    "## Evaluate ranking"
   ]
  },
  {
   "cell_type": "markdown",
   "id": "1c6d2bdf",
   "metadata": {},
   "source": [
    "Now, we will move on to demonstrate how to evaluate the ranking strategies. For that, we will use the `VespaEvaluator`-class. Its interface is very similar to `VespaMatchEvaluator`, with the difference that it has much more metrics available. Also note that number of `hits` will affect the number of documents considered for evaluation. "
   ]
  },
  {
   "cell_type": "markdown",
   "id": "d34d14b8",
   "metadata": {},
   "source": [
    "## VespaEvaluator\n",
    "\n",
    "\n",
    "Let us take a look at its API and documentation:"
   ]
  },
  {
   "cell_type": "code",
   "execution_count": 15,
   "id": "fe0d3c30",
   "metadata": {},
   "outputs": [
    {
     "name": "stdout",
     "output_type": "stream",
     "text": [
      "\u001b[0;31mInit signature:\u001b[0m\n",
      "\u001b[0mVespaEvaluator\u001b[0m\u001b[0;34m(\u001b[0m\u001b[0;34m\u001b[0m\n",
      "\u001b[0;34m\u001b[0m    \u001b[0mqueries\u001b[0m\u001b[0;34m:\u001b[0m \u001b[0;34m'Dict[str, str]'\u001b[0m\u001b[0;34m,\u001b[0m\u001b[0;34m\u001b[0m\n",
      "\u001b[0;34m\u001b[0m    \u001b[0mrelevant_docs\u001b[0m\u001b[0;34m:\u001b[0m \u001b[0;34m'Union[Dict[str, Union[Set[str], Dict[str, float]]], Dict[str, str]]'\u001b[0m\u001b[0;34m,\u001b[0m\u001b[0;34m\u001b[0m\n",
      "\u001b[0;34m\u001b[0m    \u001b[0mvespa_query_fn\u001b[0m\u001b[0;34m:\u001b[0m \u001b[0;34m'Callable[[str, int, Optional[str]], dict]'\u001b[0m\u001b[0;34m,\u001b[0m\u001b[0;34m\u001b[0m\n",
      "\u001b[0;34m\u001b[0m    \u001b[0mapp\u001b[0m\u001b[0;34m:\u001b[0m \u001b[0;34m'Vespa'\u001b[0m\u001b[0;34m,\u001b[0m\u001b[0;34m\u001b[0m\n",
      "\u001b[0;34m\u001b[0m    \u001b[0mname\u001b[0m\u001b[0;34m:\u001b[0m \u001b[0;34m'str'\u001b[0m \u001b[0;34m=\u001b[0m \u001b[0;34m''\u001b[0m\u001b[0;34m,\u001b[0m\u001b[0;34m\u001b[0m\n",
      "\u001b[0;34m\u001b[0m    \u001b[0mid_field\u001b[0m\u001b[0;34m:\u001b[0m \u001b[0;34m'str'\u001b[0m \u001b[0;34m=\u001b[0m \u001b[0;34m''\u001b[0m\u001b[0;34m,\u001b[0m\u001b[0;34m\u001b[0m\n",
      "\u001b[0;34m\u001b[0m    \u001b[0maccuracy_at_k\u001b[0m\u001b[0;34m:\u001b[0m \u001b[0;34m'List[int]'\u001b[0m \u001b[0;34m=\u001b[0m \u001b[0;34m[\u001b[0m\u001b[0;36m1\u001b[0m\u001b[0;34m,\u001b[0m \u001b[0;36m3\u001b[0m\u001b[0;34m,\u001b[0m \u001b[0;36m5\u001b[0m\u001b[0;34m,\u001b[0m \u001b[0;36m10\u001b[0m\u001b[0;34m]\u001b[0m\u001b[0;34m,\u001b[0m\u001b[0;34m\u001b[0m\n",
      "\u001b[0;34m\u001b[0m    \u001b[0mprecision_recall_at_k\u001b[0m\u001b[0;34m:\u001b[0m \u001b[0;34m'List[int]'\u001b[0m \u001b[0;34m=\u001b[0m \u001b[0;34m[\u001b[0m\u001b[0;36m1\u001b[0m\u001b[0;34m,\u001b[0m \u001b[0;36m3\u001b[0m\u001b[0;34m,\u001b[0m \u001b[0;36m5\u001b[0m\u001b[0;34m,\u001b[0m \u001b[0;36m10\u001b[0m\u001b[0;34m]\u001b[0m\u001b[0;34m,\u001b[0m\u001b[0;34m\u001b[0m\n",
      "\u001b[0;34m\u001b[0m    \u001b[0mmrr_at_k\u001b[0m\u001b[0;34m:\u001b[0m \u001b[0;34m'List[int]'\u001b[0m \u001b[0;34m=\u001b[0m \u001b[0;34m[\u001b[0m\u001b[0;36m10\u001b[0m\u001b[0;34m]\u001b[0m\u001b[0;34m,\u001b[0m\u001b[0;34m\u001b[0m\n",
      "\u001b[0;34m\u001b[0m    \u001b[0mndcg_at_k\u001b[0m\u001b[0;34m:\u001b[0m \u001b[0;34m'List[int]'\u001b[0m \u001b[0;34m=\u001b[0m \u001b[0;34m[\u001b[0m\u001b[0;36m10\u001b[0m\u001b[0;34m]\u001b[0m\u001b[0;34m,\u001b[0m\u001b[0;34m\u001b[0m\n",
      "\u001b[0;34m\u001b[0m    \u001b[0mmap_at_k\u001b[0m\u001b[0;34m:\u001b[0m \u001b[0;34m'List[int]'\u001b[0m \u001b[0;34m=\u001b[0m \u001b[0;34m[\u001b[0m\u001b[0;36m100\u001b[0m\u001b[0;34m]\u001b[0m\u001b[0;34m,\u001b[0m\u001b[0;34m\u001b[0m\n",
      "\u001b[0;34m\u001b[0m    \u001b[0mwrite_csv\u001b[0m\u001b[0;34m:\u001b[0m \u001b[0;34m'bool'\u001b[0m \u001b[0;34m=\u001b[0m \u001b[0;32mFalse\u001b[0m\u001b[0;34m,\u001b[0m\u001b[0;34m\u001b[0m\n",
      "\u001b[0;34m\u001b[0m    \u001b[0mcsv_dir\u001b[0m\u001b[0;34m:\u001b[0m \u001b[0;34m'Optional[str]'\u001b[0m \u001b[0;34m=\u001b[0m \u001b[0;32mNone\u001b[0m\u001b[0;34m,\u001b[0m\u001b[0;34m\u001b[0m\n",
      "\u001b[0;34m\u001b[0m\u001b[0;34m)\u001b[0m\u001b[0;34m\u001b[0m\u001b[0;34m\u001b[0m\u001b[0m\n",
      "\u001b[0;31mDocstring:\u001b[0m     \n",
      "Evaluate retrieval performance on a Vespa application.\n",
      "\n",
      "This class:\n",
      "\n",
      "- Iterates over queries and issues them against your Vespa application.\n",
      "- Retrieves top-k documents per query (with k = max of your IR metrics).\n",
      "- Compares the retrieved documents with a set of relevant document ids.\n",
      "- Computes IR metrics: Accuracy@k, Precision@k, Recall@k, MRR@k, NDCG@k, MAP@k.\n",
      "- Logs vespa search times for each query.\n",
      "- Logs/returns these metrics.\n",
      "- Optionally writes out to CSV.\n",
      "\n",
      "Note: The 'id_field' needs to be marked as an attribute in your Vespa schema, so filtering can be done on it.\n",
      "\n",
      "\n",
      "Example usage:\n",
      "    ```python\n",
      "    from vespa.application import Vespa\n",
      "    from vespa.evaluation import VespaEvaluator\n",
      "\n",
      "    queries = {\n",
      "        \"q1\": \"What is the best GPU for gaming?\",\n",
      "        \"q2\": \"How to bake sourdough bread?\",\n",
      "        # ...\n",
      "    }\n",
      "    relevant_docs = {\n",
      "        \"q1\": {\"d12\", \"d99\"},\n",
      "        \"q2\": {\"d101\"},\n",
      "        # ...\n",
      "    }\n",
      "    # relevant_docs can also be a dict of query_id => single relevant doc_id\n",
      "    # relevant_docs = {\n",
      "    #     \"q1\": \"d12\",\n",
      "    #     \"q2\": \"d101\",\n",
      "    #     # ...\n",
      "    # }\n",
      "    # Or, relevant_docs can be a dict of query_id => map of doc_id => relevance\n",
      "    # relevant_docs = {\n",
      "    #     \"q1\": {\"d12\": 1, \"d99\": 0.1},\n",
      "    #     \"q2\": {\"d101\": 0.01},\n",
      "    #     # ...\n",
      "    # Note that for non-binary relevance, the relevance values should be in [0, 1], and that\n",
      "    # only the nDCG metric will be computed.\n",
      "\n",
      "    def my_vespa_query_fn(query_text: str, top_k: int) -> dict:\n",
      "        return {\n",
      "            \"yql\": 'select * from sources * where userInput(\"' + query_text + '\");',\n",
      "            \"hits\": top_k,\n",
      "            \"ranking\": \"your_ranking_profile\",\n",
      "        }\n",
      "\n",
      "    app = Vespa(url=\"http://localhost\", port=8080)\n",
      "\n",
      "    evaluator = VespaEvaluator(\n",
      "        queries=queries,\n",
      "        relevant_docs=relevant_docs,\n",
      "        vespa_query_fn=my_vespa_query_fn,\n",
      "        app=app,\n",
      "        name=\"test-run\",\n",
      "        accuracy_at_k=[1, 3, 5],\n",
      "        precision_recall_at_k=[1, 3, 5],\n",
      "        mrr_at_k=[10],\n",
      "        ndcg_at_k=[10],\n",
      "        map_at_k=[100],\n",
      "        write_csv=True\n",
      "    )\n",
      "\n",
      "    results = evaluator()\n",
      "    print(\"Primary metric:\", evaluator.primary_metric)\n",
      "    print(\"All results:\", results)\n",
      "    ```\n",
      "\n",
      "Args:\n",
      "    queries (Dict[str, str]): A dictionary where keys are query IDs and values are query strings.\n",
      "    relevant_docs (Union[Dict[str, Union[Set[str], Dict[str, float]]], Dict[str, str]]):\n",
      "        A dictionary mapping query IDs to their relevant document IDs.\n",
      "        Can be a set of doc IDs for binary relevance, a dict of doc_id to relevance score (float between 0 and 1)\n",
      "        for graded relevance, or a single doc_id string.\n",
      "    vespa_query_fn (Callable[[str, int, Optional[str]], dict]): A function that takes a query string,\n",
      "        the number of hits to retrieve (top_k), and an optional query_id, and returns a Vespa query body dictionary.\n",
      "    app (Vespa): An instance of the Vespa application.\n",
      "    name (str, optional): A name for this evaluation run. Defaults to \"\".\n",
      "    id_field (str, optional): The field name in the Vespa hit that contains the document ID.\n",
      "        If empty, it tries to infer the ID from the 'id' field or 'fields.id'. Defaults to \"\".\n",
      "    accuracy_at_k (List[int], optional): List of k values for which to compute Accuracy@k.\n",
      "        Defaults to [1, 3, 5, 10].\n",
      "    precision_recall_at_k (List[int], optional): List of k values for which to compute Precision@k and Recall@k.\n",
      "        Defaults to [1, 3, 5, 10].\n",
      "    mrr_at_k (List[int], optional): List of k values for which to compute MRR@k. Defaults to [10].\n",
      "    ndcg_at_k (List[int], optional): List of k values for which to compute NDCG@k. Defaults to [10].\n",
      "    map_at_k (List[int], optional): List of k values for which to compute MAP@k. Defaults to [100].\n",
      "    write_csv (bool, optional): Whether to write the evaluation results to a CSV file. Defaults to False.\n",
      "    csv_dir (Optional[str], optional): Directory to save the CSV file. Defaults to None (current directory).\n",
      "\u001b[0;31mFile:\u001b[0m           ~/Repos/pyvespa/vespa/evaluation.py\n",
      "\u001b[0;31mType:\u001b[0m           ABCMeta\n",
      "\u001b[0;31mSubclasses:\u001b[0m     "
     ]
    }
   ],
   "source": [
    "from vespa.evaluation import VespaEvaluator\n",
    "\n",
    "?VespaEvaluator"
   ]
  },
  {
   "cell_type": "code",
   "execution_count": 16,
   "id": "00860da1",
   "metadata": {},
   "outputs": [],
   "source": [
    "def semantic_query_fn(query_text: str, top_k: int) -> dict:\n",
    "    return {\n",
    "        \"yql\": str(\n",
    "            qb.select(\"*\")\n",
    "            .from_(schema_name)\n",
    "            .where(\n",
    "                qb.nearestNeighbor(\n",
    "                    field=\"embedding\",\n",
    "                    query_vector=\"q\",\n",
    "                    annotations={\"targetHits\": 100},\n",
    "                )\n",
    "            )\n",
    "        ),\n",
    "        \"query\": query_text,\n",
    "        \"ranking\": \"semantic\",\n",
    "        \"input.query(q)\": f\"embed({query_text})\",\n",
    "        \"hits\": top_k,\n",
    "    }\n",
    "\n",
    "\n",
    "def bm25_query_fn(query_text: str, top_k: int) -> dict:\n",
    "    return {\n",
    "        \"yql\": \"select * from sources * where userQuery();\",  # provide the yql directly as a string\n",
    "        \"query\": query_text,\n",
    "        \"ranking\": \"bm25\",\n",
    "        \"hits\": top_k,\n",
    "    }\n",
    "\n",
    "\n",
    "def fusion_query_fn(query_text: str, top_k: int) -> dict:\n",
    "    return {\n",
    "        \"yql\": str(\n",
    "            qb.select(\"*\")\n",
    "            .from_(schema_name)\n",
    "            .where(\n",
    "                qb.nearestNeighbor(\n",
    "                    field=\"embedding\",\n",
    "                    query_vector=\"q\",\n",
    "                    annotations={\"targetHits\": 100},\n",
    "                )\n",
    "                | qb.userQuery(query_text)\n",
    "            )\n",
    "        ),\n",
    "        \"query\": query_text,\n",
    "        \"ranking\": \"fusion\",\n",
    "        \"input.query(q)\": f\"embed({query_text})\",\n",
    "        \"hits\": top_k,\n",
    "    }\n",
    "\n",
    "\n",
    "def atan_norm_query_fn(query_text: str, top_k: int) -> dict:\n",
    "    return {\n",
    "        \"yql\": str(\n",
    "            qb.select(\"*\")\n",
    "            .from_(schema_name)\n",
    "            .where(\n",
    "                qb.nearestNeighbor(\n",
    "                    field=\"embedding\",\n",
    "                    query_vector=\"q\",\n",
    "                    annotations={\"targetHits\": 100},\n",
    "                )\n",
    "                | qb.userQuery(query_text)\n",
    "            )\n",
    "        ),\n",
    "        \"query\": query_text,\n",
    "        \"ranking\": \"atan_norm\",\n",
    "        \"input.query(q)\": f\"embed({query_text})\",\n",
    "        \"hits\": top_k,\n",
    "    }"
   ]
  },
  {
   "cell_type": "code",
   "execution_count": 23,
   "id": "b304dd4b",
   "metadata": {},
   "outputs": [
    {
     "name": "stdout",
     "output_type": "stream",
     "text": [
      "Evaluating semantic...\n",
      "Evaluating bm25...\n",
      "Evaluating fusion...\n",
      "Evaluating atan_norm...\n"
     ]
    }
   ],
   "source": [
    "all_results = {}\n",
    "for evaluator_name, query_fn in [\n",
    "    (\"semantic\", semantic_query_fn),\n",
    "    (\"bm25\", bm25_query_fn),\n",
    "    (\"fusion\", fusion_query_fn),\n",
    "    (\"atan_norm\", atan_norm_query_fn),\n",
    "]:\n",
    "    print(f\"Evaluating {evaluator_name}...\")\n",
    "    evaluator = VespaEvaluator(\n",
    "        queries=ids_to_query,\n",
    "        relevant_docs=relevant_docs,\n",
    "        vespa_query_fn=query_fn,\n",
    "        app=app,\n",
    "        name=evaluator_name,\n",
    "        write_csv=True,  # optionally write metrics to CSV\n",
    "    )\n",
    "\n",
    "    results = evaluator.run()\n",
    "    all_results[evaluator_name] = results"
   ]
  },
  {
   "cell_type": "markdown",
   "id": "8d7ee0b4",
   "metadata": {},
   "source": [
    "### Looking at the results"
   ]
  },
  {
   "cell_type": "code",
   "execution_count": 24,
   "id": "b700831d",
   "metadata": {},
   "outputs": [],
   "source": [
    "results = pd.DataFrame(all_results)"
   ]
  },
  {
   "cell_type": "code",
   "execution_count": 25,
   "id": "e9096818",
   "metadata": {},
   "outputs": [
    {
     "data": {
      "text/html": [
       "<style type=\"text/css\">\n",
       "#T_d6151_row0_col2, #T_d6151_row0_col3, #T_d6151_row1_col3, #T_d6151_row2_col3, #T_d6151_row3_col0, #T_d6151_row4_col2, #T_d6151_row4_col3, #T_d6151_row5_col2, #T_d6151_row5_col3, #T_d6151_row6_col3, #T_d6151_row7_col3, #T_d6151_row8_col3, #T_d6151_row9_col3, #T_d6151_row10_col0, #T_d6151_row11_col0, #T_d6151_row12_col3, #T_d6151_row13_col3, #T_d6151_row14_col3 {\n",
       "  background-color: lightgreen;\n",
       "  color: black;\n",
       "}\n",
       "</style>\n",
       "<table id=\"T_d6151\">\n",
       "  <thead>\n",
       "    <tr>\n",
       "      <th class=\"blank level0\" >&nbsp;</th>\n",
       "      <th id=\"T_d6151_level0_col0\" class=\"col_heading level0 col0\" >semantic</th>\n",
       "      <th id=\"T_d6151_level0_col1\" class=\"col_heading level0 col1\" >bm25</th>\n",
       "      <th id=\"T_d6151_level0_col2\" class=\"col_heading level0 col2\" >fusion</th>\n",
       "      <th id=\"T_d6151_level0_col3\" class=\"col_heading level0 col3\" >atan_norm</th>\n",
       "    </tr>\n",
       "  </thead>\n",
       "  <tbody>\n",
       "    <tr>\n",
       "      <th id=\"T_d6151_level0_row0\" class=\"row_heading level0 row0\" >accuracy@1</th>\n",
       "      <td id=\"T_d6151_row0_col0\" class=\"data row0 col0\" >0.3800</td>\n",
       "      <td id=\"T_d6151_row0_col1\" class=\"data row0 col1\" >0.3000</td>\n",
       "      <td id=\"T_d6151_row0_col2\" class=\"data row0 col2\" >0.4400</td>\n",
       "      <td id=\"T_d6151_row0_col3\" class=\"data row0 col3\" >0.4400</td>\n",
       "    </tr>\n",
       "    <tr>\n",
       "      <th id=\"T_d6151_level0_row1\" class=\"row_heading level0 row1\" >accuracy@3</th>\n",
       "      <td id=\"T_d6151_row1_col0\" class=\"data row1 col0\" >0.6400</td>\n",
       "      <td id=\"T_d6151_row1_col1\" class=\"data row1 col1\" >0.6000</td>\n",
       "      <td id=\"T_d6151_row1_col2\" class=\"data row1 col2\" >0.6800</td>\n",
       "      <td id=\"T_d6151_row1_col3\" class=\"data row1 col3\" >0.7000</td>\n",
       "    </tr>\n",
       "    <tr>\n",
       "      <th id=\"T_d6151_level0_row2\" class=\"row_heading level0 row2\" >accuracy@5</th>\n",
       "      <td id=\"T_d6151_row2_col0\" class=\"data row2 col0\" >0.7200</td>\n",
       "      <td id=\"T_d6151_row2_col1\" class=\"data row2 col1\" >0.6600</td>\n",
       "      <td id=\"T_d6151_row2_col2\" class=\"data row2 col2\" >0.7200</td>\n",
       "      <td id=\"T_d6151_row2_col3\" class=\"data row2 col3\" >0.7400</td>\n",
       "    </tr>\n",
       "    <tr>\n",
       "      <th id=\"T_d6151_level0_row3\" class=\"row_heading level0 row3\" >accuracy@10</th>\n",
       "      <td id=\"T_d6151_row3_col0\" class=\"data row3 col0\" >0.8200</td>\n",
       "      <td id=\"T_d6151_row3_col1\" class=\"data row3 col1\" >0.7400</td>\n",
       "      <td id=\"T_d6151_row3_col2\" class=\"data row3 col2\" >0.8000</td>\n",
       "      <td id=\"T_d6151_row3_col3\" class=\"data row3 col3\" >0.8000</td>\n",
       "    </tr>\n",
       "    <tr>\n",
       "      <th id=\"T_d6151_level0_row4\" class=\"row_heading level0 row4\" >precision@1</th>\n",
       "      <td id=\"T_d6151_row4_col0\" class=\"data row4 col0\" >0.3800</td>\n",
       "      <td id=\"T_d6151_row4_col1\" class=\"data row4 col1\" >0.3000</td>\n",
       "      <td id=\"T_d6151_row4_col2\" class=\"data row4 col2\" >0.4400</td>\n",
       "      <td id=\"T_d6151_row4_col3\" class=\"data row4 col3\" >0.4400</td>\n",
       "    </tr>\n",
       "    <tr>\n",
       "      <th id=\"T_d6151_level0_row5\" class=\"row_heading level0 row5\" >recall@1</th>\n",
       "      <td id=\"T_d6151_row5_col0\" class=\"data row5 col0\" >0.3800</td>\n",
       "      <td id=\"T_d6151_row5_col1\" class=\"data row5 col1\" >0.3000</td>\n",
       "      <td id=\"T_d6151_row5_col2\" class=\"data row5 col2\" >0.4400</td>\n",
       "      <td id=\"T_d6151_row5_col3\" class=\"data row5 col3\" >0.4400</td>\n",
       "    </tr>\n",
       "    <tr>\n",
       "      <th id=\"T_d6151_level0_row6\" class=\"row_heading level0 row6\" >precision@3</th>\n",
       "      <td id=\"T_d6151_row6_col0\" class=\"data row6 col0\" >0.2133</td>\n",
       "      <td id=\"T_d6151_row6_col1\" class=\"data row6 col1\" >0.2000</td>\n",
       "      <td id=\"T_d6151_row6_col2\" class=\"data row6 col2\" >0.2267</td>\n",
       "      <td id=\"T_d6151_row6_col3\" class=\"data row6 col3\" >0.2333</td>\n",
       "    </tr>\n",
       "    <tr>\n",
       "      <th id=\"T_d6151_level0_row7\" class=\"row_heading level0 row7\" >recall@3</th>\n",
       "      <td id=\"T_d6151_row7_col0\" class=\"data row7 col0\" >0.6400</td>\n",
       "      <td id=\"T_d6151_row7_col1\" class=\"data row7 col1\" >0.6000</td>\n",
       "      <td id=\"T_d6151_row7_col2\" class=\"data row7 col2\" >0.6800</td>\n",
       "      <td id=\"T_d6151_row7_col3\" class=\"data row7 col3\" >0.7000</td>\n",
       "    </tr>\n",
       "    <tr>\n",
       "      <th id=\"T_d6151_level0_row8\" class=\"row_heading level0 row8\" >precision@5</th>\n",
       "      <td id=\"T_d6151_row8_col0\" class=\"data row8 col0\" >0.1440</td>\n",
       "      <td id=\"T_d6151_row8_col1\" class=\"data row8 col1\" >0.1320</td>\n",
       "      <td id=\"T_d6151_row8_col2\" class=\"data row8 col2\" >0.1440</td>\n",
       "      <td id=\"T_d6151_row8_col3\" class=\"data row8 col3\" >0.1480</td>\n",
       "    </tr>\n",
       "    <tr>\n",
       "      <th id=\"T_d6151_level0_row9\" class=\"row_heading level0 row9\" >recall@5</th>\n",
       "      <td id=\"T_d6151_row9_col0\" class=\"data row9 col0\" >0.7200</td>\n",
       "      <td id=\"T_d6151_row9_col1\" class=\"data row9 col1\" >0.6600</td>\n",
       "      <td id=\"T_d6151_row9_col2\" class=\"data row9 col2\" >0.7200</td>\n",
       "      <td id=\"T_d6151_row9_col3\" class=\"data row9 col3\" >0.7400</td>\n",
       "    </tr>\n",
       "    <tr>\n",
       "      <th id=\"T_d6151_level0_row10\" class=\"row_heading level0 row10\" >precision@10</th>\n",
       "      <td id=\"T_d6151_row10_col0\" class=\"data row10 col0\" >0.0820</td>\n",
       "      <td id=\"T_d6151_row10_col1\" class=\"data row10 col1\" >0.0740</td>\n",
       "      <td id=\"T_d6151_row10_col2\" class=\"data row10 col2\" >0.0800</td>\n",
       "      <td id=\"T_d6151_row10_col3\" class=\"data row10 col3\" >0.0800</td>\n",
       "    </tr>\n",
       "    <tr>\n",
       "      <th id=\"T_d6151_level0_row11\" class=\"row_heading level0 row11\" >recall@10</th>\n",
       "      <td id=\"T_d6151_row11_col0\" class=\"data row11 col0\" >0.8200</td>\n",
       "      <td id=\"T_d6151_row11_col1\" class=\"data row11 col1\" >0.7400</td>\n",
       "      <td id=\"T_d6151_row11_col2\" class=\"data row11 col2\" >0.8000</td>\n",
       "      <td id=\"T_d6151_row11_col3\" class=\"data row11 col3\" >0.8000</td>\n",
       "    </tr>\n",
       "    <tr>\n",
       "      <th id=\"T_d6151_level0_row12\" class=\"row_heading level0 row12\" >mrr@10</th>\n",
       "      <td id=\"T_d6151_row12_col0\" class=\"data row12 col0\" >0.5309</td>\n",
       "      <td id=\"T_d6151_row12_col1\" class=\"data row12 col1\" >0.4501</td>\n",
       "      <td id=\"T_d6151_row12_col2\" class=\"data row12 col2\" >0.5529</td>\n",
       "      <td id=\"T_d6151_row12_col3\" class=\"data row12 col3\" >0.5738</td>\n",
       "    </tr>\n",
       "    <tr>\n",
       "      <th id=\"T_d6151_level0_row13\" class=\"row_heading level0 row13\" >ndcg@10</th>\n",
       "      <td id=\"T_d6151_row13_col0\" class=\"data row13 col0\" >0.6007</td>\n",
       "      <td id=\"T_d6151_row13_col1\" class=\"data row13 col1\" >0.5206</td>\n",
       "      <td id=\"T_d6151_row13_col2\" class=\"data row13 col2\" >0.6126</td>\n",
       "      <td id=\"T_d6151_row13_col3\" class=\"data row13 col3\" >0.6296</td>\n",
       "    </tr>\n",
       "    <tr>\n",
       "      <th id=\"T_d6151_level0_row14\" class=\"row_heading level0 row14\" >map@100</th>\n",
       "      <td id=\"T_d6151_row14_col0\" class=\"data row14 col0\" >0.5393</td>\n",
       "      <td id=\"T_d6151_row14_col1\" class=\"data row14 col1\" >0.4594</td>\n",
       "      <td id=\"T_d6151_row14_col2\" class=\"data row14 col2\" >0.5630</td>\n",
       "      <td id=\"T_d6151_row14_col3\" class=\"data row14 col3\" >0.5838</td>\n",
       "    </tr>\n",
       "  </tbody>\n",
       "</table>\n"
      ],
      "text/plain": [
       "<pandas.io.formats.style.Styler at 0x32a1ce310>"
      ]
     },
     "execution_count": 25,
     "metadata": {},
     "output_type": "execute_result"
    }
   ],
   "source": [
    "# take out all rows with \"searchtime\" to a separate dataframe\n",
    "searchtime = results[results.index.str.contains(\"searchtime\")]\n",
    "results = results[~results.index.str.contains(\"searchtime\")]\n",
    "\n",
    "\n",
    "# Highlight the maximum value in each row\n",
    "def highlight_max(s):\n",
    "    is_max = s == s.max()\n",
    "    return [\"background-color: lightgreen; color: black;\" if v else \"\" for v in is_max]\n",
    "\n",
    "\n",
    "# Style the DataFrame: Highlight max values and format numbers to 4 decimals\n",
    "styled_df = results.style.apply(highlight_max, axis=1).format(\"{:.4f}\")\n",
    "styled_df"
   ]
  },
  {
   "cell_type": "markdown",
   "id": "20ff3b32",
   "metadata": {},
   "source": [
    "We can see that for this particular dataset, the hybrid strategy `atan_norm` is the best across all metrics."
   ]
  },
  {
   "cell_type": "code",
   "execution_count": 26,
   "id": "446abb05",
   "metadata": {},
   "outputs": [
    {
     "data": {
      "text/plain": [
       "<Axes: >"
      ]
     },
     "execution_count": 26,
     "metadata": {},
     "output_type": "execute_result"
    },
    {
     "data": {
      "image/png": "[encoded data removed]",
      "text/plain": [
       "<Figure size 1200x600 with 1 Axes>"
      ]
     },
     "metadata": {},
     "output_type": "display_data"
    }
   ],
   "source": [
    "results.plot(kind=\"bar\", figsize=(12, 6))"
   ]
  },
  {
   "cell_type": "markdown",
   "id": "fce836ad",
   "metadata": {},
   "source": [
    "### Looking at searchtimes\n",
    "\n",
    "Ranking quality is not the only thing that matters. For many applications, search time is equally important. \n",
    "\n"
   ]
  },
  {
   "cell_type": "code",
   "execution_count": 27,
   "id": "88ebc721",
   "metadata": {},
   "outputs": [
    {
     "data": {
      "text/plain": [
       "[Text(0, 0.5, 'time (ms)')]"
      ]
     },
     "execution_count": 27,
     "metadata": {},
     "output_type": "execute_result"
    },
    {
     "data": {
      "image/png": "[encoded data removed]",
      "text/plain": [
       "<Figure size 1200x600 with 1 Axes>"
      ]
     },
     "metadata": {},
     "output_type": "display_data"
    }
   ],
   "source": [
    "# plot search time, add (ms) to the y-axis\n",
    "# convert to ms\n",
    "searchtime = searchtime * 1000\n",
    "searchtime.plot(kind=\"bar\", figsize=(12, 6)).set(ylabel=\"time (ms)\")"
   ]
  },
  {
   "cell_type": "markdown",
   "id": "37698204",
   "metadata": {},
   "source": [
    "We can see that both hybrid strategies, `fusion` and `atan_norm` strategy is a bit slower on average than pure `bm25` or `semantic`, as expected. \n",
    "\n",
    "Depending on the latency budget of your application, this is likely still an attractive trade-off."
   ]
  },
  {
   "cell_type": "markdown",
   "id": "95272122",
   "metadata": {},
   "source": [
    "## Conclusion and next steps\n",
    "\n",
    "We have shown how you can evaluate a Vespa application on two different levels. \n",
    "1. Evaluate retrieval (match-phase) using the `VespaMatchEvaluator` class. Here we checked recall, and \n",
    "2. Evaluate ranking strategies using `VespaEvaluator` class. We have defined and compared 4 different ranking strategies in terms of both ranking quality and searchtime latency.\n",
    "\n",
    "We hope this can provide you with a good starting point for evaluating your own Vespa application. \n",
    "\n",
    "If you are ready to advance, you can try to optimize the ranking strategies further, by for example weighing each of the terms in the `atan_norm` strategy differently (`a * normalize_linear(normalized_bm25) + (1-a) * normalize_linear(cos_sim)`) , or by adding a [crossencoder](https://vespa-engine.github.io/pyvespa/examples/cross-encoders-for-global-reranking.html) for re-ranking the top-k results.\n"
   ]
  },
  {
   "cell_type": "markdown",
   "id": "f37d454f",
   "metadata": {},
   "source": [
    "## Cleanup"
   ]
  },
  {
   "cell_type": "code",
   "execution_count": null,
   "id": "66354a53",
   "metadata": {},
   "outputs": [],
   "source": [
    "vespa_cloud.delete()"
   ]
  }
 ],
 "metadata": {
  "kernelspec": {
   "display_name": "pyvespa",
   "language": "python",
   "name": "python3"
  },
  "language_info": {
   "codemirror_mode": {
    "name": "ipython",
    "version": 3
   },
   "file_extension": ".py",
   "mimetype": "text/x-python",
   "name": "python",
   "nbconvert_exporter": "python",
   "pygments_lexer": "ipython3",
   "version": "3.11.12"
  },
  "nbsphinx": {
   "allow_errors": true
  }
 },
 "nbformat": 4,
 "nbformat_minor": 5
}
