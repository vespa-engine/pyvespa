{
 "cells": [
  {
   "cell_type": "markdown",
   "id": "historical-delicious",
   "metadata": {},
   "source": [
    "# Three ways to get started with pyvespa"
   ]
  },
  {
   "cell_type": "markdown",
   "id": "virtual-police",
   "metadata": {},
   "source": [
    "pyvespa provides a python API to Vespa. The library’s primary goal is to allow for faster prototyping and facilitate Machine Learning experiments for Vespa applications. \n",
    "\n",
    "There are three ways you can get value out of `pyvespa`: \n",
    "\n",
    "1. You can connect to a running Vespa application.\n",
    "\n",
    "2. You can build and deploy a Vespa application using pyvespa API.\n",
    "\n",
    "3. You can deploy an application from Vespa config files stored on disk."
   ]
  },
  {
   "cell_type": "markdown",
   "id": "equal-encyclopedia",
   "metadata": {},
   "source": [
    "We will review each of those methods."
   ]
  },
  {
   "cell_type": "markdown",
   "id": "dangerous-damage",
   "metadata": {},
   "source": [
    "##  Connect to a running Vespa application"
   ]
  },
  {
   "cell_type": "markdown",
   "id": "upset-eligibility",
   "metadata": {},
   "source": [
    "In case you already have a Vespa application running somewhere, you can directly instantiate the [Vespa](https://pyvespa.readthedocs.io/en/latest/reference-api.html#vespa.application.Vespa) class with the appropriate endpoint. The example below connects to the [cord19.vespa.ai](https://cord19.vespa.ai/) application:"
   ]
  },
  {
   "cell_type": "code",
   "execution_count": 2,
   "id": "described-dance",
   "metadata": {},
   "outputs": [],
   "source": [
    "from vespa.application import Vespa\n",
    "\n",
    "app = Vespa(url = \"https://api.cord19.vespa.ai\")"
   ]
  },
  {
   "cell_type": "markdown",
   "id": "agricultural-bridges",
   "metadata": {},
   "source": [
    "We are then good to go and ready to interact with the application through `pyvespa`, e.g., to query:"
   ]
  },
  {
   "cell_type": "code",
   "execution_count": 3,
   "id": "endangered-given",
   "metadata": {},
   "outputs": [
    {
     "data": {
      "text/plain": [
       "[{'id': 'index:content/1/ad8f0a6204288c0d497399a2',\n",
       "  'relevance': 0.36920467353113595,\n",
       "  'source': 'content',\n",
       "  'fields': {'title': '<hi>Temperature</hi> <hi>Sensitivity</hi>: A Potential Method for the Generation of Vaccines against the Avian <hi>Coronavirus</hi> Infectious Bronchitis Virus'}}]"
      ]
     },
     "execution_count": 3,
     "metadata": {},
     "output_type": "execute_result"
    }
   ],
   "source": [
    "app.query(body = {\n",
    "  'yql': 'select title from sources * where userQuery();',\n",
    "  'hits': 1,\n",
    "  'summary': 'short',\n",
    "  'timeout': '1.0s',\n",
    "  'query': 'coronavirus temperature sensitivity',\n",
    "  'type': 'all',\n",
    "  'ranking': 'default'\n",
    "}).hits"
   ]
  },
  {
   "cell_type": "markdown",
   "id": "finished-calendar",
   "metadata": {},
   "source": [
    "## Build and deploy with pyvespa API"
   ]
  },
  {
   "cell_type": "markdown",
   "id": "twelve-optimum",
   "metadata": {},
   "source": [
    "You can also build your Vespa application from scratch using the pyvespa API. Here is a simple example:"
   ]
  },
  {
   "cell_type": "code",
   "execution_count": 4,
   "id": "spiritual-brooklyn",
   "metadata": {},
   "outputs": [],
   "source": [
    "from vespa.package import ApplicationPackage, Field, RankProfile\n",
    "\n",
    "app_package = ApplicationPackage(name = \"sampleapp\")\n",
    "app_package.schema.add_fields(\n",
    "    Field(\n",
    "        name=\"title\", \n",
    "        type=\"string\", \n",
    "        indexing=[\"index\", \"summary\"], \n",
    "        index=\"enable-bm25\")\n",
    ")\n",
    "app_package.schema.add_rank_profile(\n",
    "    RankProfile(\n",
    "        name=\"bm25\", \n",
    "        inherits=\"default\", \n",
    "        first_phase=\"bm25(title)\"\n",
    "    )\n",
    ")"
   ]
  },
  {
   "cell_type": "markdown",
   "id": "personalized-mercury",
   "metadata": {},
   "source": [
    "We can then deploy `app_package` to a Docker container (or directly to [VespaCloud](https://pyvespa.readthedocs.io/en/latest/create-and-deploy-vespa-cloud.html)):"
   ]
  },
  {
   "cell_type": "code",
   "execution_count": 5,
   "id": "twelve-installation",
   "metadata": {},
   "outputs": [
    {
     "name": "stdout",
     "output_type": "stream",
     "text": [
      "Waiting for configuration server.\n",
      "Waiting for configuration server.\n",
      "Waiting for configuration server.\n",
      "Waiting for configuration server.\n",
      "Waiting for configuration server.\n",
      "Waiting for application status.\n",
      "Waiting for application status.\n",
      "Finished deployment.\n"
     ]
    }
   ],
   "source": [
    "import os\n",
    "from vespa.package import VespaDocker\n",
    "\n",
    "disk_folder = os.path.join(os.getenv(\"WORK_DIR\"), \"sample_application\")\n",
    "vespa_docker = VespaDocker(\n",
    "    disk_folder=disk_folder, # chose your absolute folder\n",
    "    container_memory=\"8G\",\n",
    "    port=8089\n",
    ")\n",
    "app = vespa_docker.deploy(application_package=app_package)"
   ]
  },
  {
   "cell_type": "markdown",
   "id": "regulated-capability",
   "metadata": {},
   "source": [
    "`app` holds an instance of the Vespa class just like our first example, and we can use it to feed and query the application just deployed. We can also go to the Vespa configuration files stored in the `disk_folder`, modify them and deploy them directly from the disk using the method discussed in the next section. This can be useful when we want to fine-tune our application based on Vespa features not available through the `pyvespa` API."
   ]
  },
  {
   "cell_type": "markdown",
   "id": "severe-patient",
   "metadata": {},
   "source": [
    "There is also the possibility to explicitly export `app_package` to Vespa configuration files (without deploying them) through the `export_application_package` method:"
   ]
  },
  {
   "cell_type": "code",
   "execution_count": 6,
   "id": "skilled-sequence",
   "metadata": {},
   "outputs": [],
   "source": [
    "vespa_docker.export_application_package(application_package=app_package)"
   ]
  },
  {
   "cell_type": "markdown",
   "id": "scientific-parameter",
   "metadata": {},
   "source": [
    "## Deploy from Vespa config files"
   ]
  },
  {
   "cell_type": "markdown",
   "id": "popular-rehabilitation",
   "metadata": {},
   "source": [
    "`pyvespa` API provides a subset of the functionality available in `Vespa`. The reason is that `pyvespa` is meant to be used as an experimentation tool for Information Retrieval (IR) and not for building production-ready applications. So, the python API expands based on the needs we have to replicate common use cases that often require IR  experimentation."
   ]
  },
  {
   "cell_type": "markdown",
   "id": "adaptive-template",
   "metadata": {},
   "source": [
    "If your application requires functionality or fine-tuning not available in `pyvespa`, you simply build it directly through Vespa configuration files as shown in [many examples](https://docs.vespa.ai/en/getting-started.html) on Vespa docs. But even in this case, you can still get value out of `pyvespa` by deploying it from python based on the Vespa configuration files stored on disk. To show that, we can clone and deploy the news search app covered in this [Vespa tutorial](https://docs.vespa.ai/en/tutorials/news-3-searching.html):"
   ]
  },
  {
   "cell_type": "code",
   "execution_count": null,
   "id": "logical-attempt",
   "metadata": {},
   "outputs": [],
   "source": [
    "!git clone https://github.com/vespa-engine/sample-apps.git"
   ]
  },
  {
   "cell_type": "markdown",
   "id": "governing-burns",
   "metadata": {},
   "source": [
    "The Vespa configuration files of the news search app are stored in the `sample-apps/news/app-3-searching/` folder:"
   ]
  },
  {
   "cell_type": "code",
   "execution_count": 7,
   "id": "prescription-force",
   "metadata": {},
   "outputs": [
    {
     "name": "stdout",
     "output_type": "stream",
     "text": [
      "\u001b[01;34msample-apps/news/app-3-searching/\u001b[00m\r\n",
      "├── hosts.xml\r\n",
      "├── \u001b[01;34mschemas\u001b[00m\r\n",
      "│   └── news.sd\r\n",
      "└── services.xml\r\n",
      "\r\n",
      "1 directory, 3 files\r\n"
     ]
    }
   ],
   "source": [
    "!tree sample-apps/news/app-3-searching/"
   ]
  },
  {
   "cell_type": "markdown",
   "id": "opposite-turtle",
   "metadata": {},
   "source": [
    "We can then deploy to a Docker container from disk:"
   ]
  },
  {
   "cell_type": "code",
   "execution_count": 8,
   "id": "adjusted-former",
   "metadata": {},
   "outputs": [
    {
     "name": "stdout",
     "output_type": "stream",
     "text": [
      "Waiting for configuration server.\n",
      "Waiting for configuration server.\n",
      "Waiting for configuration server.\n",
      "Waiting for configuration server.\n",
      "Waiting for configuration server.\n",
      "Waiting for application status.\n",
      "Waiting for application status.\n",
      "Finished deployment.\n"
     ]
    }
   ],
   "source": [
    "import os\n",
    "from vespa.package import VespaDocker\n",
    "\n",
    "disk_folder_news = os.path.join(os.getcwd(), \"sample-apps/news/app-3-searching/\")\n",
    "vespa_docker_news = VespaDocker(\n",
    "    disk_folder=disk_folder_news, \n",
    "    container_memory=\"8G\", \n",
    "    port=8090\n",
    ")\n",
    "app = vespa_docker_news.deploy_from_disk(application_name=\"news\")"
   ]
  },
  {
   "cell_type": "markdown",
   "id": "electronic-extent",
   "metadata": {},
   "source": [
    "Again, `app` holds an instance of the Vespa class just like our first example, and we can use it to feed and query the application just deployed. "
   ]
  },
  {
   "cell_type": "markdown",
   "id": "alone-armstrong",
   "metadata": {},
   "source": [
    "## Final thoughts"
   ]
  },
  {
   "cell_type": "markdown",
   "id": "european-terror",
   "metadata": {},
   "source": [
    "We covered three different ways to connect to a `Vespa` application from python using the `pyvespa` library. Those methods provide great workflow flexibility. They allow you to quickly get started with pyvespa experimentation while enabling you to modify Vespa config files to include features not available in the pyvespa API without losing the ability to experiment with the added features."
   ]
  },
  {
   "cell_type": "markdown",
   "id": "arbitrary-balance",
   "metadata": {},
   "source": [
    "## Clean up environment"
   ]
  },
  {
   "cell_type": "code",
   "execution_count": 8,
   "id": "level-protocol",
   "metadata": {},
   "outputs": [],
   "source": [
    "from shutil import rmtree\n",
    "\n",
    "rmtree(disk_folder, ignore_errors=True)\n",
    "vespa_docker.container.stop()\n",
    "vespa_docker.container.remove()\n",
    "\n",
    "rmtree(disk_folder_news, ignore_errors=True)\n",
    "vespa_docker_news.container.stop()\n",
    "vespa_docker_news.container.remove()"
   ]
  }
 ],
 "metadata": {
  "kernelspec": {
   "display_name": "Python 3",
   "language": "python",
   "name": "python3"
  },
  "language_info": {
   "codemirror_mode": {
    "name": "ipython",
    "version": 3
   },
   "file_extension": ".py",
   "mimetype": "text/x-python",
   "name": "python",
   "nbconvert_exporter": "python",
   "pygments_lexer": "ipython3",
   "version": "3.9.1"
  }
 },
 "nbformat": 4,
 "nbformat_minor": 5
}
