{
 "cells": [
  {
   "cell_type": "markdown",
   "metadata": {},
   "source": [
    "<picture>\n",
    "  <source media=\"(prefers-color-scheme: dark)\" srcset=\"https://vespa.ai/assets/vespa-ai-logo-heather.svg\">\n",
    "  <source media=\"(prefers-color-scheme: light)\" srcset=\"https://vespa.ai/assets/vespa-ai-logo-rock.svg\">\n",
    "  <img alt=\"#Vespa\" width=\"200\" src=\"https://vespa.ai/assets/vespa-ai-logo-rock.svg\" style=\"margin-bottom: 25px;\">\n",
    "</picture>\n",
    "\n",
    "# Querying Vespa\n",
    "\n",
    "This guide goes through how to query a Vespa instance using the Query API\n",
    "and https://cord19.vespa.ai/ app as an example. "
   ]
  },
  {
   "cell_type": "markdown",
   "metadata": {},
   "source": [
    "<div class=\"alert alert-info\">\n",
    "    Refer to <a href=\"https://pyvespa.readthedocs.io/en/latest/troubleshooting.html\">troubleshooting</a>\n",
    "    for any problem when running this guide.\n",
    "</div>"
   ]
  },
  {
   "cell_type": "markdown",
   "metadata": {},
   "source": [
    "You can run this tutorial in Google Colab:\n",
    "\n",
    "[![Open In Colab](https://colab.research.google.com/assets/colab-badge.svg)](https://colab.research.google.com/github/vespa-engine/pyvespa/blob/master/docs/sphinx/source/query.ipynb)"
   ]
  },
  {
   "cell_type": "code",
   "execution_count": null,
   "metadata": {},
   "outputs": [],
   "source": [
    "!pip3 install pyvespa"
   ]
  },
  {
   "cell_type": "markdown",
   "metadata": {},
   "source": [
    "Connect to a running Vespa instance. "
   ]
  },
  {
   "cell_type": "code",
   "execution_count": null,
   "metadata": {},
   "outputs": [],
   "source": [
    "from vespa.application import Vespa\n",
    "from vespa.io import VespaQueryResponse\n",
    "from vespa.exceptions import VespaError\n",
    "\n",
    "app = Vespa(url=\"https://api.cord19.vespa.ai\")"
   ]
  },
  {
   "cell_type": "markdown",
   "metadata": {},
   "source": [
    "See the [Vespa query language](https://docs.vespa.ai/en/reference/query-api-reference.html)\n",
    "for Vespa query api request parameters.\n",
    "\n",
    "The YQL [userQuery()](https://docs.vespa.ai/en/reference/query-language-reference.html#userquery)\n",
    "operator uses the query read from `query`. The query also specificies to use the app specific [bm25 rank profile](https://docs.vespa.ai/en/reference/bm25.html). The code \n",
    "uses [context manager](https://realpython.com/python-with-statement/) `with session` statement to make sure that connection pools are released. If\n",
    "you attempt to make multiple queries, this is important as each query will not have to setup new connections.  "
   ]
  },
  {
   "cell_type": "code",
   "execution_count": null,
   "metadata": {},
   "outputs": [],
   "source": [
    "with app.syncio() as session:\n",
    "    response: VespaQueryResponse = session.query(\n",
    "        yql=\"select documentid, cord_uid, title, abstract from sources * where userQuery()\",\n",
    "        hits=1,\n",
    "        query=\"Is remdesivir an effective treatment for COVID-19?\",\n",
    "        ranking=\"bm25\",\n",
    "    )\n",
    "    print(response.is_successful())\n",
    "    print(response.url)"
   ]
  },
  {
   "cell_type": "markdown",
   "metadata": {},
   "source": [
    "Alternatively, if the native [Vespa query parameter](https://docs.vespa.ai/en/reference/query-api-reference.html) \n",
    "contains \".\", which cannot be used as a `kwarg`, the parameters can be sent as HTTP POST with \n",
    "the `body` argument. In this case `ranking` is an alias of `ranking.profile`, but using `ranking.profile` as a `**kwargs` argument is not allowed in python. This\n",
    "will combine HTTP parameters with a HTTP POST body."
   ]
  },
  {
   "cell_type": "code",
   "execution_count": null,
   "metadata": {},
   "outputs": [],
   "source": [
    "with app.syncio() as session:\n",
    "    response: VespaQueryResponse = session.query(\n",
    "        hits=1,\n",
    "        body={\n",
    "            \"yql\": \"select documentid, cord_uid, title, abstract from sources * where userQuery()\",\n",
    "            \"query\": \"Is remdesivir an effective treatment for COVID-19?\",\n",
    "            \"ranking.profile\": \"bm25\",\n",
    "            \"presentation.timing\": True,\n",
    "        },\n",
    "    )\n",
    "    print(response.is_successful())"
   ]
  },
  {
   "cell_type": "markdown",
   "metadata": {},
   "source": [
    "The query specified that we wanted one hit:"
   ]
  },
  {
   "cell_type": "code",
   "execution_count": null,
   "metadata": {},
   "outputs": [],
   "source": [
    "response.hits"
   ]
  },
  {
   "cell_type": "markdown",
   "metadata": {},
   "source": [
    "Example of iterating over the returned hits obtained from `respone.hits`, extracting the `cord_uid` field:"
   ]
  },
  {
   "cell_type": "code",
   "execution_count": null,
   "metadata": {},
   "outputs": [],
   "source": [
    "[hit[\"fields\"][\"cord_uid\"] for hit in response.hits]"
   ]
  },
  {
   "cell_type": "markdown",
   "metadata": {},
   "source": [
    "Access the full JSON response in the Vespa\n",
    "[default JSON result format](https://docs.vespa.ai/en/reference/default-result-format.html):"
   ]
  },
  {
   "cell_type": "code",
   "execution_count": null,
   "metadata": {},
   "outputs": [],
   "source": [
    "response.json"
   ]
  },
  {
   "cell_type": "markdown",
   "metadata": {},
   "source": [
    "## Query Performance\n",
    "\n",
    "There are several things that impact end-to-end query performance\n",
    "\n",
    "- HTTP layer performance, connecting handling, mututal TLS handshake and network round-trip latency \n",
    "  - Make sure to re-use connections using context manager `with vespa.app.syncio():` to avoid setting up new connections\n",
    "  for every unique query. See [http best practises](https://cloud.vespa.ai/en/http-best-practices)\n",
    "  - The size of the fields and the number of hits requested also greatly impacts network performance, a larger payload means higher latency. \n",
    "  - By adding `\"presentation.timing\": True` as a request parameter, the Vespa response includes the server side processing (also including reading the query \n",
    "  from network, but not delivering the result over the network). This can be handy to debug latency. \n",
    "- Vespa performance, the features used inside the Vespa instance. \n",
    "\n"
   ]
  },
  {
   "cell_type": "code",
   "execution_count": null,
   "metadata": {},
   "outputs": [],
   "source": [
    "with app.syncio(connections=12) as session:\n",
    "    response: VespaQueryResponse = session.query(\n",
    "        hits=1,\n",
    "        body={\n",
    "            \"yql\": \"select documentid, cord_uid, title, abstract from sources * where userQuery()\",\n",
    "            \"query\": \"Is remdesivir an effective treatment for COVID-19?\",\n",
    "            \"ranking.profile\": \"bm25\",\n",
    "            \"presentation.timing\": True,\n",
    "        },\n",
    "    )\n",
    "    print(response.is_successful())"
   ]
  },
  {
   "cell_type": "markdown",
   "metadata": {},
   "source": [
    "## Error handling\n",
    "\n",
    "Vespa's default query timeout is 500ms, PyVespa will by default retry up to 3 times for queries\n",
    "that return response codes like 429, 500,503 and 504. A `VespaError` is raised if retries did not end up with success. In the following\n",
    "example we set a very low [timeout](https://docs.vespa.ai/en/reference/query-api-reference.html#timeout) of `1ms` which will cause \n",
    "Vespa to time out the request and it returns a 504 http error code. The underlaying error is wrapped in a `VespaError` with\n",
    "the payload error message returned from Vespa:\n"
   ]
  },
  {
   "cell_type": "code",
   "execution_count": null,
   "metadata": {},
   "outputs": [],
   "source": [
    "with app.syncio(connections=12) as session:\n",
    "    try:\n",
    "        response: VespaQueryResponse = session.query(\n",
    "            hits=1,\n",
    "            body={\n",
    "                \"yql\": \"select * from sources * where userQuery()\",\n",
    "                \"query\": \"Is remdesivir an effective treatment for COVID-19?\",\n",
    "                \"timeout\": \"1ms\",\n",
    "            },\n",
    "        )\n",
    "        print(response.is_successful())\n",
    "    except VespaError as e:\n",
    "        print(str(e))"
   ]
  },
  {
   "cell_type": "markdown",
   "metadata": {},
   "source": [
    "In the following example we forgot to include the `query` parameter, but still reference it in the yql, this cause a bad client request response (400):"
   ]
  },
  {
   "cell_type": "code",
   "execution_count": null,
   "metadata": {},
   "outputs": [],
   "source": [
    "with app.syncio(connections=12) as session:\n",
    "    try:\n",
    "        response: VespaQueryResponse = session.query(\n",
    "            hits=1, body={\"yql\": \"select * from sources * where userQuery()\"}\n",
    "        )\n",
    "        print(response.is_successful())\n",
    "    except VespaError as e:\n",
    "        print(str(e))"
   ]
  }
 ],
 "metadata": {
  "kernelspec": {
   "display_name": "Python 3.11.4 64-bit",
   "language": "python",
   "name": "python3"
  },
  "language_info": {
   "codemirror_mode": {
    "name": "ipython",
    "version": 3
   },
   "file_extension": ".py",
   "mimetype": "text/x-python",
   "name": "python",
   "nbconvert_exporter": "python",
   "pygments_lexer": "ipython3",
   "version": "3.11.4"
  },
  "vscode": {
   "interpreter": {
    "hash": "b0fa6594d8f4cbf19f97940f81e996739fb7646882a419484c72d19e05852a7e"
   }
  }
 },
 "nbformat": 4,
 "nbformat_minor": 4
}
