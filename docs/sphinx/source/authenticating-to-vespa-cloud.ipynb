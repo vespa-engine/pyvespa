{
    "cells": [
        {
            "cell_type": "markdown",
            "id": "given-adoption",
            "metadata": {
                "pycharm": {
                    "name": "#%% md\n"
                }
            },
            "source": [
                "<picture>\n",
                "  <source media=\"(prefers-color-scheme: dark)\" srcset=\"https://assets.vespa.ai/logos/Vespa-logo-green-RGB.svg\">\n",
                "  <source media=\"(prefers-color-scheme: light)\" srcset=\"https://assets.vespa.ai/logos/Vespa-logo-dark-RGB.svg\">\n",
                "  <img alt=\"#Vespa\" width=\"200\" src=\"https://assets.vespa.ai/logos/Vespa-logo-dark-RGB.svg\" style=\"margin-bottom: 25px;\">\n",
                "</picture>\n",
                "\n",
                "# Authenticating to Vespa Cloud\n",
                "\n",
                "Security is a top priority for the Vespa Team.\n",
                "We understand that as a newcomer to Vespa, the different authentication methods may not always be immediately clear.\n",
                "\n",
                "This notebook is intended to provide some clarity on the different authentication methods needed when interacting with Vespa Cloud for different purposes.\n"
            ]
        },
        {
            "cell_type": "markdown",
            "id": "4f8c1448",
            "metadata": {},
            "source": [
                "<div class=\"alert alert-info\">\n",
                "    Refer to <a href=\"https://pyvespa.readthedocs.io/en/latest/troubleshooting.html\">troubleshooting</a>\n",
                "    for any problem when running this guide.\n",
                "</div>\n"
            ]
        },
        {
            "cell_type": "markdown",
            "id": "148d275b",
            "metadata": {},
            "source": [
                "**Pre-requisite**: Create a tenant at [cloud.vespa.ai](https://cloud.vespa.ai/), save the tenant name.\n",
                "\n",
                "[![Open In Colab](https://colab.research.google.com/assets/colab-badge.svg)](https://colab.research.google.com/github/vespa-engine/pyvespa/blob/master/docs/sphinx/source/authenticating-to-vespa-cloud.ipynb)\n"
            ]
        },
        {
            "cell_type": "markdown",
            "id": "366b0d83",
            "metadata": {},
            "source": [
                "## Install\n",
                "\n",
                "Install [pyvespa](https://pyvespa.readthedocs.io/) >= 0.45\n",
                "and the [Vespa CLI](https://docs.vespa.ai/en/vespa-cli.html).\n"
            ]
        },
        {
            "cell_type": "code",
            "execution_count": 1,
            "id": "136750de",
            "metadata": {},
            "outputs": [],
            "source": [
                "!pip3 install pyvespa vespacli"
            ]
        },
        {
            "cell_type": "markdown",
            "id": "0229ff0e",
            "metadata": {},
            "source": [
                "For background context, it is useful to read the [Vespa Cloud Security Guide](https://cloud.vespa.ai/en/security/guide).\n",
                "\n",
                "## Control-plane vs Data-plane\n",
                "\n",
                "This may be self-explanatory for some, but it is worth mentioning that Vespa Cloud has two main components: the control-plane and the data-plane, which provide access to different functionalities.\n"
            ]
        },
        {
            "cell_type": "markdown",
            "id": "eb2438b5",
            "metadata": {},
            "source": [
                "<table border=\"1\" class=\"dataframe\">\n",
                "  <thead>\n",
                "    <tr style=\"text-align: right;\">\n",
                "      <th></th>\n",
                "      <th>Control-plane</th>\n",
                "      <th>Data-plane</th>\n",
                "      <th>Comments</th>\n",
                "    </tr>\n",
                "  </thead>\n",
                "  <tbody>\n",
                "    <tr>\n",
                "      <td>Deploy application</td>\n",
                "      <td>✅</td>\n",
                "      <td>❌</td>\n",
                "      <td></td>\n",
                "    </tr>\n",
                "    <tr>\n",
                "      <td>Modify application (re-deploy)</td>\n",
                "      <td>✅</td>\n",
                "      <td>❌</td>\n",
                "      <td></td>\n",
                "    </tr>\n",
                "    <tr>\n",
                "      <td>Add or modify data-plane certs or token(s)</td>\n",
                "      <td>✅</td>\n",
                "      <td>❌</td>\n",
                "      <td></td>\n",
                "    </tr>\n",
                "    <tr>\n",
                "      <td>Feed data</td>\n",
                "      <td>❌</td>\n",
                "      <td>✅</td>\n",
                "      <td></td>\n",
                "    </tr>\n",
                "    <tr>\n",
                "      <td>Query data</td>\n",
                "      <td>❌</td>\n",
                "      <td>✅</td>\n",
                "      <td></td>\n",
                "    </tr>\n",
                "    <tr>\n",
                "      <td>Delete data</td>\n",
                "      <td>❌</td>\n",
                "      <td>✅</td>\n",
                "      <td></td>\n",
                "    </tr>\n",
                "    <tr>\n",
                "      <td><a href=\"https://docs.vespa.ai/en/visiting.html\">Visiting</a></td>\n",
                "      <td>❌</td>\n",
                "      <td>✅</td>\n",
                "      <td></td>\n",
                "    </tr>\n",
                "    <tr>\n",
                "      <td><a href=\"https://cloud.vespa.ai/en/monitoring\">Monitoring</a></td>\n",
                "      <td>❌</td>\n",
                "      <td>✅</td>\n",
                "      <td></td>\n",
                "    </tr>\n",
                "    <tr>\n",
                "      <td>Get application package</td>\n",
                "      <td>✅</td>\n",
                "      <td>❌</td>\n",
                "      <td></td>\n",
                "    </tr>\n",
                "    <tr>\n",
                "      <td><a href=\"https://docs.vespa.ai/en/reference/vespa-cli/vespa_auth_login.html\">vespa auth login</a></td>\n",
                "      <td>✅</td>\n",
                "      <td>❌</td>\n",
                "      <td>Interactive control-plane login in browser</td>\n",
                "    </tr>\n",
                "    <tr>\n",
                "      <td><a href=\"https://docs.vespa.ai/en/reference/vespa-cli/vespa_auth_api-key.html\">vespa auth api-key</a></td>\n",
                "      <td>✅</td>\n",
                "      <td>❌</td>\n",
                "      <td>Headless control-plane authentication with an API key generated in the Vespa Cloud console</td>\n",
                "    </tr>\n",
                "    <tr>\n",
                "      <td><a href=\"https://docs.vespa.ai/en/reference/vespa-cli/vespa_auth_cert.html\">vespa auth cert</a></td>\n",
                "      <td>❌</td>\n",
                "      <td>✅</td>\n",
                "      <td>Used to generate a certificate for a data-plane connection</td>\n",
                "    </tr>\n",
                "    <tr>\n",
                "      <td><a href=\"https://pyvespa.readthedocs.io/en/latest/reference-api.html#vespacloud\">VespaCloud</a></td>\n",
                "      <td>✅</td>\n",
                "      <td>❌</td>\n",
                "      <td>`VespaCloud` is a control-plane connection to Vespa Cloud</td>\n",
                "    </tr>\n",
                "    <tr>\n",
                "      <td><a href=\"https://pyvespa.readthedocs.io/en/latest/reference-api.html#vespadocker\">VespaDocker</a></td>\n",
                "      <td>✅</td>\n",
                "      <td>❌</td>\n",
                "      <td>`VespaDocker` is a control-plane connection to a Vespa server running in Docker</td>\n",
                "    </tr>\n",
                "    <tr>\n",
                "      <td><a href=\"https://pyvespa.readthedocs.io/en/latest/reference-api.html#vespa\">Vespa</a></td>\n",
                "      <td>❌</td>\n",
                "      <td>✅</td>\n",
                "      <td>`Vespa` is a data-plane connection to an existing Vespa application</td>\n",
                "    </tr>\n",
                "  </tbody>\n",
                "</table>\n"
            ]
        },
        {
            "cell_type": "markdown",
            "id": "301360d5",
            "metadata": {},
            "source": [
                "## Defining your application\n",
                "\n",
                "To initialize a connection to Vespa Cloud, you need to define your tenant name and application name.\n"
            ]
        },
        {
            "cell_type": "code",
            "execution_count": 2,
            "id": "9ca4da83",
            "metadata": {},
            "outputs": [],
            "source": [
                "# Replace with your tenant name from the Vespa Cloud Console\n",
                "tenant_name = \"vespa-team\"\n",
                "# Replace with your application name (does not need to exist yet)\n",
                "application = \"authnotebook\""
            ]
        },
        {
            "cell_type": "markdown",
            "id": "bfc6b343",
            "metadata": {},
            "source": [
                "## Defining your application package\n",
                "\n",
                "An [application package](https://docs.vespa.ai/en/application-packages.html) is the whole Vespa application configuration.\n",
                "It can either be constructed directly from python (as we will do below) or initalized from a path, for example by cloning a sample application from the [Vespa sample apps](https://github.com/vespa-engine/sample-apps).\n",
                "\n",
                "<div class=\"alert alert-info\">\n",
                "    Tip: You can use the command <a href=\"https://docs.vespa.ai/en/reference/vespa-cli/vespa_clone.html#examples\">vespa clone album-recommendation my-app</a> to clone a single sample app if you have the Vespa CLI installed.\n",
                "</div>\n",
                "\n",
                "For this guide, we will create a minimal application package. See other guides for more complex examples.\n"
            ]
        },
        {
            "cell_type": "code",
            "execution_count": 3,
            "id": "c405f35c",
            "metadata": {},
            "outputs": [],
            "source": [
                "from vespa.package import ApplicationPackage, Field, Schema, Document\n",
                "\n",
                "schema_name = \"doc\"\n",
                "\n",
                "schema = Schema(\n",
                "    name=schema_name,\n",
                "    document=Document(\n",
                "        fields=[\n",
                "            Field(name=\"id\", type=\"string\", indexing=[\"summary\"]),\n",
                "            Field(\n",
                "                name=\"title\",\n",
                "                type=\"string\",\n",
                "                indexing=[\"index\", \"summary\"],\n",
                "                index=\"enable-bm25\",\n",
                "            ),\n",
                "            Field(\n",
                "                name=\"body\",\n",
                "                type=\"string\",\n",
                "                indexing=[\"index\", \"summary\"],\n",
                "                index=\"enable-bm25\",\n",
                "            ),\n",
                "        ]\n",
                "    ),\n",
                ")\n",
                "\n",
                "package = ApplicationPackage(name=application, schema=[schema])"
            ]
        },
        {
            "cell_type": "markdown",
            "id": "03d2c531",
            "metadata": {},
            "source": [
                "## Control-plane authentication\n",
                "\n",
                "Next, we need to authenticate to the Vespa Cloud control-plane.\n",
                "There are two ways to authenticate to the control-plane:\n",
                "\n",
                "### 1. **Interactive login**:\n",
                "\n",
                "This is the recommended way to authenticate to the control-plane. It opens a browser window for you to authenticate with either google or github.\n",
                "\n",
                "This method does not work on windows, currently. You can run `vespa auth login` in a terminal to authenticate first, and then use this method (which will then reuse the generated token).\n",
                "\n",
                "(We will not run this method here, as the notebook is run in CI, but you should run it in your local environment)\n",
                "\n",
                "```python\n",
                "from vespa.deployment import VespaCloud\n",
                "\n",
                "vespa_cloud = VespaCloud(\n",
                "    tenant=tenant_name,\n",
                "    application=application,\n",
                "    application_package=package, # Could also initialize from application_root (path to application package)\n",
                ")\n",
                "```\n",
                "\n",
                "You should see something similar to this:\n",
                "\n",
                "```log\n",
                "Checking for access token in auth.json...\n",
                "Access token expired. Please re-authenticate.\n",
                "Your Device Confirmation code is: DRDT-ZZDC\n",
                "Automatically open confirmation page in your default browser? [Y/n] y\n",
                "Opened link in your browser: https://vespa.auth0.com/activate?user_code=DRDT-ZZDC\n",
                "Waiting for login to complete in browser ... done;1m⣯\n",
                "Success: Logged in\n",
                " auth.json created at /Users/thomas/.vespa/auth.json\n",
                "Successfully obtained access token for control plane access.\n",
                "```\n"
            ]
        },
        {
            "cell_type": "markdown",
            "id": "63f1dd3d",
            "metadata": {},
            "source": [
                "### 2. **API-key authentication**\n",
                "\n",
                "This is a headless way to authenticate to the control-plane.\n",
                "\n",
                "Note that the key must be generated, either with `vespa auth api-key` or in the Vespa Cloud console directly.\n"
            ]
        },
        {
            "cell_type": "code",
            "execution_count": 4,
            "id": "136b884e",
            "metadata": {},
            "outputs": [
                {
                    "name": "stdout",
                    "output_type": "stream",
                    "text": [
                        "Setting application...\n",
                        "Running: vespa config set application vespa-team.authnotebook\n",
                        "Setting target cloud...\n",
                        "Running: vespa config set target cloud\n",
                        "\n",
                        "Api-key found for control plane access. Using api-key.\n"
                    ]
                }
            ],
            "source": [
                "from vespa.deployment import VespaCloud\n",
                "from vespa.application import Vespa\n",
                "import os\n",
                "\n",
                "# Key is only used for CI/CD. Can be removed if logging in interactively\n",
                "key = os.getenv(\"VESPA_TEAM_API_KEY\", None)\n",
                "if key is not None:\n",
                "    key = key.replace(r\"\\n\", \"\\n\")  # To parse key correctly\n",
                "\n",
                "\n",
                "vespa_cloud = VespaCloud(\n",
                "    tenant=tenant_name,  # Note that the name cannot contain the characters `-` or `_`.\n",
                "    application=application,\n",
                "    key_content=key,  # Prefer to use  key_location=\"<path-to-key-file.pem>\"\n",
                "    application_package=package,\n",
                ")"
            ]
        },
        {
            "cell_type": "markdown",
            "id": "dec50045",
            "metadata": {},
            "source": [
                "When you have authenticated to the control-plane of Vespa Cloud, key/cert for data-plane authentication will be generated automatically for you, if none exists.\n",
                "\n",
                "The `data-plane-public-cert.pem` will be added to the application package (in `/security/clients.pem` directory) that will be deployed. You should keep them safe, as any app or users that need data-plane access to your Vespa application will need them.\n",
                "\n",
                "For `dev`-deployments, we allow redeploying an application with a different key/cert than the previous deployment. For `prod`-deployments however, this is not allowed, and will require a `validation-overrides`-specification in the application package.\n"
            ]
        },
        {
            "cell_type": "markdown",
            "id": "careful-savage",
            "metadata": {},
            "source": [
                "## Deploy to Vespa Cloud\n",
                "\n",
                "The app is now defined and ready to deploy to Vespa Cloud.\n",
                "\n",
                "Deploy `package` to Vespa Cloud, by creating an instance of\n",
                "[VespaCloud](https://pyvespa.readthedocs.io/en/latest/reference-api.html#vespa.deployment.VespaCloud):\n"
            ]
        },
        {
            "cell_type": "markdown",
            "id": "197c0a27",
            "metadata": {},
            "source": [
                "The following will upload the application package to Vespa Cloud Dev Zone (`aws-us-east-1c`), read more about [Vespa Zones](https://cloud.vespa.ai/en/reference/zones.html).\n",
                "The Vespa Cloud Dev Zone is considered as a sandbox environment where resources are down-scaled and idle deployments are expired automatically.\n",
                "For information about production deployments, see the following [docs](https://cloud.vespa.ai/en/reference/deployment).\n",
                "\n",
                "> Note: Deployments to dev and perf expire after 14 days of inactivity, i.e., 14 days after running deploy. This applies to all plans, not only the Free Trial. Use the Vespa Console to extend the expiry period, or redeploy the application to add 14 more days.\n"
            ]
        },
        {
            "cell_type": "code",
            "execution_count": 5,
            "id": "337d9b05",
            "metadata": {},
            "outputs": [
                {
                    "name": "stdout",
                    "output_type": "stream",
                    "text": [
                        "Deployment started in run 1 of dev-aws-us-east-1c for vespa-team.authnotebook. This may take a few minutes the first time.\n",
                        "INFO    [06:35:26]  Deploying platform version 8.408.12 and application dev build 1 for dev-aws-us-east-1c of default ...\n",
                        "INFO    [06:35:27]  Using CA signed certificate version 1\n",
                        "INFO    [06:35:27]  Using 1 nodes in container cluster 'authnotebook_container'\n",
                        "INFO    [06:35:30]  Session 309490 for tenant 'vespa-team' prepared, but activation failed: 1/2 application hosts and 2/2 admin hosts for vespa-team.authnotebook have completed provisioning and bootstrapping, still waiting for h98840.dev.us-east-1c.aws.vespa-cloud.net\n",
                        "INFO    [06:35:33]  Deploying platform version 8.408.12 and application dev build 1 for dev-aws-us-east-1c of default ...\n",
                        "INFO    [06:35:33]  1/2 application hosts and 2/2 admin hosts for vespa-team.authnotebook have completed provisioning and bootstrapping, still waiting for h98840.dev.us-east-1c.aws.vespa-cloud.net\n",
                        "INFO    [06:35:42]  Deploying platform version 8.408.12 and application dev build 1 for dev-aws-us-east-1c of default ...\n",
                        "INFO    [06:35:42]  1/2 application hosts and 2/2 admin hosts for vespa-team.authnotebook have completed provisioning and bootstrapping, still waiting for h98840.dev.us-east-1c.aws.vespa-cloud.net\n",
                        "INFO    [06:35:52]  Deploying platform version 8.408.12 and application dev build 1 for dev-aws-us-east-1c of default ...\n",
                        "INFO    [06:35:52]  1/2 application hosts and 2/2 admin hosts for vespa-team.authnotebook have completed provisioning and bootstrapping, still waiting for h98840.dev.us-east-1c.aws.vespa-cloud.net\n",
                        "INFO    [06:36:03]  Deploying platform version 8.408.12 and application dev build 1 for dev-aws-us-east-1c of default ...\n",
                        "INFO    [06:36:03]  1/2 application hosts and 2/2 admin hosts for vespa-team.authnotebook have completed provisioning and bootstrapping, still waiting for h98840.dev.us-east-1c.aws.vespa-cloud.net\n",
                        "INFO    [06:36:14]  Deploying platform version 8.408.12 and application dev build 1 for dev-aws-us-east-1c of default ...\n",
                        "INFO    [06:36:14]  1/2 application hosts and 2/2 admin hosts for vespa-team.authnotebook have completed provisioning and bootstrapping, still waiting for h98840.dev.us-east-1c.aws.vespa-cloud.net\n",
                        "INFO    [06:36:22]  Deploying platform version 8.408.12 and application dev build 1 for dev-aws-us-east-1c of default ...\n",
                        "INFO    [06:36:22]  1/2 application hosts and 2/2 admin hosts for vespa-team.authnotebook have completed provisioning and bootstrapping, still waiting for h98840.dev.us-east-1c.aws.vespa-cloud.net\n",
                        "INFO    [06:36:33]  Deploying platform version 8.408.12 and application dev build 1 for dev-aws-us-east-1c of default ...\n",
                        "INFO    [06:36:33]  1/2 application hosts and 2/2 admin hosts for vespa-team.authnotebook have completed provisioning and bootstrapping, still waiting for h98840.dev.us-east-1c.aws.vespa-cloud.net\n",
                        "INFO    [06:36:42]  Deploying platform version 8.408.12 and application dev build 1 for dev-aws-us-east-1c of default ...\n",
                        "INFO    [06:36:42]  1/2 application hosts and 2/2 admin hosts for vespa-team.authnotebook have completed provisioning and bootstrapping, still waiting for h98840.dev.us-east-1c.aws.vespa-cloud.net\n",
                        "INFO    [06:36:52]  Deploying platform version 8.408.12 and application dev build 1 for dev-aws-us-east-1c of default ...\n",
                        "INFO    [06:36:53]  1/2 application hosts and 2/2 admin hosts for vespa-team.authnotebook have completed provisioning and bootstrapping, still waiting for h98840.dev.us-east-1c.aws.vespa-cloud.net\n",
                        "INFO    [06:37:03]  Deploying platform version 8.408.12 and application dev build 1 for dev-aws-us-east-1c of default ...\n",
                        "INFO    [06:37:03]  1/2 application hosts and 2/2 admin hosts for vespa-team.authnotebook have completed provisioning and bootstrapping, still waiting for h98840.dev.us-east-1c.aws.vespa-cloud.net\n",
                        "INFO    [06:37:12]  Deploying platform version 8.408.12 and application dev build 1 for dev-aws-us-east-1c of default ...\n",
                        "INFO    [06:37:12]  1/2 application hosts and 2/2 admin hosts for vespa-team.authnotebook have completed provisioning and bootstrapping, still waiting for h98840.dev.us-east-1c.aws.vespa-cloud.net\n",
                        "INFO    [06:37:22]  Deploying platform version 8.408.12 and application dev build 1 for dev-aws-us-east-1c of default ...\n",
                        "INFO    [06:37:22]  1/2 application hosts and 2/2 admin hosts for vespa-team.authnotebook have completed provisioning and bootstrapping, still waiting for h98840.dev.us-east-1c.aws.vespa-cloud.net\n",
                        "INFO    [06:37:33]  Deploying platform version 8.408.12 and application dev build 1 for dev-aws-us-east-1c of default ...\n",
                        "INFO    [06:37:33]  1/2 application hosts and 2/2 admin hosts for vespa-team.authnotebook have completed provisioning and bootstrapping, still waiting for h98840.dev.us-east-1c.aws.vespa-cloud.net\n",
                        "INFO    [06:37:43]  Deploying platform version 8.408.12 and application dev build 1 for dev-aws-us-east-1c of default ...\n",
                        "INFO    [06:37:43]  1/2 application hosts and 2/2 admin hosts for vespa-team.authnotebook have completed provisioning and bootstrapping, still waiting for h98840.dev.us-east-1c.aws.vespa-cloud.net\n",
                        "INFO    [06:37:53]  Deploying platform version 8.408.12 and application dev build 1 for dev-aws-us-east-1c of default ...\n",
                        "INFO    [06:37:54]  1/2 application hosts and 2/2 admin hosts for vespa-team.authnotebook have completed provisioning and bootstrapping, still waiting for h98840.dev.us-east-1c.aws.vespa-cloud.net\n",
                        "INFO    [06:38:03]  Deploying platform version 8.408.12 and application dev build 1 for dev-aws-us-east-1c of default ...\n",
                        "INFO    [06:38:03]  1/2 application hosts and 2/2 admin hosts for vespa-team.authnotebook have completed provisioning and bootstrapping, still waiting for h98840.dev.us-east-1c.aws.vespa-cloud.net\n",
                        "INFO    [06:38:12]  Deploying platform version 8.408.12 and application dev build 1 for dev-aws-us-east-1c of default ...\n",
                        "INFO    [06:38:12]  1/2 application hosts and 2/2 admin hosts for vespa-team.authnotebook have completed provisioning and bootstrapping, still waiting for h98840.dev.us-east-1c.aws.vespa-cloud.net\n",
                        "INFO    [06:38:22]  Deploying platform version 8.408.12 and application dev build 1 for dev-aws-us-east-1c of default ...\n",
                        "INFO    [06:38:22]  1/2 application hosts and 2/2 admin hosts for vespa-team.authnotebook have completed provisioning and bootstrapping, still waiting for h98840.dev.us-east-1c.aws.vespa-cloud.net\n",
                        "INFO    [06:38:33]  Deploying platform version 8.408.12 and application dev build 1 for dev-aws-us-east-1c of default ...\n",
                        "INFO    [06:38:34]  1/2 application hosts and 2/2 admin hosts for vespa-team.authnotebook have completed provisioning and bootstrapping, still waiting for h98840.dev.us-east-1c.aws.vespa-cloud.net\n",
                        "INFO    [06:38:42]  Deploying platform version 8.408.12 and application dev build 1 for dev-aws-us-east-1c of default ...\n",
                        "INFO    [06:38:43]  1/2 application hosts and 2/2 admin hosts for vespa-team.authnotebook have completed provisioning and bootstrapping, still waiting for h98840.dev.us-east-1c.aws.vespa-cloud.net\n",
                        "INFO    [06:38:52]  Deploying platform version 8.408.12 and application dev build 1 for dev-aws-us-east-1c of default ...\n",
                        "INFO    [06:38:53]  1/2 application hosts and 2/2 admin hosts for vespa-team.authnotebook have completed provisioning and bootstrapping, still waiting for h98840.dev.us-east-1c.aws.vespa-cloud.net\n",
                        "INFO    [06:39:02]  Deploying platform version 8.408.12 and application dev build 1 for dev-aws-us-east-1c of default ...\n",
                        "INFO    [06:39:03]  1/2 application hosts and 2/2 admin hosts for vespa-team.authnotebook have completed provisioning and bootstrapping, still waiting for h98840.dev.us-east-1c.aws.vespa-cloud.net\n",
                        "INFO    [06:39:12]  Deploying platform version 8.408.12 and application dev build 1 for dev-aws-us-east-1c of default ...\n",
                        "INFO    [06:39:13]  1/2 application hosts and 2/2 admin hosts for vespa-team.authnotebook have completed provisioning and bootstrapping, still waiting for h98840.dev.us-east-1c.aws.vespa-cloud.net\n",
                        "INFO    [06:39:22]  Deploying platform version 8.408.12 and application dev build 1 for dev-aws-us-east-1c of default ...\n",
                        "INFO    [06:39:22]  1/2 application hosts and 2/2 admin hosts for vespa-team.authnotebook have completed provisioning and bootstrapping, still waiting for h98840.dev.us-east-1c.aws.vespa-cloud.net\n",
                        "INFO    [06:39:34]  Deploying platform version 8.408.12 and application dev build 1 for dev-aws-us-east-1c of default ...\n",
                        "INFO    [06:39:35]  Session 309490 for vespa-team.authnotebook.default activated\n",
                        "INFO    [06:39:56]  ######## Details for all nodes ########\n",
                        "INFO    [06:39:56]  h98612b.dev.us-east-1c.aws.vespa-cloud.net: expected to be UP\n",
                        "INFO    [06:39:56]  --- platform vespa/cloud-tenant-rhel8:8.408.12\n",
                        "INFO    [06:39:56]  --- storagenode on port 19102 has not started \n",
                        "INFO    [06:39:56]  --- searchnode on port 19107 has not started \n",
                        "INFO    [06:39:56]  --- distributor on port 19111 has not started \n",
                        "INFO    [06:39:56]  --- metricsproxy-container on port 19092 has not started \n",
                        "INFO    [06:39:56]  h97566a.dev.us-east-1c.aws.vespa-cloud.net: expected to be UP\n",
                        "INFO    [06:39:56]  --- platform vespa/cloud-tenant-rhel8:8.408.12\n",
                        "INFO    [06:39:56]  --- logserver-container on port 4080 has not started \n",
                        "INFO    [06:39:56]  --- metricsproxy-container on port 19092 has not started \n",
                        "INFO    [06:39:56]  h98840a.dev.us-east-1c.aws.vespa-cloud.net: expected to be UP\n",
                        "INFO    [06:39:56]  --- platform vespa/cloud-tenant-rhel8:8.408.12\n",
                        "INFO    [06:39:56]  --- container on port 4080 has not started \n",
                        "INFO    [06:39:56]  --- metricsproxy-container on port 19092 has not started \n",
                        "INFO    [06:39:56]  h98621d.dev.us-east-1c.aws.vespa-cloud.net: expected to be UP\n",
                        "INFO    [06:39:56]  --- platform vespa/cloud-tenant-rhel8:8.408.12\n",
                        "INFO    [06:39:56]  --- container-clustercontroller on port 19050 has not started \n",
                        "INFO    [06:39:56]  --- metricsproxy-container on port 19092 has not started \n",
                        "INFO    [06:40:33]  Found endpoints:\n",
                        "INFO    [06:40:33]  - dev.aws-us-east-1c\n",
                        "INFO    [06:40:33]   |-- https://ea8555a9.c6970ada.z.vespa-app.cloud/ (cluster 'authnotebook_container')\n",
                        "INFO    [06:40:33]  Deployment complete!\n",
                        "Only region: aws-us-east-1c available in dev environment.\n",
                        "Found mtls endpoint for authnotebook_container\n",
                        "URL: https://ea8555a9.c6970ada.z.vespa-app.cloud/\n",
                        "Application is up!\n"
                    ]
                }
            ],
            "source": [
                "app: Vespa = vespa_cloud.deploy()"
            ]
        },
        {
            "cell_type": "markdown",
            "id": "aaae2f91",
            "metadata": {},
            "source": [
                "If the deployment failed, it is possible you forgot to add the key in the Vespa Cloud Console in the `vespa auth api-key` step above.\n",
                "\n",
                "If you can authenticate, you should see lines like the following\n",
                "\n",
                "```\n",
                " Deployment started in run 1 of dev-aws-us-east-1c for mytenant.authdemo.\n",
                "```\n",
                "\n",
                "The deployment takes a few minutes the first time while Vespa Cloud sets up the resources for your Vespa application\n",
                "\n",
                "`app` now holds a reference to a [Vespa](https://pyvespa.readthedocs.io/en/latest/reference-api.html#vespa.application.Vespa) instance. We can access the\n",
                "mTLS protected endpoint name using the control-plane (vespa_cloud) instance. This endpoint we can query and feed to (data plane access) using the\n",
                "mTLS certificate generated in previous steps.\n"
            ]
        },
        {
            "cell_type": "code",
            "execution_count": 6,
            "id": "98ff13f6",
            "metadata": {},
            "outputs": [
                {
                    "name": "stdout",
                    "output_type": "stream",
                    "text": [
                        "Found mtls endpoint for authnotebook_container\n",
                        "URL: https://ea8555a9.c6970ada.z.vespa-app.cloud/\n"
                    ]
                },
                {
                    "data": {
                        "text/plain": [
                            "'https://ea8555a9.c6970ada.z.vespa-app.cloud/'"
                        ]
                    },
                    "execution_count": 6,
                    "metadata": {},
                    "output_type": "execute_result"
                }
            ],
            "source": [
                "mtls_endpoint = vespa_cloud.get_mtls_endpoint()\n",
                "mtls_endpoint"
            ]
        },
        {
            "cell_type": "markdown",
            "id": "6fa8a717",
            "metadata": {},
            "source": [
                "## Data-plane authentication\n",
                "\n",
                "As we have mentioned, there are two ways to authenticate to the data-plane:\n",
                "\n",
                "### 1. **mTLS - Certificate authentication**\n",
                "\n",
                "This is the default way to authenticate to the data-plane. It uses the certificate which was added to the application package upon deployment.\n",
                "\n",
                "### 2. **Token-based authentication**\n",
                "\n",
                "A more convenient way to authenticate to the data-plane is to use a token. A token must be generated in the Vespa Cloud console.\n",
                "For more details, see the [Security Guide](https://cloud.vespa.ai/en/security/guide#configure-tokens)\n",
                "\n",
                "![add token](_static/add_token.png)\n",
                "\n",
                "Set a reasonable expiry, and copy the token to a safe place, such as for instance a passwordmanager. You will not be able to see it again.\n",
                "\n",
                "After the token is generated, you need to add it as an auth-client to the application you want to access.\n",
                "\n",
                "In pyvespa, this is done by adding the AuthClients to the application package:\n",
                "\n",
                "**NB! - The method below applies to `dev`**\n",
                "\n",
                "The approach described above applies to `dev`-deployments. For `prod`-deployments, it is a little more complex, and you need to add the `AuthClients` to your application package like this:\n",
                "\n",
                "```python\n",
                "from vespa.package import ContainerCluster\n",
                "\n",
                "auth_clients = [\n",
                "            AuthClient(\n",
                "                id=\"mtls\",\n",
                "                permissions=[\"read\"],\n",
                "                parameters=[Parameter(\"certificate\", {\"file\": \"security/clients.pem\"})],\n",
                "            ),\n",
                "            AuthClient(\n",
                "                id=\"token\",\n",
                "                permissions=[\"read\"], # Set the permissions you need\n",
                "                parameters=[Parameter(\"token\", {\"id\": CLIENT_TOKEN_ID})],\n",
                "            ),\n",
                "        ]\n",
                "# Add prod deployment config\n",
                "prod_region = \"aws-us-east-1c\"\n",
                "clusters = [\n",
                "    ContentCluster(\n",
                "        id=f\"{schema_name}_content\",\n",
                "        nodes=Nodes(count=\"2\"),\n",
                "        document_name=schema_name,\n",
                "        min_redundancy=\"2\",\n",
                "    ),\n",
                "    ContainerCluster(\n",
                "        id=f\"{schema_name}_container\",\n",
                "        nodes=Nodes(count=\"2\"),\n",
                "        auth_clients=auth_clients, # Note that the auth_clients are added here for prod deployments\n",
                "    ),\n",
                "]\n",
                "prod_region = \"aws-us-east-1c\"\n",
                "deployment_config = DeploymentConfiguration(\n",
                "    environment=\"prod\", regions=[prod_region]\n",
                ")\n",
                "app_package = ApplicationPackage(name=application, schema=[schema], clusters=clusters, deployment=deployment_config)\n",
                "```\n",
                "\n",
                "See [Application Package reference](https://cloud.vespa.ai/en/reference/application-package) for more details.\n"
            ]
        },
        {
            "cell_type": "code",
            "execution_count": 7,
            "id": "1934d87c",
            "metadata": {},
            "outputs": [],
            "source": [
                "from vespa.package import AuthClient, Parameter\n",
                "\n",
                "CLIENT_TOKEN_ID = \"pyvespa_integration\"\n",
                "# Same as token name from the Vespa Cloud Console\n",
                "auth_clients = [\n",
                "    AuthClient(\n",
                "        id=\"mtls\",  # Note that you still need to include the mtls client.\n",
                "        permissions=[\"read\", \"write\"],\n",
                "        parameters=[Parameter(\"certificate\", {\"file\": \"security/clients.pem\"})],\n",
                "    ),\n",
                "    AuthClient(\n",
                "        id=\"token\",\n",
                "        permissions=[\"read\"],\n",
                "        parameters=[Parameter(\"token\", {\"id\": CLIENT_TOKEN_ID})],\n",
                "    ),\n",
                "]\n",
                "\n",
                "app_package = ApplicationPackage(\n",
                "    name=application, schema=[schema], auth_clients=auth_clients\n",
                ")"
            ]
        },
        {
            "cell_type": "markdown",
            "id": "2c36dfb9",
            "metadata": {},
            "source": [
                "Notice that we added the `read` and `write` permissions to mtls clients, and only `read` to the token client.\n",
                "\n",
                "Make sure to restrict the permissions to suit your needs.\n",
                "\n",
                "Now, we can deploy a new instance of the application package with the new auth-client added:\n",
                "\n",
                "<div class=\"alert alert-info\">\n",
                "    See <a href=\"https://cloud.vespa.ai/en/tenant-apps-instances\">Tenants, apps, instances</a>\n",
                "    for details on terminology for Vespa Cloud.\n",
                "</div>\n"
            ]
        },
        {
            "cell_type": "code",
            "execution_count": 8,
            "id": "9e7bdcc5",
            "metadata": {},
            "outputs": [
                {
                    "name": "stdout",
                    "output_type": "stream",
                    "text": [
                        "Setting application...\n",
                        "Running: vespa config set application vespa-team.authnotebook\n",
                        "Setting target cloud...\n",
                        "Running: vespa config set target cloud\n",
                        "\n",
                        "Api-key found for control plane access. Using api-key.\n",
                        "Deployment started in run 60 of dev-aws-us-east-1c for vespa-team.authnotebook.token. This may take a few minutes the first time.\n",
                        "INFO    [06:40:38]  Deploying platform version 8.408.12 and application dev build 54 for dev-aws-us-east-1c of token ...\n",
                        "INFO    [06:40:39]  Using CA signed certificate version 1\n",
                        "INFO    [06:40:39]  Using 1 nodes in container cluster 'authnotebook_container'\n",
                        "WARNING [06:40:41]  Auto-overriding validation which would be disallowed in production: certificate-removal: Data plane certificate(s) from cluster 'authnotebook_container' is removed (removed certificates: [CN=cloud.vespa.example]) This can cause client connection issues.. To allow this add <allow until='yyyy-mm-dd'>certificate-removal</allow> to validation-overrides.xml, see https://docs.vespa.ai/en/reference/validation-overrides.html\n",
                        "INFO    [06:40:42]  Session 309492 for tenant 'vespa-team' prepared and activated.\n",
                        "INFO    [06:40:43]  ######## Details for all nodes ########\n",
                        "INFO    [06:40:43]  h97526a.dev.us-east-1c.aws.vespa-cloud.net: expected to be UP\n",
                        "INFO    [06:40:43]  --- platform vespa/cloud-tenant-rhel8:8.408.12\n",
                        "INFO    [06:40:43]  --- storagenode on port 19102 has config generation 309488, wanted is 309492\n",
                        "INFO    [06:40:43]  --- searchnode on port 19107 has config generation 309488, wanted is 309492\n",
                        "INFO    [06:40:43]  --- distributor on port 19111 has config generation 309488, wanted is 309492\n",
                        "INFO    [06:40:43]  --- metricsproxy-container on port 19092 has config generation 309488, wanted is 309492\n",
                        "INFO    [06:40:43]  h97566b.dev.us-east-1c.aws.vespa-cloud.net: expected to be UP\n",
                        "INFO    [06:40:43]  --- platform vespa/cloud-tenant-rhel8:8.408.12\n",
                        "INFO    [06:40:43]  --- logserver-container on port 4080 has config generation 309488, wanted is 309492\n",
                        "INFO    [06:40:43]  --- metricsproxy-container on port 19092 has config generation 309488, wanted is 309492\n",
                        "INFO    [06:40:43]  h97538e.dev.us-east-1c.aws.vespa-cloud.net: expected to be UP\n",
                        "INFO    [06:40:43]  --- platform vespa/cloud-tenant-rhel8:8.408.12\n",
                        "INFO    [06:40:43]  --- container-clustercontroller on port 19050 has config generation 309492, wanted is 309492\n",
                        "INFO    [06:40:43]  --- metricsproxy-container on port 19092 has config generation 309488, wanted is 309492\n",
                        "INFO    [06:40:43]  h97567a.dev.us-east-1c.aws.vespa-cloud.net: expected to be UP\n",
                        "INFO    [06:40:43]  --- platform vespa/cloud-tenant-rhel8:8.408.12\n",
                        "INFO    [06:40:43]  --- container on port 4080 has config generation 309488, wanted is 309492\n",
                        "INFO    [06:40:43]  --- metricsproxy-container on port 19092 has config generation 309488, wanted is 309492\n",
                        "INFO    [06:40:53]  Found endpoints:\n",
                        "INFO    [06:40:53]  - dev.aws-us-east-1c\n",
                        "INFO    [06:40:53]   |-- https://ab50e0c2.c6970ada.z.vespa-app.cloud/ (cluster 'authnotebook_container')\n",
                        "INFO    [06:40:53]  Deployment of new application complete!\n",
                        "Only region: aws-us-east-1c available in dev environment.\n",
                        "Found mtls endpoint for authnotebook_container\n",
                        "URL: https://ab50e0c2.c6970ada.z.vespa-app.cloud/\n",
                        "Application is up!\n"
                    ]
                }
            ],
            "source": [
                "instance = \"token\"\n",
                "\n",
                "vespa_cloud = VespaCloud(\n",
                "    tenant=tenant_name,\n",
                "    application=application,\n",
                "    key_content=key,\n",
                "    application_package=app_package,\n",
                ")\n",
                "app = vespa_cloud.deploy(instance=instance)"
            ]
        },
        {
            "cell_type": "markdown",
            "id": "0e5c2ff9",
            "metadata": {},
            "source": [
                "Note that the connection that will be returned by default, will be the mTLS connection. If you want to get a connection using token-based authentication, you can do it like this:\n"
            ]
        },
        {
            "cell_type": "code",
            "execution_count": 9,
            "id": "26332ba5",
            "metadata": {},
            "outputs": [
                {
                    "name": "stdout",
                    "output_type": "stream",
                    "text": [
                        "Only region: aws-us-east-1c available in dev environment.\n",
                        "Found token endpoint for authnotebook_container\n",
                        "URL: https://c7f94a93.c6970ada.z.vespa-app.cloud/\n",
                        "Application is up!\n"
                    ]
                }
            ],
            "source": [
                "token_app = vespa_cloud.get_application(\n",
                "    instance=instance,\n",
                "    endpoint_type=\"token\",\n",
                "    vespa_cloud_secret_token=os.getenv(\"VESPA_CLOUD_SECRET_TOKEN\"),\n",
                ")"
            ]
        },
        {
            "cell_type": "code",
            "execution_count": 10,
            "id": "4be0bf7d",
            "metadata": {},
            "outputs": [
                {
                    "data": {
                        "text/plain": [
                            "<Response [200]>"
                        ]
                    },
                    "execution_count": 10,
                    "metadata": {},
                    "output_type": "execute_result"
                }
            ],
            "source": [
                "token_app.get_application_status()"
            ]
        },
        {
            "cell_type": "markdown",
            "id": "76978e65",
            "metadata": {},
            "source": [
                "Note that a Vespa application creates a separate URL endpoint for each auth-client added.\n",
                "Here is how you can retrieve the URL for the token endpoint:\n"
            ]
        },
        {
            "cell_type": "code",
            "execution_count": 11,
            "id": "dc48fe2d",
            "metadata": {},
            "outputs": [
                {
                    "name": "stdout",
                    "output_type": "stream",
                    "text": [
                        "Found token endpoint for authnotebook_container\n",
                        "URL: https://c7f94a93.c6970ada.z.vespa-app.cloud/\n"
                    ]
                },
                {
                    "data": {
                        "text/plain": [
                            "'https://c7f94a93.c6970ada.z.vespa-app.cloud/'"
                        ]
                    },
                    "execution_count": 11,
                    "metadata": {},
                    "output_type": "execute_result"
                }
            ],
            "source": [
                "token_endpoint = vespa_cloud.get_token_endpoint(instance=instance)\n",
                "token_endpoint"
            ]
        },
        {
            "cell_type": "markdown",
            "id": "15961d29",
            "metadata": {},
            "source": [
                "## Re-connecting to a deployed application\n",
                "\n",
                "To connect to a deployed application, you can use the `Vespa` class, which is a data-plane connection to an existing Vespa application.\n",
                "\n",
                "The `Vespa` class requires the endpoint URL.\n",
                "\n",
                "Note that this class can also be instantiated without authentication, typically used if connecting to an instance running in Docker, see [VespaDocker](https://pyvespa.readthedocs.io/en/latest/reference-api.html#vespadocker).\n",
                "\n",
                "### Connecting using mTLS\n",
                "\n",
                "To connect to the Vespa application using mTLS, you must pass `key` and `cert` to the `Vespa` class.\n",
                "Both should be a path to the respective files, matching the cert that was added to the application package upon deployment.\n",
                "\n",
                "A common error is to try to regenerate the key/cert after deployment, causing a mismatch between the key/cert you are trying to authenticate with, and the cert added to the application package.\n"
            ]
        },
        {
            "cell_type": "code",
            "execution_count": 12,
            "id": "518e41db",
            "metadata": {},
            "outputs": [],
            "source": [
                "import os\n",
                "\n",
                "# Get user home directory\n",
                "home = os.path.expanduser(\"~\")\n",
                "# Vespa key/cert directory\n",
                "app_dir = f\"{home}/.vespa/{tenant_name}.{application}.default/\"\n",
                "\n",
                "cert_path = f\"{app_dir}/data-plane-public-cert.pem\"\n",
                "key_path = f\"{app_dir}/data-plane-private-key.pem\""
            ]
        },
        {
            "cell_type": "code",
            "execution_count": 13,
            "id": "e107e9f7",
            "metadata": {},
            "outputs": [
                {
                    "data": {
                        "text/plain": [
                            "<Response [200]>"
                        ]
                    },
                    "execution_count": 13,
                    "metadata": {},
                    "output_type": "execute_result"
                }
            ],
            "source": [
                "from vespa.application import Vespa\n",
                "\n",
                "app = Vespa(url=mtls_endpoint, cert=cert_path, key=key_path)\n",
                "app.get_application_status()"
            ]
        },
        {
            "cell_type": "markdown",
            "id": "7208db48",
            "metadata": {},
            "source": [
                "#### Using `requests`\n",
                "\n",
                "It is often overlooked that all interactions with Vespa are through HTTP-api calls, so you are free to use any HTTP client you like.\n",
                "\n",
                "Below is an example of how to use the `requests` library to interact with Vespa, using `key` and `cert` for authentication, and the [`/document/v1/`](https://docs.vespa.ai/en/reference/document-v1-api-reference.html) endpoint to feed data to Vespa.\n"
            ]
        },
        {
            "cell_type": "code",
            "execution_count": 14,
            "id": "63130058",
            "metadata": {},
            "outputs": [
                {
                    "data": {
                        "text/plain": [
                            "{'pathId': '/document/v1/doc/doc/docid/1', 'id': 'id:doc:doc::1'}"
                        ]
                    },
                    "execution_count": 14,
                    "metadata": {},
                    "output_type": "execute_result"
                }
            ],
            "source": [
                "import requests\n",
                "\n",
                "session = requests.Session()\n",
                "session.cert = (cert_path, key_path)\n",
                "url = f\"{mtls_endpoint}/document/v1/doc/doc/docid/1\"\n",
                "data = {\n",
                "    \"fields\": {\n",
                "        \"id\": \"id:doc:doc::1\",\n",
                "        \"title\": \"the title\",\n",
                "        \"body\": \"the body\",\n",
                "    }\n",
                "}\n",
                "resp = session.post(url, json=data).json()\n",
                "resp"
            ]
        },
        {
            "cell_type": "markdown",
            "id": "397f2076",
            "metadata": {},
            "source": [
                "## Connecting using token\n",
                "\n",
                "To connect to the Vespa application using a token, you must pass the token value to the `Vespa` class as `vespa_cloud_secret_token`.\n"
            ]
        },
        {
            "cell_type": "code",
            "execution_count": 15,
            "id": "b9fb5501",
            "metadata": {},
            "outputs": [
                {
                    "data": {
                        "text/plain": [
                            "<Response [200]>"
                        ]
                    },
                    "execution_count": 15,
                    "metadata": {},
                    "output_type": "execute_result"
                }
            ],
            "source": [
                "app = Vespa(\n",
                "    url=token_endpoint, vespa_cloud_secret_token=os.getenv(\"VESPA_CLOUD_SECRET_TOKEN\")\n",
                ")\n",
                "app.get_application_status()"
            ]
        },
        {
            "cell_type": "markdown",
            "id": "bf0d4364",
            "metadata": {},
            "source": [
                "### Using cURL\n"
            ]
        },
        {
            "cell_type": "markdown",
            "id": "5cae7ef3",
            "metadata": {},
            "source": [
                "Token authentication provides an even more convenient way to authenticate to the data-plane, as you do not need to handle key/cert files, and can just add the token to the HTTP header, as shown in the example below.\n",
                "\n",
                "```bash\n",
                "curl -H \"Authorization: Bearer $TOKEN\" https://{endpoint}/document/v1/{document-type}/{document-id}\n",
                "```\n"
            ]
        },
        {
            "cell_type": "markdown",
            "id": "d1872b31",
            "metadata": {},
            "source": [
                "## Next steps\n",
                "\n",
                "This was a guide to the different authentication methods when interacting with Vespa Cloud for different purposes.\n",
                "\n",
                "Try to deploy a frontend as interface to your Vespa application.\n",
                "\n",
                "Example of some providers are:\n",
                "\n",
                "- [Cloudflare Workers](https://workers.cloudflare.com/), see also [https://cloud.vespa.ai/en/security/cloudflare-workers.html](https://cloud.vespa.ai/en/security/cloudflare-workers.html)\n",
                "- [Vercel](https://vercel.com/)\n",
                "- [Railway](https://railway.app/)\n",
                "  etc.\n"
            ]
        },
        {
            "cell_type": "markdown",
            "id": "7cc41490",
            "metadata": {},
            "source": [
                "## Cleanup\n"
            ]
        },
        {
            "cell_type": "code",
            "execution_count": 16,
            "id": "66354a53",
            "metadata": {},
            "outputs": [
                {
                    "name": "stdout",
                    "output_type": "stream",
                    "text": [
                        "Deactivated vespa-team.authnotebook in dev.aws-us-east-1c\n",
                        "Deleted instance vespa-team.authnotebook.default\n"
                    ]
                }
            ],
            "source": [
                "vespa_cloud.delete()"
            ]
        }
    ],
    "metadata": {
        "kernelspec": {
            "display_name": "Python 3 (ipykernel)",
            "language": "python",
            "name": "python3"
        },
        "language_info": {
            "codemirror_mode": {
                "name": "ipython",
                "version": 3
            },
            "file_extension": ".py",
            "mimetype": "text/x-python",
            "name": "python",
            "nbconvert_exporter": "python",
            "pygments_lexer": "ipython3",
            "version": "3.9.19"
        },
        "nbsphinx": {
            "allow_errors": true
        },
        "vscode": {
            "interpreter": {
                "hash": "b0fa6594d8f4cbf19f97940f81e996739fb7646882a419484c72d19e05852a7e"
            }
        }
    },
    "nbformat": 4,
    "nbformat_minor": 5
}
