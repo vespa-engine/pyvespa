{
 "cells": [
  {
   "cell_type": "markdown",
   "id": "e05d0811",
   "metadata": {},
   "source": [
    "<picture>\n",
    "  <source media=\"(prefers-color-scheme: dark)\" srcset=\"https://vespa.ai/assets/vespa-ai-logo-heather.svg\">\n",
    "  <source media=\"(prefers-color-scheme: light)\" srcset=\"https://vespa.ai/assets/vespa-ai-logo-rock.svg\">\n",
    "  <img alt=\"#Vespa\" width=\"200\" src=\"https://vespa.ai/assets/vespa-ai-logo-rock.svg\" style=\"margin-bottom: 25px;\">\n",
    "</picture>\n",
    "\n",
    "# Application packages\n",
    "\n",
    "Vespa is configured using an [application package](https://docs.vespa.ai/en/application-packages.html).\n",
    "Pyvespa provides an API to generate a deployable application package.\n",
    "An application package has at a minimum a [schema](https://docs.vespa.ai/en/schemas.html)\n",
    "and [services.xml](https://docs.vespa.ai/en/reference/services.html).\n",
    "\n",
    "> **_NOTE: pyvespa generally does not support all indexing options in Vespa - it is made for easy experimentation._**\n",
    "  **_To configure setting an unsupported indexing option (or any other unsupported option),_**\n",
    "  **_export the application package like above, modify the schema or other files_**\n",
    "  **_and deploy the application package from the directory, or as a zipped file._**\n",
    "  **_Find more details at the end of this notebook._**"
   ]
  },
  {
   "cell_type": "markdown",
   "id": "d2dff9a1",
   "metadata": {},
   "source": [
    "<div class=\"alert alert-info\">\n",
    "    Refer to <a href=\"https://pyvespa.readthedocs.io/en/latest/troubleshooting.html\">troubleshooting</a>\n",
    "    for any problem when running this guide.\n",
    "</div>"
   ]
  },
  {
   "cell_type": "code",
   "execution_count": null,
   "id": "e51d0086",
   "metadata": {},
   "outputs": [],
   "source": [
    "!pip3 install pyvespa"
   ]
  },
  {
   "cell_type": "markdown",
   "id": "b593d6e2",
   "metadata": {},
   "source": [
    "By exporting to disk, one can see the generated files:"
   ]
  },
  {
   "cell_type": "code",
   "execution_count": 50,
   "id": "956abe16",
   "metadata": {},
   "outputs": [
    {
     "name": "stdout",
     "output_type": "stream",
     "text": [
      "/var/folders/9_/z105jyln7jz8h2vwsrjb7kxh0000gp/T/tmp6geo2dpg/services.xml\n",
      "/var/folders/9_/z105jyln7jz8h2vwsrjb7kxh0000gp/T/tmp6geo2dpg/schemas/myschema.sd\n"
     ]
    }
   ],
   "source": [
    "import os\n",
    "import tempfile\n",
    "from pathlib import Path\n",
    "from vespa.package import ApplicationPackage\n",
    "\n",
    "app_name = \"myschema\"\n",
    "app_package = ApplicationPackage(name=app_name, create_query_profile_by_default=False)\n",
    "\n",
    "temp_dir = tempfile.TemporaryDirectory()\n",
    "app_package.to_files(temp_dir.name)\n",
    "\n",
    "for p in Path(temp_dir.name).rglob(\"*\"):\n",
    "    if p.is_file():\n",
    "        print(p)"
   ]
  },
  {
   "cell_type": "markdown",
   "id": "7b01cd09",
   "metadata": {},
   "source": [
    "## Schema\n",
    "\n",
    "A schema is created with the same name as the application package:"
   ]
  },
  {
   "cell_type": "code",
   "execution_count": 51,
   "id": "923edec8",
   "metadata": {},
   "outputs": [
    {
     "name": "stdout",
     "output_type": "stream",
     "text": [
      "schema myschema {\r\n",
      "    document myschema {\r\n",
      "    }\r\n",
      "}"
     ]
    }
   ],
   "source": [
    "os.environ[\"TMP_APP_DIR\"] = temp_dir.name\n",
    "os.environ[\"APP_NAME\"] = app_name\n",
    "\n",
    "!cat $TMP_APP_DIR/schemas/$APP_NAME.sd"
   ]
  },
  {
   "cell_type": "markdown",
   "id": "5a1cbaf2",
   "metadata": {},
   "source": [
    "Configure the schema with [fields](https://docs.vespa.ai/en/schemas.html#field),\n",
    "[fieldsets](https://docs.vespa.ai/en/schemas.html#fieldset)\n",
    "and a [ranking function](https://docs.vespa.ai/en/ranking.html):"
   ]
  },
  {
   "cell_type": "code",
   "execution_count": 52,
   "id": "c83c1945",
   "metadata": {},
   "outputs": [],
   "source": [
    "from vespa.package import Field, FieldSet, RankProfile\n",
    "\n",
    "app_package.schema.add_fields(\n",
    "    Field(name=\"id\", type=\"string\", indexing=[\"attribute\", \"summary\"]),\n",
    "    Field(\n",
    "        name=\"title\", type=\"string\", indexing=[\"index\", \"summary\"], index=\"enable-bm25\"\n",
    "    ),\n",
    "    Field(\n",
    "        name=\"body\", type=\"string\", indexing=[\"index\", \"summary\"], index=\"enable-bm25\"\n",
    "    ),\n",
    ")\n",
    "\n",
    "app_package.schema.add_field_set(FieldSet(name=\"default\", fields=[\"title\", \"body\"]))\n",
    "\n",
    "app_package.schema.add_rank_profile(\n",
    "    RankProfile(name=\"default\", first_phase=\"bm25(title) + bm25(body)\")\n",
    ")"
   ]
  },
  {
   "cell_type": "markdown",
   "id": "f721bdfd",
   "metadata": {},
   "source": [
    "Export the application package again, show schema:"
   ]
  },
  {
   "cell_type": "code",
   "execution_count": 53,
   "id": "4fcd3de2",
   "metadata": {},
   "outputs": [
    {
     "name": "stdout",
     "output_type": "stream",
     "text": [
      "schema myschema {\r\n",
      "    document myschema {\r\n",
      "        field id type string {\r\n",
      "            indexing: attribute | summary\r\n",
      "        }\r\n",
      "        field title type string {\r\n",
      "            indexing: index | summary\r\n",
      "            index: enable-bm25\r\n",
      "        }\r\n",
      "        field body type string {\r\n",
      "            indexing: index | summary\r\n",
      "            index: enable-bm25\r\n",
      "        }\r\n",
      "    }\r\n",
      "    fieldset default {\r\n",
      "        fields: title, body\r\n",
      "    }\r\n",
      "    rank-profile default {\r\n",
      "        first-phase {\r\n",
      "            expression {\r\n",
      "                bm25(title) + bm25(body)\r\n",
      "            }\r\n",
      "        }\r\n",
      "    }\r\n",
      "}"
     ]
    }
   ],
   "source": [
    "app_package.to_files(temp_dir.name)\n",
    "\n",
    "!cat $TMP_APP_DIR/schemas/$APP_NAME.sd"
   ]
  },
  {
   "cell_type": "markdown",
   "id": "a51353a4",
   "metadata": {},
   "source": [
    "## Services\n",
    "\n",
    "`services.xml` configures container and content clusters -\n",
    "see the [Vespa Overview](https://docs.vespa.ai/en/overview.html).\n",
    "This is a file you will normally not change or need to know much about:"
   ]
  },
  {
   "cell_type": "code",
   "execution_count": 54,
   "id": "4abae84e",
   "metadata": {},
   "outputs": [
    {
     "name": "stdout",
     "output_type": "stream",
     "text": [
      "<?xml version=\"1.0\" encoding=\"UTF-8\"?>\r\n",
      "<services version=\"1.0\">\r\n",
      "    <container id=\"myschema_container\" version=\"1.0\">\r\n",
      "        <search></search>\r\n",
      "        <document-api></document-api>\r\n",
      "    </container>\r\n",
      "    <content id=\"myschema_content\" version=\"1.0\">\r\n",
      "        <redundancy reply-after=\"1\">1</redundancy>\r\n",
      "        <documents>\r\n",
      "            <document type=\"myschema\" mode=\"index\"></document>\r\n",
      "        </documents>\r\n",
      "        <nodes>\r\n",
      "            <node distribution-key=\"0\" hostalias=\"node1\"></node>\r\n",
      "        </nodes>\r\n",
      "    </content>\r\n",
      "</services>"
     ]
    }
   ],
   "source": [
    "!cat $TMP_APP_DIR/services.xml"
   ]
  },
  {
   "cell_type": "markdown",
   "id": "d6477c44",
   "metadata": {},
   "source": [
    "Observe:\n",
    "\n",
    "* A _content cluster_ (this is where the index is stored) called `myschema_content` is created.\n",
    "  This is information not normally needed, unless using\n",
    "  [delete_all_docs](https://pyvespa.readthedocs.io/en/latest/reference-api.html#vespa.application.Vespa.delete_all_docs)\n",
    "  to quickly remove all documents from a schema"
   ]
  },
  {
   "cell_type": "markdown",
   "id": "cc878191",
   "metadata": {},
   "source": [
    "## Deploy\n",
    "\n",
    "After completing the code for the fields and ranking, deploy the application into a Docker container -\n",
    "the container is started by pyvespa:"
   ]
  },
  {
   "cell_type": "code",
   "execution_count": 55,
   "id": "419534c6",
   "metadata": {},
   "outputs": [
    {
     "name": "stdout",
     "output_type": "stream",
     "text": [
      "Waiting for configuration server, 0/300 seconds...\n",
      "Waiting for configuration server, 5/300 seconds...\n",
      "Waiting for application status, 0/300 seconds...\n",
      "Waiting for application status, 5/300 seconds...\n",
      "Waiting for application status, 10/300 seconds...\n",
      "Waiting for application status, 15/300 seconds...\n",
      "Waiting for application status, 20/300 seconds...\n",
      "Waiting for application status, 25/300 seconds...\n",
      "Finished deployment.\n"
     ]
    }
   ],
   "source": [
    "from vespa.deployment import VespaDocker\n",
    "\n",
    "vespa_container = VespaDocker()\n",
    "vespa_connection = vespa_container.deploy(application_package=app_package)"
   ]
  },
  {
   "cell_type": "markdown",
   "id": "8f5c589d",
   "metadata": {},
   "source": [
    "## Deploy from modified files\n",
    "\n",
    "To add configuration the the schema, which is not supported by the pyvespa code,\n",
    "export the files, modify, then deploy by using `deploy_from_disk`.\n",
    "This example adds custom configuration to the `services.xml` file above and deploys it:"
   ]
  },
  {
   "cell_type": "code",
   "execution_count": 56,
   "id": "7995befa",
   "metadata": {},
   "outputs": [],
   "source": [
    "%%sh\n",
    "cat << EOF > $TMP_APP_DIR/services.xml\n",
    "<?xml version=\"1.0\" encoding=\"UTF-8\"?>\n",
    "<services version=\"1.0\">\n",
    "    <container id=\"${APP_NAME}_container\" version=\"1.0\">\n",
    "        <search></search>\n",
    "        <document-api></document-api>\n",
    "    </container>\n",
    "    <content id=\"${APP_NAME}_content\" version=\"1.0\">\n",
    "        <redundancy reply-after=\"1\">1</redundancy>\n",
    "        <documents>\n",
    "            <document type=\"${APP_NAME}\" mode=\"index\"></document>\n",
    "        </documents>\n",
    "        <nodes>\n",
    "            <node distribution-key=\"0\" hostalias=\"node1\"></node>\n",
    "        </nodes>\n",
    "        <tuning>\n",
    "            <resource-limits>\n",
    "                <disk>0.90</disk>\n",
    "            </resource-limits>\n",
    "        </tuning>\n",
    "    </content>\n",
    "</services>\n",
    "EOF"
   ]
  },
  {
   "cell_type": "markdown",
   "id": "e8e4a654",
   "metadata": {},
   "source": [
    "The [resource-limits](https://docs.vespa.ai/en/reference/services-content.html#resource-limits) in `tuning/resource-limits/disk` configuration setting allows a higher disk usage.\n",
    "\n",
    "Deploy using the exported files:"
   ]
  },
  {
   "cell_type": "code",
   "execution_count": 57,
   "id": "9794e561",
   "metadata": {},
   "outputs": [
    {
     "name": "stdout",
     "output_type": "stream",
     "text": [
      "Waiting for configuration server, 0/300 seconds...\n",
      "Waiting for configuration server, 5/300 seconds...\n",
      "Waiting for application status, 0/300 seconds...\n",
      "Waiting for application status, 5/300 seconds...\n",
      "Finished deployment.\n"
     ]
    }
   ],
   "source": [
    "vespa_connection = vespa_container.deploy_from_disk(\n",
    "    application_name=app_name, application_root=temp_dir.name\n",
    ")"
   ]
  },
  {
   "cell_type": "markdown",
   "id": "e9957d96",
   "metadata": {},
   "source": [
    "One can also export a deployable zip-file, which can be deployed using the Vespa Cloud Console:"
   ]
  },
  {
   "cell_type": "code",
   "execution_count": 58,
   "id": "346f3cce",
   "metadata": {},
   "outputs": [
    {
     "name": "stdout",
     "output_type": "stream",
     "text": [
      "/var/folders/9_/z105jyln7jz8h2vwsrjb7kxh0000gp/T/tmp6geo2dpg/zip/application.zip\r\n"
     ]
    }
   ],
   "source": [
    "Path.mkdir(Path(temp_dir.name) / \"zip\", exist_ok=True, parents=True)\n",
    "app_package.to_zipfile(temp_dir.name + \"/zip/application.zip\")\n",
    "\n",
    "! find \"$TMP_APP_DIR/zip\" -type f"
   ]
  },
  {
   "cell_type": "markdown",
   "id": "cfac91f8",
   "metadata": {},
   "source": [
    "### Cleanup\n",
    "\n",
    "Remove the container resources and temporary application package file export:"
   ]
  },
  {
   "cell_type": "code",
   "execution_count": 59,
   "id": "84ce16e8",
   "metadata": {},
   "outputs": [],
   "source": [
    "temp_dir.cleanup()\n",
    "vespa_container.container.stop()\n",
    "vespa_container.container.remove()"
   ]
  },
  {
   "cell_type": "markdown",
   "id": "e242ac80",
   "metadata": {},
   "source": [
    "## Next step: Deploy, feed and query\n",
    "\n",
    "Once the schema is ready for deployment, decide deployment option and deploy the application package:\n",
    "\n",
    "* [Deploy to local container](https://pyvespa.readthedocs.io/en/latest/getting-started-pyvespa.html)\n",
    "* [Deploy to Vespa Cloud](https://pyvespa.readthedocs.io/en/latest/getting-started-pyvespa-cloud.html)\n",
    "\n",
    "Use the guides on the pyvespa site to feed and query data."
   ]
  }
 ],
 "metadata": {
  "kernelspec": {
   "display_name": "Python 3 (ipykernel)",
   "language": "python",
   "name": "python3"
  },
  "language_info": {
   "codemirror_mode": {
    "name": "ipython",
    "version": 3
   },
   "file_extension": ".py",
   "mimetype": "text/x-python",
   "name": "python",
   "nbconvert_exporter": "python",
   "pygments_lexer": "ipython3",
   "version": "3.11.4"
  }
 },
 "nbformat": 4,
 "nbformat_minor": 5
}
